{
 "cells": [
  {
   "cell_type": "markdown",
   "metadata": {},
   "source": [
    "# Определение стоимости автомобилей"
   ]
  },
  {
   "cell_type": "markdown",
   "metadata": {},
   "source": [
    "## Введение"
   ]
  },
  {
   "cell_type": "markdown",
   "metadata": {},
   "source": [
    "Целью данного проекта является построить модель машинного обучения для определения рыночной стоимости автомобиля. Датасет представляет собой исторические данные: технические характеристики, комплектации и цены автомобилей. Целевыми характеристиками модели являются:\n",
    "\n",
    "- качество предсказания;\n",
    "- скорость предсказания;\n",
    "- время обучения."
   ]
  },
  {
   "cell_type": "markdown",
   "metadata": {},
   "source": [
    "**Описание признаков датасета:**\n",
    "\n",
    "- DateCrawled — дата скачивания анкеты из базы;\n",
    "- VehicleType — тип автомобильного кузова;\n",
    "- RegistrationYear — год регистрации автомобиля;\n",
    "- Gearbox — тип коробки передач;\n",
    "- Power — мощность (л. с.);\n",
    "- Model — модель автомобиля;\n",
    "- Kilometer — пробег (км);\n",
    "- RegistrationMonth — месяц регистрации автомобиля;\n",
    "- FuelType — тип топлива;\n",
    "- Brand — марка автомобиля;\n",
    "- NotRepaired — была машина в ремонте или нет;\n",
    "- DateCreated — дата создания анкеты;\n",
    "- NumberOfPictures — количество фотографий автомобиля;\n",
    "- PostalCode — почтовый индекс владельца анкеты (пользователя);\n",
    "- LastSeen — дата последней активности пользователя.\n",
    "\n",
    "**Целевой признак:**\n",
    "\n",
    "- Price — цена (евро)."
   ]
  },
  {
   "cell_type": "markdown",
   "metadata": {},
   "source": [
    "## План проекта"
   ]
  },
  {
   "cell_type": "markdown",
   "metadata": {},
   "source": [
    "1. [Загрузим, предобработаем и подготовим данные.](#id_1)\n",
    "\n",
    "2. [Обучим модели.](#id_2)\n",
    "\n",
    "3. [Проанализируем обученные модели.](#id_3)\n",
    "\n",
    "4. [Напишем общий вывод.](#id_4)"
   ]
  },
  {
   "cell_type": "markdown",
   "metadata": {},
   "source": [
    "При построении моделей будем использовать:\n",
    "\n",
    "1. Гребневая регрессия из библиотеки `sklearn` (*Ridge regression*);\n",
    "\n",
    "2. Случайный лес из библиотеки `sklearn`;\n",
    "\n",
    "3. Градиентный бустинг из библиотек `LightGBM` и `CatBoost`."
   ]
  },
  {
   "cell_type": "markdown",
   "metadata": {},
   "source": [
    "Качество предсказаний моделей будем оценивать по метрике *RMSE* - *Root Mean Square Error*, а время обучения и скорость предсказания будем измерть с помощью команды `%%time`. Так как время работы алгоритма будет измерятся не процессорным временем, следует отметить, что проект выполнялся на компютере с процессором *Ryzen 7 5800X*."
   ]
  },
  {
   "cell_type": "markdown",
   "metadata": {},
   "source": [
    "## Используемые библиотеки"
   ]
  },
  {
   "cell_type": "markdown",
   "metadata": {},
   "source": [
    "В данном проекте используются следующие библиотеки:"
   ]
  },
  {
   "cell_type": "markdown",
   "metadata": {},
   "source": [
    "- `pandas`;\n",
    "- `numpy`;\n",
    "- `matplotlib`;\n",
    "- `seaborn`;\n",
    "- `missingno`;\n",
    "- `category_encoders`;\n",
    "- `sklearn`;\n",
    "- `CatBoost`;\n",
    "- `lightgbm`;"
   ]
  },
  {
   "cell_type": "markdown",
   "metadata": {},
   "source": [
    "##  Загрузка, предобработка и подготовка данных <a id='id_1'></a>"
   ]
  },
  {
   "cell_type": "markdown",
   "metadata": {},
   "source": [
    "### Загрузка, первый взгляд на данные и вявления проблем для предобработки"
   ]
  },
  {
   "cell_type": "markdown",
   "metadata": {},
   "source": [
    "Установим библиотеки:"
   ]
  },
  {
   "cell_type": "code",
   "execution_count": 1,
   "metadata": {},
   "outputs": [
    {
     "name": "stdout",
     "output_type": "stream",
     "text": [
      "Requirement already satisfied: seaborn in f:\\anaconda3\\lib\\site-packages (0.11.2)\n",
      "Requirement already satisfied: numpy>=1.15 in f:\\anaconda3\\lib\\site-packages (from seaborn) (1.20.3)\n",
      "Requirement already satisfied: pandas>=0.23 in f:\\anaconda3\\lib\\site-packages (from seaborn) (1.3.4)\n",
      "Requirement already satisfied: matplotlib>=2.2 in f:\\anaconda3\\lib\\site-packages (from seaborn) (3.4.3)\n",
      "Requirement already satisfied: scipy>=1.0 in f:\\anaconda3\\lib\\site-packages (from seaborn) (1.7.1)\n",
      "Requirement already satisfied: cycler>=0.10 in f:\\anaconda3\\lib\\site-packages (from matplotlib>=2.2->seaborn) (0.10.0)\n",
      "Requirement already satisfied: pillow>=6.2.0 in f:\\anaconda3\\lib\\site-packages (from matplotlib>=2.2->seaborn) (8.4.0)\n",
      "Requirement already satisfied: pyparsing>=2.2.1 in f:\\anaconda3\\lib\\site-packages (from matplotlib>=2.2->seaborn) (3.0.4)\n",
      "Requirement already satisfied: python-dateutil>=2.7 in f:\\anaconda3\\lib\\site-packages (from matplotlib>=2.2->seaborn) (2.8.2)\n",
      "Requirement already satisfied: kiwisolver>=1.0.1 in f:\\anaconda3\\lib\\site-packages (from matplotlib>=2.2->seaborn) (1.3.1)\n",
      "Requirement already satisfied: six in f:\\anaconda3\\lib\\site-packages (from cycler>=0.10->matplotlib>=2.2->seaborn) (1.16.0)\n",
      "Requirement already satisfied: pytz>=2017.3 in f:\\anaconda3\\lib\\site-packages (from pandas>=0.23->seaborn) (2021.3)\n",
      "Requirement already satisfied: missingno in f:\\anaconda3\\lib\\site-packages (0.5.1)\n",
      "Requirement already satisfied: numpy in f:\\anaconda3\\lib\\site-packages (from missingno) (1.20.3)\n",
      "Requirement already satisfied: matplotlib in f:\\anaconda3\\lib\\site-packages (from missingno) (3.4.3)\n",
      "Requirement already satisfied: scipy in f:\\anaconda3\\lib\\site-packages (from missingno) (1.7.1)\n",
      "Requirement already satisfied: seaborn in f:\\anaconda3\\lib\\site-packages (from missingno) (0.11.2)\n",
      "Requirement already satisfied: pyparsing>=2.2.1 in f:\\anaconda3\\lib\\site-packages (from matplotlib->missingno) (3.0.4)\n",
      "Requirement already satisfied: python-dateutil>=2.7 in f:\\anaconda3\\lib\\site-packages (from matplotlib->missingno) (2.8.2)\n",
      "Requirement already satisfied: kiwisolver>=1.0.1 in f:\\anaconda3\\lib\\site-packages (from matplotlib->missingno) (1.3.1)\n",
      "Requirement already satisfied: cycler>=0.10 in f:\\anaconda3\\lib\\site-packages (from matplotlib->missingno) (0.10.0)\n",
      "Requirement already satisfied: pillow>=6.2.0 in f:\\anaconda3\\lib\\site-packages (from matplotlib->missingno) (8.4.0)\n",
      "Requirement already satisfied: six in f:\\anaconda3\\lib\\site-packages (from cycler>=0.10->matplotlib->missingno) (1.16.0)\n",
      "Requirement already satisfied: pandas>=0.23 in f:\\anaconda3\\lib\\site-packages (from seaborn->missingno) (1.3.4)\n",
      "Requirement already satisfied: pytz>=2017.3 in f:\\anaconda3\\lib\\site-packages (from pandas>=0.23->seaborn->missingno) (2021.3)\n",
      "Requirement already satisfied: sklearn in f:\\anaconda3\\lib\\site-packages (0.0)\n",
      "Requirement already satisfied: scikit-learn in f:\\anaconda3\\lib\\site-packages (from sklearn) (0.24.2)\n",
      "Requirement already satisfied: numpy>=1.13.3 in f:\\anaconda3\\lib\\site-packages (from scikit-learn->sklearn) (1.20.3)\n",
      "Requirement already satisfied: joblib>=0.11 in f:\\anaconda3\\lib\\site-packages (from scikit-learn->sklearn) (1.1.0)\n",
      "Requirement already satisfied: scipy>=0.19.1 in f:\\anaconda3\\lib\\site-packages (from scikit-learn->sklearn) (1.7.1)\n",
      "Requirement already satisfied: threadpoolctl>=2.0.0 in f:\\anaconda3\\lib\\site-packages (from scikit-learn->sklearn) (2.2.0)\n",
      "Requirement already satisfied: category_encoders in f:\\anaconda3\\lib\\site-packages (2.4.1)\n",
      "Requirement already satisfied: pandas>=0.21.1 in f:\\anaconda3\\lib\\site-packages (from category_encoders) (1.3.4)\n",
      "Requirement already satisfied: statsmodels>=0.9.0 in f:\\anaconda3\\lib\\site-packages (from category_encoders) (0.12.2)\n",
      "Requirement already satisfied: scikit-learn>=0.20.0 in f:\\anaconda3\\lib\\site-packages (from category_encoders) (0.24.2)\n",
      "Requirement already satisfied: patsy>=0.5.1 in f:\\anaconda3\\lib\\site-packages (from category_encoders) (0.5.2)\n",
      "Requirement already satisfied: numpy>=1.14.0 in f:\\anaconda3\\lib\\site-packages (from category_encoders) (1.20.3)\n",
      "Requirement already satisfied: scipy>=1.0.0 in f:\\anaconda3\\lib\\site-packages (from category_encoders) (1.7.1)\n",
      "Requirement already satisfied: python-dateutil>=2.7.3 in f:\\anaconda3\\lib\\site-packages (from pandas>=0.21.1->category_encoders) (2.8.2)\n",
      "Requirement already satisfied: pytz>=2017.3 in f:\\anaconda3\\lib\\site-packages (from pandas>=0.21.1->category_encoders) (2021.3)\n",
      "Requirement already satisfied: six in f:\\anaconda3\\lib\\site-packages (from patsy>=0.5.1->category_encoders) (1.16.0)\n",
      "Requirement already satisfied: threadpoolctl>=2.0.0 in f:\\anaconda3\\lib\\site-packages (from scikit-learn>=0.20.0->category_encoders) (2.2.0)\n",
      "Requirement already satisfied: joblib>=0.11 in f:\\anaconda3\\lib\\site-packages (from scikit-learn>=0.20.0->category_encoders) (1.1.0)\n",
      "Requirement already satisfied: lightgbm in f:\\anaconda3\\lib\\site-packages (3.3.2)\n",
      "Requirement already satisfied: numpy in f:\\anaconda3\\lib\\site-packages (from lightgbm) (1.20.3)\n",
      "Requirement already satisfied: wheel in f:\\anaconda3\\lib\\site-packages (from lightgbm) (0.37.0)\n",
      "Requirement already satisfied: scipy in f:\\anaconda3\\lib\\site-packages (from lightgbm) (1.7.1)\n",
      "Requirement already satisfied: scikit-learn!=0.22.0 in f:\\anaconda3\\lib\\site-packages (from lightgbm) (0.24.2)\n",
      "Requirement already satisfied: joblib>=0.11 in f:\\anaconda3\\lib\\site-packages (from scikit-learn!=0.22.0->lightgbm) (1.1.0)\n",
      "Requirement already satisfied: threadpoolctl>=2.0.0 in f:\\anaconda3\\lib\\site-packages (from scikit-learn!=0.22.0->lightgbm) (2.2.0)\n"
     ]
    }
   ],
   "source": [
    "!pip install seaborn -U\n",
    "!pip install missingno -U\n",
    "!pip install sklearn -U\n",
    "!pip install category_encoders\n",
    "!pip install lightgbm"
   ]
  },
  {
   "cell_type": "markdown",
   "metadata": {},
   "source": [
    "Импортируем необходимые для работы библиотеки:"
   ]
  },
  {
   "cell_type": "code",
   "execution_count": 2,
   "metadata": {},
   "outputs": [
    {
     "name": "stdout",
     "output_type": "stream",
     "text": [
      "Requirement already satisfied: lightgbm in f:\\anaconda3\\lib\\site-packages (3.3.2)\n",
      "Requirement already satisfied: wheel in f:\\anaconda3\\lib\\site-packages (from lightgbm) (0.37.0)\n",
      "Requirement already satisfied: numpy in f:\\anaconda3\\lib\\site-packages (from lightgbm) (1.20.3)\n",
      "Requirement already satisfied: scikit-learn!=0.22.0 in f:\\anaconda3\\lib\\site-packages (from lightgbm) (0.24.2)\n",
      "Requirement already satisfied: scipy in f:\\anaconda3\\lib\\site-packages (from lightgbm) (1.7.1)\n",
      "Requirement already satisfied: threadpoolctl>=2.0.0 in f:\\anaconda3\\lib\\site-packages (from scikit-learn!=0.22.0->lightgbm) (2.2.0)\n",
      "Requirement already satisfied: joblib>=0.11 in f:\\anaconda3\\lib\\site-packages (from scikit-learn!=0.22.0->lightgbm) (1.1.0)\n"
     ]
    }
   ],
   "source": [
    "import pandas as pd\n",
    "import numpy as np\n",
    "import matplotlib.pyplot as plt\n",
    "import seaborn as sns\n",
    "import missingno as msno\n",
    "from sklearn.neighbors import KNeighborsRegressor\n",
    "import warnings\n",
    "warnings.filterwarnings(\"ignore\")\n",
    "from sklearn.model_selection import train_test_split\n",
    "import category_encoders as ce\n",
    "from sklearn.preprocessing import StandardScaler\n",
    "from sklearn.linear_model import Ridge\n",
    "from sklearn.ensemble import RandomForestRegressor\n",
    "from sklearn.model_selection import GridSearchCV, KFold\n",
    "from sklearn.metrics import mean_squared_error\n",
    "from catboost import CatBoostRegressor, Pool\n",
    "!pip install lightgbm\n",
    "import lightgbm as lgb"
   ]
  },
  {
   "cell_type": "markdown",
   "metadata": {},
   "source": [
    "Запишем датасет в `df`, указав параметр `parse_dates` с признаки содержащими дату и время (DateCrawled, DateCreated, LastSeen) для изменения их типа данных в формат *datetime* на этапе записи датафрейма."
   ]
  },
  {
   "cell_type": "code",
   "execution_count": 3,
   "metadata": {
    "scrolled": false
   },
   "outputs": [],
   "source": [
    "df = pd.read_csv(r'C:\\Users\\Wunderwaffe\\Downloads\\autos.csv', parse_dates=['DateCrawled', 'DateCreated', 'LastSeen'])"
   ]
  },
  {
   "cell_type": "markdown",
   "metadata": {},
   "source": [
    "Посмотрим первые пять объектов датафрейма:"
   ]
  },
  {
   "cell_type": "code",
   "execution_count": 4,
   "metadata": {},
   "outputs": [
    {
     "data": {
      "text/html": [
       "<div>\n",
       "<style scoped>\n",
       "    .dataframe tbody tr th:only-of-type {\n",
       "        vertical-align: middle;\n",
       "    }\n",
       "\n",
       "    .dataframe tbody tr th {\n",
       "        vertical-align: top;\n",
       "    }\n",
       "\n",
       "    .dataframe thead th {\n",
       "        text-align: right;\n",
       "    }\n",
       "</style>\n",
       "<table border=\"1\" class=\"dataframe\">\n",
       "  <thead>\n",
       "    <tr style=\"text-align: right;\">\n",
       "      <th></th>\n",
       "      <th>DateCrawled</th>\n",
       "      <th>Price</th>\n",
       "      <th>VehicleType</th>\n",
       "      <th>RegistrationYear</th>\n",
       "      <th>Gearbox</th>\n",
       "      <th>Power</th>\n",
       "      <th>Model</th>\n",
       "      <th>Kilometer</th>\n",
       "      <th>RegistrationMonth</th>\n",
       "      <th>FuelType</th>\n",
       "      <th>Brand</th>\n",
       "      <th>NotRepaired</th>\n",
       "      <th>DateCreated</th>\n",
       "      <th>NumberOfPictures</th>\n",
       "      <th>PostalCode</th>\n",
       "      <th>LastSeen</th>\n",
       "    </tr>\n",
       "  </thead>\n",
       "  <tbody>\n",
       "    <tr>\n",
       "      <th>0</th>\n",
       "      <td>2016-03-24 11:52:17</td>\n",
       "      <td>480</td>\n",
       "      <td>NaN</td>\n",
       "      <td>1993</td>\n",
       "      <td>manual</td>\n",
       "      <td>0</td>\n",
       "      <td>golf</td>\n",
       "      <td>150000</td>\n",
       "      <td>0</td>\n",
       "      <td>petrol</td>\n",
       "      <td>volkswagen</td>\n",
       "      <td>NaN</td>\n",
       "      <td>2016-03-24</td>\n",
       "      <td>0</td>\n",
       "      <td>70435</td>\n",
       "      <td>2016-04-07 03:16:57</td>\n",
       "    </tr>\n",
       "    <tr>\n",
       "      <th>1</th>\n",
       "      <td>2016-03-24 10:58:45</td>\n",
       "      <td>18300</td>\n",
       "      <td>coupe</td>\n",
       "      <td>2011</td>\n",
       "      <td>manual</td>\n",
       "      <td>190</td>\n",
       "      <td>NaN</td>\n",
       "      <td>125000</td>\n",
       "      <td>5</td>\n",
       "      <td>gasoline</td>\n",
       "      <td>audi</td>\n",
       "      <td>yes</td>\n",
       "      <td>2016-03-24</td>\n",
       "      <td>0</td>\n",
       "      <td>66954</td>\n",
       "      <td>2016-04-07 01:46:50</td>\n",
       "    </tr>\n",
       "    <tr>\n",
       "      <th>2</th>\n",
       "      <td>2016-03-14 12:52:21</td>\n",
       "      <td>9800</td>\n",
       "      <td>suv</td>\n",
       "      <td>2004</td>\n",
       "      <td>auto</td>\n",
       "      <td>163</td>\n",
       "      <td>grand</td>\n",
       "      <td>125000</td>\n",
       "      <td>8</td>\n",
       "      <td>gasoline</td>\n",
       "      <td>jeep</td>\n",
       "      <td>NaN</td>\n",
       "      <td>2016-03-14</td>\n",
       "      <td>0</td>\n",
       "      <td>90480</td>\n",
       "      <td>2016-04-05 12:47:46</td>\n",
       "    </tr>\n",
       "    <tr>\n",
       "      <th>3</th>\n",
       "      <td>2016-03-17 16:54:04</td>\n",
       "      <td>1500</td>\n",
       "      <td>small</td>\n",
       "      <td>2001</td>\n",
       "      <td>manual</td>\n",
       "      <td>75</td>\n",
       "      <td>golf</td>\n",
       "      <td>150000</td>\n",
       "      <td>6</td>\n",
       "      <td>petrol</td>\n",
       "      <td>volkswagen</td>\n",
       "      <td>no</td>\n",
       "      <td>2016-03-17</td>\n",
       "      <td>0</td>\n",
       "      <td>91074</td>\n",
       "      <td>2016-03-17 17:40:17</td>\n",
       "    </tr>\n",
       "    <tr>\n",
       "      <th>4</th>\n",
       "      <td>2016-03-31 17:25:20</td>\n",
       "      <td>3600</td>\n",
       "      <td>small</td>\n",
       "      <td>2008</td>\n",
       "      <td>manual</td>\n",
       "      <td>69</td>\n",
       "      <td>fabia</td>\n",
       "      <td>90000</td>\n",
       "      <td>7</td>\n",
       "      <td>gasoline</td>\n",
       "      <td>skoda</td>\n",
       "      <td>no</td>\n",
       "      <td>2016-03-31</td>\n",
       "      <td>0</td>\n",
       "      <td>60437</td>\n",
       "      <td>2016-04-06 10:17:21</td>\n",
       "    </tr>\n",
       "  </tbody>\n",
       "</table>\n",
       "</div>"
      ],
      "text/plain": [
       "          DateCrawled  Price VehicleType  RegistrationYear Gearbox  Power  \\\n",
       "0 2016-03-24 11:52:17    480         NaN              1993  manual      0   \n",
       "1 2016-03-24 10:58:45  18300       coupe              2011  manual    190   \n",
       "2 2016-03-14 12:52:21   9800         suv              2004    auto    163   \n",
       "3 2016-03-17 16:54:04   1500       small              2001  manual     75   \n",
       "4 2016-03-31 17:25:20   3600       small              2008  manual     69   \n",
       "\n",
       "   Model  Kilometer  RegistrationMonth  FuelType       Brand NotRepaired  \\\n",
       "0   golf     150000                  0    petrol  volkswagen         NaN   \n",
       "1    NaN     125000                  5  gasoline        audi         yes   \n",
       "2  grand     125000                  8  gasoline        jeep         NaN   \n",
       "3   golf     150000                  6    petrol  volkswagen          no   \n",
       "4  fabia      90000                  7  gasoline       skoda          no   \n",
       "\n",
       "  DateCreated  NumberOfPictures  PostalCode            LastSeen  \n",
       "0  2016-03-24                 0       70435 2016-04-07 03:16:57  \n",
       "1  2016-03-24                 0       66954 2016-04-07 01:46:50  \n",
       "2  2016-03-14                 0       90480 2016-04-05 12:47:46  \n",
       "3  2016-03-17                 0       91074 2016-03-17 17:40:17  \n",
       "4  2016-03-31                 0       60437 2016-04-06 10:17:21  "
      ]
     },
     "execution_count": 4,
     "metadata": {},
     "output_type": "execute_result"
    }
   ],
   "source": [
    "df.head()"
   ]
  },
  {
   "cell_type": "markdown",
   "metadata": {},
   "source": [
    "И основную информацию о датафрейме методом *.info()*:"
   ]
  },
  {
   "cell_type": "code",
   "execution_count": 5,
   "metadata": {
    "scrolled": false
   },
   "outputs": [
    {
     "name": "stdout",
     "output_type": "stream",
     "text": [
      "<class 'pandas.core.frame.DataFrame'>\n",
      "RangeIndex: 354369 entries, 0 to 354368\n",
      "Data columns (total 16 columns):\n",
      " #   Column             Non-Null Count   Dtype         \n",
      "---  ------             --------------   -----         \n",
      " 0   DateCrawled        354369 non-null  datetime64[ns]\n",
      " 1   Price              354369 non-null  int64         \n",
      " 2   VehicleType        316879 non-null  object        \n",
      " 3   RegistrationYear   354369 non-null  int64         \n",
      " 4   Gearbox            334536 non-null  object        \n",
      " 5   Power              354369 non-null  int64         \n",
      " 6   Model              334664 non-null  object        \n",
      " 7   Kilometer          354369 non-null  int64         \n",
      " 8   RegistrationMonth  354369 non-null  int64         \n",
      " 9   FuelType           321474 non-null  object        \n",
      " 10  Brand              354369 non-null  object        \n",
      " 11  NotRepaired        283215 non-null  object        \n",
      " 12  DateCreated        354369 non-null  datetime64[ns]\n",
      " 13  NumberOfPictures   354369 non-null  int64         \n",
      " 14  PostalCode         354369 non-null  int64         \n",
      " 15  LastSeen           354369 non-null  datetime64[ns]\n",
      "dtypes: datetime64[ns](3), int64(7), object(6)\n",
      "memory usage: 43.3+ MB\n"
     ]
    }
   ],
   "source": [
    "df.info()"
   ]
  },
  {
   "cell_type": "markdown",
   "metadata": {},
   "source": [
    "Проверим наличие дубликатов:"
   ]
  },
  {
   "cell_type": "code",
   "execution_count": 6,
   "metadata": {},
   "outputs": [
    {
     "data": {
      "text/plain": [
       "4"
      ]
     },
     "execution_count": 6,
     "metadata": {},
     "output_type": "execute_result"
    }
   ],
   "source": [
    "df.duplicated().sum()"
   ]
  },
  {
   "cell_type": "markdown",
   "metadata": {},
   "source": [
    "Обозначим выявленные проблемы для предобработки данных:\n",
    "\n",
    "1. Названия признаков следует привести в унифицированный вид: все в нижнем регистре;\n",
    "\n",
    "2. В датафрейме есть пропуски, нужно устранить их на этапе предобработки;\n",
    "\n",
    "3. В датафрейме найдено 4 дубликата."
   ]
  },
  {
   "cell_type": "markdown",
   "metadata": {},
   "source": [
    "Теперь попробуем выявить аномалии в датафрейме. Среди признаков встречаются как количественные, так и категориальные признаки. Выделим группы признаков по спискам (признаки содеражщие дату запишем в отдельный список):"
   ]
  },
  {
   "cell_type": "code",
   "execution_count": 9,
   "metadata": {},
   "outputs": [],
   "source": [
    "categorial = ['VehicleType', 'Gearbox', 'Model', 'FuelType', 'Brand', 'NotRepaired']\n",
    "numeric = ['Price', 'RegistrationYear', 'Power', 'Kilometer', 'RegistrationMonth', 'NumberOfPictures', 'PostalCode']\n",
    "dates = ['DateCrawled', 'DateCreated', 'LastSeen']"
   ]
  },
  {
   "cell_type": "code",
   "execution_count": 10,
   "metadata": {},
   "outputs": [
    {
     "data": {
      "text/plain": [
       "16"
      ]
     },
     "execution_count": 10,
     "metadata": {},
     "output_type": "execute_result"
    }
   ],
   "source": [
    "len(categorial) + len(numeric) + len(dates)"
   ]
  },
  {
   "cell_type": "markdown",
   "metadata": {},
   "source": [
    "Посмотрим основные статистические характеристики признаков для выявления аномалий:"
   ]
  },
  {
   "cell_type": "code",
   "execution_count": 11,
   "metadata": {},
   "outputs": [
    {
     "data": {
      "text/html": [
       "<div>\n",
       "<style scoped>\n",
       "    .dataframe tbody tr th:only-of-type {\n",
       "        vertical-align: middle;\n",
       "    }\n",
       "\n",
       "    .dataframe tbody tr th {\n",
       "        vertical-align: top;\n",
       "    }\n",
       "\n",
       "    .dataframe thead th {\n",
       "        text-align: right;\n",
       "    }\n",
       "</style>\n",
       "<table border=\"1\" class=\"dataframe\">\n",
       "  <thead>\n",
       "    <tr style=\"text-align: right;\">\n",
       "      <th></th>\n",
       "      <th>Price</th>\n",
       "      <th>RegistrationYear</th>\n",
       "      <th>Power</th>\n",
       "      <th>Kilometer</th>\n",
       "      <th>RegistrationMonth</th>\n",
       "      <th>NumberOfPictures</th>\n",
       "      <th>PostalCode</th>\n",
       "    </tr>\n",
       "  </thead>\n",
       "  <tbody>\n",
       "    <tr>\n",
       "      <th>count</th>\n",
       "      <td>354369.000000</td>\n",
       "      <td>354369.000000</td>\n",
       "      <td>354369.000000</td>\n",
       "      <td>354369.000000</td>\n",
       "      <td>354369.000000</td>\n",
       "      <td>354369.0</td>\n",
       "      <td>354369.000000</td>\n",
       "    </tr>\n",
       "    <tr>\n",
       "      <th>mean</th>\n",
       "      <td>4416.656776</td>\n",
       "      <td>2004.234448</td>\n",
       "      <td>110.094337</td>\n",
       "      <td>128211.172535</td>\n",
       "      <td>5.714645</td>\n",
       "      <td>0.0</td>\n",
       "      <td>50508.689087</td>\n",
       "    </tr>\n",
       "    <tr>\n",
       "      <th>std</th>\n",
       "      <td>4514.158514</td>\n",
       "      <td>90.227958</td>\n",
       "      <td>189.850405</td>\n",
       "      <td>37905.341530</td>\n",
       "      <td>3.726421</td>\n",
       "      <td>0.0</td>\n",
       "      <td>25783.096248</td>\n",
       "    </tr>\n",
       "    <tr>\n",
       "      <th>min</th>\n",
       "      <td>0.000000</td>\n",
       "      <td>1000.000000</td>\n",
       "      <td>0.000000</td>\n",
       "      <td>5000.000000</td>\n",
       "      <td>0.000000</td>\n",
       "      <td>0.0</td>\n",
       "      <td>1067.000000</td>\n",
       "    </tr>\n",
       "    <tr>\n",
       "      <th>25%</th>\n",
       "      <td>1050.000000</td>\n",
       "      <td>1999.000000</td>\n",
       "      <td>69.000000</td>\n",
       "      <td>125000.000000</td>\n",
       "      <td>3.000000</td>\n",
       "      <td>0.0</td>\n",
       "      <td>30165.000000</td>\n",
       "    </tr>\n",
       "    <tr>\n",
       "      <th>50%</th>\n",
       "      <td>2700.000000</td>\n",
       "      <td>2003.000000</td>\n",
       "      <td>105.000000</td>\n",
       "      <td>150000.000000</td>\n",
       "      <td>6.000000</td>\n",
       "      <td>0.0</td>\n",
       "      <td>49413.000000</td>\n",
       "    </tr>\n",
       "    <tr>\n",
       "      <th>75%</th>\n",
       "      <td>6400.000000</td>\n",
       "      <td>2008.000000</td>\n",
       "      <td>143.000000</td>\n",
       "      <td>150000.000000</td>\n",
       "      <td>9.000000</td>\n",
       "      <td>0.0</td>\n",
       "      <td>71083.000000</td>\n",
       "    </tr>\n",
       "    <tr>\n",
       "      <th>max</th>\n",
       "      <td>20000.000000</td>\n",
       "      <td>9999.000000</td>\n",
       "      <td>20000.000000</td>\n",
       "      <td>150000.000000</td>\n",
       "      <td>12.000000</td>\n",
       "      <td>0.0</td>\n",
       "      <td>99998.000000</td>\n",
       "    </tr>\n",
       "  </tbody>\n",
       "</table>\n",
       "</div>"
      ],
      "text/plain": [
       "               Price  RegistrationYear          Power      Kilometer  \\\n",
       "count  354369.000000     354369.000000  354369.000000  354369.000000   \n",
       "mean     4416.656776       2004.234448     110.094337  128211.172535   \n",
       "std      4514.158514         90.227958     189.850405   37905.341530   \n",
       "min         0.000000       1000.000000       0.000000    5000.000000   \n",
       "25%      1050.000000       1999.000000      69.000000  125000.000000   \n",
       "50%      2700.000000       2003.000000     105.000000  150000.000000   \n",
       "75%      6400.000000       2008.000000     143.000000  150000.000000   \n",
       "max     20000.000000       9999.000000   20000.000000  150000.000000   \n",
       "\n",
       "       RegistrationMonth  NumberOfPictures     PostalCode  \n",
       "count      354369.000000          354369.0  354369.000000  \n",
       "mean            5.714645               0.0   50508.689087  \n",
       "std             3.726421               0.0   25783.096248  \n",
       "min             0.000000               0.0    1067.000000  \n",
       "25%             3.000000               0.0   30165.000000  \n",
       "50%             6.000000               0.0   49413.000000  \n",
       "75%             9.000000               0.0   71083.000000  \n",
       "max            12.000000               0.0   99998.000000  "
      ]
     },
     "execution_count": 11,
     "metadata": {},
     "output_type": "execute_result"
    }
   ],
   "source": [
    "df[numeric].describe()"
   ]
  },
  {
   "cell_type": "markdown",
   "metadata": {},
   "source": [
    "В целевом признаке price есть нулевые значения - это явная аномалия, сюда же относится нулевая (и огромная - 20000 л.с.) мощность автомобиля. Автомобиль, зарегестрированный больше тысячи лет назад также выглядит неправдоподобно (тоже касается значения 9999 год регистрации). Похоже, что признак numberofpictures содержит лишь нули. Признак postalcode выглядит без аномалий: минимальное значение признака - 01067 находится в городе в Дрезден, а максимальный находится в городе Кёрнер."
   ]
  },
  {
   "cell_type": "markdown",
   "metadata": {},
   "source": [
    "Посмотрим на долю выявленных аномалий:"
   ]
  },
  {
   "cell_type": "code",
   "execution_count": 15,
   "metadata": {},
   "outputs": [
    {
     "data": {
      "text/plain": [
       "0.030397692800442477"
      ]
     },
     "execution_count": 15,
     "metadata": {},
     "output_type": "execute_result"
    }
   ],
   "source": [
    "df[df['Price'] == 0]['Price'].count() / len(df)"
   ]
  },
  {
   "cell_type": "code",
   "execution_count": 16,
   "metadata": {},
   "outputs": [
    {
     "data": {
      "text/plain": [
       "0.11351444398353129"
      ]
     },
     "execution_count": 16,
     "metadata": {},
     "output_type": "execute_result"
    }
   ],
   "source": [
    "(df[df['Power'] == 0]['Power'].count() + df[df['Power'] == 20000]['Power'].count()) / len(df)"
   ]
  },
  {
   "cell_type": "code",
   "execution_count": 17,
   "metadata": {},
   "outputs": [
    {
     "data": {
      "text/plain": [
       "0.0004007122519181983"
      ]
     },
     "execution_count": 17,
     "metadata": {},
     "output_type": "execute_result"
    }
   ],
   "source": [
    "(df[df['RegistrationYear'] == 1000]['RegistrationYear'].count() + \\\n",
    "            df[df['RegistrationYear'] > 2022]['RegistrationYear'].count()) / len(df)"
   ]
  },
  {
   "cell_type": "markdown",
   "metadata": {},
   "source": [
    "Доля аномалий в признаках price и registrationyear невелика (менее 3.1%) - эти аномалии можно отбросить, а вот в признаке power доля нулевых значений составляет 11.35% - неплохо было бы как-то восстановить правдопободные значения мощности автомобилей, можно попробовать воспользоваться методом k ближайших соседей."
   ]
  },
  {
   "cell_type": "markdown",
   "metadata": {},
   "source": [
    "Проверим число уникальных значений в признаке numberofpictures:"
   ]
  },
  {
   "cell_type": "code",
   "execution_count": 18,
   "metadata": {},
   "outputs": [
    {
     "data": {
      "text/plain": [
       "array([0], dtype=int64)"
      ]
     },
     "execution_count": 18,
     "metadata": {},
     "output_type": "execute_result"
    }
   ],
   "source": [
    "df['NumberOfPictures'].unique()"
   ]
  },
  {
   "cell_type": "markdown",
   "metadata": {},
   "source": [
    "Действительно, признак содержит лишь нули. Значит он не несет в себе никакой информации и от него следует избавится."
   ]
  },
  {
   "cell_type": "code",
   "execution_count": 19,
   "metadata": {},
   "outputs": [
    {
     "data": {
      "text/html": [
       "<div>\n",
       "<style scoped>\n",
       "    .dataframe tbody tr th:only-of-type {\n",
       "        vertical-align: middle;\n",
       "    }\n",
       "\n",
       "    .dataframe tbody tr th {\n",
       "        vertical-align: top;\n",
       "    }\n",
       "\n",
       "    .dataframe thead th {\n",
       "        text-align: right;\n",
       "    }\n",
       "</style>\n",
       "<table border=\"1\" class=\"dataframe\">\n",
       "  <thead>\n",
       "    <tr style=\"text-align: right;\">\n",
       "      <th></th>\n",
       "      <th>VehicleType</th>\n",
       "      <th>Gearbox</th>\n",
       "      <th>Model</th>\n",
       "      <th>FuelType</th>\n",
       "      <th>Brand</th>\n",
       "      <th>NotRepaired</th>\n",
       "    </tr>\n",
       "  </thead>\n",
       "  <tbody>\n",
       "    <tr>\n",
       "      <th>count</th>\n",
       "      <td>316879</td>\n",
       "      <td>334536</td>\n",
       "      <td>334664</td>\n",
       "      <td>321474</td>\n",
       "      <td>354369</td>\n",
       "      <td>283215</td>\n",
       "    </tr>\n",
       "    <tr>\n",
       "      <th>unique</th>\n",
       "      <td>8</td>\n",
       "      <td>2</td>\n",
       "      <td>250</td>\n",
       "      <td>7</td>\n",
       "      <td>40</td>\n",
       "      <td>2</td>\n",
       "    </tr>\n",
       "    <tr>\n",
       "      <th>top</th>\n",
       "      <td>sedan</td>\n",
       "      <td>manual</td>\n",
       "      <td>golf</td>\n",
       "      <td>petrol</td>\n",
       "      <td>volkswagen</td>\n",
       "      <td>no</td>\n",
       "    </tr>\n",
       "    <tr>\n",
       "      <th>freq</th>\n",
       "      <td>91457</td>\n",
       "      <td>268251</td>\n",
       "      <td>29232</td>\n",
       "      <td>216352</td>\n",
       "      <td>77013</td>\n",
       "      <td>247161</td>\n",
       "    </tr>\n",
       "  </tbody>\n",
       "</table>\n",
       "</div>"
      ],
      "text/plain": [
       "       VehicleType Gearbox   Model FuelType       Brand NotRepaired\n",
       "count       316879  334536  334664   321474      354369      283215\n",
       "unique           8       2     250        7          40           2\n",
       "top          sedan  manual    golf   petrol  volkswagen          no\n",
       "freq         91457  268251   29232   216352       77013      247161"
      ]
     },
     "execution_count": 19,
     "metadata": {},
     "output_type": "execute_result"
    }
   ],
   "source": [
    "df[categorial].describe()"
   ]
  },
  {
   "cell_type": "markdown",
   "metadata": {},
   "source": [
    "Встречается много уникальных значений в признаках: vehicletype, fueltype, brand, model. Особенно много в двух последних (40 и 250 уникальных значений). Если LightGBM и CatBoost имеют встроенные методы обработки категориальных признаков, то для использования гребнеевой регрессии и нейросети категориальные признаки необходимо будет закодировать, прежде чем подавать в модель. Например, если использовать технику *one-hot encoding* мы получим большое число признаков (303 только из этих категориальных признаков). Так как из них хочется получить как можно больше информации для модели гребнеевой регрессии и нейросети воспользуемся `CatBoostEncoder`."
   ]
  },
  {
   "cell_type": "code",
   "execution_count": 20,
   "metadata": {},
   "outputs": [
    {
     "data": {
      "text/html": [
       "<div>\n",
       "<style scoped>\n",
       "    .dataframe tbody tr th:only-of-type {\n",
       "        vertical-align: middle;\n",
       "    }\n",
       "\n",
       "    .dataframe tbody tr th {\n",
       "        vertical-align: top;\n",
       "    }\n",
       "\n",
       "    .dataframe thead th {\n",
       "        text-align: right;\n",
       "    }\n",
       "</style>\n",
       "<table border=\"1\" class=\"dataframe\">\n",
       "  <thead>\n",
       "    <tr style=\"text-align: right;\">\n",
       "      <th></th>\n",
       "      <th>DateCrawled</th>\n",
       "      <th>DateCreated</th>\n",
       "      <th>LastSeen</th>\n",
       "    </tr>\n",
       "  </thead>\n",
       "  <tbody>\n",
       "    <tr>\n",
       "      <th>count</th>\n",
       "      <td>354369</td>\n",
       "      <td>354369</td>\n",
       "      <td>354369</td>\n",
       "    </tr>\n",
       "    <tr>\n",
       "      <th>unique</th>\n",
       "      <td>271174</td>\n",
       "      <td>109</td>\n",
       "      <td>179150</td>\n",
       "    </tr>\n",
       "    <tr>\n",
       "      <th>top</th>\n",
       "      <td>2016-03-24 14:49:47</td>\n",
       "      <td>2016-04-03 00:00:00</td>\n",
       "      <td>2016-04-06 13:45:54</td>\n",
       "    </tr>\n",
       "    <tr>\n",
       "      <th>freq</th>\n",
       "      <td>7</td>\n",
       "      <td>13719</td>\n",
       "      <td>17</td>\n",
       "    </tr>\n",
       "    <tr>\n",
       "      <th>first</th>\n",
       "      <td>2016-03-05 14:06:22</td>\n",
       "      <td>2014-03-10 00:00:00</td>\n",
       "      <td>2016-03-05 14:15:08</td>\n",
       "    </tr>\n",
       "    <tr>\n",
       "      <th>last</th>\n",
       "      <td>2016-04-07 14:36:58</td>\n",
       "      <td>2016-04-07 00:00:00</td>\n",
       "      <td>2016-04-07 14:58:51</td>\n",
       "    </tr>\n",
       "  </tbody>\n",
       "</table>\n",
       "</div>"
      ],
      "text/plain": [
       "                DateCrawled          DateCreated             LastSeen\n",
       "count                354369               354369               354369\n",
       "unique               271174                  109               179150\n",
       "top     2016-03-24 14:49:47  2016-04-03 00:00:00  2016-04-06 13:45:54\n",
       "freq                      7                13719                   17\n",
       "first   2016-03-05 14:06:22  2014-03-10 00:00:00  2016-03-05 14:15:08\n",
       "last    2016-04-07 14:36:58  2016-04-07 00:00:00  2016-04-07 14:58:51"
      ]
     },
     "execution_count": 20,
     "metadata": {},
     "output_type": "execute_result"
    }
   ],
   "source": [
    "df[dates].describe()"
   ]
  },
  {
   "cell_type": "markdown",
   "metadata": {},
   "source": [
    "Признаки datecrawled и lastseen вряд-ли принесут полезной информации для модели, так как дипазон их изменения ограничен одним месяцем - от них следует избавится. Из признака datecreated можно получить год и месяц создания объявления и таким образом  вытащить из него какую-нибудь полезную информацию для моделей. "
   ]
  },
  {
   "cell_type": "markdown",
   "metadata": {},
   "source": [
    "Аномалий в категориальных признаках и признаках, содержащие дату не выявлено."
   ]
  },
  {
   "cell_type": "markdown",
   "metadata": {},
   "source": [
    "Подведем итоги:\n",
    "\n",
    "1. Названия признаков следует привести в унифицированный вид: все в нижнем регистре;\n",
    "\n",
    "2. В датафрейме есть пропуски, нужно устранить их на этапе предобработки;\n",
    "\n",
    "3. В датафрейме найдено 4 дубликата;\n",
    "\n",
    "4. Целевой признак price содержит аномальные значения (нулевая цена), их доля составляет 3.0% - от них можно избавится;\n",
    "\n",
    "5. Признак registrationyear содержит аномальные значения (год регистрации 1000, 9999), их доля около 0.1% - от них можно избавится;\n",
    "\n",
    "6. Признак power содержит аномальные значения (нулевая мощность), их доля составляет 11.35%. Так как доля аномалий довольно высока, попробуем восстановить значения с помощью метода k ближайших соседей;\n",
    "\n",
    "7. Признак numberofpictures содержит в себе лишь нули и не несет в себе никакой полезной информации для моделей -  от него следует избавится;\n",
    "\n",
    "8. Признаки datecrawled и lastseen вряд-ли принесут полезной информации для модели, так как дипазон их изменения ограничен одним месяцем - от них следует избавится;\n",
    "\n",
    "9. Из признака datecreated можно получить год и месяц создания объявления и таким образом  вытащить из него какую-нибудь полезную информацию для моделей;\n",
    "\n",
    "10. Тип данных категориальных признаков можно изменить на `category`, чтобы повысить скорость CatBoost с набором признаков без кодирования и масштабирования."
   ]
  },
  {
   "cell_type": "markdown",
   "metadata": {},
   "source": [
    "### Предобработка данных"
   ]
  },
  {
   "cell_type": "markdown",
   "metadata": {},
   "source": [
    "Преступим к предобработке данных. Сначала приведем названия признаков в унифицированный вид:"
   ]
  },
  {
   "cell_type": "code",
   "execution_count": 21,
   "metadata": {},
   "outputs": [],
   "source": [
    "df.columns = df.columns.str.lower()"
   ]
  },
  {
   "cell_type": "markdown",
   "metadata": {},
   "source": [
    "Также изменим регистр в списках с признаками которые мы создали ранее: "
   ]
  },
  {
   "cell_type": "code",
   "execution_count": 22,
   "metadata": {},
   "outputs": [],
   "source": [
    "numeric = [item.lower() for item in numeric]\n",
    "categorial = [item.lower() for item in categorial]\n",
    "dates = [item.lower() for item in dates]"
   ]
  },
  {
   "cell_type": "markdown",
   "metadata": {},
   "source": [
    "Удалим дубликаты:"
   ]
  },
  {
   "cell_type": "code",
   "execution_count": 23,
   "metadata": {},
   "outputs": [],
   "source": [
    "df = df.drop_duplicates()"
   ]
  },
  {
   "cell_type": "markdown",
   "metadata": {},
   "source": [
    "Проверим их отсутствие:"
   ]
  },
  {
   "cell_type": "code",
   "execution_count": 24,
   "metadata": {},
   "outputs": [
    {
     "data": {
      "text/plain": [
       "0"
      ]
     },
     "execution_count": 24,
     "metadata": {},
     "output_type": "execute_result"
    }
   ],
   "source": [
    "df.duplicated().sum()"
   ]
  },
  {
   "cell_type": "markdown",
   "metadata": {},
   "source": [
    "Прежде чем занятся пропущенными значениями займемся некоторыми аномалиями. Ранее мы обговорили, что избавимся от аномальных значений в признаках price и registrationyear. Чтобы избежать мутации датафрейма изменения будем записывать в новый датафрейм (также будет удобно фиксировать долю потери данных после предобработки):"
   ]
  },
  {
   "cell_type": "code",
   "execution_count": 25,
   "metadata": {},
   "outputs": [],
   "source": [
    "df_filtred = df.query('price > 0 & registrationyear > 1000 & registrationyear < 2022')"
   ]
  },
  {
   "cell_type": "markdown",
   "metadata": {},
   "source": [
    "Убедимся, что аномалии исчезли:"
   ]
  },
  {
   "cell_type": "code",
   "execution_count": 26,
   "metadata": {},
   "outputs": [
    {
     "data": {
      "text/html": [
       "<div>\n",
       "<style scoped>\n",
       "    .dataframe tbody tr th:only-of-type {\n",
       "        vertical-align: middle;\n",
       "    }\n",
       "\n",
       "    .dataframe tbody tr th {\n",
       "        vertical-align: top;\n",
       "    }\n",
       "\n",
       "    .dataframe thead th {\n",
       "        text-align: right;\n",
       "    }\n",
       "</style>\n",
       "<table border=\"1\" class=\"dataframe\">\n",
       "  <thead>\n",
       "    <tr style=\"text-align: right;\">\n",
       "      <th></th>\n",
       "      <th>price</th>\n",
       "      <th>registrationyear</th>\n",
       "      <th>power</th>\n",
       "      <th>kilometer</th>\n",
       "      <th>registrationmonth</th>\n",
       "      <th>numberofpictures</th>\n",
       "      <th>postalcode</th>\n",
       "    </tr>\n",
       "  </thead>\n",
       "  <tbody>\n",
       "    <tr>\n",
       "      <th>count</th>\n",
       "      <td>343476.000000</td>\n",
       "      <td>343476.000000</td>\n",
       "      <td>343476.000000</td>\n",
       "      <td>343476.000000</td>\n",
       "      <td>343476.000000</td>\n",
       "      <td>343476.0</td>\n",
       "      <td>343476.000000</td>\n",
       "    </tr>\n",
       "    <tr>\n",
       "      <th>mean</th>\n",
       "      <td>4555.657280</td>\n",
       "      <td>2003.142889</td>\n",
       "      <td>110.995036</td>\n",
       "      <td>128378.474770</td>\n",
       "      <td>5.779461</td>\n",
       "      <td>0.0</td>\n",
       "      <td>50685.449470</td>\n",
       "    </tr>\n",
       "    <tr>\n",
       "      <th>std</th>\n",
       "      <td>4514.944235</td>\n",
       "      <td>8.886742</td>\n",
       "      <td>187.931155</td>\n",
       "      <td>37461.282958</td>\n",
       "      <td>3.697471</td>\n",
       "      <td>0.0</td>\n",
       "      <td>25744.454259</td>\n",
       "    </tr>\n",
       "    <tr>\n",
       "      <th>min</th>\n",
       "      <td>1.000000</td>\n",
       "      <td>1001.000000</td>\n",
       "      <td>0.000000</td>\n",
       "      <td>5000.000000</td>\n",
       "      <td>0.000000</td>\n",
       "      <td>0.0</td>\n",
       "      <td>1067.000000</td>\n",
       "    </tr>\n",
       "    <tr>\n",
       "      <th>25%</th>\n",
       "      <td>1200.000000</td>\n",
       "      <td>1999.000000</td>\n",
       "      <td>69.000000</td>\n",
       "      <td>125000.000000</td>\n",
       "      <td>3.000000</td>\n",
       "      <td>0.0</td>\n",
       "      <td>30449.000000</td>\n",
       "    </tr>\n",
       "    <tr>\n",
       "      <th>50%</th>\n",
       "      <td>2890.000000</td>\n",
       "      <td>2003.000000</td>\n",
       "      <td>105.000000</td>\n",
       "      <td>150000.000000</td>\n",
       "      <td>6.000000</td>\n",
       "      <td>0.0</td>\n",
       "      <td>49525.000000</td>\n",
       "    </tr>\n",
       "    <tr>\n",
       "      <th>75%</th>\n",
       "      <td>6500.000000</td>\n",
       "      <td>2008.000000</td>\n",
       "      <td>143.000000</td>\n",
       "      <td>150000.000000</td>\n",
       "      <td>9.000000</td>\n",
       "      <td>0.0</td>\n",
       "      <td>71229.000000</td>\n",
       "    </tr>\n",
       "    <tr>\n",
       "      <th>max</th>\n",
       "      <td>20000.000000</td>\n",
       "      <td>2019.000000</td>\n",
       "      <td>20000.000000</td>\n",
       "      <td>150000.000000</td>\n",
       "      <td>12.000000</td>\n",
       "      <td>0.0</td>\n",
       "      <td>99998.000000</td>\n",
       "    </tr>\n",
       "  </tbody>\n",
       "</table>\n",
       "</div>"
      ],
      "text/plain": [
       "               price  registrationyear          power      kilometer  \\\n",
       "count  343476.000000     343476.000000  343476.000000  343476.000000   \n",
       "mean     4555.657280       2003.142889     110.995036  128378.474770   \n",
       "std      4514.944235          8.886742     187.931155   37461.282958   \n",
       "min         1.000000       1001.000000       0.000000    5000.000000   \n",
       "25%      1200.000000       1999.000000      69.000000  125000.000000   \n",
       "50%      2890.000000       2003.000000     105.000000  150000.000000   \n",
       "75%      6500.000000       2008.000000     143.000000  150000.000000   \n",
       "max     20000.000000       2019.000000   20000.000000  150000.000000   \n",
       "\n",
       "       registrationmonth  numberofpictures     postalcode  \n",
       "count      343476.000000          343476.0  343476.000000  \n",
       "mean            5.779461               0.0   50685.449470  \n",
       "std             3.697471               0.0   25744.454259  \n",
       "min             0.000000               0.0    1067.000000  \n",
       "25%             3.000000               0.0   30449.000000  \n",
       "50%             6.000000               0.0   49525.000000  \n",
       "75%             9.000000               0.0   71229.000000  \n",
       "max            12.000000               0.0   99998.000000  "
      ]
     },
     "execution_count": 26,
     "metadata": {},
     "output_type": "execute_result"
    }
   ],
   "source": [
    "df_filtred[numeric].describe()"
   ]
  },
  {
   "cell_type": "markdown",
   "metadata": {},
   "source": [
    "Оказалось, что все не так просто и аномалий больше (цена в 1 евро и год регистрации 1001 также остаются аномальными). Посмотрим распределение значений в этих признаках более детально:"
   ]
  },
  {
   "cell_type": "code",
   "execution_count": 27,
   "metadata": {},
   "outputs": [
    {
     "data": {
      "image/png": "[encoded data removed]",
      "text/plain": [
       "<Figure size 1080x432 with 1 Axes>"
      ]
     },
     "metadata": {},
     "output_type": "display_data"
    }
   ],
   "source": [
    "sns.set_theme(style=\"whitegrid\")\n",
    "plt.figure(figsize=(15,6))\n",
    "sns.histplot(df_filtred['price'])\n",
    "plt.xlabel('Цена, евро')\n",
    "plt.ylabel('Частота')\n",
    "plt.title('Распределение значений в целевом признаке price');"
   ]
  },
  {
   "cell_type": "markdown",
   "metadata": {},
   "source": [
    "Похоже на логнормальное распределение, выглядит довольно естественно. После изучения объявлений продаж автомобилей в Европе, цена в 1 евро не кажется такой уж аномальной. В ссылке представлены объявления о продаже авто в Германии, где минимальная цена составляет 1 евро и имеется достаточно много автомобилей с низкой ценой (Источник: [сайт].URL:https://www.mobile.de/ru/категория/автомобиль/vhc:car,pgn:1,pgs:10,srt:price,sro:asc,prx:1000). \n",
    "\n",
    "Почему так дешево? Тут целый комплекс причин, но главная – потому что содержать автомобиль в странах Евросоюза довольно дорого, и хозяева устанавливают вот такие смешные цены, лишь бы избавиться от старого хлама, даже когда он таковым в действительности не является.\n",
    "\n",
    "Чем старше авто, тем дороже страховка, тем больше налогов (например, за выхлопные выбросы и эмиссионный класс типа Euro-3/Euro-4), это и обязательный техосмотр, и ремонт, и вот такие дела. (Источник: [сайт].URL: https://tjournal.ru/travel/109543-v-evrope-slishkom-deshevye-poderzhannye-avtomobili-vot-nissan-i-bmw-za-900-evro)"
   ]
  },
  {
   "cell_type": "markdown",
   "metadata": {},
   "source": [
    "По году регистрации поступим проще: отбросим все значения которые выходят за 3 интерквартильных расстояния (явные выбросы):"
   ]
  },
  {
   "cell_type": "code",
   "execution_count": 29,
   "metadata": {},
   "outputs": [],
   "source": [
    "def drop_outliers(df, column):\n",
    "    Q1 =  df[column].quantile(0.25)\n",
    "    Q3 = df[column].quantile(0.75)\n",
    "    IQR = Q3 - Q1\n",
    "    df = df[(df[column] > Q1-3*IQR ) & (df[column] < Q3+3*IQR)]\n",
    "\n",
    "    return df"
   ]
  },
  {
   "cell_type": "code",
   "execution_count": 30,
   "metadata": {},
   "outputs": [],
   "source": [
    "df_filtred = drop_outliers(df_filtred, 'registrationyear') "
   ]
  },
  {
   "cell_type": "markdown",
   "metadata": {},
   "source": [
    "Теперь построим распределение значений в признаке registrationyear:"
   ]
  },
  {
   "cell_type": "code",
   "execution_count": 31,
   "metadata": {},
   "outputs": [
    {
     "data": {
      "image/png": "[encoded data removed]",
      "text/plain": [
       "<Figure size 1080x432 with 1 Axes>"
      ]
     },
     "metadata": {},
     "output_type": "display_data"
    }
   ],
   "source": [
    "plt.figure(figsize=(15,6))\n",
    "sns.histplot(df_filtred['registrationyear'], bins=100)\n",
    "plt.xlabel('Год регистрации')\n",
    "plt.ylabel('Частота')\n",
    "plt.title('Распределение значений в признаке registrationyear');"
   ]
  },
  {
   "cell_type": "markdown",
   "metadata": {},
   "source": [
    "Рассмотрим подробнее год регистрации с 1950 по 2019:"
   ]
  },
  {
   "cell_type": "code",
   "execution_count": 32,
   "metadata": {},
   "outputs": [
    {
     "data": {
      "image/png": "[encoded data removed]",
      "text/plain": [
       "<Figure size 1080x432 with 1 Axes>"
      ]
     },
     "metadata": {},
     "output_type": "display_data"
    }
   ],
   "source": [
    "plt.figure(figsize=(15,6))\n",
    "sns.histplot(df_filtred['registrationyear'], bins=100).set(xlim=(1950,2019))\n",
    "plt.xlabel('Год регистрации')\n",
    "plt.ylabel('Частота')\n",
    "plt.title('Распределение значений в признаке registrationyear');"
   ]
  },
  {
   "cell_type": "markdown",
   "metadata": {},
   "source": [
    "Явные выбросы удалены."
   ]
  },
  {
   "cell_type": "markdown",
   "metadata": {},
   "source": [
    "Теперь построим распределение значений в признаке power:"
   ]
  },
  {
   "cell_type": "code",
   "execution_count": 25,
   "metadata": {},
   "outputs": [
    {
     "data": {
      "image/png": "[encoded data removed]",
      "text/plain": [
       "<Figure size 1080x432 with 1 Axes>"
      ]
     },
     "metadata": {},
     "output_type": "display_data"
    }
   ],
   "source": [
    "plt.figure(figsize=(15,6))\n",
    "sns.histplot(df_filtred['power'], bins=100)\n",
    "plt.xlabel('Мощность, л.с.')\n",
    "plt.ylabel('Частота')\n",
    "plt.title('Распределение значений в признаке power');"
   ]
  },
  {
   "cell_type": "markdown",
   "metadata": {},
   "source": [
    "Посмотрим долю в данных, где мощность превышает 2000 л.с."
   ]
  },
  {
   "cell_type": "markdown",
   "metadata": {},
   "source": [
    "Отбросим явные выбросы и в этом признаке:"
   ]
  },
  {
   "cell_type": "code",
   "execution_count": 33,
   "metadata": {},
   "outputs": [],
   "source": [
    "df_filtred = drop_outliers(df_filtred, 'power') "
   ]
  },
  {
   "cell_type": "code",
   "execution_count": 34,
   "metadata": {},
   "outputs": [
    {
     "data": {
      "image/png": "[encoded data removed]",
      "text/plain": [
       "<Figure size 1080x432 with 1 Axes>"
      ]
     },
     "metadata": {},
     "output_type": "display_data"
    }
   ],
   "source": [
    "plt.figure(figsize=(15,6))\n",
    "sns.histplot(df_filtred['power'], bins=100)\n",
    "plt.xlabel('Мощность, л.с.')\n",
    "plt.ylabel('Частота')\n",
    "plt.title('Распределение значений в признаке power');"
   ]
  },
  {
   "cell_type": "markdown",
   "metadata": {},
   "source": [
    "Попробуем использовать метод k ближайших соседей, чтобы заменить значения с аномальными нулевыми значениями в признаке power:"
   ]
  },
  {
   "cell_type": "code",
   "execution_count": 35,
   "metadata": {},
   "outputs": [],
   "source": [
    "neigh = KNeighborsRegressor(n_neighbors=3)"
   ]
  },
  {
   "cell_type": "code",
   "execution_count": 36,
   "metadata": {},
   "outputs": [
    {
     "name": "stdout",
     "output_type": "stream",
     "text": [
      "Wall time: 7.1 s\n"
     ]
    },
    {
     "data": {
      "text/plain": [
       "KNeighborsRegressor(n_neighbors=3)"
      ]
     },
     "execution_count": 36,
     "metadata": {},
     "output_type": "execute_result"
    }
   ],
   "source": [
    "%%time\n",
    "neigh.fit(df_filtred[df_filtred['power'] != 0][numeric].drop('power', axis=1), \n",
    "          df_filtred[df_filtred['power'] != 0]['power'])"
   ]
  },
  {
   "cell_type": "code",
   "execution_count": 37,
   "metadata": {},
   "outputs": [],
   "source": [
    "df_filtred.loc[(df_filtred.power == 0), 'power'] = neigh.predict(\n",
    "    df_filtred[df_filtred['power'] == 0][numeric].drop('power', axis=1))"
   ]
  },
  {
   "cell_type": "code",
   "execution_count": 38,
   "metadata": {},
   "outputs": [
    {
     "data": {
      "image/png": "[encoded data removed]",
      "text/plain": [
       "<Figure size 1080x432 with 1 Axes>"
      ]
     },
     "metadata": {},
     "output_type": "display_data"
    }
   ],
   "source": [
    "plt.figure(figsize=(15,6))\n",
    "sns.histplot(df_filtred['power'], bins=100)\n",
    "plt.xlabel('Мощность, л.с.')\n",
    "plt.ylabel('Частота')\n",
    "plt.title('Распределение значений в признаке power');"
   ]
  },
  {
   "cell_type": "markdown",
   "metadata": {},
   "source": [
    "Перейдем к пропускам, посчитаем долю пропусков в каждом признаке датафрейма и отсортируем их в порядке убывания:"
   ]
  },
  {
   "cell_type": "code",
   "execution_count": 39,
   "metadata": {},
   "outputs": [
    {
     "data": {
      "text/plain": [
       "notrepaired          0.190557\n",
       "vehicletype          0.097654\n",
       "fueltype             0.084643\n",
       "model                0.049535\n",
       "gearbox              0.049259\n",
       "datecrawled          0.000000\n",
       "price                0.000000\n",
       "registrationyear     0.000000\n",
       "power                0.000000\n",
       "kilometer            0.000000\n",
       "registrationmonth    0.000000\n",
       "brand                0.000000\n",
       "datecreated          0.000000\n",
       "numberofpictures     0.000000\n",
       "postalcode           0.000000\n",
       "lastseen             0.000000\n",
       "dtype: float64"
      ]
     },
     "execution_count": 39,
     "metadata": {},
     "output_type": "execute_result"
    }
   ],
   "source": [
    "df_filtred.isna().mean().sort_values(ascending=False)"
   ]
  },
  {
   "cell_type": "markdown",
   "metadata": {},
   "source": [
    "Имеем 19.1% пропусков в признаке notrepaired, 9.75% пропусков в признаке vehicletype, 8.47% пропусков в признаке fueltype и по 5.5% пропусков в признаках gearbox и model. Стоит отметить, что все признаки с пропусками являются категориальными."
   ]
  },
  {
   "cell_type": "markdown",
   "metadata": {},
   "source": [
    "Визуализируем пропуски с помощью библиотеки missingno:"
   ]
  },
  {
   "cell_type": "code",
   "execution_count": 40,
   "metadata": {},
   "outputs": [
    {
     "data": {
      "image/png": "[encoded data removed]",
      "text/plain": [
       "<Figure size 1080x432 with 2 Axes>"
      ]
     },
     "metadata": {},
     "output_type": "display_data"
    }
   ],
   "source": [
    "msno.matrix(df_filtred, figsize=(15,6));"
   ]
  },
  {
   "cell_type": "markdown",
   "metadata": {},
   "source": [
    "Шаблон пропусков носит случайный характер, скорее всего эти параметры просто не были указаны. Так как все пропуски наблюдаются только в категориальных признаках - заполним их значением заглушкой."
   ]
  },
  {
   "cell_type": "code",
   "execution_count": 41,
   "metadata": {},
   "outputs": [],
   "source": [
    "df_filtred = df_filtred.fillna('no_data')"
   ]
  },
  {
   "cell_type": "markdown",
   "metadata": {},
   "source": [
    "Убедимся в отсутствии пропусков:"
   ]
  },
  {
   "cell_type": "code",
   "execution_count": 42,
   "metadata": {},
   "outputs": [
    {
     "data": {
      "text/plain": [
       "datecrawled          0.0\n",
       "price                0.0\n",
       "vehicletype          0.0\n",
       "registrationyear     0.0\n",
       "gearbox              0.0\n",
       "power                0.0\n",
       "model                0.0\n",
       "kilometer            0.0\n",
       "registrationmonth    0.0\n",
       "fueltype             0.0\n",
       "brand                0.0\n",
       "notrepaired          0.0\n",
       "datecreated          0.0\n",
       "numberofpictures     0.0\n",
       "postalcode           0.0\n",
       "lastseen             0.0\n",
       "dtype: float64"
      ]
     },
     "execution_count": 42,
     "metadata": {},
     "output_type": "execute_result"
    }
   ],
   "source": [
    "df_filtred.isna().mean()"
   ]
  },
  {
   "cell_type": "markdown",
   "metadata": {},
   "source": [
    "Из признака datecreated получим два признака - год и месяц создания объявления:"
   ]
  },
  {
   "cell_type": "code",
   "execution_count": 43,
   "metadata": {},
   "outputs": [],
   "source": [
    "df_filtred['year_created'] = pd.DatetimeIndex(df_filtred['datecreated']).year\n",
    "df_filtred['month_created'] = pd.DatetimeIndex(df_filtred['datecreated']).month "
   ]
  },
  {
   "cell_type": "markdown",
   "metadata": {},
   "source": [
    "Избавимся от признаков datecrawled, numberofpictures, datecreated и lastseen:"
   ]
  },
  {
   "cell_type": "code",
   "execution_count": 44,
   "metadata": {},
   "outputs": [],
   "source": [
    "df_filtred = df_filtred.drop(['datecrawled', 'numberofpictures', 'datecreated', 'lastseen'], axis=1)"
   ]
  },
  {
   "cell_type": "markdown",
   "metadata": {},
   "source": [
    "Изменим тип данных категориальных переменных на `category`:"
   ]
  },
  {
   "cell_type": "code",
   "execution_count": 47,
   "metadata": {},
   "outputs": [],
   "source": [
    "df_filtred[categorial] = df_filtred[categorial].astype('category')"
   ]
  },
  {
   "cell_type": "markdown",
   "metadata": {},
   "source": [
    "Выведем первые пять объектов датафрейма и основную информацию о нем:"
   ]
  },
  {
   "cell_type": "code",
   "execution_count": 48,
   "metadata": {},
   "outputs": [
    {
     "data": {
      "text/html": [
       "<div>\n",
       "<style scoped>\n",
       "    .dataframe tbody tr th:only-of-type {\n",
       "        vertical-align: middle;\n",
       "    }\n",
       "\n",
       "    .dataframe tbody tr th {\n",
       "        vertical-align: top;\n",
       "    }\n",
       "\n",
       "    .dataframe thead th {\n",
       "        text-align: right;\n",
       "    }\n",
       "</style>\n",
       "<table border=\"1\" class=\"dataframe\">\n",
       "  <thead>\n",
       "    <tr style=\"text-align: right;\">\n",
       "      <th></th>\n",
       "      <th>price</th>\n",
       "      <th>vehicletype</th>\n",
       "      <th>registrationyear</th>\n",
       "      <th>gearbox</th>\n",
       "      <th>power</th>\n",
       "      <th>model</th>\n",
       "      <th>kilometer</th>\n",
       "      <th>registrationmonth</th>\n",
       "      <th>fueltype</th>\n",
       "      <th>brand</th>\n",
       "      <th>notrepaired</th>\n",
       "      <th>postalcode</th>\n",
       "      <th>year_created</th>\n",
       "      <th>month_created</th>\n",
       "    </tr>\n",
       "  </thead>\n",
       "  <tbody>\n",
       "    <tr>\n",
       "      <th>0</th>\n",
       "      <td>480</td>\n",
       "      <td>no_data</td>\n",
       "      <td>1993</td>\n",
       "      <td>manual</td>\n",
       "      <td>109.0</td>\n",
       "      <td>golf</td>\n",
       "      <td>150000</td>\n",
       "      <td>0</td>\n",
       "      <td>petrol</td>\n",
       "      <td>volkswagen</td>\n",
       "      <td>no_data</td>\n",
       "      <td>70435</td>\n",
       "      <td>2016</td>\n",
       "      <td>3</td>\n",
       "    </tr>\n",
       "    <tr>\n",
       "      <th>1</th>\n",
       "      <td>18300</td>\n",
       "      <td>coupe</td>\n",
       "      <td>2011</td>\n",
       "      <td>manual</td>\n",
       "      <td>190.0</td>\n",
       "      <td>no_data</td>\n",
       "      <td>125000</td>\n",
       "      <td>5</td>\n",
       "      <td>gasoline</td>\n",
       "      <td>audi</td>\n",
       "      <td>yes</td>\n",
       "      <td>66954</td>\n",
       "      <td>2016</td>\n",
       "      <td>3</td>\n",
       "    </tr>\n",
       "    <tr>\n",
       "      <th>2</th>\n",
       "      <td>9800</td>\n",
       "      <td>suv</td>\n",
       "      <td>2004</td>\n",
       "      <td>auto</td>\n",
       "      <td>163.0</td>\n",
       "      <td>grand</td>\n",
       "      <td>125000</td>\n",
       "      <td>8</td>\n",
       "      <td>gasoline</td>\n",
       "      <td>jeep</td>\n",
       "      <td>no_data</td>\n",
       "      <td>90480</td>\n",
       "      <td>2016</td>\n",
       "      <td>3</td>\n",
       "    </tr>\n",
       "    <tr>\n",
       "      <th>3</th>\n",
       "      <td>1500</td>\n",
       "      <td>small</td>\n",
       "      <td>2001</td>\n",
       "      <td>manual</td>\n",
       "      <td>75.0</td>\n",
       "      <td>golf</td>\n",
       "      <td>150000</td>\n",
       "      <td>6</td>\n",
       "      <td>petrol</td>\n",
       "      <td>volkswagen</td>\n",
       "      <td>no</td>\n",
       "      <td>91074</td>\n",
       "      <td>2016</td>\n",
       "      <td>3</td>\n",
       "    </tr>\n",
       "    <tr>\n",
       "      <th>4</th>\n",
       "      <td>3600</td>\n",
       "      <td>small</td>\n",
       "      <td>2008</td>\n",
       "      <td>manual</td>\n",
       "      <td>69.0</td>\n",
       "      <td>fabia</td>\n",
       "      <td>90000</td>\n",
       "      <td>7</td>\n",
       "      <td>gasoline</td>\n",
       "      <td>skoda</td>\n",
       "      <td>no</td>\n",
       "      <td>60437</td>\n",
       "      <td>2016</td>\n",
       "      <td>3</td>\n",
       "    </tr>\n",
       "  </tbody>\n",
       "</table>\n",
       "</div>"
      ],
      "text/plain": [
       "   price vehicletype  registrationyear gearbox  power    model  kilometer  \\\n",
       "0    480     no_data              1993  manual  109.0     golf     150000   \n",
       "1  18300       coupe              2011  manual  190.0  no_data     125000   \n",
       "2   9800         suv              2004    auto  163.0    grand     125000   \n",
       "3   1500       small              2001  manual   75.0     golf     150000   \n",
       "4   3600       small              2008  manual   69.0    fabia      90000   \n",
       "\n",
       "   registrationmonth  fueltype       brand notrepaired  postalcode  \\\n",
       "0                  0    petrol  volkswagen     no_data       70435   \n",
       "1                  5  gasoline        audi         yes       66954   \n",
       "2                  8  gasoline        jeep     no_data       90480   \n",
       "3                  6    petrol  volkswagen          no       91074   \n",
       "4                  7  gasoline       skoda          no       60437   \n",
       "\n",
       "   year_created  month_created  \n",
       "0          2016              3  \n",
       "1          2016              3  \n",
       "2          2016              3  \n",
       "3          2016              3  \n",
       "4          2016              3  "
      ]
     },
     "execution_count": 48,
     "metadata": {},
     "output_type": "execute_result"
    }
   ],
   "source": [
    "df_filtred.head()"
   ]
  },
  {
   "cell_type": "code",
   "execution_count": 49,
   "metadata": {},
   "outputs": [
    {
     "name": "stdout",
     "output_type": "stream",
     "text": [
      "<class 'pandas.core.frame.DataFrame'>\n",
      "Int64Index: 340712 entries, 0 to 354368\n",
      "Data columns (total 14 columns):\n",
      " #   Column             Non-Null Count   Dtype   \n",
      "---  ------             --------------   -----   \n",
      " 0   price              340712 non-null  int64   \n",
      " 1   vehicletype        340712 non-null  category\n",
      " 2   registrationyear   340712 non-null  int64   \n",
      " 3   gearbox            340712 non-null  category\n",
      " 4   power              340712 non-null  float64 \n",
      " 5   model              340712 non-null  category\n",
      " 6   kilometer          340712 non-null  int64   \n",
      " 7   registrationmonth  340712 non-null  int64   \n",
      " 8   fueltype           340712 non-null  category\n",
      " 9   brand              340712 non-null  category\n",
      " 10  notrepaired        340712 non-null  category\n",
      " 11  postalcode         340712 non-null  int64   \n",
      " 12  year_created       340712 non-null  int64   \n",
      " 13  month_created      340712 non-null  int64   \n",
      "dtypes: category(6), float64(1), int64(7)\n",
      "memory usage: 25.7 MB\n"
     ]
    }
   ],
   "source": [
    "df_filtred.info()"
   ]
  },
  {
   "cell_type": "markdown",
   "metadata": {},
   "source": [
    "Посчитаем долю данных, потерянную при предобработке:"
   ]
  },
  {
   "cell_type": "code",
   "execution_count": 50,
   "metadata": {},
   "outputs": [
    {
     "data": {
      "text/plain": [
       "0.9614719286611262"
      ]
     },
     "execution_count": 50,
     "metadata": {},
     "output_type": "execute_result"
    }
   ],
   "source": [
    "len(df_filtred) / len(df)"
   ]
  },
  {
   "cell_type": "markdown",
   "metadata": {},
   "source": [
    "Предобработка завершена, отброшено менее 4% данных."
   ]
  },
  {
   "cell_type": "markdown",
   "metadata": {},
   "source": [
    "### Подготовка данных"
   ]
  },
  {
   "cell_type": "markdown",
   "metadata": {},
   "source": [
    "Подготовим данные для моделей. Так как для гребнеевой регрессии и случайного леса необходимы закодированные категориальные признаки, а для градиентных бустингов LightGBM и CatBoost нет, мы разобьем исходные данные на два: закодированные и незакодированные. Также для градиентных бустингов мы сможем создать две дополнительные модели и сравнить их."
   ]
  },
  {
   "cell_type": "markdown",
   "metadata": {},
   "source": [
    "Для начала запишем признаки в датафрейм features, а целевой признак в датафрейм target:"
   ]
  },
  {
   "cell_type": "code",
   "execution_count": 51,
   "metadata": {},
   "outputs": [],
   "source": [
    "features = df_filtred.drop('price', axis=1)\n",
    "target = df_filtred['price']"
   ]
  },
  {
   "cell_type": "markdown",
   "metadata": {},
   "source": [
    "При обучении моделей будем использовать 5-ти кратную кросс-валидацию, поэтому валидационный датасета нам не нужен. Разобьем исходный датасет на обучающую и отложенную выборку в соотношении 8:2."
   ]
  },
  {
   "cell_type": "markdown",
   "metadata": {},
   "source": [
    "Зафиксируем случайное состояние для воспроизводимости результатов:"
   ]
  },
  {
   "cell_type": "code",
   "execution_count": 52,
   "metadata": {},
   "outputs": [],
   "source": [
    "SEED = 12345"
   ]
  },
  {
   "cell_type": "code",
   "execution_count": 53,
   "metadata": {},
   "outputs": [],
   "source": [
    "features_train, features_test, target_train, target_test = train_test_split(\n",
    "                                                                            features, \n",
    "                                                                            target, \n",
    "                                                                            test_size=.2, \n",
    "                                                                            random_state=SEED)"
   ]
  },
  {
   "cell_type": "markdown",
   "metadata": {},
   "source": [
    "Проконтролируем разбиение:"
   ]
  },
  {
   "cell_type": "code",
   "execution_count": 54,
   "metadata": {},
   "outputs": [
    {
     "data": {
      "text/plain": [
       "((272569, 13), (68143, 13), (272569,), (68143,))"
      ]
     },
     "execution_count": 54,
     "metadata": {},
     "output_type": "execute_result"
    }
   ],
   "source": [
    "features_train.shape, features_test.shape, target_train.shape, target_test.shape"
   ]
  },
  {
   "cell_type": "markdown",
   "metadata": {},
   "source": [
    "Для кодировки категориальных признаков применим *CatBoostEncoder*:"
   ]
  },
  {
   "cell_type": "code",
   "execution_count": 55,
   "metadata": {},
   "outputs": [],
   "source": [
    "cbe_encoder = ce.CatBoostEncoder()"
   ]
  },
  {
   "cell_type": "code",
   "execution_count": 56,
   "metadata": {},
   "outputs": [],
   "source": [
    "features_train_cbe = cbe_encoder.fit_transform(features_train, target_train)"
   ]
  },
  {
   "cell_type": "code",
   "execution_count": 57,
   "metadata": {},
   "outputs": [],
   "source": [
    "features_test_cbe = cbe_encoder.transform(features_test, target_test)"
   ]
  },
  {
   "cell_type": "markdown",
   "metadata": {},
   "source": [
    "Посмотрим первые 5 объектов:"
   ]
  },
  {
   "cell_type": "code",
   "execution_count": 58,
   "metadata": {},
   "outputs": [
    {
     "data": {
      "text/html": [
       "<div>\n",
       "<style scoped>\n",
       "    .dataframe tbody tr th:only-of-type {\n",
       "        vertical-align: middle;\n",
       "    }\n",
       "\n",
       "    .dataframe tbody tr th {\n",
       "        vertical-align: top;\n",
       "    }\n",
       "\n",
       "    .dataframe thead th {\n",
       "        text-align: right;\n",
       "    }\n",
       "</style>\n",
       "<table border=\"1\" class=\"dataframe\">\n",
       "  <thead>\n",
       "    <tr style=\"text-align: right;\">\n",
       "      <th></th>\n",
       "      <th>vehicletype</th>\n",
       "      <th>registrationyear</th>\n",
       "      <th>gearbox</th>\n",
       "      <th>power</th>\n",
       "      <th>model</th>\n",
       "      <th>kilometer</th>\n",
       "      <th>registrationmonth</th>\n",
       "      <th>fueltype</th>\n",
       "      <th>brand</th>\n",
       "      <th>notrepaired</th>\n",
       "      <th>postalcode</th>\n",
       "      <th>year_created</th>\n",
       "      <th>month_created</th>\n",
       "    </tr>\n",
       "  </thead>\n",
       "  <tbody>\n",
       "    <tr>\n",
       "      <th>322218</th>\n",
       "      <td>4513.553581</td>\n",
       "      <td>1997</td>\n",
       "      <td>4513.553581</td>\n",
       "      <td>193.0</td>\n",
       "      <td>4513.553581</td>\n",
       "      <td>150000</td>\n",
       "      <td>7</td>\n",
       "      <td>4513.553581</td>\n",
       "      <td>4513.553581</td>\n",
       "      <td>4513.553581</td>\n",
       "      <td>65187</td>\n",
       "      <td>2016</td>\n",
       "      <td>3</td>\n",
       "    </tr>\n",
       "    <tr>\n",
       "      <th>291559</th>\n",
       "      <td>4513.553581</td>\n",
       "      <td>2010</td>\n",
       "      <td>3456.276790</td>\n",
       "      <td>105.0</td>\n",
       "      <td>4513.553581</td>\n",
       "      <td>150000</td>\n",
       "      <td>1</td>\n",
       "      <td>4513.553581</td>\n",
       "      <td>4513.553581</td>\n",
       "      <td>3456.276790</td>\n",
       "      <td>90453</td>\n",
       "      <td>2016</td>\n",
       "      <td>3</td>\n",
       "    </tr>\n",
       "    <tr>\n",
       "      <th>36995</th>\n",
       "      <td>3456.276790</td>\n",
       "      <td>1994</td>\n",
       "      <td>4604.184527</td>\n",
       "      <td>90.0</td>\n",
       "      <td>4513.553581</td>\n",
       "      <td>150000</td>\n",
       "      <td>10</td>\n",
       "      <td>4513.553581</td>\n",
       "      <td>4513.553581</td>\n",
       "      <td>4604.184527</td>\n",
       "      <td>97070</td>\n",
       "      <td>2016</td>\n",
       "      <td>4</td>\n",
       "    </tr>\n",
       "    <tr>\n",
       "      <th>52530</th>\n",
       "      <td>5706.776790</td>\n",
       "      <td>2003</td>\n",
       "      <td>3652.888395</td>\n",
       "      <td>116.0</td>\n",
       "      <td>4513.553581</td>\n",
       "      <td>150000</td>\n",
       "      <td>9</td>\n",
       "      <td>3456.276790</td>\n",
       "      <td>4513.553581</td>\n",
       "      <td>3652.888395</td>\n",
       "      <td>71263</td>\n",
       "      <td>2016</td>\n",
       "      <td>3</td>\n",
       "    </tr>\n",
       "    <tr>\n",
       "      <th>259241</th>\n",
       "      <td>2570.517860</td>\n",
       "      <td>2006</td>\n",
       "      <td>3222.110716</td>\n",
       "      <td>226.0</td>\n",
       "      <td>4513.553581</td>\n",
       "      <td>125000</td>\n",
       "      <td>1</td>\n",
       "      <td>2803.851194</td>\n",
       "      <td>4513.553581</td>\n",
       "      <td>3222.110716</td>\n",
       "      <td>35104</td>\n",
       "      <td>2016</td>\n",
       "      <td>3</td>\n",
       "    </tr>\n",
       "  </tbody>\n",
       "</table>\n",
       "</div>"
      ],
      "text/plain": [
       "        vehicletype  registrationyear      gearbox  power        model  \\\n",
       "322218  4513.553581              1997  4513.553581  193.0  4513.553581   \n",
       "291559  4513.553581              2010  3456.276790  105.0  4513.553581   \n",
       "36995   3456.276790              1994  4604.184527   90.0  4513.553581   \n",
       "52530   5706.776790              2003  3652.888395  116.0  4513.553581   \n",
       "259241  2570.517860              2006  3222.110716  226.0  4513.553581   \n",
       "\n",
       "        kilometer  registrationmonth     fueltype        brand  notrepaired  \\\n",
       "322218     150000                  7  4513.553581  4513.553581  4513.553581   \n",
       "291559     150000                  1  4513.553581  4513.553581  3456.276790   \n",
       "36995      150000                 10  4513.553581  4513.553581  4604.184527   \n",
       "52530      150000                  9  3456.276790  4513.553581  3652.888395   \n",
       "259241     125000                  1  2803.851194  4513.553581  3222.110716   \n",
       "\n",
       "        postalcode  year_created  month_created  \n",
       "322218       65187          2016              3  \n",
       "291559       90453          2016              3  \n",
       "36995        97070          2016              4  \n",
       "52530        71263          2016              3  \n",
       "259241       35104          2016              3  "
      ]
     },
     "execution_count": 58,
     "metadata": {},
     "output_type": "execute_result"
    }
   ],
   "source": [
    "features_train_cbe.head()"
   ]
  },
  {
   "cell_type": "markdown",
   "metadata": {},
   "source": [
    "Признаки закодированы. Теперь, для гребнеевой регресии и нейросети их нужно масштабировать. Таким образом для градиентных бустингов мы сможем создать еще две дополнительные модели и сравнить их. Масштабировать признаки будем с помощью стандартизации:"
   ]
  },
  {
   "cell_type": "code",
   "execution_count": 59,
   "metadata": {},
   "outputs": [],
   "source": [
    "scaler = StandardScaler()"
   ]
  },
  {
   "cell_type": "code",
   "execution_count": 60,
   "metadata": {},
   "outputs": [],
   "source": [
    "features_train_cbe_scaled = scaler.fit_transform(features_train_cbe, target_train)\n",
    "features_train_cbe_scaled = pd.DataFrame(data = features_train_cbe_scaled, columns = features_train_cbe.columns)"
   ]
  },
  {
   "cell_type": "code",
   "execution_count": 61,
   "metadata": {},
   "outputs": [],
   "source": [
    "features_test_cbe_scaled = scaler.transform(features_test_cbe)\n",
    "features_test_cbe_scaled = pd.DataFrame(data = features_test_cbe_scaled, columns = features_train_cbe.columns)"
   ]
  },
  {
   "cell_type": "markdown",
   "metadata": {},
   "source": [
    "Признаки готовы к построению моделей."
   ]
  },
  {
   "cell_type": "markdown",
   "metadata": {},
   "source": [
    "## Обучение моделей <a id='id_2'></a>"
   ]
  },
  {
   "cell_type": "markdown",
   "metadata": {},
   "source": [
    "### Гребнеевая регрессия"
   ]
  },
  {
   "cell_type": "markdown",
   "metadata": {},
   "source": [
    "Зададим переделы изменения гиперпараметра альфа:"
   ]
  },
  {
   "cell_type": "code",
   "execution_count": 62,
   "metadata": {},
   "outputs": [],
   "source": [
    "param_grid = {'alpha': np.arange(0.5, 10, 0.5)}"
   ]
  },
  {
   "cell_type": "markdown",
   "metadata": {},
   "source": [
    "Инициализируем модель гребнеевой регрессии:"
   ]
  },
  {
   "cell_type": "code",
   "execution_count": 63,
   "metadata": {},
   "outputs": [],
   "source": [
    "ridge = Ridge(random_state=SEED)"
   ]
  },
  {
   "cell_type": "markdown",
   "metadata": {},
   "source": [
    "Оптимитизировать гиперпараметр будем с помощью поиска по сетке с 5-ти картной кросс-валидацией:"
   ]
  },
  {
   "cell_type": "code",
   "execution_count": 64,
   "metadata": {},
   "outputs": [],
   "source": [
    "ridge_grid = GridSearchCV(ridge, param_grid, cv=5, scoring='neg_mean_squared_error')"
   ]
  },
  {
   "cell_type": "code",
   "execution_count": 66,
   "metadata": {},
   "outputs": [
    {
     "name": "stdout",
     "output_type": "stream",
     "text": [
      "Wall time: 2.89 s\n"
     ]
    },
    {
     "data": {
      "text/plain": [
       "GridSearchCV(cv=5, estimator=Ridge(random_state=12345),\n",
       "             param_grid={'alpha': array([0.5, 1. , 1.5, 2. , 2.5, 3. , 3.5, 4. , 4.5, 5. , 5.5, 6. , 6.5,\n",
       "       7. , 7.5, 8. , 8.5, 9. , 9.5])},\n",
       "             scoring='neg_mean_squared_error')"
      ]
     },
     "execution_count": 66,
     "metadata": {},
     "output_type": "execute_result"
    }
   ],
   "source": [
    "%%time\n",
    "ridge_grid.fit(features_train_cbe_scaled, target_train)"
   ]
  },
  {
   "cell_type": "markdown",
   "metadata": {},
   "source": [
    "Время обучения - 3.5 сек. посмотрим среднее значение *RMSE* на обучающей выборке:"
   ]
  },
  {
   "cell_type": "code",
   "execution_count": 67,
   "metadata": {},
   "outputs": [
    {
     "data": {
      "text/plain": [
       "2711.024699988088"
      ]
     },
     "execution_count": 67,
     "metadata": {},
     "output_type": "execute_result"
    }
   ],
   "source": [
    "np.abs(ridge_grid.best_score_) ** .5"
   ]
  },
  {
   "cell_type": "markdown",
   "metadata": {},
   "source": [
    "Модель, в среднем, ошибается на 2711 евро на обучающей выборке, не очень хороший результат. Посмотрим метрику на тесте:"
   ]
  },
  {
   "cell_type": "code",
   "execution_count": 70,
   "metadata": {},
   "outputs": [
    {
     "name": "stdout",
     "output_type": "stream",
     "text": [
      "Wall time: 2 ms\n"
     ]
    },
    {
     "data": {
      "text/plain": [
       "2749.6899498450466"
      ]
     },
     "execution_count": 70,
     "metadata": {},
     "output_type": "execute_result"
    }
   ],
   "source": [
    "%%time\n",
    "mean_squared_error(target_test, ridge_grid.predict(features_test_cbe_scaled)) ** .5"
   ]
  },
  {
   "cell_type": "markdown",
   "metadata": {},
   "source": [
    "Немного лучше, но предсказания все равно имеют слишком большое отклонение. Скорость предсказания составила 2 мс."
   ]
  },
  {
   "cell_type": "markdown",
   "metadata": {},
   "source": [
    "### Случайный лес"
   ]
  },
  {
   "cell_type": "markdown",
   "metadata": {},
   "source": [
    "Инициализиурем пустую модель случайного леса:"
   ]
  },
  {
   "cell_type": "code",
   "execution_count": 71,
   "metadata": {},
   "outputs": [],
   "source": [
    "rfr = RandomForestRegressor(random_state=SEED)"
   ]
  },
  {
   "cell_type": "markdown",
   "metadata": {},
   "source": [
    "Зададим сетку изменения гиперпараметров:"
   ]
  },
  {
   "cell_type": "code",
   "execution_count": 72,
   "metadata": {},
   "outputs": [],
   "source": [
    "param_grid = {'n_estimators':[10,20,30],\n",
    "              'max_features':['auto', 'sqrt', 'log2']}"
   ]
  },
  {
   "cell_type": "markdown",
   "metadata": {},
   "source": [
    "Подберем модель с оптимальными гиперпараметрами на 5-ти кратной кросс-валидации:"
   ]
  },
  {
   "cell_type": "code",
   "execution_count": 73,
   "metadata": {},
   "outputs": [],
   "source": [
    "rfr_grid = GridSearchCV(rfr, param_grid, n_jobs=-1, cv=5, scoring='neg_mean_squared_error')"
   ]
  },
  {
   "cell_type": "code",
   "execution_count": 74,
   "metadata": {},
   "outputs": [
    {
     "name": "stdout",
     "output_type": "stream",
     "text": [
      "Wall time: 1min 38s\n"
     ]
    },
    {
     "data": {
      "text/plain": [
       "GridSearchCV(cv=5, estimator=RandomForestRegressor(random_state=12345),\n",
       "             n_jobs=-1,\n",
       "             param_grid={'max_features': ['auto', 'sqrt', 'log2'],\n",
       "                         'n_estimators': [10, 20, 30]},\n",
       "             scoring='neg_mean_squared_error')"
      ]
     },
     "execution_count": 74,
     "metadata": {},
     "output_type": "execute_result"
    }
   ],
   "source": [
    "%%time\n",
    "rfr_grid.fit(features_train_cbe, target_train)"
   ]
  },
  {
   "cell_type": "markdown",
   "metadata": {},
   "source": [
    "Время обучения 122 сек, посмотрим значение *RMSE* на отложенной выборке:"
   ]
  },
  {
   "cell_type": "code",
   "execution_count": 75,
   "metadata": {},
   "outputs": [
    {
     "name": "stdout",
     "output_type": "stream",
     "text": [
      "Wall time: 497 ms\n"
     ]
    },
    {
     "data": {
      "text/plain": [
       "1710.817792932194"
      ]
     },
     "execution_count": 75,
     "metadata": {},
     "output_type": "execute_result"
    }
   ],
   "source": [
    "%%time\n",
    "mean_squared_error(target_test, rfr_grid.predict(features_test_cbe)) ** .5"
   ]
  },
  {
   "cell_type": "markdown",
   "metadata": {},
   "source": [
    "Модель случайного леса, в среднем, ошибается на 1000 евро меньше, чем гребнеевая регрессия. Попробуем добиться лучшего результата с использованием градиентного бустинга. Скорость предсказания составила 497 мс."
   ]
  },
  {
   "cell_type": "markdown",
   "metadata": {},
   "source": [
    "### CatBoost"
   ]
  },
  {
   "cell_type": "markdown",
   "metadata": {},
   "source": [
    "Запишем тестовые пулы ко всем признакам:"
   ]
  },
  {
   "cell_type": "code",
   "execution_count": 76,
   "metadata": {},
   "outputs": [],
   "source": [
    "test_pool = Pool(features_test, target_test, cat_features=categorial)\n",
    "test_pool_cbe = Pool(features_test_cbe, target_test)\n",
    "test_pool_cbe_scaled = Pool(features_test_cbe_scaled, target_test)"
   ]
  },
  {
   "cell_type": "markdown",
   "metadata": {},
   "source": [
    "Подберем скорость обучения CatBoost с помощью поиска по сетке, зададим сетку изменения гиперпараметра:"
   ]
  },
  {
   "cell_type": "code",
   "execution_count": 77,
   "metadata": {},
   "outputs": [],
   "source": [
    "param_grid = {'learning_rate': [0.1, 0.15, 0.2, 0.25, 0.3, 0.35, 0.4]}"
   ]
  },
  {
   "cell_type": "markdown",
   "metadata": {},
   "source": [
    "Инициализируем пустую модель CatBoost:"
   ]
  },
  {
   "cell_type": "code",
   "execution_count": 78,
   "metadata": {},
   "outputs": [],
   "source": [
    "cb_cv = CatBoostRegressor(random_state=SEED, \n",
    "                          eval_metric='RMSE', \n",
    "                          verbose=False)"
   ]
  },
  {
   "cell_type": "markdown",
   "metadata": {},
   "source": [
    "Запустим поиск по сетке с 5-ти кратной кросс-валидацией:"
   ]
  },
  {
   "cell_type": "code",
   "execution_count": 79,
   "metadata": {
    "scrolled": false
   },
   "outputs": [
    {
     "data": {
      "application/vnd.jupyter.widget-view+json": {
       "model_id": "0a05d5a9ece94a0fa447b181ebc2fc97",
       "version_major": 2,
       "version_minor": 0
      },
      "text/plain": [
       "MetricVisualizer(layout=Layout(align_self='stretch', height='500px'))"
      ]
     },
     "metadata": {},
     "output_type": "display_data"
    },
    {
     "name": "stdout",
     "output_type": "stream",
     "text": [
      "\n",
      "bestTest = 1569.866414\n",
      "bestIteration = 999\n",
      "\n",
      "0:\tloss: 1569.8664141\tbest: 1569.8664141 (0)\ttotal: 1m 21s\tremaining: 8m 6s\n",
      "\n",
      "bestTest = 1558.819254\n",
      "bestIteration = 999\n",
      "\n",
      "1:\tloss: 1558.8192544\tbest: 1558.8192544 (1)\ttotal: 2m 40s\tremaining: 6m 41s\n",
      "\n",
      "bestTest = 1548.661395\n",
      "bestIteration = 993\n",
      "\n",
      "2:\tloss: 1548.6613950\tbest: 1548.6613950 (2)\ttotal: 4m 6s\tremaining: 5m 28s\n",
      "\n",
      "bestTest = 1548.000787\n",
      "bestIteration = 999\n",
      "\n",
      "3:\tloss: 1548.0007871\tbest: 1548.0007871 (3)\ttotal: 5m 26s\tremaining: 4m 5s\n",
      "\n",
      "bestTest = 1542.056616\n",
      "bestIteration = 993\n",
      "\n",
      "4:\tloss: 1542.0566161\tbest: 1542.0566161 (4)\ttotal: 6m 42s\tremaining: 2m 41s\n",
      "\n",
      "bestTest = 1549.479762\n",
      "bestIteration = 999\n",
      "\n",
      "5:\tloss: 1549.4797618\tbest: 1542.0566161 (4)\ttotal: 7m 58s\tremaining: 1m 19s\n",
      "\n",
      "bestTest = 1541.770828\n",
      "bestIteration = 999\n",
      "\n",
      "6:\tloss: 1541.7708279\tbest: 1541.7708279 (6)\ttotal: 9m 13s\tremaining: 0us\n",
      "Estimating final quality...\n",
      "Training on fold [0/5]\n",
      "\n",
      "bestTest = 1560.074507\n",
      "bestIteration = 999\n",
      "\n",
      "Training on fold [1/5]\n",
      "\n",
      "bestTest = 1583.135398\n",
      "bestIteration = 993\n",
      "\n",
      "Training on fold [2/5]\n",
      "\n",
      "bestTest = 1538.108018\n",
      "bestIteration = 990\n",
      "\n",
      "Training on fold [3/5]\n",
      "\n",
      "bestTest = 1554.740599\n",
      "bestIteration = 999\n",
      "\n",
      "Training on fold [4/5]\n",
      "\n",
      "bestTest = 1548.241215\n",
      "bestIteration = 999\n",
      "\n",
      "Wall time: 17min 24s\n"
     ]
    }
   ],
   "source": [
    "%%time\n",
    "grid_search_result = cb_cv.grid_search(param_grid, \n",
    "                                       Pool(features_train, target_train, cat_features=categorial), \n",
    "                                       plot=True,\n",
    "                                       partition_random_seed=SEED,\n",
    "                                       cv=5)"
   ]
  },
  {
   "cell_type": "markdown",
   "metadata": {},
   "source": [
    "Время обучения составило 1082 сек, посмотрим *RMSE* на тестовой выборке:"
   ]
  },
  {
   "cell_type": "code",
   "execution_count": 84,
   "metadata": {},
   "outputs": [
    {
     "name": "stdout",
     "output_type": "stream",
     "text": [
      "Wall time: 68.1 ms\n"
     ]
    },
    {
     "data": {
      "text/plain": [
       "1543.5538744887917"
      ]
     },
     "execution_count": 84,
     "metadata": {},
     "output_type": "execute_result"
    }
   ],
   "source": [
    "%%time\n",
    "mean_squared_error(target_test, cb_cv.predict(test_pool)) ** .5"
   ]
  },
  {
   "cell_type": "markdown",
   "metadata": {},
   "source": [
    "Попробуем данные с кодированием. Инициализируем новую модель и запустим поиск по сетке:"
   ]
  },
  {
   "cell_type": "code",
   "execution_count": 85,
   "metadata": {},
   "outputs": [],
   "source": [
    "cb_cv_cbe = CatBoostRegressor(random_state=SEED, eval_metric='RMSE', verbose=False)#, task_type=\"GPU\")"
   ]
  },
  {
   "cell_type": "code",
   "execution_count": 86,
   "metadata": {
    "scrolled": false
   },
   "outputs": [
    {
     "data": {
      "application/vnd.jupyter.widget-view+json": {
       "model_id": "514f2dc5f9ab467eab7cde1890c69c34",
       "version_major": 2,
       "version_minor": 0
      },
      "text/plain": [
       "MetricVisualizer(layout=Layout(align_self='stretch', height='500px'))"
      ]
     },
     "metadata": {},
     "output_type": "display_data"
    },
    {
     "name": "stdout",
     "output_type": "stream",
     "text": [
      "\n",
      "bestTest = 1612.338701\n",
      "bestIteration = 999\n",
      "\n",
      "0:\tloss: 1612.3387015\tbest: 1612.3387015 (0)\ttotal: 10.1s\tremaining: 1m\n",
      "\n",
      "bestTest = 1604.743011\n",
      "bestIteration = 995\n",
      "\n",
      "1:\tloss: 1604.7430112\tbest: 1604.7430112 (1)\ttotal: 20.2s\tremaining: 50.5s\n",
      "\n",
      "bestTest = 1594.391536\n",
      "bestIteration = 999\n",
      "\n",
      "2:\tloss: 1594.3915361\tbest: 1594.3915361 (2)\ttotal: 30.4s\tremaining: 40.5s\n",
      "\n",
      "bestTest = 1596.760382\n",
      "bestIteration = 990\n",
      "\n",
      "3:\tloss: 1596.7603818\tbest: 1594.3915361 (2)\ttotal: 40.8s\tremaining: 30.6s\n",
      "\n",
      "bestTest = 1596.303208\n",
      "bestIteration = 996\n",
      "\n",
      "4:\tloss: 1596.3032082\tbest: 1594.3915361 (2)\ttotal: 50.9s\tremaining: 20.4s\n",
      "\n",
      "bestTest = 1603.555942\n",
      "bestIteration = 924\n",
      "\n",
      "5:\tloss: 1603.5559424\tbest: 1594.3915361 (2)\ttotal: 1m 1s\tremaining: 10.2s\n",
      "\n",
      "bestTest = 1599.902403\n",
      "bestIteration = 999\n",
      "\n",
      "6:\tloss: 1599.9024032\tbest: 1594.3915361 (2)\ttotal: 1m 11s\tremaining: 0us\n",
      "Estimating final quality...\n",
      "Training on fold [0/5]\n",
      "\n",
      "bestTest = 1604.502817\n",
      "bestIteration = 999\n",
      "\n",
      "Training on fold [1/5]\n",
      "\n",
      "bestTest = 1620.297253\n",
      "bestIteration = 999\n",
      "\n",
      "Training on fold [2/5]\n",
      "\n",
      "bestTest = 1580.385663\n",
      "bestIteration = 999\n",
      "\n",
      "Training on fold [3/5]\n",
      "\n",
      "bestTest = 1605.473176\n",
      "bestIteration = 996\n",
      "\n",
      "Training on fold [4/5]\n",
      "\n",
      "bestTest = 1597.454558\n",
      "bestIteration = 995\n",
      "\n",
      "Wall time: 2min 15s\n"
     ]
    }
   ],
   "source": [
    "%%time\n",
    "grid_search_result = cb_cv_cbe.grid_search(param_grid, \n",
    "                                           Pool(features_train_cbe, target_train), \n",
    "                                           plot=True,\n",
    "                                           partition_random_seed=SEED,\n",
    "                                           cv=5)"
   ]
  },
  {
   "cell_type": "markdown",
   "metadata": {},
   "source": [
    "Время обучения составило 148 сек., получаем увеличение скорости обучения в 7.31 раз при кодировании признаков. Посмотрим значение метрики *RMSE*:"
   ]
  },
  {
   "cell_type": "code",
   "execution_count": 75,
   "metadata": {},
   "outputs": [
    {
     "name": "stdout",
     "output_type": "stream",
     "text": [
      "Wall time: 10.5 ms\n"
     ]
    },
    {
     "data": {
      "text/plain": [
       "1686.6237727264495"
      ]
     },
     "execution_count": 75,
     "metadata": {},
     "output_type": "execute_result"
    }
   ],
   "source": [
    "%%time\n",
    "mean_squared_error(target_test, cb_cv_cbe.predict(test_pool_cbe)) ** .5"
   ]
  },
  {
   "cell_type": "markdown",
   "metadata": {},
   "source": [
    "С кодированием признаков модель стала ошибаться на 134.78 евро больше, однако прирост скорости получился очень значительный."
   ]
  },
  {
   "cell_type": "markdown",
   "metadata": {},
   "source": [
    "Теперь попробуем данные с кодированием и масштабированием, инициализируем пустую модель и запустим поиск по сетке:"
   ]
  },
  {
   "cell_type": "code",
   "execution_count": 76,
   "metadata": {},
   "outputs": [],
   "source": [
    "cb_cv_cbe_scaled = CatBoostRegressor(random_state=SEED, eval_metric='RMSE', verbose=False)#, task_type=\"GPU\")"
   ]
  },
  {
   "cell_type": "code",
   "execution_count": 77,
   "metadata": {
    "scrolled": false
   },
   "outputs": [
    {
     "data": {
      "application/vnd.jupyter.widget-view+json": {
       "model_id": "79f3e0cf39e34db7b023ffb28b112887",
       "version_major": 2,
       "version_minor": 0
      },
      "text/plain": [
       "MetricVisualizer(layout=Layout(align_self='stretch', height='500px'))"
      ]
     },
     "metadata": {},
     "output_type": "display_data"
    },
    {
     "name": "stdout",
     "output_type": "stream",
     "text": [
      "\n",
      "bestTest = 1628.567026\n",
      "bestIteration = 998\n",
      "\n",
      "0:\tloss: 1628.5670265\tbest: 1628.5670265 (0)\ttotal: 10.1s\tremaining: 1m\n",
      "\n",
      "bestTest = 1613.712095\n",
      "bestIteration = 999\n",
      "\n",
      "1:\tloss: 1613.7120953\tbest: 1613.7120953 (1)\ttotal: 20.1s\tremaining: 50.2s\n",
      "\n",
      "bestTest = 1610.716106\n",
      "bestIteration = 991\n",
      "\n",
      "2:\tloss: 1610.7161058\tbest: 1610.7161058 (2)\ttotal: 30s\tremaining: 40s\n",
      "\n",
      "bestTest = 1609.206755\n",
      "bestIteration = 977\n",
      "\n",
      "3:\tloss: 1609.2067548\tbest: 1609.2067548 (3)\ttotal: 40s\tremaining: 30s\n",
      "\n",
      "bestTest = 1609.540857\n",
      "bestIteration = 996\n",
      "\n",
      "4:\tloss: 1609.5408571\tbest: 1609.2067548 (3)\ttotal: 49.9s\tremaining: 20s\n",
      "\n",
      "bestTest = 1615.832576\n",
      "bestIteration = 994\n",
      "\n",
      "5:\tloss: 1615.8325757\tbest: 1609.2067548 (3)\ttotal: 59.9s\tremaining: 9.98s\n",
      "\n",
      "bestTest = 1621.31674\n",
      "bestIteration = 891\n",
      "\n",
      "6:\tloss: 1621.3167403\tbest: 1609.2067548 (3)\ttotal: 1m 9s\tremaining: 0us\n",
      "Estimating final quality...\n",
      "Training on fold [0/5]\n",
      "\n",
      "bestTest = 1607.416242\n",
      "bestIteration = 993\n",
      "\n",
      "Training on fold [1/5]\n",
      "\n",
      "bestTest = 1637.67309\n",
      "bestIteration = 973\n",
      "\n",
      "Training on fold [2/5]\n",
      "\n",
      "bestTest = 1607.839322\n",
      "bestIteration = 998\n",
      "\n",
      "Training on fold [3/5]\n",
      "\n",
      "bestTest = 1626.367518\n",
      "bestIteration = 986\n",
      "\n",
      "Training on fold [4/5]\n",
      "\n",
      "bestTest = 1610.510958\n",
      "bestIteration = 996\n",
      "\n",
      "Wall time: 2min 12s\n"
     ]
    }
   ],
   "source": [
    "%%time\n",
    "grid_search_result = cb_cv_cbe_scaled.grid_search(param_grid, \n",
    "                                                  Pool(features_train_cbe_scaled, target_train), \n",
    "                                                  plot=True,\n",
    "                                                  partition_random_seed=SEED,\n",
    "                                                  cv=5)"
   ]
  },
  {
   "cell_type": "markdown",
   "metadata": {},
   "source": [
    "Время обучения составило 149 сек., посмотрим значение метрики *RMSE*:"
   ]
  },
  {
   "cell_type": "code",
   "execution_count": 78,
   "metadata": {},
   "outputs": [
    {
     "name": "stdout",
     "output_type": "stream",
     "text": [
      "Wall time: 11 ms\n"
     ]
    },
    {
     "data": {
      "text/plain": [
       "1691.698870387341"
      ]
     },
     "execution_count": 78,
     "metadata": {},
     "output_type": "execute_result"
    }
   ],
   "source": [
    "%%time\n",
    "mean_squared_error(target_test, cb_cv_cbe_scaled.predict(test_pool_cbe_scaled)) ** .5"
   ]
  },
  {
   "cell_type": "markdown",
   "metadata": {},
   "source": [
    "Результат практически не изменился (увеличение *RMSE* на 5 евро)."
   ]
  },
  {
   "cell_type": "markdown",
   "metadata": {},
   "source": [
    "Приведем результаты обучения моделей градиентного бустинга CatBoost в таблице:"
   ]
  },
  {
   "cell_type": "markdown",
   "metadata": {},
   "source": [
    "|Особенности модели|Среднее *RMSE* на тесте, евро| Время обучения, сек.|  Скорость предсказания, мс |\n",
    "|-----------------|------------------------------|---------------------|----------------------------|\n",
    "|Признаки без кодировки и масштабирования| 1543.84 | 1082 | 72.1|\n",
    "|Кодирование с помощью CatBoostEncoder| 1686.62 |148 | 13|\n",
    "|CatBoostEncoder и масштабирование StandartScaler| 1691.70 | 149 | 11.5|"
   ]
  },
  {
   "cell_type": "markdown",
   "metadata": {},
   "source": [
    "Лучшее значение *RMSE* (1551.84 евро) на тестовой выборке достигнуто с использованием чистых признаков (без кодирования и масштабирования), при времени обучения в 1082 сек. Кодирование признаков дает значительное ускорение (7.31 раз) на CPU (на GPU по неясной мне причине модели обучались дольше), однако при этом страдает качество метрики (модель ошибается, в среднем, на 134.78 евро больше при кодировании признаков, без масштабирования)."
   ]
  },
  {
   "cell_type": "markdown",
   "metadata": {},
   "source": [
    "### LightGBM"
   ]
  },
  {
   "cell_type": "markdown",
   "metadata": {},
   "source": [
    "Запишем словарь с параметрами:"
   ]
  },
  {
   "cell_type": "code",
   "execution_count": 79,
   "metadata": {},
   "outputs": [],
   "source": [
    "param_lgb = {'objective':'regression',\n",
    "              'metric': 'rmse',\n",
    "              'verbose': -1,\n",
    "              'seed': SEED}"
   ]
  },
  {
   "cell_type": "markdown",
   "metadata": {},
   "source": [
    "Запустим LightGBM с 5-ти кратной кросс-валидацией на признаках без кодирования:"
   ]
  },
  {
   "cell_type": "code",
   "execution_count": 87,
   "metadata": {
    "scrolled": true
   },
   "outputs": [
    {
     "name": "stdout",
     "output_type": "stream",
     "text": [
      "RMSE mean: 1540.150\n",
      "Wall time: 10.7 s\n"
     ]
    }
   ],
   "source": [
    "%%time\n",
    "n_fold=5\n",
    "\n",
    "folds = KFold(n_splits=n_fold, shuffle=True, random_state=SEED)\n",
    "\n",
    "scores_RMSE = []\n",
    "\n",
    "for fold_n, (train_index, valid_index) in enumerate(folds.split(features_train, target_train)):\n",
    "    x_train, x_valid = features_train.iloc[train_index], features_train.iloc[valid_index] \n",
    "    y_train, y_valid = target_train.iloc[train_index], target_train.iloc[valid_index]\n",
    "\n",
    "    train_data = lgb.Dataset(x_train, \n",
    "                             y_train,\n",
    "                             categorical_feature=categorial, \n",
    "                             free_raw_data=False)\n",
    "    valid_data = lgb.Dataset(x_valid, \n",
    "                             y_valid,\n",
    "                             categorical_feature=categorial, \n",
    "                             free_raw_data=False)\n",
    "    \n",
    "    lightgb = lgb.train(param_lgb,\n",
    "                        train_set=train_data,\n",
    "                        valid_sets=valid_data,\n",
    "                        num_boost_round=1000,\n",
    "                        verbose_eval = False)\n",
    "    \n",
    "    scores_RMSE.append(mean_squared_error(y_valid, lightgb.predict(x_valid)) ** .5)\n",
    "\n",
    "print('RMSE mean: {:.3f}'.format(np.mean(scores_RMSE)))"
   ]
  },
  {
   "cell_type": "markdown",
   "metadata": {},
   "source": [
    "Время обучения 15.2 сек., средняя *RMSE* на кросс-валидации 1540.1 евро. Посмотрим *RMSE* на тесте:"
   ]
  },
  {
   "cell_type": "code",
   "execution_count": 88,
   "metadata": {},
   "outputs": [
    {
     "name": "stdout",
     "output_type": "stream",
     "text": [
      "Wall time: 309 ms\n"
     ]
    },
    {
     "data": {
      "text/plain": [
       "1517.6997759672372"
      ]
     },
     "execution_count": 88,
     "metadata": {},
     "output_type": "execute_result"
    }
   ],
   "source": [
    "%%time\n",
    "mean_squared_error(target_test, lightgb.predict(features_test)) ** .5"
   ]
  },
  {
   "cell_type": "markdown",
   "metadata": {},
   "source": [
    "На данный момент это самый быстрый и самый точный результат (обошел CatBoost с признаками без кодирования и масштабирования на 37.1 евро по качеству предсказания и оказался в 71 раз быстрее!)."
   ]
  },
  {
   "cell_type": "markdown",
   "metadata": {},
   "source": [
    "Запустим LightGBM с 5-ти кратной кросс-валидацией на признаках с кодированием:"
   ]
  },
  {
   "cell_type": "code",
   "execution_count": 89,
   "metadata": {
    "scrolled": true
   },
   "outputs": [
    {
     "name": "stdout",
     "output_type": "stream",
     "text": [
      "RMSE mean: 1606.988\n",
      "Wall time: 8.72 s\n"
     ]
    }
   ],
   "source": [
    "%%time\n",
    "n_fold=5\n",
    "\n",
    "folds = KFold(n_splits=n_fold, shuffle=True, random_state=SEED)\n",
    "\n",
    "scores_RMSE = []\n",
    "\n",
    "for fold_n, (train_index, valid_index) in enumerate(folds.split(features_train_cbe, target_train)):\n",
    "    x_train, x_valid = features_train_cbe.iloc[train_index], features_train_cbe.iloc[valid_index] \n",
    "    y_train, y_valid = target_train.iloc[train_index], target_train.iloc[valid_index]\n",
    "\n",
    "    train_data = lgb.Dataset(x_train, \n",
    "                             y_train)\n",
    "    valid_data = lgb.Dataset(x_valid, \n",
    "                             y_valid)\n",
    "    \n",
    "    lightgb_cbe = lgb.train(param_lgb,\n",
    "                        train_set=train_data,\n",
    "                        valid_sets=valid_data,\n",
    "                        num_boost_round=1000,\n",
    "                        verbose_eval = False)\n",
    "    \n",
    "    scores_RMSE.append(mean_squared_error(y_valid, lightgb_cbe.predict(x_valid)) ** .5)\n",
    "\n",
    "print('RMSE mean: {:.3f}'.format(np.mean(scores_RMSE)))"
   ]
  },
  {
   "cell_type": "markdown",
   "metadata": {},
   "source": [
    "Время обучения 14.6 сек., средняя *RMSE* на кросс-валидации 1607.0 евро. Посмотрим *RMSE* на тесте:"
   ]
  },
  {
   "cell_type": "code",
   "execution_count": 90,
   "metadata": {},
   "outputs": [
    {
     "name": "stdout",
     "output_type": "stream",
     "text": [
      "Wall time: 254 ms\n"
     ]
    },
    {
     "data": {
      "text/plain": [
       "1689.346140204138"
      ]
     },
     "execution_count": 90,
     "metadata": {},
     "output_type": "execute_result"
    }
   ],
   "source": [
    "%%time\n",
    "mean_squared_error(target_test, lightgb_cbe.predict(features_test_cbe)) ** .5"
   ]
  },
  {
   "cell_type": "markdown",
   "metadata": {},
   "source": [
    "Результат немного хуже (*RMSE* больше на 3 евро), чем у CatBoost с кодированными признаками, однако он получится в 10 раз быстрее."
   ]
  },
  {
   "cell_type": "markdown",
   "metadata": {},
   "source": [
    "Запустим LightGBM с 5-ти кратной кросс-валидацией на признаках с кодированием и масштабированием:"
   ]
  },
  {
   "cell_type": "code",
   "execution_count": 91,
   "metadata": {
    "scrolled": true
   },
   "outputs": [
    {
     "name": "stdout",
     "output_type": "stream",
     "text": [
      "RMSE mean: 1604.631\n",
      "Wall time: 8.78 s\n"
     ]
    }
   ],
   "source": [
    "%%time\n",
    "n_fold=5\n",
    "\n",
    "folds = KFold(n_splits=n_fold, shuffle=True, random_state=SEED)\n",
    "\n",
    "scores_RMSE = []\n",
    "\n",
    "for fold_n, (train_index, valid_index) in enumerate(folds.split(features_train_cbe_scaled, target_train)):\n",
    "    x_train, x_valid = features_train_cbe_scaled.iloc[train_index], features_train_cbe_scaled.iloc[valid_index] \n",
    "    y_train, y_valid = target_train.iloc[train_index], target_train.iloc[valid_index]\n",
    "\n",
    "    train_data = lgb.Dataset(x_train, \n",
    "                             y_train)\n",
    "    valid_data = lgb.Dataset(x_valid, \n",
    "                             y_valid)\n",
    "    \n",
    "    lightgb_cbe_scaled = lgb.train(param_lgb,\n",
    "                        train_set=train_data,\n",
    "                        valid_sets=valid_data,\n",
    "                        num_boost_round=1000,\n",
    "                        verbose_eval = False)\n",
    "    \n",
    "    scores_RMSE.append(mean_squared_error(y_valid, lightgb_cbe_scaled.predict(x_valid)) ** .5)\n",
    "\n",
    "print('RMSE mean: {:.3f}'.format(np.mean(scores_RMSE)))"
   ]
  },
  {
   "cell_type": "markdown",
   "metadata": {},
   "source": [
    "Время обучения 14.6 сек., средняя *RMSE* на кросс-валидации 1607.0 евро. Посмотрим *RMSE* на тесте:"
   ]
  },
  {
   "cell_type": "code",
   "execution_count": 92,
   "metadata": {},
   "outputs": [
    {
     "name": "stdout",
     "output_type": "stream",
     "text": [
      "Wall time: 244 ms\n"
     ]
    },
    {
     "data": {
      "text/plain": [
       "1686.7026291656846"
      ]
     },
     "execution_count": 92,
     "metadata": {},
     "output_type": "execute_result"
    }
   ],
   "source": [
    "%%time\n",
    "mean_squared_error(target_test, lightgb_cbe_scaled.predict(features_test_cbe_scaled)) ** .5"
   ]
  },
  {
   "cell_type": "markdown",
   "metadata": {},
   "source": [
    "С масштабированием LightGBM немного вышел вперед (*RMSE* меньше на 5 евро) относительно CatBoost с кодарованными с масштабированными признаками. Время обучения также превосходит CatBoost в 10 раз."
   ]
  },
  {
   "cell_type": "markdown",
   "metadata": {},
   "source": [
    "Приведем результаты обучения моделей градиентного бустинга LightGBM в таблице:"
   ]
  },
  {
   "cell_type": "markdown",
   "metadata": {},
   "source": [
    "|Особенности модели|Среднее *RMSE* на тесте, евро| Время обучения, сек.| Скорость предсказания, мс |\n",
    "|-----------------|------------------------------|---------------------|---------------------------|\n",
    "|Признаки без кодировки и масштабирования| 1517.69 | 15.2 | 387|\n",
    "|Кодирование с помощью CatBoostEncoder| 1689.34 |14.6 | 346|\n",
    "|CatBoostEncoder и масштабирование StandartScaler| 1686.70 | 14.7 |295|"
   ]
  },
  {
   "cell_type": "markdown",
   "metadata": {},
   "source": [
    "Лучшее значение *RMSE* (1551.84 евро) на тестовой выборке достигнуто с использованием чистых признаков (без кодирования и масштабирования), при времени обучения в 1082 сек. Кодирование признаков дает значительное ускорение (7.31 раз) на CPU (на GPU по неясной мне причине модели обучались дольше), однако при этом страдает качество метрики (модель ошибается, в среднем, на 134.78 евро больше при кодировании признаков, без масштабирования)."
   ]
  },
  {
   "cell_type": "markdown",
   "metadata": {},
   "source": [
    "## Анализ моделей <a id='id_3'></a>"
   ]
  },
  {
   "cell_type": "markdown",
   "metadata": {},
   "source": [
    "Представим в таблице модели, их особенности и целевые показатели:"
   ]
  },
  {
   "cell_type": "markdown",
   "metadata": {},
   "source": [
    "|Модель|Особенности модели|Среднее *RMSE* на тесте, евро| Время обучения, сек.|  Скорость предсказания, мс |\n",
    "|------|-----------|------------------------------|---------------------|----------------------------|\n",
    "|Ridge|CatBoostEncoder и масштабирование StandartScaler|2725.50| 3| 4|\n",
    "|Random Forest|CatBoostEncoder и масштабирование StandartScaler| 1720.03| 122 | 635\n",
    "||Признаки без кодировки и масштабирования| 1551.84 | 1082 | 72.1|\n",
    "|CatBoost|Кодирование с помощью CatBoostEncoder| 1686.62 |148 | 13|\n",
    "||CatBoostEncoder и масштабирование StandartScaler| 1691.70 | 149 | 11.5|\n",
    "||Признаки без кодировки и масштабирования| 1517.69 | 15.2 | 387|\n",
    "|LightGBM|Кодирование с помощью CatBoostEncoder| 1689.34 |14.6 | 346|\n",
    "||CatBoostEncoder и масштабирование StandartScaler| 1686.70 | 14.7 |295|"
   ]
  },
  {
   "cell_type": "markdown",
   "metadata": {},
   "source": [
    "Лучшей моделью по качеству предсказания оказалась модель градиентного бутсинга LightGBM с признаками без кодирования и масштабирования (значение *RMSE* 1517.69 евро), эта же модель имеет самое непродолжительное время обучения (гребнеевая регрессия не в счет) - 15.2. Самой близкой к ней оказалась модель CatBoost с признакми без кодирования и масштабирования, значение *RMSE* - 1551.84, однако время обучения CatBoost оказалось в 71 раз продолжительнее, нежели LightGBM. CatBoost в свою очередь может похватстаться высокой скоростю предсказания (в 5 раз быстрее)."
   ]
  },
  {
   "cell_type": "markdown",
   "metadata": {},
   "source": [
    "Интересно, что при кодировании категориальных признаков время обучения моделей многократно снижается."
   ]
  },
  {
   "cell_type": "markdown",
   "metadata": {},
   "source": [
    "## Общий вывод <a id='id_4'></a>"
   ]
  },
  {
   "cell_type": "markdown",
   "metadata": {},
   "source": [
    "В ходе разработки проекта данные были загружены, предобработаны и подготовлены для моделей. При предобработке даннных:\n",
    "\n",
    "1. Названия признаков были приведены в унифицированный вид: все в нижнем регистре;\n",
    "\n",
    "2. В датасете имелось большое число пропусков в категориальных признаках, шаблон пропусков носит случайный характер, скорее всего эти параметры просто не были указаны в объявлениях. Пропуски были заполнены значением-заглушкой `no_data`;\n",
    "\n",
    "3. В датафрейме найдено и устранено 4 дубликата;\n",
    "\n",
    "4. Целевой признак price содержал аномальные значения нулевой цены (доля 3.0%), такие значения были отброшены. Также в датасете встречаются аномально низкие значения цены, которые были проигнорированы, так как после изучения объявлений продаж автомобилей в Европе, цена в 1 евро не кажется такой уж аномальной. В ссылке представлены объявления о продаже авто в Германии, где минимальная цена составляет 1 евро и имеется достаточно много автомобилей с низкой ценой (Источник: [сайт].URL:https://www.mobile.de/ru/категория/автомобиль/vhc:car,pgn:1,pgs:10,srt:price,sro:asc,prx:1000).\n",
    "\n",
    "5. Признак registrationyear содержал аномальные значения (год регистрации 1000, 9999), их доля около 0.1%, такие значения были отброшены;\n",
    "\n",
    "6. Признак power содержал аномальные значения нулевой мощности атомобиля (доля аномалий 11.35%). Так как доля аномалий довольно высока, значения с нулями были заменены на предсказания с помощью метода k ближайших соседей;\n",
    "\n",
    "7. Признак numberofpictures содержит в себе лишь нули и не несет в себе никакой полезной информации для моделей, он был отброшен; \n",
    "\n",
    "8. Признаки datecrawled и lastseen вряд-ли принесут полезной информации для модели, так как дипазон их изменения ограничен одним месяцем, они были отброшены; \n",
    "\n",
    "9. Из признака datecreated был получен год и месяц создания объявления и добавлен к остальным признакам при моделиролвании;\n",
    "\n",
    "10. Тип данных категориальных признаков был изменен на category, чтобы повысить скорость CatBoost с набором признаков без кодирования и масштабирования.\n",
    "\n",
    "После предобработки данных было отброшено менее 4% данных.\n",
    "\n",
    "В проекте были построены модели:\n",
    "\n",
    "1. Гребневая регрессия из библиотеки `sklearn` (*Ridge regression*), которая обучалась на закодированных признаках с помощью `CatBoostEncoder` и масштабированных с помощью стандартизации;\n",
    "\n",
    "2. Случайный лес из библиотеки `sklearn`, который обучалась на закодированных признаках с помощью `CatBoostEncoder` и масштабированных с помощью стандартизации;\n",
    "\n",
    "3. Градиентный бустинг из библиотек `LightGBM` и `CatBoost`, которые обучалась на исходных признаках, закодированных признаках с помощью `CatBoostEncoder`, а также на закодированных признаках с помощью `CatBoostEncoder` и масштабированных с помощью стандартизации.\n",
    "\n",
    "Лучшей моделью по качеству предсказания оказалась модель градиентного бутсинга LightGBM с признаками без кодирования и масштабирования (значение RMSE 1517.69 евро), эта же модель имеет самое непродолжительное время обучения (гребнеевая регрессия не в счет) - 15.2. Самой близкой к ней оказалась модель CatBoost с признакми без кодирования и масштабирования, значение RMSE - 1551.84, однако время обучения CatBoost оказалось в 71 раз продолжительнее, нежели LightGBM. CatBoost в свою очередь может похватстаться высокой скоростю предсказания (в 5 раз быстрее).\n",
    "\n",
    "Интересно, что при кодировании категориальных признаков время обучения моделей многократно снижается."
   ]
  },
  {
   "cell_type": "markdown",
   "metadata": {},
   "source": [
    "## Чек-лист проверки"
   ]
  },
  {
   "cell_type": "markdown",
   "metadata": {},
   "source": [
    "Поставьте 'x' в выполненных пунктах. Далее нажмите Shift+Enter."
   ]
  },
  {
   "cell_type": "markdown",
   "metadata": {},
   "source": [
    "- [x]  Jupyter Notebook открыт\n",
    "- [x]  Весь код выполняется без ошибок\n",
    "- [x]  Ячейки с кодом расположены в порядке исполнения\n",
    "- [x]  Выполнена загрузка и подготовка данных\n",
    "- [x]  Выполнено обучение моделей\n",
    "- [x]  Есть анализ скорости работы и качества моделей"
   ]
  }
 ],
 "metadata": {
  "ExecuteTimeLog": [
   {
    "duration": 524,
    "start_time": "2022-01-15T08:58:12.456Z"
   },
   {
    "duration": 1737,
    "start_time": "2022-01-15T08:58:24.921Z"
   },
   {
    "duration": 26,
    "start_time": "2022-01-15T08:58:30.833Z"
   },
   {
    "duration": 113,
    "start_time": "2022-01-15T08:58:41.442Z"
   },
   {
    "duration": 233,
    "start_time": "2022-01-15T09:38:49.221Z"
   },
   {
    "duration": 633,
    "start_time": "2022-01-15T09:38:52.509Z"
   },
   {
    "duration": 1873,
    "start_time": "2022-01-15T09:38:53.143Z"
   },
   {
    "duration": 24,
    "start_time": "2022-01-15T09:38:55.018Z"
   },
   {
    "duration": 13,
    "start_time": "2022-01-15T09:38:58.327Z"
   },
   {
    "duration": 1609,
    "start_time": "2022-01-15T09:40:35.746Z"
   },
   {
    "duration": 12,
    "start_time": "2022-01-15T09:40:38.827Z"
   },
   {
    "duration": 90,
    "start_time": "2022-01-15T09:40:40.720Z"
   },
   {
    "duration": 1492,
    "start_time": "2022-01-15T09:42:10.018Z"
   },
   {
    "duration": 13,
    "start_time": "2022-01-15T09:42:11.512Z"
   },
   {
    "duration": 92,
    "start_time": "2022-01-15T09:42:11.569Z"
   },
   {
    "duration": 1454,
    "start_time": "2022-01-15T09:46:55.892Z"
   },
   {
    "duration": 14,
    "start_time": "2022-01-15T09:46:58.031Z"
   },
   {
    "duration": 82,
    "start_time": "2022-01-15T09:46:59.122Z"
   },
   {
    "duration": 219,
    "start_time": "2022-01-15T09:48:52.192Z"
   },
   {
    "duration": 254,
    "start_time": "2022-01-15T09:48:55.255Z"
   },
   {
    "duration": 242,
    "start_time": "2022-01-15T09:48:58.724Z"
   },
   {
    "duration": 238,
    "start_time": "2022-01-15T09:49:23.938Z"
   },
   {
    "duration": 96,
    "start_time": "2022-01-15T09:53:08.465Z"
   },
   {
    "duration": 10,
    "start_time": "2022-01-15T10:05:19.179Z"
   },
   {
    "duration": 8,
    "start_time": "2022-01-15T10:05:28.971Z"
   },
   {
    "duration": 203,
    "start_time": "2022-01-15T10:07:00.201Z"
   },
   {
    "duration": 3,
    "start_time": "2022-01-15T10:07:01.909Z"
   },
   {
    "duration": 5,
    "start_time": "2022-01-15T10:07:02.337Z"
   },
   {
    "duration": 3,
    "start_time": "2022-01-15T10:07:10.421Z"
   },
   {
    "duration": 4,
    "start_time": "2022-01-15T10:07:11.510Z"
   },
   {
    "duration": 101,
    "start_time": "2022-01-15T10:07:26.654Z"
   },
   {
    "duration": 201,
    "start_time": "2022-01-15T10:07:44.630Z"
   },
   {
    "duration": 233,
    "start_time": "2022-01-15T10:07:55.069Z"
   },
   {
    "duration": 28,
    "start_time": "2022-01-15T10:08:03.093Z"
   },
   {
    "duration": 154,
    "start_time": "2022-01-15T10:09:13.533Z"
   },
   {
    "duration": 418,
    "start_time": "2022-01-15T10:09:23.136Z"
   },
   {
    "duration": 387,
    "start_time": "2022-01-15T10:09:42.964Z"
   },
   {
    "duration": 477,
    "start_time": "2022-01-15T10:09:46.806Z"
   },
   {
    "duration": 12,
    "start_time": "2022-01-15T10:10:10.669Z"
   },
   {
    "duration": 192,
    "start_time": "2022-01-15T10:10:14.099Z"
   },
   {
    "duration": 197,
    "start_time": "2022-01-15T10:10:24.343Z"
   },
   {
    "duration": 72,
    "start_time": "2022-01-15T10:10:29.463Z"
   },
   {
    "duration": 240,
    "start_time": "2022-01-15T10:10:38.191Z"
   },
   {
    "duration": 249,
    "start_time": "2022-01-15T10:43:20.076Z"
   },
   {
    "duration": 10,
    "start_time": "2022-01-15T10:43:30.421Z"
   },
   {
    "duration": 28,
    "start_time": "2022-01-15T10:43:54.265Z"
   },
   {
    "duration": 198,
    "start_time": "2022-01-15T10:44:05.250Z"
   },
   {
    "duration": 71,
    "start_time": "2022-01-15T10:44:13.088Z"
   },
   {
    "duration": 124,
    "start_time": "2022-01-15T10:44:15.063Z"
   },
   {
    "duration": 190,
    "start_time": "2022-01-15T10:44:19.723Z"
   },
   {
    "duration": 14,
    "start_time": "2022-01-15T10:44:21.862Z"
   },
   {
    "duration": 15,
    "start_time": "2022-01-15T10:44:26.620Z"
   },
   {
    "duration": 11,
    "start_time": "2022-01-15T10:44:35.306Z"
   },
   {
    "duration": 14,
    "start_time": "2022-01-15T10:45:03.358Z"
   },
   {
    "duration": 8,
    "start_time": "2022-01-15T10:45:53.901Z"
   },
   {
    "duration": 23,
    "start_time": "2022-01-15T10:46:01.990Z"
   },
   {
    "duration": 7,
    "start_time": "2022-01-15T10:46:47.220Z"
   },
   {
    "duration": 6,
    "start_time": "2022-01-15T10:47:29.104Z"
   },
   {
    "duration": 308,
    "start_time": "2022-01-15T18:34:20.033Z"
   },
   {
    "duration": 742,
    "start_time": "2022-01-15T18:34:23.372Z"
   },
   {
    "duration": 4,
    "start_time": "2022-01-15T18:34:25.670Z"
   },
   {
    "duration": 24,
    "start_time": "2022-01-15T18:34:29.714Z"
   },
   {
    "duration": 254,
    "start_time": "2022-01-15T18:35:27.009Z"
   },
   {
    "duration": 182,
    "start_time": "2022-01-15T18:35:33.776Z"
   },
   {
    "duration": 199,
    "start_time": "2022-01-15T18:35:40.073Z"
   },
   {
    "duration": 202,
    "start_time": "2022-01-15T18:38:20.707Z"
   },
   {
    "duration": 3,
    "start_time": "2022-01-15T18:39:15.220Z"
   },
   {
    "duration": 4,
    "start_time": "2022-01-15T18:39:21.728Z"
   },
   {
    "duration": 2,
    "start_time": "2022-01-15T18:39:27.894Z"
   },
   {
    "duration": 3,
    "start_time": "2022-01-15T18:39:45.771Z"
   },
   {
    "duration": 270,
    "start_time": "2022-01-15T18:41:31.326Z"
   },
   {
    "duration": 107,
    "start_time": "2022-01-15T18:41:41.828Z"
   },
   {
    "duration": 78,
    "start_time": "2022-01-15T18:41:48.402Z"
   },
   {
    "duration": 79,
    "start_time": "2022-01-15T18:41:51.395Z"
   },
   {
    "duration": 73,
    "start_time": "2022-01-15T18:42:42.624Z"
   },
   {
    "duration": 30,
    "start_time": "2022-01-15T18:50:04.504Z"
   },
   {
    "duration": 32,
    "start_time": "2022-01-15T18:50:27.929Z"
   },
   {
    "duration": 22,
    "start_time": "2022-01-15T18:50:31.449Z"
   },
   {
    "duration": 88,
    "start_time": "2022-01-15T18:50:41.425Z"
   },
   {
    "duration": 31,
    "start_time": "2022-01-15T18:51:01.021Z"
   },
   {
    "duration": 94,
    "start_time": "2022-01-15T18:51:05.801Z"
   },
   {
    "duration": 32,
    "start_time": "2022-01-15T18:51:14.265Z"
   },
   {
    "duration": 89,
    "start_time": "2022-01-15T18:51:16.078Z"
   },
   {
    "duration": 31,
    "start_time": "2022-01-15T18:51:31.658Z"
   },
   {
    "duration": 97,
    "start_time": "2022-01-15T18:51:32.072Z"
   },
   {
    "duration": 33,
    "start_time": "2022-01-15T18:51:39.814Z"
   },
   {
    "duration": 86,
    "start_time": "2022-01-15T18:51:40.901Z"
   },
   {
    "duration": 31,
    "start_time": "2022-01-15T18:51:48.701Z"
   },
   {
    "duration": 86,
    "start_time": "2022-01-15T18:51:49.036Z"
   },
   {
    "duration": 34,
    "start_time": "2022-01-15T18:51:57.606Z"
   },
   {
    "duration": 96,
    "start_time": "2022-01-15T18:51:58.104Z"
   },
   {
    "duration": 31,
    "start_time": "2022-01-15T18:52:03.364Z"
   },
   {
    "duration": 153,
    "start_time": "2022-01-15T18:52:04.183Z"
   },
   {
    "duration": 32,
    "start_time": "2022-01-15T18:52:12.199Z"
   },
   {
    "duration": 88,
    "start_time": "2022-01-15T18:52:13.225Z"
   },
   {
    "duration": 32,
    "start_time": "2022-01-15T18:52:16.313Z"
   },
   {
    "duration": 37,
    "start_time": "2022-01-15T18:52:19.513Z"
   },
   {
    "duration": 93,
    "start_time": "2022-01-15T18:52:20.523Z"
   },
   {
    "duration": 31,
    "start_time": "2022-01-15T18:52:27.766Z"
   },
   {
    "duration": 88,
    "start_time": "2022-01-15T18:52:28.109Z"
   },
   {
    "duration": 35,
    "start_time": "2022-01-15T18:52:34.968Z"
   },
   {
    "duration": 91,
    "start_time": "2022-01-15T18:52:35.307Z"
   },
   {
    "duration": 32,
    "start_time": "2022-01-15T18:52:43.360Z"
   },
   {
    "duration": 91,
    "start_time": "2022-01-15T18:52:43.690Z"
   },
   {
    "duration": 15,
    "start_time": "2022-01-15T18:53:02.158Z"
   },
   {
    "duration": 34,
    "start_time": "2022-01-15T18:53:33.164Z"
   },
   {
    "duration": 91,
    "start_time": "2022-01-15T18:53:33.554Z"
   },
   {
    "duration": 15,
    "start_time": "2022-01-15T18:53:38.993Z"
   },
   {
    "duration": 32,
    "start_time": "2022-01-15T18:54:08.893Z"
   },
   {
    "duration": 94,
    "start_time": "2022-01-15T18:54:09.206Z"
   },
   {
    "duration": 14,
    "start_time": "2022-01-15T18:54:13.472Z"
   },
   {
    "duration": 33,
    "start_time": "2022-01-15T18:54:40.067Z"
   },
   {
    "duration": 94,
    "start_time": "2022-01-15T18:54:40.521Z"
   },
   {
    "duration": 18,
    "start_time": "2022-01-15T18:54:45.531Z"
   },
   {
    "duration": 548,
    "start_time": "2022-01-15T18:56:43.803Z"
   },
   {
    "duration": 1899,
    "start_time": "2022-01-15T18:56:44.353Z"
   },
   {
    "duration": 19,
    "start_time": "2022-01-15T18:56:46.254Z"
   },
   {
    "duration": 97,
    "start_time": "2022-01-15T18:56:46.274Z"
   },
   {
    "duration": 268,
    "start_time": "2022-01-15T18:56:46.375Z"
   },
   {
    "duration": 3,
    "start_time": "2022-01-15T18:56:46.644Z"
   },
   {
    "duration": 29,
    "start_time": "2022-01-15T18:56:46.649Z"
   },
   {
    "duration": 109,
    "start_time": "2022-01-15T18:56:46.681Z"
   },
   {
    "duration": 10,
    "start_time": "2022-01-15T18:56:46.792Z"
   },
   {
    "duration": 41,
    "start_time": "2022-01-15T18:56:46.804Z"
   },
   {
    "duration": 27,
    "start_time": "2022-01-15T18:56:46.846Z"
   },
   {
    "duration": 16,
    "start_time": "2022-01-15T18:56:46.874Z"
   },
   {
    "duration": 284,
    "start_time": "2022-01-15T18:56:46.891Z"
   },
   {
    "duration": 90,
    "start_time": "2022-01-15T18:56:47.176Z"
   },
   {
    "duration": 3,
    "start_time": "2022-01-15T18:56:47.267Z"
   },
   {
    "duration": 6,
    "start_time": "2022-01-15T18:56:47.272Z"
   },
   {
    "duration": 47,
    "start_time": "2022-01-15T18:56:47.280Z"
   },
   {
    "duration": 100,
    "start_time": "2022-01-15T18:57:00.564Z"
   },
   {
    "duration": 3941,
    "start_time": "2022-01-15T19:01:52.890Z"
   },
   {
    "duration": 199,
    "start_time": "2022-01-15T19:02:17.924Z"
   },
   {
    "duration": 624,
    "start_time": "2022-01-15T19:02:27.532Z"
   },
   {
    "duration": 727,
    "start_time": "2022-01-15T19:03:01.098Z"
   },
   {
    "duration": 672,
    "start_time": "2022-01-15T19:03:07.403Z"
   },
   {
    "duration": 1184,
    "start_time": "2022-01-15T19:03:23.288Z"
   },
   {
    "duration": 75,
    "start_time": "2022-01-15T19:04:03.430Z"
   },
   {
    "duration": 598,
    "start_time": "2022-01-15T19:04:08.889Z"
   },
   {
    "duration": 641,
    "start_time": "2022-01-15T19:04:15.325Z"
   },
   {
    "duration": 613,
    "start_time": "2022-01-15T19:04:23.795Z"
   },
   {
    "duration": 712,
    "start_time": "2022-01-15T19:04:28.458Z"
   },
   {
    "duration": 781,
    "start_time": "2022-01-15T19:04:31.718Z"
   },
   {
    "duration": 591,
    "start_time": "2022-01-15T19:05:36.091Z"
   },
   {
    "duration": 700,
    "start_time": "2022-01-15T19:06:10.651Z"
   },
   {
    "duration": 578,
    "start_time": "2022-01-15T19:06:14.836Z"
   },
   {
    "duration": 604,
    "start_time": "2022-01-15T19:06:19.251Z"
   },
   {
    "duration": 650,
    "start_time": "2022-01-15T19:06:25.325Z"
   },
   {
    "duration": 762,
    "start_time": "2022-01-15T19:06:32.982Z"
   },
   {
    "duration": 636,
    "start_time": "2022-01-15T19:11:38.582Z"
   },
   {
    "duration": 678,
    "start_time": "2022-01-15T19:12:01.915Z"
   },
   {
    "duration": 790,
    "start_time": "2022-01-15T19:12:05.941Z"
   },
   {
    "duration": 643,
    "start_time": "2022-01-15T19:12:11.484Z"
   },
   {
    "duration": 885,
    "start_time": "2022-01-15T19:12:44.662Z"
   },
   {
    "duration": 718,
    "start_time": "2022-01-15T19:12:50.312Z"
   },
   {
    "duration": 752,
    "start_time": "2022-01-15T19:15:29.802Z"
   },
   {
    "duration": 729,
    "start_time": "2022-01-15T19:15:37.635Z"
   },
   {
    "duration": 60081,
    "start_time": "2022-01-15T19:25:13.452Z"
   },
   {
    "duration": 60445,
    "start_time": "2022-01-15T19:26:36.344Z"
   },
   {
    "duration": 627,
    "start_time": "2022-01-15T19:37:34.858Z"
   },
   {
    "duration": 617,
    "start_time": "2022-01-15T19:37:50.801Z"
   },
   {
    "duration": 4656,
    "start_time": "2022-01-15T19:39:07.103Z"
   },
   {
    "duration": 3502,
    "start_time": "2022-01-15T19:39:19.871Z"
   },
   {
    "duration": 789,
    "start_time": "2022-01-15T19:39:22.589Z"
   },
   {
    "duration": 781,
    "start_time": "2022-01-15T19:39:22.597Z"
   },
   {
    "duration": 780,
    "start_time": "2022-01-15T19:39:22.599Z"
   },
   {
    "duration": 780,
    "start_time": "2022-01-15T19:39:22.600Z"
   },
   {
    "duration": 780,
    "start_time": "2022-01-15T19:39:22.601Z"
   },
   {
    "duration": 779,
    "start_time": "2022-01-15T19:39:22.603Z"
   },
   {
    "duration": 779,
    "start_time": "2022-01-15T19:39:22.604Z"
   },
   {
    "duration": 778,
    "start_time": "2022-01-15T19:39:22.606Z"
   },
   {
    "duration": 777,
    "start_time": "2022-01-15T19:39:22.608Z"
   },
   {
    "duration": 250,
    "start_time": "2022-01-15T19:39:25.593Z"
   },
   {
    "duration": 264,
    "start_time": "2022-01-15T19:39:25.882Z"
   },
   {
    "duration": 215,
    "start_time": "2022-01-15T19:39:26.477Z"
   },
   {
    "duration": 2683,
    "start_time": "2022-01-15T19:39:30.787Z"
   },
   {
    "duration": 789,
    "start_time": "2022-01-15T19:39:32.684Z"
   },
   {
    "duration": 782,
    "start_time": "2022-01-15T19:39:32.692Z"
   },
   {
    "duration": 781,
    "start_time": "2022-01-15T19:39:32.694Z"
   },
   {
    "duration": 779,
    "start_time": "2022-01-15T19:39:32.696Z"
   },
   {
    "duration": 779,
    "start_time": "2022-01-15T19:39:32.697Z"
   },
   {
    "duration": 778,
    "start_time": "2022-01-15T19:39:32.699Z"
   },
   {
    "duration": 778,
    "start_time": "2022-01-15T19:39:32.700Z"
   },
   {
    "duration": 4016,
    "start_time": "2022-01-15T19:39:52.844Z"
   },
   {
    "duration": 4220,
    "start_time": "2022-01-15T19:39:57.957Z"
   },
   {
    "duration": 788,
    "start_time": "2022-01-15T19:40:01.392Z"
   },
   {
    "duration": 782,
    "start_time": "2022-01-15T19:40:01.400Z"
   },
   {
    "duration": 779,
    "start_time": "2022-01-15T19:40:01.404Z"
   },
   {
    "duration": 779,
    "start_time": "2022-01-15T19:40:01.406Z"
   },
   {
    "duration": 779,
    "start_time": "2022-01-15T19:40:01.407Z"
   },
   {
    "duration": 779,
    "start_time": "2022-01-15T19:40:01.409Z"
   },
   {
    "duration": 779,
    "start_time": "2022-01-15T19:40:01.410Z"
   },
   {
    "duration": 779,
    "start_time": "2022-01-15T19:40:01.412Z"
   },
   {
    "duration": 779,
    "start_time": "2022-01-15T19:40:01.413Z"
   },
   {
    "duration": 779,
    "start_time": "2022-01-15T19:40:01.415Z"
   },
   {
    "duration": 3818,
    "start_time": "2022-01-15T19:40:18.288Z"
   },
   {
    "duration": 4802,
    "start_time": "2022-01-15T19:40:36.275Z"
   },
   {
    "duration": 1708,
    "start_time": "2022-01-15T19:40:47.155Z"
   },
   {
    "duration": 16,
    "start_time": "2022-01-15T19:40:48.865Z"
   },
   {
    "duration": 95,
    "start_time": "2022-01-15T19:40:48.882Z"
   },
   {
    "duration": 266,
    "start_time": "2022-01-15T19:40:48.979Z"
   },
   {
    "duration": 3,
    "start_time": "2022-01-15T19:40:49.247Z"
   },
   {
    "duration": 7,
    "start_time": "2022-01-15T19:40:49.252Z"
   },
   {
    "duration": 100,
    "start_time": "2022-01-15T19:40:49.947Z"
   },
   {
    "duration": 12,
    "start_time": "2022-01-15T19:40:51.713Z"
   },
   {
    "duration": 16,
    "start_time": "2022-01-15T19:40:52.006Z"
   },
   {
    "duration": 5,
    "start_time": "2022-01-15T19:40:52.524Z"
   },
   {
    "duration": 6,
    "start_time": "2022-01-15T19:40:52.862Z"
   },
   {
    "duration": 3,
    "start_time": "2022-01-15T19:41:17.567Z"
   },
   {
    "duration": 3,
    "start_time": "2022-01-15T19:41:18.503Z"
   },
   {
    "duration": 48,
    "start_time": "2022-01-15T19:41:19.044Z"
   },
   {
    "duration": 99,
    "start_time": "2022-01-15T19:41:19.606Z"
   },
   {
    "duration": 707,
    "start_time": "2022-01-15T19:41:20.576Z"
   },
   {
    "duration": 637,
    "start_time": "2022-01-15T19:41:22.859Z"
   },
   {
    "duration": 47,
    "start_time": "2022-01-15T19:41:52.617Z"
   },
   {
    "duration": 91,
    "start_time": "2022-01-15T19:41:53.474Z"
   },
   {
    "duration": 39,
    "start_time": "2022-01-15T19:42:04.708Z"
   },
   {
    "duration": 107,
    "start_time": "2022-01-15T19:42:05.398Z"
   },
   {
    "duration": 741,
    "start_time": "2022-01-15T19:42:10.200Z"
   },
   {
    "duration": 727,
    "start_time": "2022-01-15T19:42:13.088Z"
   },
   {
    "duration": 648,
    "start_time": "2022-01-15T19:43:19.095Z"
   },
   {
    "duration": 28,
    "start_time": "2022-01-15T19:43:49.249Z"
   },
   {
    "duration": 25,
    "start_time": "2022-01-15T19:44:47.043Z"
   },
   {
    "duration": 40,
    "start_time": "2022-01-15T19:46:57.139Z"
   },
   {
    "duration": 81,
    "start_time": "2022-01-15T19:47:02.342Z"
   },
   {
    "duration": 216,
    "start_time": "2022-01-15T19:48:17.801Z"
   },
   {
    "duration": 75,
    "start_time": "2022-01-15T19:48:27.163Z"
   },
   {
    "duration": 1693,
    "start_time": "2022-01-15T19:49:18.982Z"
   },
   {
    "duration": 197,
    "start_time": "2022-01-15T19:52:44.189Z"
   },
   {
    "duration": 145,
    "start_time": "2022-01-15T19:52:51.396Z"
   },
   {
    "duration": 118,
    "start_time": "2022-01-15T19:53:02.612Z"
   },
   {
    "duration": 5378,
    "start_time": "2022-01-15T19:53:17.083Z"
   },
   {
    "duration": 1838,
    "start_time": "2022-01-15T19:53:22.464Z"
   },
   {
    "duration": 16,
    "start_time": "2022-01-15T19:53:24.304Z"
   },
   {
    "duration": 93,
    "start_time": "2022-01-15T19:53:24.322Z"
   },
   {
    "duration": 262,
    "start_time": "2022-01-15T19:53:24.417Z"
   },
   {
    "duration": 2,
    "start_time": "2022-01-15T19:53:24.681Z"
   },
   {
    "duration": 7,
    "start_time": "2022-01-15T19:53:24.685Z"
   },
   {
    "duration": 115,
    "start_time": "2022-01-15T19:53:24.693Z"
   },
   {
    "duration": 11,
    "start_time": "2022-01-15T19:53:24.810Z"
   },
   {
    "duration": 26,
    "start_time": "2022-01-15T19:53:24.823Z"
   },
   {
    "duration": 5,
    "start_time": "2022-01-15T19:53:24.851Z"
   },
   {
    "duration": 7,
    "start_time": "2022-01-15T19:53:24.858Z"
   },
   {
    "duration": 8,
    "start_time": "2022-01-15T19:53:24.866Z"
   },
   {
    "duration": 275,
    "start_time": "2022-01-15T19:53:24.875Z"
   },
   {
    "duration": 74,
    "start_time": "2022-01-15T19:53:25.152Z"
   },
   {
    "duration": 14,
    "start_time": "2022-01-15T19:53:25.227Z"
   },
   {
    "duration": 6,
    "start_time": "2022-01-15T19:53:25.242Z"
   },
   {
    "duration": 44,
    "start_time": "2022-01-15T19:53:25.249Z"
   },
   {
    "duration": 106,
    "start_time": "2022-01-15T19:53:25.295Z"
   },
   {
    "duration": 767,
    "start_time": "2022-01-15T19:53:25.402Z"
   },
   {
    "duration": 663,
    "start_time": "2022-01-15T19:53:26.170Z"
   },
   {
    "duration": 665,
    "start_time": "2022-01-15T19:53:26.835Z"
   },
   {
    "duration": 55,
    "start_time": "2022-01-15T19:53:27.502Z"
   },
   {
    "duration": 89,
    "start_time": "2022-01-15T19:53:27.559Z"
   },
   {
    "duration": 1738,
    "start_time": "2022-01-15T19:53:27.649Z"
   },
   {
    "duration": 131,
    "start_time": "2022-01-15T19:53:44.614Z"
   },
   {
    "duration": 4567,
    "start_time": "2022-01-15T19:56:46.847Z"
   },
   {
    "duration": 4859,
    "start_time": "2022-01-15T19:58:45.732Z"
   },
   {
    "duration": 4,
    "start_time": "2022-01-15T20:00:07.666Z"
   },
   {
    "duration": 346,
    "start_time": "2022-01-15T20:00:42.013Z"
   },
   {
    "duration": 3563,
    "start_time": "2022-01-15T20:00:50.874Z"
   },
   {
    "duration": 33828,
    "start_time": "2022-01-15T20:01:15.663Z"
   },
   {
    "duration": 35000,
    "start_time": "2022-01-15T20:02:06.167Z"
   },
   {
    "duration": 31,
    "start_time": "2022-01-15T20:04:00.043Z"
   },
   {
    "duration": 1014,
    "start_time": "2022-01-15T20:04:23.579Z"
   },
   {
    "duration": 1014,
    "start_time": "2022-01-15T20:04:29.168Z"
   },
   {
    "duration": 29,
    "start_time": "2022-01-15T20:04:36.256Z"
   },
   {
    "duration": 20,
    "start_time": "2022-01-15T20:04:39.641Z"
   },
   {
    "duration": 927,
    "start_time": "2022-01-15T20:04:52.180Z"
   },
   {
    "duration": 21,
    "start_time": "2022-01-15T20:05:06.928Z"
   },
   {
    "duration": 30023,
    "start_time": "2022-01-15T20:06:43.087Z"
   },
   {
    "duration": 3715,
    "start_time": "2022-01-15T20:07:29.936Z"
   },
   {
    "duration": 91,
    "start_time": "2022-01-15T20:07:39.887Z"
   },
   {
    "duration": 23,
    "start_time": "2022-01-15T20:07:42.644Z"
   },
   {
    "duration": 6204,
    "start_time": "2022-01-15T20:07:52.947Z"
   },
   {
    "duration": 1839,
    "start_time": "2022-01-15T20:07:59.154Z"
   },
   {
    "duration": 19,
    "start_time": "2022-01-15T20:08:00.995Z"
   },
   {
    "duration": 105,
    "start_time": "2022-01-15T20:08:01.016Z"
   },
   {
    "duration": 310,
    "start_time": "2022-01-15T20:08:01.123Z"
   },
   {
    "duration": 9,
    "start_time": "2022-01-15T20:08:01.435Z"
   },
   {
    "duration": 17,
    "start_time": "2022-01-15T20:08:01.446Z"
   },
   {
    "duration": 171,
    "start_time": "2022-01-15T20:08:01.466Z"
   },
   {
    "duration": 13,
    "start_time": "2022-01-15T20:08:01.639Z"
   },
   {
    "duration": 41,
    "start_time": "2022-01-15T20:08:01.655Z"
   },
   {
    "duration": 30,
    "start_time": "2022-01-15T20:08:01.698Z"
   },
   {
    "duration": 29,
    "start_time": "2022-01-15T20:08:01.730Z"
   },
   {
    "duration": 27,
    "start_time": "2022-01-15T20:08:01.762Z"
   },
   {
    "duration": 338,
    "start_time": "2022-01-15T20:08:01.792Z"
   },
   {
    "duration": 98,
    "start_time": "2022-01-15T20:08:02.132Z"
   },
   {
    "duration": 4,
    "start_time": "2022-01-15T20:08:02.240Z"
   },
   {
    "duration": 15,
    "start_time": "2022-01-15T20:08:02.245Z"
   },
   {
    "duration": 60,
    "start_time": "2022-01-15T20:08:02.262Z"
   },
   {
    "duration": 124,
    "start_time": "2022-01-15T20:08:02.324Z"
   },
   {
    "duration": 897,
    "start_time": "2022-01-15T20:08:02.449Z"
   },
   {
    "duration": 737,
    "start_time": "2022-01-15T20:08:03.348Z"
   },
   {
    "duration": 858,
    "start_time": "2022-01-15T20:08:04.087Z"
   },
   {
    "duration": 46,
    "start_time": "2022-01-15T20:08:04.948Z"
   },
   {
    "duration": 102,
    "start_time": "2022-01-15T20:08:04.996Z"
   },
   {
    "duration": 1784,
    "start_time": "2022-01-15T20:08:05.099Z"
   },
   {
    "duration": 140,
    "start_time": "2022-01-15T20:08:06.885Z"
   },
   {
    "duration": 2,
    "start_time": "2022-01-15T20:08:07.027Z"
   },
   {
    "duration": 30847,
    "start_time": "2022-01-15T20:08:09.946Z"
   },
   {
    "duration": 1566,
    "start_time": "2022-01-15T20:09:06.111Z"
   },
   {
    "duration": 1402,
    "start_time": "2022-01-15T20:09:23.593Z"
   },
   {
    "duration": 22,
    "start_time": "2022-01-15T20:09:35.596Z"
   },
   {
    "duration": 54,
    "start_time": "2022-01-15T20:09:58.179Z"
   },
   {
    "duration": 1231,
    "start_time": "2022-01-15T20:11:47.999Z"
   },
   {
    "duration": 190,
    "start_time": "2022-01-15T20:12:18.569Z"
   },
   {
    "duration": 185,
    "start_time": "2022-01-15T20:12:34.160Z"
   },
   {
    "duration": 197,
    "start_time": "2022-01-15T20:12:37.525Z"
   },
   {
    "duration": 911,
    "start_time": "2022-01-15T20:12:44.907Z"
   },
   {
    "duration": 1220,
    "start_time": "2022-01-15T20:12:58.721Z"
   },
   {
    "duration": 18,
    "start_time": "2022-01-15T20:17:58.226Z"
   },
   {
    "duration": 41,
    "start_time": "2022-01-15T20:19:08.847Z"
   },
   {
    "duration": 25868,
    "start_time": "2022-01-15T20:19:19.332Z"
   },
   {
    "duration": 548,
    "start_time": "2022-01-15T20:19:47.341Z"
   },
   {
    "duration": 534,
    "start_time": "2022-01-15T20:20:00.200Z"
   },
   {
    "duration": 699,
    "start_time": "2022-01-15T20:20:07.545Z"
   },
   {
    "duration": 88,
    "start_time": "2022-01-15T20:20:32.359Z"
   },
   {
    "duration": 29,
    "start_time": "2022-01-15T20:20:45.925Z"
   },
   {
    "duration": 548,
    "start_time": "2022-01-15T20:20:55.787Z"
   },
   {
    "duration": 28,
    "start_time": "2022-01-15T20:20:58.057Z"
   },
   {
    "duration": 522,
    "start_time": "2022-01-15T20:21:10.439Z"
   },
   {
    "duration": 524,
    "start_time": "2022-01-15T20:21:14.841Z"
   },
   {
    "duration": 15,
    "start_time": "2022-01-15T20:21:30.252Z"
   },
   {
    "duration": 863,
    "start_time": "2022-01-15T20:22:57.597Z"
   },
   {
    "duration": 532,
    "start_time": "2022-01-15T20:23:05.974Z"
   },
   {
    "duration": 6,
    "start_time": "2022-01-15T20:23:13.403Z"
   },
   {
    "duration": 92,
    "start_time": "2022-01-15T20:23:33.395Z"
   },
   {
    "duration": 282,
    "start_time": "2022-01-15T20:23:53.916Z"
   },
   {
    "duration": 606,
    "start_time": "2022-01-15T20:24:13.065Z"
   },
   {
    "duration": 608,
    "start_time": "2022-01-15T20:24:21.414Z"
   },
   {
    "duration": 603,
    "start_time": "2022-01-15T20:24:28.099Z"
   },
   {
    "duration": 772,
    "start_time": "2022-01-15T20:24:32.692Z"
   },
   {
    "duration": 14,
    "start_time": "2022-01-15T20:25:24.536Z"
   },
   {
    "duration": 660,
    "start_time": "2022-01-15T20:25:25.671Z"
   },
   {
    "duration": 14,
    "start_time": "2022-01-15T20:25:48.376Z"
   },
   {
    "duration": 637,
    "start_time": "2022-01-15T20:25:48.927Z"
   },
   {
    "duration": 99,
    "start_time": "2022-01-15T20:26:01.764Z"
   },
   {
    "duration": 663,
    "start_time": "2022-01-15T20:26:02.297Z"
   },
   {
    "duration": 672,
    "start_time": "2022-01-15T20:26:06.337Z"
   },
   {
    "duration": 5692,
    "start_time": "2022-01-16T07:11:59.070Z"
   },
   {
    "duration": 1846,
    "start_time": "2022-01-16T07:12:08.695Z"
   },
   {
    "duration": 18,
    "start_time": "2022-01-16T07:12:13.281Z"
   },
   {
    "duration": 90,
    "start_time": "2022-01-16T07:12:17.888Z"
   },
   {
    "duration": 259,
    "start_time": "2022-01-16T07:12:20.906Z"
   },
   {
    "duration": 3,
    "start_time": "2022-01-16T07:12:27.254Z"
   },
   {
    "duration": 4,
    "start_time": "2022-01-16T07:12:27.893Z"
   },
   {
    "duration": 104,
    "start_time": "2022-01-16T07:12:29.049Z"
   },
   {
    "duration": 19,
    "start_time": "2022-01-16T07:17:24.483Z"
   },
   {
    "duration": 7,
    "start_time": "2022-01-16T07:17:47.818Z"
   },
   {
    "duration": 69,
    "start_time": "2022-01-16T07:25:04.634Z"
   },
   {
    "duration": 8,
    "start_time": "2022-01-16T07:25:11.584Z"
   },
   {
    "duration": 8,
    "start_time": "2022-01-16T07:25:20.474Z"
   },
   {
    "duration": 8,
    "start_time": "2022-01-16T07:26:05.074Z"
   },
   {
    "duration": 5,
    "start_time": "2022-01-16T07:26:06.011Z"
   },
   {
    "duration": 290,
    "start_time": "2022-01-16T07:26:06.892Z"
   },
   {
    "duration": 79,
    "start_time": "2022-01-16T07:26:08.330Z"
   },
   {
    "duration": 3,
    "start_time": "2022-01-16T07:26:11.791Z"
   },
   {
    "duration": 3,
    "start_time": "2022-01-16T07:26:12.498Z"
   },
   {
    "duration": 44,
    "start_time": "2022-01-16T07:26:13.600Z"
   },
   {
    "duration": 104,
    "start_time": "2022-01-16T07:26:25.544Z"
   },
   {
    "duration": 587,
    "start_time": "2022-01-16T07:27:07.134Z"
   },
   {
    "duration": 696,
    "start_time": "2022-01-16T07:27:19.406Z"
   },
   {
    "duration": 774,
    "start_time": "2022-01-16T07:27:22.170Z"
   },
   {
    "duration": 623,
    "start_time": "2022-01-16T07:27:30.872Z"
   },
   {
    "duration": 45,
    "start_time": "2022-01-16T07:27:35.248Z"
   },
   {
    "duration": 73,
    "start_time": "2022-01-16T07:27:45.870Z"
   },
   {
    "duration": 1631,
    "start_time": "2022-01-16T07:27:48.323Z"
   },
   {
    "duration": 149,
    "start_time": "2022-01-16T07:27:49.956Z"
   },
   {
    "duration": 15019,
    "start_time": "2022-01-16T07:29:06.803Z"
   },
   {
    "duration": 1431,
    "start_time": "2022-01-16T07:29:41.540Z"
   },
   {
    "duration": 5002,
    "start_time": "2022-01-16T07:32:31.337Z"
   },
   {
    "duration": 6,
    "start_time": "2022-01-16T07:32:43.844Z"
   },
   {
    "duration": 30,
    "start_time": "2022-01-16T07:33:21.648Z"
   },
   {
    "duration": 642,
    "start_time": "2022-01-16T07:33:29.959Z"
   },
   {
    "duration": 7,
    "start_time": "2022-01-16T07:33:58.541Z"
   },
   {
    "duration": 35,
    "start_time": "2022-01-16T07:34:04.139Z"
   },
   {
    "duration": 603,
    "start_time": "2022-01-16T07:34:12.142Z"
   },
   {
    "duration": 3,
    "start_time": "2022-01-16T07:34:24.693Z"
   },
   {
    "duration": 26784,
    "start_time": "2022-01-16T07:34:32.315Z"
   },
   {
    "duration": 646,
    "start_time": "2022-01-16T07:45:03.649Z"
   },
   {
    "duration": 600,
    "start_time": "2022-01-16T07:45:36.356Z"
   },
   {
    "duration": 4619,
    "start_time": "2022-01-16T07:46:12.887Z"
   },
   {
    "duration": 206,
    "start_time": "2022-01-16T07:46:17.508Z"
   },
   {
    "duration": 5417,
    "start_time": "2022-01-16T07:46:25.769Z"
   },
   {
    "duration": 2679,
    "start_time": "2022-01-16T07:46:31.188Z"
   },
   {
    "duration": 16,
    "start_time": "2022-01-16T07:46:33.869Z"
   },
   {
    "duration": 104,
    "start_time": "2022-01-16T07:46:33.886Z"
   },
   {
    "duration": 258,
    "start_time": "2022-01-16T07:46:33.991Z"
   },
   {
    "duration": 3,
    "start_time": "2022-01-16T07:46:34.250Z"
   },
   {
    "duration": 8,
    "start_time": "2022-01-16T07:46:34.254Z"
   },
   {
    "duration": 113,
    "start_time": "2022-01-16T07:46:34.264Z"
   },
   {
    "duration": 11,
    "start_time": "2022-01-16T07:46:34.379Z"
   },
   {
    "duration": 15,
    "start_time": "2022-01-16T07:46:34.391Z"
   },
   {
    "duration": 6,
    "start_time": "2022-01-16T07:46:34.408Z"
   },
   {
    "duration": 30,
    "start_time": "2022-01-16T07:46:34.415Z"
   },
   {
    "duration": 257,
    "start_time": "2022-01-16T07:46:34.446Z"
   },
   {
    "duration": 81,
    "start_time": "2022-01-16T07:46:34.704Z"
   },
   {
    "duration": 3,
    "start_time": "2022-01-16T07:46:34.787Z"
   },
   {
    "duration": 6,
    "start_time": "2022-01-16T07:46:34.791Z"
   },
   {
    "duration": 47,
    "start_time": "2022-01-16T07:46:34.798Z"
   },
   {
    "duration": 103,
    "start_time": "2022-01-16T07:46:34.847Z"
   },
   {
    "duration": 721,
    "start_time": "2022-01-16T07:46:34.951Z"
   },
   {
    "duration": 655,
    "start_time": "2022-01-16T07:46:35.674Z"
   },
   {
    "duration": 747,
    "start_time": "2022-01-16T07:46:36.331Z"
   },
   {
    "duration": 40,
    "start_time": "2022-01-16T07:46:37.080Z"
   },
   {
    "duration": 1049,
    "start_time": "2022-01-16T07:46:37.123Z"
   },
   {
    "duration": 6,
    "start_time": "2022-01-16T07:46:38.174Z"
   },
   {
    "duration": 44,
    "start_time": "2022-01-16T07:46:38.181Z"
   },
   {
    "duration": 630,
    "start_time": "2022-01-16T07:46:38.226Z"
   },
   {
    "duration": 6,
    "start_time": "2022-01-16T07:46:38.857Z"
   },
   {
    "duration": 42,
    "start_time": "2022-01-16T07:46:38.864Z"
   },
   {
    "duration": 608,
    "start_time": "2022-01-16T07:46:38.908Z"
   },
   {
    "duration": 3,
    "start_time": "2022-01-16T07:46:44.406Z"
   },
   {
    "duration": 27243,
    "start_time": "2022-01-16T07:46:44.932Z"
   },
   {
    "duration": 600,
    "start_time": "2022-01-16T07:47:15.487Z"
   },
   {
    "duration": 605,
    "start_time": "2022-01-16T07:47:16.624Z"
   },
   {
    "duration": 73,
    "start_time": "2022-01-16T07:47:22.328Z"
   },
   {
    "duration": 1774,
    "start_time": "2022-01-16T07:47:25.102Z"
   },
   {
    "duration": 139,
    "start_time": "2022-01-16T07:47:29.168Z"
   },
   {
    "duration": 243,
    "start_time": "2022-01-16T07:48:49.019Z"
   },
   {
    "duration": 269,
    "start_time": "2022-01-16T07:48:53.278Z"
   },
   {
    "duration": 240,
    "start_time": "2022-01-16T07:49:13.062Z"
   },
   {
    "duration": 39,
    "start_time": "2022-01-16T07:49:15.488Z"
   },
   {
    "duration": 93,
    "start_time": "2022-01-16T07:49:16.059Z"
   },
   {
    "duration": 911,
    "start_time": "2022-01-16T07:49:16.861Z"
   },
   {
    "duration": 619,
    "start_time": "2022-01-16T07:49:18.894Z"
   },
   {
    "duration": 634,
    "start_time": "2022-01-16T07:49:20.167Z"
   },
   {
    "duration": 42,
    "start_time": "2022-01-16T07:49:20.803Z"
   },
   {
    "duration": 605,
    "start_time": "2022-01-16T07:49:21.424Z"
   },
   {
    "duration": 7,
    "start_time": "2022-01-16T07:49:22.488Z"
   },
   {
    "duration": 36,
    "start_time": "2022-01-16T07:49:23.720Z"
   },
   {
    "duration": 624,
    "start_time": "2022-01-16T07:49:24.056Z"
   },
   {
    "duration": 7,
    "start_time": "2022-01-16T07:49:24.682Z"
   },
   {
    "duration": 36,
    "start_time": "2022-01-16T07:49:25.512Z"
   },
   {
    "duration": 639,
    "start_time": "2022-01-16T07:49:25.836Z"
   },
   {
    "duration": 3,
    "start_time": "2022-01-16T07:49:27.174Z"
   },
   {
    "duration": 29361,
    "start_time": "2022-01-16T07:49:27.494Z"
   },
   {
    "duration": 653,
    "start_time": "2022-01-16T07:49:58.678Z"
   },
   {
    "duration": 725,
    "start_time": "2022-01-16T07:49:59.333Z"
   },
   {
    "duration": 75,
    "start_time": "2022-01-16T07:50:03.074Z"
   },
   {
    "duration": 1539,
    "start_time": "2022-01-16T07:50:05.545Z"
   },
   {
    "duration": 143,
    "start_time": "2022-01-16T07:50:08.019Z"
   },
   {
    "duration": 72,
    "start_time": "2022-01-16T07:50:29.106Z"
   },
   {
    "duration": 59,
    "start_time": "2022-01-16T08:01:32.496Z"
   },
   {
    "duration": 61,
    "start_time": "2022-01-16T08:02:11.060Z"
   },
   {
    "duration": 33,
    "start_time": "2022-01-16T08:02:51.670Z"
   },
   {
    "duration": 11,
    "start_time": "2022-01-16T08:03:18.127Z"
   },
   {
    "duration": 74,
    "start_time": "2022-01-16T08:03:39.183Z"
   },
   {
    "duration": 4,
    "start_time": "2022-01-16T08:04:24.323Z"
   },
   {
    "duration": 28,
    "start_time": "2022-01-16T08:10:35.154Z"
   },
   {
    "duration": 4420,
    "start_time": "2022-01-16T08:14:46.442Z"
   },
   {
    "duration": 3,
    "start_time": "2022-01-16T08:15:24.898Z"
   },
   {
    "duration": 88,
    "start_time": "2022-01-16T08:16:42.649Z"
   },
   {
    "duration": 62,
    "start_time": "2022-01-16T08:16:51.382Z"
   },
   {
    "duration": 4,
    "start_time": "2022-01-16T08:17:01.816Z"
   },
   {
    "duration": 288,
    "start_time": "2022-01-16T08:17:19.635Z"
   },
   {
    "duration": 5,
    "start_time": "2022-01-16T08:17:24.242Z"
   },
   {
    "duration": 4861,
    "start_time": "2022-01-16T08:18:09.626Z"
   },
   {
    "duration": 201,
    "start_time": "2022-01-16T08:18:55.161Z"
   },
   {
    "duration": 5636,
    "start_time": "2022-01-16T08:19:02.763Z"
   },
   {
    "duration": 190,
    "start_time": "2022-01-16T08:19:13.863Z"
   },
   {
    "duration": 4506,
    "start_time": "2022-01-16T08:20:11.681Z"
   },
   {
    "duration": 199,
    "start_time": "2022-01-16T08:20:24.127Z"
   },
   {
    "duration": 193,
    "start_time": "2022-01-16T08:20:27.371Z"
   },
   {
    "duration": 4699,
    "start_time": "2022-01-16T08:20:45.015Z"
   },
   {
    "duration": 7294,
    "start_time": "2022-01-16T08:22:22.137Z"
   },
   {
    "duration": 7992,
    "start_time": "2022-01-16T08:22:37.976Z"
   },
   {
    "duration": 192,
    "start_time": "2022-01-16T08:22:54.590Z"
   },
   {
    "duration": 3,
    "start_time": "2022-01-16T08:23:13.949Z"
   },
   {
    "duration": 1225,
    "start_time": "2022-01-16T08:27:53.733Z"
   },
   {
    "duration": 20,
    "start_time": "2022-01-16T08:27:59.496Z"
   },
   {
    "duration": 184,
    "start_time": "2022-01-16T08:28:31.902Z"
   },
   {
    "duration": 11,
    "start_time": "2022-01-16T08:29:11.174Z"
   },
   {
    "duration": 11,
    "start_time": "2022-01-16T08:29:36.997Z"
   },
   {
    "duration": 12,
    "start_time": "2022-01-16T08:30:24.665Z"
   },
   {
    "duration": 11,
    "start_time": "2022-01-16T08:30:25.301Z"
   },
   {
    "duration": 11,
    "start_time": "2022-01-16T08:30:40.836Z"
   },
   {
    "duration": 6542,
    "start_time": "2022-01-16T08:32:49.392Z"
   },
   {
    "duration": 3,
    "start_time": "2022-01-16T08:33:16.013Z"
   },
   {
    "duration": 88,
    "start_time": "2022-01-16T08:34:38.892Z"
   },
   {
    "duration": 217,
    "start_time": "2022-01-16T08:35:00.294Z"
   },
   {
    "duration": 416,
    "start_time": "2022-01-16T08:35:11.028Z"
   },
   {
    "duration": 12,
    "start_time": "2022-01-16T08:35:24.874Z"
   },
   {
    "duration": 4,
    "start_time": "2022-01-16T08:35:30.466Z"
   },
   {
    "duration": 345,
    "start_time": "2022-01-16T08:37:10.380Z"
   },
   {
    "duration": 477,
    "start_time": "2022-01-16T08:37:10.737Z"
   },
   {
    "duration": 292,
    "start_time": "2022-01-16T08:37:21.854Z"
   },
   {
    "duration": 7724,
    "start_time": "2022-01-16T08:37:28.928Z"
   },
   {
    "duration": 1587,
    "start_time": "2022-01-16T08:37:36.654Z"
   },
   {
    "duration": 17,
    "start_time": "2022-01-16T08:37:38.243Z"
   },
   {
    "duration": 105,
    "start_time": "2022-01-16T08:37:38.262Z"
   },
   {
    "duration": 278,
    "start_time": "2022-01-16T08:37:38.369Z"
   },
   {
    "duration": 3,
    "start_time": "2022-01-16T08:37:38.648Z"
   },
   {
    "duration": 5,
    "start_time": "2022-01-16T08:37:38.653Z"
   },
   {
    "duration": 120,
    "start_time": "2022-01-16T08:37:38.661Z"
   },
   {
    "duration": 11,
    "start_time": "2022-01-16T08:37:38.783Z"
   },
   {
    "duration": 16,
    "start_time": "2022-01-16T08:37:38.795Z"
   },
   {
    "duration": 7,
    "start_time": "2022-01-16T08:37:38.812Z"
   },
   {
    "duration": 22,
    "start_time": "2022-01-16T08:37:38.820Z"
   },
   {
    "duration": 296,
    "start_time": "2022-01-16T08:37:38.843Z"
   },
   {
    "duration": 74,
    "start_time": "2022-01-16T08:37:39.141Z"
   },
   {
    "duration": 2,
    "start_time": "2022-01-16T08:37:39.217Z"
   },
   {
    "duration": 21,
    "start_time": "2022-01-16T08:37:39.221Z"
   },
   {
    "duration": 285,
    "start_time": "2022-01-16T08:37:39.244Z"
   },
   {
    "duration": 270,
    "start_time": "2022-01-16T08:37:39.530Z"
   },
   {
    "duration": 49,
    "start_time": "2022-01-16T08:37:39.801Z"
   },
   {
    "duration": 103,
    "start_time": "2022-01-16T08:37:39.852Z"
   },
   {
    "duration": 720,
    "start_time": "2022-01-16T08:37:39.957Z"
   },
   {
    "duration": 713,
    "start_time": "2022-01-16T08:37:40.678Z"
   },
   {
    "duration": 627,
    "start_time": "2022-01-16T08:37:41.395Z"
   },
   {
    "duration": 45,
    "start_time": "2022-01-16T08:37:42.024Z"
   },
   {
    "duration": 627,
    "start_time": "2022-01-16T08:37:42.071Z"
   },
   {
    "duration": 6,
    "start_time": "2022-01-16T08:37:42.699Z"
   },
   {
    "duration": 53,
    "start_time": "2022-01-16T08:37:42.707Z"
   },
   {
    "duration": 622,
    "start_time": "2022-01-16T08:37:42.762Z"
   },
   {
    "duration": 6,
    "start_time": "2022-01-16T08:37:43.386Z"
   },
   {
    "duration": 52,
    "start_time": "2022-01-16T08:37:43.394Z"
   },
   {
    "duration": 619,
    "start_time": "2022-01-16T08:37:43.448Z"
   },
   {
    "duration": 4,
    "start_time": "2022-01-16T08:37:44.069Z"
   },
   {
    "duration": 26116,
    "start_time": "2022-01-16T08:37:44.075Z"
   },
   {
    "duration": 597,
    "start_time": "2022-01-16T08:38:10.193Z"
   },
   {
    "duration": 604,
    "start_time": "2022-01-16T08:38:10.792Z"
   },
   {
    "duration": 86,
    "start_time": "2022-01-16T08:38:11.398Z"
   },
   {
    "duration": 1716,
    "start_time": "2022-01-16T08:38:11.486Z"
   },
   {
    "duration": 149,
    "start_time": "2022-01-16T08:38:13.204Z"
   },
   {
    "duration": 75,
    "start_time": "2022-01-16T08:38:13.355Z"
   },
   {
    "duration": 55,
    "start_time": "2022-01-16T08:38:13.441Z"
   },
   {
    "duration": 44,
    "start_time": "2022-01-16T08:38:13.498Z"
   },
   {
    "duration": 12,
    "start_time": "2022-01-16T08:38:13.543Z"
   },
   {
    "duration": 77,
    "start_time": "2022-01-16T08:38:13.556Z"
   },
   {
    "duration": 5,
    "start_time": "2022-01-16T08:38:13.641Z"
   },
   {
    "duration": 34,
    "start_time": "2022-01-16T08:38:13.647Z"
   },
   {
    "duration": 2,
    "start_time": "2022-01-16T08:38:13.683Z"
   },
   {
    "duration": 99,
    "start_time": "2022-01-16T08:38:13.687Z"
   },
   {
    "duration": 4,
    "start_time": "2022-01-16T08:38:13.788Z"
   },
   {
    "duration": 29,
    "start_time": "2022-01-16T08:38:13.793Z"
   },
   {
    "duration": 1253,
    "start_time": "2022-01-16T08:38:13.824Z"
   },
   {
    "duration": 275,
    "start_time": "2022-01-16T08:38:15.079Z"
   },
   {
    "duration": 10,
    "start_time": "2022-01-16T08:38:15.356Z"
   },
   {
    "duration": 3,
    "start_time": "2022-01-16T08:38:18.408Z"
   },
   {
    "duration": 365,
    "start_time": "2022-01-16T08:38:18.820Z"
   },
   {
    "duration": 267,
    "start_time": "2022-01-16T08:38:56.305Z"
   },
   {
    "duration": 94,
    "start_time": "2022-01-16T08:39:35.050Z"
   },
   {
    "duration": 14,
    "start_time": "2022-01-16T08:39:39.570Z"
   },
   {
    "duration": 9,
    "start_time": "2022-01-16T08:40:02.074Z"
   },
   {
    "duration": 6316,
    "start_time": "2022-01-16T08:48:11.665Z"
   },
   {
    "duration": 204,
    "start_time": "2022-01-16T08:50:49.184Z"
   },
   {
    "duration": 192,
    "start_time": "2022-01-16T08:50:56.183Z"
   },
   {
    "duration": 3,
    "start_time": "2022-01-16T08:50:59.072Z"
   },
   {
    "duration": 2,
    "start_time": "2022-01-16T08:51:10.797Z"
   },
   {
    "duration": 6843,
    "start_time": "2022-01-16T08:52:00.726Z"
   },
   {
    "duration": 3,
    "start_time": "2022-01-16T08:53:30.956Z"
   },
   {
    "duration": 133,
    "start_time": "2022-01-16T08:53:48.010Z"
   },
   {
    "duration": 3,
    "start_time": "2022-01-16T08:56:06.239Z"
   },
   {
    "duration": 229,
    "start_time": "2022-01-16T08:56:15.352Z"
   },
   {
    "duration": 193,
    "start_time": "2022-01-16T08:56:26.059Z"
   },
   {
    "duration": 4,
    "start_time": "2022-01-16T08:57:43.521Z"
   },
   {
    "duration": 19067,
    "start_time": "2022-01-16T08:57:43.899Z"
   },
   {
    "duration": 19023,
    "start_time": "2022-01-16T08:58:06.636Z"
   },
   {
    "duration": 4,
    "start_time": "2022-01-16T08:58:44.210Z"
   },
   {
    "duration": 5,
    "start_time": "2022-01-16T08:59:10.883Z"
   },
   {
    "duration": 15,
    "start_time": "2022-01-16T09:00:36.403Z"
   },
   {
    "duration": 6808,
    "start_time": "2022-01-16T09:01:03.989Z"
   },
   {
    "duration": 15,
    "start_time": "2022-01-16T09:01:27.846Z"
   },
   {
    "duration": 216,
    "start_time": "2022-01-16T09:01:44.868Z"
   },
   {
    "duration": 302,
    "start_time": "2022-01-16T09:02:03.526Z"
   },
   {
    "duration": 10645,
    "start_time": "2022-01-16T09:02:57.436Z"
   },
   {
    "duration": 283,
    "start_time": "2022-01-16T09:03:33.121Z"
   },
   {
    "duration": 505,
    "start_time": "2022-01-16T09:04:51.862Z"
   },
   {
    "duration": 14,
    "start_time": "2022-01-16T09:05:02.671Z"
   },
   {
    "duration": 11,
    "start_time": "2022-01-16T09:05:07.969Z"
   },
   {
    "duration": 19065,
    "start_time": "2022-01-16T09:06:05.709Z"
   },
   {
    "duration": 5,
    "start_time": "2022-01-16T09:06:29.714Z"
   },
   {
    "duration": 12,
    "start_time": "2022-01-16T09:06:32.818Z"
   },
   {
    "duration": 265,
    "start_time": "2022-01-16T09:06:43.635Z"
   },
   {
    "duration": 19496,
    "start_time": "2022-01-16T09:06:53.088Z"
   },
   {
    "duration": 4,
    "start_time": "2022-01-16T09:08:10.169Z"
   },
   {
    "duration": 210,
    "start_time": "2022-01-16T09:08:28.856Z"
   },
   {
    "duration": 8934,
    "start_time": "2022-01-16T09:11:53.810Z"
   },
   {
    "duration": 9074,
    "start_time": "2022-01-16T09:13:34.154Z"
   },
   {
    "duration": 211,
    "start_time": "2022-01-16T09:15:32.801Z"
   },
   {
    "duration": 3,
    "start_time": "2022-01-16T09:15:41.110Z"
   },
   {
    "duration": 9048,
    "start_time": "2022-01-16T09:19:43.100Z"
   },
   {
    "duration": 23,
    "start_time": "2022-01-16T09:20:53.600Z"
   },
   {
    "duration": 64,
    "start_time": "2022-01-16T09:20:57.548Z"
   },
   {
    "duration": 418,
    "start_time": "2022-01-16T09:22:03.529Z"
   },
   {
    "duration": 3,
    "start_time": "2022-01-16T09:22:28.547Z"
   },
   {
    "duration": 3,
    "start_time": "2022-01-16T09:22:33.179Z"
   }
  ],
  "kernelspec": {
   "display_name": "Python 3 (ipykernel)",
   "language": "python",
   "name": "python3"
  },
  "language_info": {
   "codemirror_mode": {
    "name": "ipython",
    "version": 3
   },
   "file_extension": ".py",
   "mimetype": "text/x-python",
   "name": "python",
   "nbconvert_exporter": "python",
   "pygments_lexer": "ipython3",
   "version": "3.9.7"
  },
  "toc": {
   "base_numbering": 1,
   "nav_menu": {},
   "number_sections": true,
   "sideBar": true,
   "skip_h1_title": true,
   "title_cell": "Table of Contents",
   "title_sidebar": "Contents",
   "toc_cell": false,
   "toc_position": {},
   "toc_section_display": true,
   "toc_window_display": false
  }
 },
 "nbformat": 4,
 "nbformat_minor": 2
}
