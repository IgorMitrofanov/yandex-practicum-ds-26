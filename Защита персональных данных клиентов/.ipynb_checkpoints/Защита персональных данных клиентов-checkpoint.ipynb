{
 "cells": [
  {
   "cell_type": "markdown",
   "id": "7a782c37",
   "metadata": {
    "toc": true
   },
   "source": [
    "<h1>Содержание<span class=\"tocSkip\"></span></h1>\n",
    "<div class=\"toc\"><ul class=\"toc-item\"><li><span><a href=\"#Введение\" data-toc-modified-id=\"Введение-1\"><span class=\"toc-item-num\">1&nbsp;&nbsp;</span>Введение</a></span></li><li><span><a href=\"#План-проекта\" data-toc-modified-id=\"План-проекта-2\"><span class=\"toc-item-num\">2&nbsp;&nbsp;</span>План проекта</a></span></li><li><span><a href=\"#Используемые-библиотеки\" data-toc-modified-id=\"Используемые-библиотеки-3\"><span class=\"toc-item-num\">3&nbsp;&nbsp;</span>Используемые библиотеки</a></span></li><li><span><a href=\"#Загрузка-и-предобработка-данных\" data-toc-modified-id=\"Загрузка-и-предобработка-данных-4\"><span class=\"toc-item-num\">4&nbsp;&nbsp;</span>Загрузка и предобработка данных</a></span></li><li><span><a href=\"#Умножение-матриц\" data-toc-modified-id=\"Умножение-матриц-5\"><span class=\"toc-item-num\">5&nbsp;&nbsp;</span>Умножение матриц</a></span></li><li><span><a href=\"#Алгоритм-преобразования\" data-toc-modified-id=\"Алгоритм-преобразования-6\"><span class=\"toc-item-num\">6&nbsp;&nbsp;</span>Алгоритм преобразования</a></span></li><li><span><a href=\"#Проверка-алгоритма\" data-toc-modified-id=\"Проверка-алгоритма-7\"><span class=\"toc-item-num\">7&nbsp;&nbsp;</span>Проверка алгоритма</a></span></li><li><span><a href=\"#Общий-вывод\" data-toc-modified-id=\"Общий-вывод-8\"><span class=\"toc-item-num\">8&nbsp;&nbsp;</span>Общий вывод</a></span></li><li><span><a href=\"#Чек-лист-проверки\" data-toc-modified-id=\"Чек-лист-проверки-9\"><span class=\"toc-item-num\">9&nbsp;&nbsp;</span>Чек-лист проверки</a></span></li></ul></div>"
   ]
  },
  {
   "cell_type": "markdown",
   "id": "80dd78d0",
   "metadata": {},
   "source": [
    "# Защита персональных данных клиентов"
   ]
  },
  {
   "cell_type": "markdown",
   "id": "20db3fad",
   "metadata": {},
   "source": [
    "## Введение"
   ]
  },
  {
   "cell_type": "markdown",
   "id": "831d8768",
   "metadata": {},
   "source": [
    "Целью данного проекта является защитить данные клиентов страховой компании \"Хоть потоп\". Задача состоит в том, чтобы разработать такой метод преобразования данных, чтобы по ним было сложно восстановить персональную информацию."
   ]
  },
  {
   "cell_type": "markdown",
   "id": "5fc9539e",
   "metadata": {},
   "source": [
    "## План проекта"
   ]
  },
  {
   "cell_type": "markdown",
   "id": "aeae37c7",
   "metadata": {},
   "source": [
    "Для достижения поставленной задачи, необходимо:\n",
    "\n",
    "1) Загрузить и изучить данные.\n",
    "\n",
    "2) Ответить на вопрос и обосновать решение:\n",
    "\n",
    "- Признаки умножают на обратимую матрицу. Изменится ли качество линейной регрессии? \n",
    "\n",
    "3) Указать, как связаны параметры линейной регрессии в исходной задаче и в преобразованной.\n",
    "\n",
    "4) Предложить алгоритм преобразования данных для решения задачи. Обосновать, почему качество линейной регрессии не поменяется.\n",
    "\n",
    "5) Запрограммировать этот алгоритм, применив матричные операции. \n",
    "\n",
    "6) Проверить, что качество линейной регрессии из `sklearn` не отличается до и после преобразования. В качестве оценки качества модели применить метрику *R2*."
   ]
  },
  {
   "cell_type": "markdown",
   "id": "423f8425",
   "metadata": {},
   "source": [
    "## Используемые библиотеки"
   ]
  },
  {
   "cell_type": "markdown",
   "id": "0b9fae16",
   "metadata": {},
   "source": [
    "В настоящем проекте используются следующие библиотеки:\n",
    "\n",
    "- `pandas`;\n",
    "- `numpy`;\n",
    "- `sklearn`;\n",
    "- `seaborn`."
   ]
  },
  {
   "cell_type": "markdown",
   "id": "74758019",
   "metadata": {},
   "source": [
    "## Загрузка и предобработка данных"
   ]
  },
  {
   "cell_type": "markdown",
   "id": "c3bc8850",
   "metadata": {},
   "source": [
    "Импортируем необходимые для работы библиотеки:"
   ]
  },
  {
   "cell_type": "code",
   "execution_count": 36,
   "id": "70dcd683",
   "metadata": {},
   "outputs": [],
   "source": [
    "import pandas as pd\n",
    "import numpy as np\n",
    "import seaborn as sns\n",
    "import matplotlib.pyplot as plt\n",
    "from sklearn.linear_model import LinearRegression\n",
    "from sklearn.datasets import make_spd_matrix\n",
    "from sklearn.model_selection import train_test_split, GridSearchCV\n",
    "from sklearn.model_selection import cross_val_score\n",
    "from sklearn.preprocessing import StandardScaler\n",
    "from sklearn.metrics import r2_score\n",
    "from sklearn.pipeline import Pipeline"
   ]
  },
  {
   "cell_type": "markdown",
   "id": "254359e4",
   "metadata": {},
   "source": [
    "Загрузим данные:"
   ]
  },
  {
   "cell_type": "code",
   "execution_count": 37,
   "id": "8529ca5e",
   "metadata": {},
   "outputs": [],
   "source": [
    "url = r'C:\\Users\\IVMitrofanov\\Downloads\\insurance.csv'"
   ]
  },
  {
   "cell_type": "code",
   "execution_count": 38,
   "id": "2441ac32",
   "metadata": {},
   "outputs": [],
   "source": [
    "df = pd.read_csv(url)"
   ]
  },
  {
   "cell_type": "markdown",
   "id": "8cdfd38f",
   "metadata": {},
   "source": [
    "Посмотрим на первые 5 объекетов датафрейма:"
   ]
  },
  {
   "cell_type": "code",
   "execution_count": 39,
   "id": "e8612749",
   "metadata": {},
   "outputs": [
    {
     "data": {
      "text/html": [
       "<div>\n",
       "<style scoped>\n",
       "    .dataframe tbody tr th:only-of-type {\n",
       "        vertical-align: middle;\n",
       "    }\n",
       "\n",
       "    .dataframe tbody tr th {\n",
       "        vertical-align: top;\n",
       "    }\n",
       "\n",
       "    .dataframe thead th {\n",
       "        text-align: right;\n",
       "    }\n",
       "</style>\n",
       "<table border=\"1\" class=\"dataframe\">\n",
       "  <thead>\n",
       "    <tr style=\"text-align: right;\">\n",
       "      <th></th>\n",
       "      <th>Пол</th>\n",
       "      <th>Возраст</th>\n",
       "      <th>Зарплата</th>\n",
       "      <th>Члены семьи</th>\n",
       "      <th>Страховые выплаты</th>\n",
       "    </tr>\n",
       "  </thead>\n",
       "  <tbody>\n",
       "    <tr>\n",
       "      <th>0</th>\n",
       "      <td>1</td>\n",
       "      <td>41.0</td>\n",
       "      <td>49600.0</td>\n",
       "      <td>1</td>\n",
       "      <td>0</td>\n",
       "    </tr>\n",
       "    <tr>\n",
       "      <th>1</th>\n",
       "      <td>0</td>\n",
       "      <td>46.0</td>\n",
       "      <td>38000.0</td>\n",
       "      <td>1</td>\n",
       "      <td>1</td>\n",
       "    </tr>\n",
       "    <tr>\n",
       "      <th>2</th>\n",
       "      <td>0</td>\n",
       "      <td>29.0</td>\n",
       "      <td>21000.0</td>\n",
       "      <td>0</td>\n",
       "      <td>0</td>\n",
       "    </tr>\n",
       "    <tr>\n",
       "      <th>3</th>\n",
       "      <td>0</td>\n",
       "      <td>21.0</td>\n",
       "      <td>41700.0</td>\n",
       "      <td>2</td>\n",
       "      <td>0</td>\n",
       "    </tr>\n",
       "    <tr>\n",
       "      <th>4</th>\n",
       "      <td>1</td>\n",
       "      <td>28.0</td>\n",
       "      <td>26100.0</td>\n",
       "      <td>0</td>\n",
       "      <td>0</td>\n",
       "    </tr>\n",
       "  </tbody>\n",
       "</table>\n",
       "</div>"
      ],
      "text/plain": [
       "   Пол  Возраст  Зарплата  Члены семьи  Страховые выплаты\n",
       "0    1     41.0   49600.0            1                  0\n",
       "1    0     46.0   38000.0            1                  1\n",
       "2    0     29.0   21000.0            0                  0\n",
       "3    0     21.0   41700.0            2                  0\n",
       "4    1     28.0   26100.0            0                  0"
      ]
     },
     "execution_count": 39,
     "metadata": {},
     "output_type": "execute_result"
    }
   ],
   "source": [
    "df.head()"
   ]
  },
  {
   "cell_type": "markdown",
   "id": "9326a740",
   "metadata": {},
   "source": [
    "Посмотрим информацию о датафрейме методом *info()*:"
   ]
  },
  {
   "cell_type": "code",
   "execution_count": 40,
   "id": "d91cd5c8",
   "metadata": {},
   "outputs": [
    {
     "name": "stdout",
     "output_type": "stream",
     "text": [
      "<class 'pandas.core.frame.DataFrame'>\n",
      "RangeIndex: 5000 entries, 0 to 4999\n",
      "Data columns (total 5 columns):\n",
      " #   Column             Non-Null Count  Dtype  \n",
      "---  ------             --------------  -----  \n",
      " 0   Пол                5000 non-null   int64  \n",
      " 1   Возраст            5000 non-null   float64\n",
      " 2   Зарплата           5000 non-null   float64\n",
      " 3   Члены семьи        5000 non-null   int64  \n",
      " 4   Страховые выплаты  5000 non-null   int64  \n",
      "dtypes: float64(2), int64(3)\n",
      "memory usage: 195.4 KB\n"
     ]
    }
   ],
   "source": [
    "df.info()"
   ]
  },
  {
   "cell_type": "markdown",
   "id": "1a75a829",
   "metadata": {},
   "source": [
    "Переименуем столбцы:"
   ]
  },
  {
   "cell_type": "code",
   "execution_count": 41,
   "id": "6f303e50",
   "metadata": {},
   "outputs": [],
   "source": [
    "col_name = ['gender', 'age', 'salary', 'family_member', 'insurance_payments']\n",
    "df.set_axis(col_name, axis = 'columns', inplace = True)"
   ]
  },
  {
   "cell_type": "markdown",
   "id": "c05fe680",
   "metadata": {},
   "source": [
    "Изменим тип данных в колличественных признаках - `age` и `salary` на целочисленный (*int*)."
   ]
  },
  {
   "cell_type": "code",
   "execution_count": 42,
   "id": "1fc70dc9",
   "metadata": {},
   "outputs": [],
   "source": [
    "df['age'] = df['age'].astype(int)\n",
    "df['salary'] = df['salary'].astype(int)"
   ]
  },
  {
   "cell_type": "markdown",
   "id": "f7e1666f",
   "metadata": {},
   "source": [
    "Проверим на дубликаты:"
   ]
  },
  {
   "cell_type": "code",
   "execution_count": 43,
   "id": "0812fbfd",
   "metadata": {},
   "outputs": [
    {
     "data": {
      "text/plain": [
       "153"
      ]
     },
     "execution_count": 43,
     "metadata": {},
     "output_type": "execute_result"
    }
   ],
   "source": [
    "df.duplicated().sum()"
   ]
  },
  {
   "cell_type": "markdown",
   "id": "3456ffc9",
   "metadata": {},
   "source": [
    "Удалим дубликаты:"
   ]
  },
  {
   "cell_type": "code",
   "execution_count": 44,
   "id": "4eef5ad4",
   "metadata": {},
   "outputs": [],
   "source": [
    "df = df.drop_duplicates().reset_index(drop=True)"
   ]
  },
  {
   "cell_type": "markdown",
   "id": "9d9c61ec",
   "metadata": {},
   "source": [
    "Посмотрим на первые 5 объектов датафрейма:"
   ]
  },
  {
   "cell_type": "code",
   "execution_count": 45,
   "id": "0d0afbcb",
   "metadata": {},
   "outputs": [
    {
     "data": {
      "text/html": [
       "<div>\n",
       "<style scoped>\n",
       "    .dataframe tbody tr th:only-of-type {\n",
       "        vertical-align: middle;\n",
       "    }\n",
       "\n",
       "    .dataframe tbody tr th {\n",
       "        vertical-align: top;\n",
       "    }\n",
       "\n",
       "    .dataframe thead th {\n",
       "        text-align: right;\n",
       "    }\n",
       "</style>\n",
       "<table border=\"1\" class=\"dataframe\">\n",
       "  <thead>\n",
       "    <tr style=\"text-align: right;\">\n",
       "      <th></th>\n",
       "      <th>gender</th>\n",
       "      <th>age</th>\n",
       "      <th>salary</th>\n",
       "      <th>family_member</th>\n",
       "      <th>insurance_payments</th>\n",
       "    </tr>\n",
       "  </thead>\n",
       "  <tbody>\n",
       "    <tr>\n",
       "      <th>0</th>\n",
       "      <td>1</td>\n",
       "      <td>41</td>\n",
       "      <td>49600</td>\n",
       "      <td>1</td>\n",
       "      <td>0</td>\n",
       "    </tr>\n",
       "    <tr>\n",
       "      <th>1</th>\n",
       "      <td>0</td>\n",
       "      <td>46</td>\n",
       "      <td>38000</td>\n",
       "      <td>1</td>\n",
       "      <td>1</td>\n",
       "    </tr>\n",
       "    <tr>\n",
       "      <th>2</th>\n",
       "      <td>0</td>\n",
       "      <td>29</td>\n",
       "      <td>21000</td>\n",
       "      <td>0</td>\n",
       "      <td>0</td>\n",
       "    </tr>\n",
       "    <tr>\n",
       "      <th>3</th>\n",
       "      <td>0</td>\n",
       "      <td>21</td>\n",
       "      <td>41700</td>\n",
       "      <td>2</td>\n",
       "      <td>0</td>\n",
       "    </tr>\n",
       "    <tr>\n",
       "      <th>4</th>\n",
       "      <td>1</td>\n",
       "      <td>28</td>\n",
       "      <td>26100</td>\n",
       "      <td>0</td>\n",
       "      <td>0</td>\n",
       "    </tr>\n",
       "  </tbody>\n",
       "</table>\n",
       "</div>"
      ],
      "text/plain": [
       "   gender  age  salary  family_member  insurance_payments\n",
       "0       1   41   49600              1                   0\n",
       "1       0   46   38000              1                   1\n",
       "2       0   29   21000              0                   0\n",
       "3       0   21   41700              2                   0\n",
       "4       1   28   26100              0                   0"
      ]
     },
     "execution_count": 45,
     "metadata": {},
     "output_type": "execute_result"
    }
   ],
   "source": [
    "df.head()"
   ]
  },
  {
   "cell_type": "markdown",
   "id": "e342c0cc",
   "metadata": {},
   "source": [
    "Посмотрим информацию о датафрейме методом *info()*:"
   ]
  },
  {
   "cell_type": "code",
   "execution_count": 46,
   "id": "4840cdfc",
   "metadata": {},
   "outputs": [
    {
     "name": "stdout",
     "output_type": "stream",
     "text": [
      "<class 'pandas.core.frame.DataFrame'>\n",
      "RangeIndex: 4847 entries, 0 to 4846\n",
      "Data columns (total 5 columns):\n",
      " #   Column              Non-Null Count  Dtype\n",
      "---  ------              --------------  -----\n",
      " 0   gender              4847 non-null   int64\n",
      " 1   age                 4847 non-null   int32\n",
      " 2   salary              4847 non-null   int32\n",
      " 3   family_member       4847 non-null   int64\n",
      " 4   insurance_payments  4847 non-null   int64\n",
      "dtypes: int32(2), int64(3)\n",
      "memory usage: 151.6 KB\n"
     ]
    }
   ],
   "source": [
    "df.info()"
   ]
  },
  {
   "cell_type": "markdown",
   "id": "1090a373",
   "metadata": {},
   "source": [
    "## Умножение матриц"
   ]
  },
  {
   "cell_type": "markdown",
   "id": "ffa0608a",
   "metadata": {},
   "source": [
    "Обозначения:\n",
    "\n",
    "- $X$ — матрица признаков (нулевой столбец состоит из единиц)\n",
    "\n",
    "- $y$ — вектор целевого признака\n",
    "\n",
    "- $P$ — матрица, на которую умножаются признаки\n",
    "\n",
    "- $w$ — вектор весов линейной регрессии (нулевой элемент равен сдвигу)"
   ]
  },
  {
   "cell_type": "markdown",
   "id": "0ed4879d",
   "metadata": {},
   "source": [
    "Предсказания:\n",
    "\n",
    "$$\n",
    "a = Xw \\qquad \\qquad (1)\n",
    "$$\n",
    "\n",
    "\n",
    "\n",
    "Задача обучения:\n",
    "\n",
    "$$\n",
    "w = \\arg\\min_w MSE(Xw, y) \\qquad \\qquad (2)\n",
    "$$\n",
    "\n",
    "Формула обучения:\n",
    "\n",
    "$$\n",
    "w = (X^T X)^{-1} X^T y \\qquad \\qquad (3)\n",
    "$$"
   ]
  },
  {
   "cell_type": "markdown",
   "id": "75466952",
   "metadata": {},
   "source": [
    "Для того, чтобы зашифровать матрицу $X$ мы должны умножить ее на обратимую матрицу $P$ (назовем ее ключ)."
   ]
  },
  {
   "cell_type": "markdown",
   "id": "67e313ae",
   "metadata": {},
   "source": [
    "Зашифрованную матрицу $X$ обозначим $X_c$, тогда:\n",
    "$$\n",
    "X_c = XP \\qquad \\qquad (4)\n",
    "$$ "
   ]
  },
  {
   "cell_type": "markdown",
   "id": "7a962ba9",
   "metadata": {},
   "source": [
    "Для получения исходных данных необходимо умножить зашифрованную матрицу $X_c$ на матрицу $P^{-1}$ (обратная матрица ключа):\n",
    "$$\n",
    "X = X_c P^{-1} \\qquad \\qquad (5)\n",
    "$$ "
   ]
  },
  {
   "cell_type": "markdown",
   "id": "6908d75d",
   "metadata": {},
   "source": [
    "Тогда формула предсказания модели и обучения для **зашифрованной матрицы признаков**:"
   ]
  },
  {
   "cell_type": "markdown",
   "id": "a85d88b9",
   "metadata": {},
   "source": [
    "$$\n",
    "a_c = X_c w_c \\qquad \\qquad (6)\n",
    "$$"
   ]
  },
  {
   "cell_type": "markdown",
   "id": "b392a0ca",
   "metadata": {},
   "source": [
    "$$\n",
    "w_c = (X_c^T X_c)^{-1} X_c^T y \\qquad \\qquad (7)\n",
    "$$"
   ]
  },
  {
   "cell_type": "markdown",
   "id": "f0f08ea3",
   "metadata": {},
   "source": [
    "Качество модели с зашифрованными признаками будет равно качеству модели с исходными признаками, если выражения (1) и (6) будут равны, то есть: $ a = a_c $."
   ]
  },
  {
   "cell_type": "markdown",
   "id": "8fe44c5c",
   "metadata": {},
   "source": [
    "Заменим $X_c$ на соотношение (4):"
   ]
  },
  {
   "cell_type": "markdown",
   "id": "f1a2452f",
   "metadata": {},
   "source": [
    "$$\n",
    "w_c = ((X P)^T X P)^{-1} (X P)^T y \\qquad \\qquad (8)\n",
    "$$"
   ]
  },
  {
   "cell_type": "markdown",
   "id": "050f0036",
   "metadata": {},
   "source": [
    "Раскроем скобки:"
   ]
  },
  {
   "cell_type": "markdown",
   "id": "5a93996a",
   "metadata": {},
   "source": [
    "$$\n",
    "w_c = (P^T (X^T X) P)^{-1} P^T X^T  y \\qquad \\qquad (9)\n",
    "$$"
   ]
  },
  {
   "cell_type": "markdown",
   "id": "87848b54",
   "metadata": {},
   "source": [
    "$$\n",
    "w_c = P^{-1} (X^T X)^{-1} (P^T)^{-1} P^T X^T y  \\qquad \\qquad (10)\n",
    "$$"
   ]
  },
  {
   "cell_type": "markdown",
   "id": "f9bb6b8a",
   "metadata": {},
   "source": [
    "$P (P)^{-1}$ схлопывается:"
   ]
  },
  {
   "cell_type": "markdown",
   "id": "1d06853e",
   "metadata": {},
   "source": [
    "$$\n",
    "w_c = P^{-1} (X^T X)^{-1} X^T y  \\qquad \\qquad (11)\n",
    "$$"
   ]
  },
  {
   "cell_type": "markdown",
   "id": "e8830c26",
   "metadata": {},
   "source": [
    "Здесь $(X^T X)^{-1} X^T y$ является правой частью выражения (3), то есть:"
   ]
  },
  {
   "cell_type": "markdown",
   "id": "623ca1d8",
   "metadata": {},
   "source": [
    "$$\n",
    "w_c = P^{-1} w  \\qquad \\qquad (12)\n",
    "$$"
   ]
  },
  {
   "cell_type": "markdown",
   "id": "1d64a29b",
   "metadata": {},
   "source": [
    "Тогда получается что предсказания с зашифрованными признаками равны предсказаниям с исходными признаками:"
   ]
  },
  {
   "cell_type": "markdown",
   "id": "4496bce8",
   "metadata": {},
   "source": [
    "$$\n",
    "a_c = X_c P^{-1} w = X w = a \\qquad \\qquad (13)\n",
    "$$"
   ]
  },
  {
   "cell_type": "markdown",
   "id": "a3a3a2ab",
   "metadata": {},
   "source": [
    "Таким образом, соотношение (13) доказывает, что умножение матрицы признаков на обратимую матрицу не приводит к снижению качества модели линейной регрессии."
   ]
  },
  {
   "cell_type": "markdown",
   "id": "eaaf8502",
   "metadata": {},
   "source": [
    "$$\n",
    "w' = ((XP)^T XP)^{-1} (XP)^T y\n",
    "$$\n",
    "$$\n",
    "w' = (P^T (X^T X) P)^{-1} (XP)^T y\n",
    "$$\n",
    "$$\n",
    "w' = (P^T (X^T X) P)^{-1} P^T X^T y\n",
    "$$\n",
    "$$\n",
    ".............\n",
    "$$"
   ]
  },
  {
   "cell_type": "markdown",
   "id": "2c56fb8f",
   "metadata": {},
   "source": [
    "## Алгоритм преобразования"
   ]
  },
  {
   "cell_type": "markdown",
   "id": "d307c3c4",
   "metadata": {},
   "source": [
    "Этапы алгоритма преобразования:\n",
    "\n",
    "1) Создать матрицу признаков $X$ из признаков датафрейма;\n",
    "\n",
    "2) Придумать матрицу ключ -  $P$, такую матрицу мы будем генирировать с помощью генератора псевдослучайных чисел в `numpy`. Матрица ключ должна быть квадратной, а ее размер должен совпадать с числом признаков:\n",
    "\n",
    "\\begin{equation*}\n",
    "X_{m,n} = \n",
    "\\begin{pmatrix}\n",
    "x_{1,1} & x_{1,2} & \\cdots & x_{1,n} \\\\\n",
    "x_{2,1} & x_{2,2} & \\cdots & x_{2,n} \\\\\n",
    "\\vdots  & \\vdots  & \\ddots & \\vdots  \\\\\n",
    "x_{m,1} & x_{m,2} & \\cdots & x_{m,n} \n",
    "\\end{pmatrix}\n",
    "\\end{equation*}\n",
    "\n",
    "\\begin{equation*}\n",
    "P_{m,n} = \n",
    "\\begin{pmatrix}\n",
    "p_{1,1} & p_{1,2} & \\cdots & p_{1,n} \\\\\n",
    "p_{2,1} & p_{2,2} & \\cdots & p_{2,n} \\\\\n",
    "\\vdots  & \\vdots  & \\ddots & \\vdots  \\\\\n",
    "p_{n,1} & p_{n,2} & \\cdots & p_{n,n} \n",
    "\\end{pmatrix}\n",
    "\\end{equation*}\n",
    "\n",
    "3) Матрица ключ должна быть обратимой, необходимо выполнить проверку на обратимость матрицы. Матрица обратима тогда и только тогда, когда она невырождена, то есть её определитель не равен нулю. Вычислим определитель матрицы ключа и убедимся, что он не равен нулю.\n",
    "\n",
    "$$\n",
    "det|P| \\neq 0 \n",
    "$$\n",
    "\n",
    "4) Если у матрицы ключа есть обратная матрица (определитель матрицы ключа не равен нулю), произвести шифрование признаков путем умножения матрицы признаков на матрицу ключ:\n",
    "$$\n",
    "X_c = XP\n",
    "$$\n",
    "\n",
    "Теперь $X_c$ - зашифрованная матрица признаков. Для получения исходных данных, необходимо умножить зашифрованную матрицу признаков на матрицу обратную матрице ключу:\n",
    "$$\n",
    "X = X_c P^{-1}\n",
    "$$"
   ]
  },
  {
   "cell_type": "markdown",
   "id": "1925bb97",
   "metadata": {},
   "source": [
    "Убедимся в надежности такого метода шифрования в нашем конкретном случае (будем рассматривать только метод грубой силы (brute force), то есть перебор всех возможных вариантов). Для начала вычислим размер исходной матрицы признаков и матрицы ключа (так как один из признаков целевой, а к остальным признакам мы добавляем нулевой столбец размер датафрейма совпадает с размерами матриц):"
   ]
  },
  {
   "cell_type": "code",
   "execution_count": 47,
   "id": "57cbf132",
   "metadata": {},
   "outputs": [
    {
     "data": {
      "text/plain": [
       "(4847, 5)"
      ]
     },
     "execution_count": 47,
     "metadata": {},
     "output_type": "execute_result"
    }
   ],
   "source": [
    "df.shape"
   ]
  },
  {
   "cell_type": "markdown",
   "id": "feea0c78",
   "metadata": {},
   "source": [
    "При генерации матрицы ключа для каждого элемента матрицы будем генерировать псевдослучайное число. Посчитаем число их возможных размещений в матрице ключе. Пусть $A$ - множество из $n$ возможных чисел в каждом элементе матрицы ключа. Тогда мы имеем множество из $n$ элементов, которые собираемся разместить по $k$ элементам матрицы. "
   ]
  },
  {
   "cell_type": "markdown",
   "id": "0ed1ae74",
   "metadata": {},
   "source": [
    "Так как для каждого элемента матрицы генерируется случайное число из множества $A$ - это размещение с повторениями. По правилу умножения количество размещений с повторениями из $n$ по $k$, обозначаемое ${\\displaystyle {\\bar {A}}_{n}^{k}}$, равно:\n",
    "$$\n",
    "{\\displaystyle {\\bar {A}}_{n}^{k}=n^{k}}\n",
    "$$"
   ]
  },
  {
   "cell_type": "markdown",
   "id": "7e81fb39",
   "metadata": {},
   "source": [
    "Посчитаем $k$:"
   ]
  },
  {
   "cell_type": "code",
   "execution_count": 48,
   "id": "41542b68",
   "metadata": {
    "scrolled": false
   },
   "outputs": [
    {
     "data": {
      "text/plain": [
       "25"
      ]
     },
     "execution_count": 48,
     "metadata": {},
     "output_type": "execute_result"
    }
   ],
   "source": [
    "df.shape[1] ** 2"
   ]
  },
  {
   "cell_type": "markdown",
   "id": "42f88318",
   "metadata": {},
   "source": [
    "Очевидно, что перебор числа комбинаций $n^{25}$ методом грубой силы займет крайне длительное время при больших $n$, к тому же полученную матрицу необходимо скалярно умножить на матрицу зашифрованных признаков, что еще больше увеличивает время подбора."
   ]
  },
  {
   "cell_type": "markdown",
   "id": "618eab32",
   "metadata": {},
   "source": [
    "При $n$ = 10 (множество случайных чисел в пределах от 0 до 9) мы имеем $10^{25}$ комбинаций. Ограничимся таким уровнем надежности. "
   ]
  },
  {
   "cell_type": "markdown",
   "id": "b14270bc",
   "metadata": {},
   "source": [
    "## Проверка алгоритма"
   ]
  },
  {
   "cell_type": "markdown",
   "id": "0c11662d",
   "metadata": {},
   "source": [
    "Для воспроизводимости результатов зафиксируем случайность:"
   ]
  },
  {
   "cell_type": "code",
   "execution_count": 49,
   "id": "671f400a",
   "metadata": {},
   "outputs": [],
   "source": [
    "SEED = 12345"
   ]
  },
  {
   "cell_type": "markdown",
   "id": "828229cf",
   "metadata": {},
   "source": [
    "Запишем признаки и целевой признак в соответствующие фреймы:"
   ]
  },
  {
   "cell_type": "code",
   "execution_count": 50,
   "id": "fcef93f4",
   "metadata": {},
   "outputs": [],
   "source": [
    "features = df.drop('insurance_payments', axis=1).copy()\n",
    "target = df['insurance_payments'].copy()"
   ]
  },
  {
   "cell_type": "markdown",
   "id": "01880d02",
   "metadata": {},
   "source": [
    "Проктонтролируем размеры фреймов:"
   ]
  },
  {
   "cell_type": "code",
   "execution_count": 51,
   "id": "97e2cda5",
   "metadata": {},
   "outputs": [
    {
     "data": {
      "text/plain": [
       "((4847, 4), (4847,))"
      ]
     },
     "execution_count": 51,
     "metadata": {},
     "output_type": "execute_result"
    }
   ],
   "source": [
    "features.shape, target.shape"
   ]
  },
  {
   "cell_type": "markdown",
   "id": "57a6bb33",
   "metadata": {},
   "source": [
    "Напишем функцию, которая реализует алгоритм шифрования:"
   ]
  },
  {
   "cell_type": "code",
   "execution_count": 52,
   "id": "0429fcc5",
   "metadata": {},
   "outputs": [],
   "source": [
    "def encryption(features, SEED):\n",
    "    # Шаг 1. Создаем матрицу Х из исходных признаков \n",
    "    X = features.copy()\n",
    "    # Шаг 2. Генерируем матрицу ключ P (в каждый элемент матрицы будем генерировать случайное число от 0 до 9)\n",
    "    np.random.seed(SEED)\n",
    "    p_matrix = np.random.randint(0,10, (X.shape[1], X.shape[1]))\n",
    "    det = np.linalg.det(p_matrix)\n",
    "    # Шаг 3. Проверям матрицу ключ на вырожденность. Генерируем новые матрицы ключи, если наша получилась вырожденной\n",
    "    # изменяя SEED\n",
    "    while det == 0:\n",
    "        SEED += 1\n",
    "        p_matrix = np.random.randint(0,10, X.shape)\n",
    "        det = np.linalg.det(p_matrix)\n",
    "    # Шаг 4. Производим шифрование \n",
    "    encryption_features = X @ p_matrix\n",
    "    encryption_features.columns = features.columns\n",
    "    return encryption_features, p_matrix, SEED\n",
    "    "
   ]
  },
  {
   "cell_type": "code",
   "execution_count": 53,
   "id": "5c967759",
   "metadata": {},
   "outputs": [],
   "source": [
    "encryption_features, p_matrix, SEED = encryption(features, SEED)"
   ]
  },
  {
   "cell_type": "markdown",
   "id": "b1dd49cc",
   "metadata": {},
   "source": [
    "Посмотрим была ли матрица вырожденная при исходном значении `SEED`:"
   ]
  },
  {
   "cell_type": "code",
   "execution_count": 54,
   "id": "ec80bfed",
   "metadata": {},
   "outputs": [
    {
     "data": {
      "text/plain": [
       "12345"
      ]
     },
     "execution_count": 54,
     "metadata": {},
     "output_type": "execute_result"
    }
   ],
   "source": [
    "SEED"
   ]
  },
  {
   "cell_type": "markdown",
   "id": "b72102a4",
   "metadata": {},
   "source": [
    "Значение `SEED` не изменилось, значит мы сразу успешно нашли невырожденную матрицу ключ."
   ]
  },
  {
   "cell_type": "markdown",
   "id": "186da5a8",
   "metadata": {},
   "source": [
    "Посмотрим на матрицу ключ:"
   ]
  },
  {
   "cell_type": "code",
   "execution_count": 55,
   "id": "4858a174",
   "metadata": {},
   "outputs": [
    {
     "data": {
      "text/plain": [
       "array([[2, 5, 1, 4],\n",
       "       [9, 5, 2, 1],\n",
       "       [6, 1, 9, 7],\n",
       "       [6, 0, 2, 9]])"
      ]
     },
     "execution_count": 55,
     "metadata": {},
     "output_type": "execute_result"
    }
   ],
   "source": [
    "p_matrix"
   ]
  },
  {
   "cell_type": "code",
   "execution_count": 56,
   "id": "83f33739",
   "metadata": {},
   "outputs": [
    {
     "data": {
      "text/html": [
       "<div>\n",
       "<style scoped>\n",
       "    .dataframe tbody tr th:only-of-type {\n",
       "        vertical-align: middle;\n",
       "    }\n",
       "\n",
       "    .dataframe tbody tr th {\n",
       "        vertical-align: top;\n",
       "    }\n",
       "\n",
       "    .dataframe thead th {\n",
       "        text-align: right;\n",
       "    }\n",
       "</style>\n",
       "<table border=\"1\" class=\"dataframe\">\n",
       "  <thead>\n",
       "    <tr style=\"text-align: right;\">\n",
       "      <th></th>\n",
       "      <th>gender</th>\n",
       "      <th>age</th>\n",
       "      <th>salary</th>\n",
       "      <th>family_member</th>\n",
       "    </tr>\n",
       "  </thead>\n",
       "  <tbody>\n",
       "    <tr>\n",
       "      <th>0</th>\n",
       "      <td>1</td>\n",
       "      <td>41</td>\n",
       "      <td>49600</td>\n",
       "      <td>1</td>\n",
       "    </tr>\n",
       "    <tr>\n",
       "      <th>1</th>\n",
       "      <td>0</td>\n",
       "      <td>46</td>\n",
       "      <td>38000</td>\n",
       "      <td>1</td>\n",
       "    </tr>\n",
       "    <tr>\n",
       "      <th>2</th>\n",
       "      <td>0</td>\n",
       "      <td>29</td>\n",
       "      <td>21000</td>\n",
       "      <td>0</td>\n",
       "    </tr>\n",
       "    <tr>\n",
       "      <th>3</th>\n",
       "      <td>0</td>\n",
       "      <td>21</td>\n",
       "      <td>41700</td>\n",
       "      <td>2</td>\n",
       "    </tr>\n",
       "    <tr>\n",
       "      <th>4</th>\n",
       "      <td>1</td>\n",
       "      <td>28</td>\n",
       "      <td>26100</td>\n",
       "      <td>0</td>\n",
       "    </tr>\n",
       "    <tr>\n",
       "      <th>...</th>\n",
       "      <td>...</td>\n",
       "      <td>...</td>\n",
       "      <td>...</td>\n",
       "      <td>...</td>\n",
       "    </tr>\n",
       "    <tr>\n",
       "      <th>4842</th>\n",
       "      <td>0</td>\n",
       "      <td>28</td>\n",
       "      <td>35700</td>\n",
       "      <td>2</td>\n",
       "    </tr>\n",
       "    <tr>\n",
       "      <th>4843</th>\n",
       "      <td>0</td>\n",
       "      <td>34</td>\n",
       "      <td>52400</td>\n",
       "      <td>1</td>\n",
       "    </tr>\n",
       "    <tr>\n",
       "      <th>4844</th>\n",
       "      <td>0</td>\n",
       "      <td>20</td>\n",
       "      <td>33900</td>\n",
       "      <td>2</td>\n",
       "    </tr>\n",
       "    <tr>\n",
       "      <th>4845</th>\n",
       "      <td>1</td>\n",
       "      <td>22</td>\n",
       "      <td>32700</td>\n",
       "      <td>3</td>\n",
       "    </tr>\n",
       "    <tr>\n",
       "      <th>4846</th>\n",
       "      <td>1</td>\n",
       "      <td>28</td>\n",
       "      <td>40600</td>\n",
       "      <td>1</td>\n",
       "    </tr>\n",
       "  </tbody>\n",
       "</table>\n",
       "<p>4847 rows × 4 columns</p>\n",
       "</div>"
      ],
      "text/plain": [
       "      gender  age  salary  family_member\n",
       "0          1   41   49600              1\n",
       "1          0   46   38000              1\n",
       "2          0   29   21000              0\n",
       "3          0   21   41700              2\n",
       "4          1   28   26100              0\n",
       "...      ...  ...     ...            ...\n",
       "4842       0   28   35700              2\n",
       "4843       0   34   52400              1\n",
       "4844       0   20   33900              2\n",
       "4845       1   22   32700              3\n",
       "4846       1   28   40600              1\n",
       "\n",
       "[4847 rows x 4 columns]"
      ]
     },
     "execution_count": 56,
     "metadata": {},
     "output_type": "execute_result"
    }
   ],
   "source": [
    "features"
   ]
  },
  {
   "cell_type": "markdown",
   "id": "31adc3d7",
   "metadata": {},
   "source": [
    "Посмотрим на первые 5 объектов зашифрованных признаков:"
   ]
  },
  {
   "cell_type": "code",
   "execution_count": 57,
   "id": "280d3886",
   "metadata": {},
   "outputs": [
    {
     "data": {
      "text/html": [
       "<div>\n",
       "<style scoped>\n",
       "    .dataframe tbody tr th:only-of-type {\n",
       "        vertical-align: middle;\n",
       "    }\n",
       "\n",
       "    .dataframe tbody tr th {\n",
       "        vertical-align: top;\n",
       "    }\n",
       "\n",
       "    .dataframe thead th {\n",
       "        text-align: right;\n",
       "    }\n",
       "</style>\n",
       "<table border=\"1\" class=\"dataframe\">\n",
       "  <thead>\n",
       "    <tr style=\"text-align: right;\">\n",
       "      <th></th>\n",
       "      <th>gender</th>\n",
       "      <th>age</th>\n",
       "      <th>salary</th>\n",
       "      <th>family_member</th>\n",
       "    </tr>\n",
       "  </thead>\n",
       "  <tbody>\n",
       "    <tr>\n",
       "      <th>0</th>\n",
       "      <td>297977</td>\n",
       "      <td>49810</td>\n",
       "      <td>446485</td>\n",
       "      <td>347254</td>\n",
       "    </tr>\n",
       "    <tr>\n",
       "      <th>1</th>\n",
       "      <td>228420</td>\n",
       "      <td>38230</td>\n",
       "      <td>342094</td>\n",
       "      <td>266055</td>\n",
       "    </tr>\n",
       "    <tr>\n",
       "      <th>2</th>\n",
       "      <td>126261</td>\n",
       "      <td>21145</td>\n",
       "      <td>189058</td>\n",
       "      <td>147029</td>\n",
       "    </tr>\n",
       "    <tr>\n",
       "      <th>3</th>\n",
       "      <td>250401</td>\n",
       "      <td>41805</td>\n",
       "      <td>375346</td>\n",
       "      <td>291939</td>\n",
       "    </tr>\n",
       "    <tr>\n",
       "      <th>4</th>\n",
       "      <td>156854</td>\n",
       "      <td>26245</td>\n",
       "      <td>234957</td>\n",
       "      <td>182732</td>\n",
       "    </tr>\n",
       "  </tbody>\n",
       "</table>\n",
       "</div>"
      ],
      "text/plain": [
       "   gender    age  salary  family_member\n",
       "0  297977  49810  446485         347254\n",
       "1  228420  38230  342094         266055\n",
       "2  126261  21145  189058         147029\n",
       "3  250401  41805  375346         291939\n",
       "4  156854  26245  234957         182732"
      ]
     },
     "execution_count": 57,
     "metadata": {},
     "output_type": "execute_result"
    }
   ],
   "source": [
    "encryption_features.head()"
   ]
  },
  {
   "cell_type": "markdown",
   "id": "9f7ad425",
   "metadata": {},
   "source": [
    "Попробуем получить исходные данные путем умножения на обратную матрицу ключ:"
   ]
  },
  {
   "cell_type": "code",
   "execution_count": 58,
   "id": "cc3124aa",
   "metadata": {},
   "outputs": [
    {
     "data": {
      "text/html": [
       "<div>\n",
       "<style scoped>\n",
       "    .dataframe tbody tr th:only-of-type {\n",
       "        vertical-align: middle;\n",
       "    }\n",
       "\n",
       "    .dataframe tbody tr th {\n",
       "        vertical-align: top;\n",
       "    }\n",
       "\n",
       "    .dataframe thead th {\n",
       "        text-align: right;\n",
       "    }\n",
       "</style>\n",
       "<table border=\"1\" class=\"dataframe\">\n",
       "  <thead>\n",
       "    <tr style=\"text-align: right;\">\n",
       "      <th></th>\n",
       "      <th>0</th>\n",
       "      <th>1</th>\n",
       "      <th>2</th>\n",
       "      <th>3</th>\n",
       "    </tr>\n",
       "  </thead>\n",
       "  <tbody>\n",
       "    <tr>\n",
       "      <th>0</th>\n",
       "      <td>0</td>\n",
       "      <td>40</td>\n",
       "      <td>49600</td>\n",
       "      <td>1</td>\n",
       "    </tr>\n",
       "    <tr>\n",
       "      <th>1</th>\n",
       "      <td>0</td>\n",
       "      <td>45</td>\n",
       "      <td>38000</td>\n",
       "      <td>1</td>\n",
       "    </tr>\n",
       "    <tr>\n",
       "      <th>2</th>\n",
       "      <td>0</td>\n",
       "      <td>28</td>\n",
       "      <td>21000</td>\n",
       "      <td>0</td>\n",
       "    </tr>\n",
       "    <tr>\n",
       "      <th>3</th>\n",
       "      <td>0</td>\n",
       "      <td>20</td>\n",
       "      <td>41700</td>\n",
       "      <td>2</td>\n",
       "    </tr>\n",
       "    <tr>\n",
       "      <th>4</th>\n",
       "      <td>0</td>\n",
       "      <td>27</td>\n",
       "      <td>26100</td>\n",
       "      <td>0</td>\n",
       "    </tr>\n",
       "  </tbody>\n",
       "</table>\n",
       "</div>"
      ],
      "text/plain": [
       "   0   1      2  3\n",
       "0  0  40  49600  1\n",
       "1  0  45  38000  1\n",
       "2  0  28  21000  0\n",
       "3  0  20  41700  2\n",
       "4  0  27  26100  0"
      ]
     },
     "execution_count": 58,
     "metadata": {},
     "output_type": "execute_result"
    }
   ],
   "source": [
    "(encryption_features @ np.linalg.inv(p_matrix)).astype(int).head()"
   ]
  },
  {
   "cell_type": "markdown",
   "id": "20f02243",
   "metadata": {},
   "source": [
    "Сравним с матрицей признаков до ширования:"
   ]
  },
  {
   "cell_type": "code",
   "execution_count": 59,
   "id": "bd665bb5",
   "metadata": {},
   "outputs": [
    {
     "data": {
      "text/html": [
       "<div>\n",
       "<style scoped>\n",
       "    .dataframe tbody tr th:only-of-type {\n",
       "        vertical-align: middle;\n",
       "    }\n",
       "\n",
       "    .dataframe tbody tr th {\n",
       "        vertical-align: top;\n",
       "    }\n",
       "\n",
       "    .dataframe thead th {\n",
       "        text-align: right;\n",
       "    }\n",
       "</style>\n",
       "<table border=\"1\" class=\"dataframe\">\n",
       "  <thead>\n",
       "    <tr style=\"text-align: right;\">\n",
       "      <th></th>\n",
       "      <th>gender</th>\n",
       "      <th>age</th>\n",
       "      <th>salary</th>\n",
       "      <th>family_member</th>\n",
       "    </tr>\n",
       "  </thead>\n",
       "  <tbody>\n",
       "    <tr>\n",
       "      <th>0</th>\n",
       "      <td>1</td>\n",
       "      <td>41</td>\n",
       "      <td>49600</td>\n",
       "      <td>1</td>\n",
       "    </tr>\n",
       "    <tr>\n",
       "      <th>1</th>\n",
       "      <td>0</td>\n",
       "      <td>46</td>\n",
       "      <td>38000</td>\n",
       "      <td>1</td>\n",
       "    </tr>\n",
       "    <tr>\n",
       "      <th>2</th>\n",
       "      <td>0</td>\n",
       "      <td>29</td>\n",
       "      <td>21000</td>\n",
       "      <td>0</td>\n",
       "    </tr>\n",
       "    <tr>\n",
       "      <th>3</th>\n",
       "      <td>0</td>\n",
       "      <td>21</td>\n",
       "      <td>41700</td>\n",
       "      <td>2</td>\n",
       "    </tr>\n",
       "    <tr>\n",
       "      <th>4</th>\n",
       "      <td>1</td>\n",
       "      <td>28</td>\n",
       "      <td>26100</td>\n",
       "      <td>0</td>\n",
       "    </tr>\n",
       "  </tbody>\n",
       "</table>\n",
       "</div>"
      ],
      "text/plain": [
       "   gender  age  salary  family_member\n",
       "0       1   41   49600              1\n",
       "1       0   46   38000              1\n",
       "2       0   29   21000              0\n",
       "3       0   21   41700              2\n",
       "4       1   28   26100              0"
      ]
     },
     "execution_count": 59,
     "metadata": {},
     "output_type": "execute_result"
    }
   ],
   "source": [
    "features.head()"
   ]
  },
  {
   "cell_type": "markdown",
   "id": "af56d480",
   "metadata": {},
   "source": [
    "Значения после дешифрации соответствуют исходным данным."
   ]
  },
  {
   "cell_type": "markdown",
   "id": "41e9e56f",
   "metadata": {},
   "source": [
    "Перейдем к моделям. Создадим отложенную выборку (25%) для контроля качества линейной регрессии. Для исходных признаков:"
   ]
  },
  {
   "cell_type": "code",
   "execution_count": 60,
   "id": "9fd17896",
   "metadata": {},
   "outputs": [],
   "source": [
    "features_train, features_test, target_train, target_test = train_test_split(features,\n",
    "                                                                           target,\n",
    "                                                                           random_state=SEED,\n",
    "                                                                           test_size=0.25)"
   ]
  },
  {
   "cell_type": "markdown",
   "id": "a6ce847d",
   "metadata": {},
   "source": [
    "И для зашифрованных:"
   ]
  },
  {
   "cell_type": "code",
   "execution_count": 61,
   "id": "6fdc59d1",
   "metadata": {},
   "outputs": [],
   "source": [
    "encr_features_train, encr_features_test, target_train, target_test = train_test_split(encryption_features,\n",
    "                                                                           target,\n",
    "                                                                           random_state=SEED,\n",
    "                                                                           test_size=0.25)"
   ]
  },
  {
   "cell_type": "markdown",
   "id": "893d468e",
   "metadata": {},
   "source": [
    "Проктонтролируем размеры фреймов:"
   ]
  },
  {
   "cell_type": "code",
   "execution_count": 62,
   "id": "c64f007a",
   "metadata": {},
   "outputs": [
    {
     "data": {
      "text/plain": [
       "((3635, 4), (3635,))"
      ]
     },
     "execution_count": 62,
     "metadata": {},
     "output_type": "execute_result"
    }
   ],
   "source": [
    "features_train.shape, target_train.shape"
   ]
  },
  {
   "cell_type": "code",
   "execution_count": 63,
   "id": "b80e02e9",
   "metadata": {},
   "outputs": [
    {
     "data": {
      "text/plain": [
       "((1212, 4), (1212,))"
      ]
     },
     "execution_count": 63,
     "metadata": {},
     "output_type": "execute_result"
    }
   ],
   "source": [
    "features_test.shape, target_test.shape"
   ]
  },
  {
   "cell_type": "code",
   "execution_count": 64,
   "id": "5383367d",
   "metadata": {},
   "outputs": [
    {
     "data": {
      "text/plain": [
       "((3635, 4), (1212, 4))"
      ]
     },
     "execution_count": 64,
     "metadata": {},
     "output_type": "execute_result"
    }
   ],
   "source": [
    "encr_features_train.shape, encr_features_test.shape"
   ]
  },
  {
   "cell_type": "markdown",
   "id": "73e4cf2f",
   "metadata": {},
   "source": [
    "Линейная регрессия чувствительна к масштабу признаков. Масштабировать признаки будем с помощью стандартизации:"
   ]
  },
  {
   "cell_type": "code",
   "execution_count": 65,
   "id": "8067602a",
   "metadata": {},
   "outputs": [],
   "source": [
    "scaler = StandardScaler()"
   ]
  },
  {
   "cell_type": "markdown",
   "id": "4712a183",
   "metadata": {},
   "source": [
    "Инициализируем модель линейной регрессии:"
   ]
  },
  {
   "cell_type": "code",
   "execution_count": 66,
   "id": "dc06268e",
   "metadata": {},
   "outputs": [],
   "source": [
    "liner_regression = LinearRegression()"
   ]
  },
  {
   "cell_type": "markdown",
   "id": "f00c57eb",
   "metadata": {},
   "source": [
    "Создадим пайплайн для масштабирования признаков и обучения линейной регрессии:"
   ]
  },
  {
   "cell_type": "code",
   "execution_count": 67,
   "id": "de5995dd",
   "metadata": {},
   "outputs": [],
   "source": [
    "pipeline = Pipeline([\n",
    "    ('scaler', scaler,),\n",
    "    ('linearregression', liner_regression)\n",
    "    ])"
   ]
  },
  {
   "cell_type": "code",
   "execution_count": 68,
   "id": "6ec88ab2",
   "metadata": {},
   "outputs": [
    {
     "data": {
      "text/plain": [
       "Pipeline(steps=[('scaler', StandardScaler()),\n",
       "                ('linearregression', LinearRegression())])"
      ]
     },
     "execution_count": 68,
     "metadata": {},
     "output_type": "execute_result"
    }
   ],
   "source": [
    "pipeline.fit(features_train, target_train)"
   ]
  },
  {
   "cell_type": "markdown",
   "id": "b321a176",
   "metadata": {},
   "source": [
    "Посчитаем средний коэффциент детерминации на 5-ти кратной кросс-валидации:"
   ]
  },
  {
   "cell_type": "code",
   "execution_count": 69,
   "id": "6487cbca",
   "metadata": {},
   "outputs": [
    {
     "data": {
      "text/plain": [
       "0.4229423092181288"
      ]
     },
     "execution_count": 69,
     "metadata": {},
     "output_type": "execute_result"
    }
   ],
   "source": [
    "cross_val_score(pipeline, features_test, target_test, scoring='r2', cv=5).mean()"
   ]
  },
  {
   "cell_type": "markdown",
   "id": "616bd20e",
   "metadata": {},
   "source": [
    "Теперь для зашифрованных признаков:"
   ]
  },
  {
   "cell_type": "code",
   "execution_count": null,
   "id": "0a068f49",
   "metadata": {},
   "outputs": [],
   "source": [
    "pipeline.fit(encr_features_train, target_train)"
   ]
  },
  {
   "cell_type": "code",
   "execution_count": 70,
   "id": "95205ef1",
   "metadata": {},
   "outputs": [
    {
     "data": {
      "text/plain": [
       "0.4229423092181256"
      ]
     },
     "execution_count": 70,
     "metadata": {},
     "output_type": "execute_result"
    }
   ],
   "source": [
    "cross_val_score(pipeline, encr_features_test, target_test, scoring='r2', cv=5).mean()"
   ]
  },
  {
   "cell_type": "markdown",
   "id": "09fb47ef",
   "metadata": {},
   "source": [
    "Есть отличие лишь в 15 знаке после запятой в пользу модели на исходных признаках, что находится в пределах погрешности и скорее всего связано с кросс-валидацией."
   ]
  },
  {
   "cell_type": "markdown",
   "id": "f19430e0",
   "metadata": {},
   "source": [
    "## Общий вывод"
   ]
  },
  {
   "cell_type": "markdown",
   "id": "53bc874a",
   "metadata": {},
   "source": [
    "В ходе выполнения проекта данные были загружены и предобработаны. При предобработке:\n",
    "\n",
    "1) Названия признаков приведены в унифицированный вид: латиница в нижнем регистре;\n",
    "\n",
    "2) Удалено 153 дубликата;\n",
    "\n",
    "3) Признаки с возрастом и зарплатой приведены к целочисленному типу.\n",
    "\n",
    "Был предложен и обоснован алгоритм шифрования исходных данных путем умножения на обратимую матрицу ключ. Надежность такого метода заключается в том, что при подборе матрицы ключа необходимо перебрать $10^{25}$ вариантов матриц ключей и скалярно умножить каждую на зашифрованные признаки. Стоит отметить, что число матриц ключей для подбора можно увеличить путем увеличения диапазона случайных чисел в элементах матрицы ключа (в работе 10 вариантов). Причем увеличение диапазона на порядок влечет за собой увеличение числа вариантов матриц ключей на 25 порядков.\n",
    "\n",
    "Алгоритм был реализован на исходных признаках, после чего были построены модели линейной регрессии для исходных и зашифрованных признаков (данные предварительно были масштабированы с помощью стандартизации). \n",
    "\n",
    "Модель обучалась на 75% датасета, выбранного в качестве тренировочных данных. Качество моделей линейной регрессии оценивалось на основе коэффициента детерминации ($R^{2}$) на предварительно отложенных данных (25% от всего датасета) с 5-ти кратной кросс валидацией.\n",
    "\n",
    "Коэффициенты детерминации для моделей представлены в таблице:\n",
    "\n",
    "|Признаки|Метрика $R^{2}$|\n",
    "|--------|---------------|\n",
    "|Исходные|0.42294230921812**88**|\n",
    "|Зашифрованные|0.42294230921812**56**|\n",
    "\n",
    "Отличие качества моделей по коэффициенту детерминации наблюдается лишь в 15 знаке после запятой, что находится в пределах погрешности и скорее всего связано с кросс-валидацией.\n"
   ]
  }
 ],
 "metadata": {
  "kernelspec": {
   "display_name": "Python 3 (ipykernel)",
   "language": "python",
   "name": "python3"
  },
  "language_info": {
   "codemirror_mode": {
    "name": "ipython",
    "version": 3
   },
   "file_extension": ".py",
   "mimetype": "text/x-python",
   "name": "python",
   "nbconvert_exporter": "python",
   "pygments_lexer": "ipython3",
   "version": "3.9.7"
  }
 },
 "nbformat": 4,
 "nbformat_minor": 5
}
