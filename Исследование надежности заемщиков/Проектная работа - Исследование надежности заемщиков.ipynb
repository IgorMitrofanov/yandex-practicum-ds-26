{
 "cells": [
  {
   "cell_type": "markdown",
   "id": "932ce385",
   "metadata": {},
   "source": [
    "# Исследование надёжности заёмщиков\n",
    "\n",
    "Заказчик — кредитный отдел банка. Нужно разобраться, влияет ли семейное положение и количество детей клиента на факт погашения кредита в срок. Входные данные от банка — статистика о платёжеспособности клиентов.\n",
    "\n",
    "Результаты исследования будут учтены при построении модели **кредитного скоринга** — специальной системы, которая оценивает способность потенциального заёмщика вернуть кредит банку."
   ]
  },
  {
   "cell_type": "markdown",
   "id": "4ac09ed1",
   "metadata": {},
   "source": [
    "## Описание данных"
   ]
  },
  {
   "cell_type": "markdown",
   "id": "786ae790",
   "metadata": {},
   "source": [
    "\n",
    "\n",
    "`children` — количество детей в семье;\n",
    "\n",
    "`days_employed` — общий трудовой стаж в днях;\n",
    "\n",
    "`dob_years` — возраст клиента в годах;\n",
    "\n",
    "`education` — уровень образования клиента;\n",
    "\n",
    "`education_id` — идентификатор уровня образования;\n",
    "\n",
    "`family_status` — семейное положение;\n",
    "\n",
    "`family_status_id` — идентификатор семейного положения;\n",
    "\n",
    "`gender` — пол клиента;\n",
    "\n",
    "`income_type` — тип занятости;\n",
    "\n",
    "`debt` — имел ли задолженность по возврату кредитов;\n",
    "\n",
    "`total_income` — ежемесячный доход;\n",
    "\n",
    "`purpose` — цель получения кредита."
   ]
  },
  {
   "cell_type": "markdown",
   "id": "e546aa96",
   "metadata": {},
   "source": [
    "## Первый взгляд на данные"
   ]
  },
  {
   "cell_type": "markdown",
   "id": "944b0f81",
   "metadata": {},
   "source": [
    "Загрузим библиотеки:"
   ]
  },
  {
   "cell_type": "code",
   "execution_count": 1,
   "id": "19282b77",
   "metadata": {
    "scrolled": false
   },
   "outputs": [
    {
     "name": "stdout",
     "output_type": "stream",
     "text": [
      "Requirement already satisfied: pymorphy2 in f:\\anaconda3\\lib\\site-packages (0.9.1)\n",
      "Requirement already satisfied: pymorphy2-dicts-ru<3.0,>=2.4 in f:\\anaconda3\\lib\\site-packages (from pymorphy2) (2.4.417127.4579844)\n",
      "Requirement already satisfied: docopt>=0.6 in f:\\anaconda3\\lib\\site-packages (from pymorphy2) (0.6.2)\n",
      "Requirement already satisfied: dawg-python>=0.7.1 in f:\\anaconda3\\lib\\site-packages (from pymorphy2) (0.7.2)\n"
     ]
    }
   ],
   "source": [
    "!pip install pymorphy2\n",
    "!pip install missingno"
   ]
  },
  {
   "cell_type": "markdown",
   "id": "e6f8eda6",
   "metadata": {},
   "source": [
    "Установим библиотеки:"
   ]
  },
  {
   "cell_type": "code",
   "execution_count": 2,
   "id": "d1f57944",
   "metadata": {},
   "outputs": [],
   "source": [
    "import pandas as pd\n",
    "import missingno as msno\n",
    "import pymorphy2\n",
    "from collections import Counter\n",
    "import warnings\n",
    "warnings.filterwarnings('ignore')\n",
    "import matplotlib.pyplot as plt"
   ]
  },
  {
   "cell_type": "markdown",
   "id": "4efd51ee",
   "metadata": {},
   "source": [
    "Загрузим данные:"
   ]
  },
  {
   "cell_type": "code",
   "execution_count": 3,
   "id": "13c325f4",
   "metadata": {
    "scrolled": false
   },
   "outputs": [],
   "source": [
    "df = pd.read_csv(r'C:\\Users\\Wunderwaffe\\Downloads\\data.csv')"
   ]
  },
  {
   "cell_type": "markdown",
   "id": "cfb14d96",
   "metadata": {},
   "source": [
    "Выведем первые пять строк датафрейма:"
   ]
  },
  {
   "cell_type": "code",
   "execution_count": 4,
   "id": "13bc8653",
   "metadata": {},
   "outputs": [
    {
     "data": {
      "text/html": [
       "<div>\n",
       "<style scoped>\n",
       "    .dataframe tbody tr th:only-of-type {\n",
       "        vertical-align: middle;\n",
       "    }\n",
       "\n",
       "    .dataframe tbody tr th {\n",
       "        vertical-align: top;\n",
       "    }\n",
       "\n",
       "    .dataframe thead th {\n",
       "        text-align: right;\n",
       "    }\n",
       "</style>\n",
       "<table border=\"1\" class=\"dataframe\">\n",
       "  <thead>\n",
       "    <tr style=\"text-align: right;\">\n",
       "      <th></th>\n",
       "      <th>children</th>\n",
       "      <th>days_employed</th>\n",
       "      <th>dob_years</th>\n",
       "      <th>education</th>\n",
       "      <th>education_id</th>\n",
       "      <th>family_status</th>\n",
       "      <th>family_status_id</th>\n",
       "      <th>gender</th>\n",
       "      <th>income_type</th>\n",
       "      <th>debt</th>\n",
       "      <th>total_income</th>\n",
       "      <th>purpose</th>\n",
       "    </tr>\n",
       "  </thead>\n",
       "  <tbody>\n",
       "    <tr>\n",
       "      <th>0</th>\n",
       "      <td>1</td>\n",
       "      <td>-8437.673028</td>\n",
       "      <td>42</td>\n",
       "      <td>высшее</td>\n",
       "      <td>0</td>\n",
       "      <td>женат / замужем</td>\n",
       "      <td>0</td>\n",
       "      <td>F</td>\n",
       "      <td>сотрудник</td>\n",
       "      <td>0</td>\n",
       "      <td>253875.639453</td>\n",
       "      <td>покупка жилья</td>\n",
       "    </tr>\n",
       "    <tr>\n",
       "      <th>1</th>\n",
       "      <td>1</td>\n",
       "      <td>-4024.803754</td>\n",
       "      <td>36</td>\n",
       "      <td>среднее</td>\n",
       "      <td>1</td>\n",
       "      <td>женат / замужем</td>\n",
       "      <td>0</td>\n",
       "      <td>F</td>\n",
       "      <td>сотрудник</td>\n",
       "      <td>0</td>\n",
       "      <td>112080.014102</td>\n",
       "      <td>приобретение автомобиля</td>\n",
       "    </tr>\n",
       "    <tr>\n",
       "      <th>2</th>\n",
       "      <td>0</td>\n",
       "      <td>-5623.422610</td>\n",
       "      <td>33</td>\n",
       "      <td>Среднее</td>\n",
       "      <td>1</td>\n",
       "      <td>женат / замужем</td>\n",
       "      <td>0</td>\n",
       "      <td>M</td>\n",
       "      <td>сотрудник</td>\n",
       "      <td>0</td>\n",
       "      <td>145885.952297</td>\n",
       "      <td>покупка жилья</td>\n",
       "    </tr>\n",
       "    <tr>\n",
       "      <th>3</th>\n",
       "      <td>3</td>\n",
       "      <td>-4124.747207</td>\n",
       "      <td>32</td>\n",
       "      <td>среднее</td>\n",
       "      <td>1</td>\n",
       "      <td>женат / замужем</td>\n",
       "      <td>0</td>\n",
       "      <td>M</td>\n",
       "      <td>сотрудник</td>\n",
       "      <td>0</td>\n",
       "      <td>267628.550329</td>\n",
       "      <td>дополнительное образование</td>\n",
       "    </tr>\n",
       "    <tr>\n",
       "      <th>4</th>\n",
       "      <td>0</td>\n",
       "      <td>340266.072047</td>\n",
       "      <td>53</td>\n",
       "      <td>среднее</td>\n",
       "      <td>1</td>\n",
       "      <td>гражданский брак</td>\n",
       "      <td>1</td>\n",
       "      <td>F</td>\n",
       "      <td>пенсионер</td>\n",
       "      <td>0</td>\n",
       "      <td>158616.077870</td>\n",
       "      <td>сыграть свадьбу</td>\n",
       "    </tr>\n",
       "  </tbody>\n",
       "</table>\n",
       "</div>"
      ],
      "text/plain": [
       "   children  days_employed  dob_years education  education_id  \\\n",
       "0         1   -8437.673028         42    высшее             0   \n",
       "1         1   -4024.803754         36   среднее             1   \n",
       "2         0   -5623.422610         33   Среднее             1   \n",
       "3         3   -4124.747207         32   среднее             1   \n",
       "4         0  340266.072047         53   среднее             1   \n",
       "\n",
       "      family_status  family_status_id gender income_type  debt   total_income  \\\n",
       "0   женат / замужем                 0      F   сотрудник     0  253875.639453   \n",
       "1   женат / замужем                 0      F   сотрудник     0  112080.014102   \n",
       "2   женат / замужем                 0      M   сотрудник     0  145885.952297   \n",
       "3   женат / замужем                 0      M   сотрудник     0  267628.550329   \n",
       "4  гражданский брак                 1      F   пенсионер     0  158616.077870   \n",
       "\n",
       "                      purpose  \n",
       "0               покупка жилья  \n",
       "1     приобретение автомобиля  \n",
       "2               покупка жилья  \n",
       "3  дополнительное образование  \n",
       "4             сыграть свадьбу  "
      ]
     },
     "execution_count": 4,
     "metadata": {},
     "output_type": "execute_result"
    }
   ],
   "source": [
    "df.head()"
   ]
  },
  {
   "cell_type": "markdown",
   "id": "e9c1ebd2",
   "metadata": {},
   "source": [
    "Крайне подозрительно выглядят отрицательные значения рабочего стажа. Изучим датафрейм подробнее далее."
   ]
  },
  {
   "cell_type": "markdown",
   "id": "9565183b",
   "metadata": {},
   "source": [
    "Посмотрим основную информацию о датафрейме:"
   ]
  },
  {
   "cell_type": "code",
   "execution_count": 5,
   "id": "9ff2ff0f",
   "metadata": {},
   "outputs": [
    {
     "name": "stdout",
     "output_type": "stream",
     "text": [
      "<class 'pandas.core.frame.DataFrame'>\n",
      "RangeIndex: 21525 entries, 0 to 21524\n",
      "Data columns (total 12 columns):\n",
      " #   Column            Non-Null Count  Dtype  \n",
      "---  ------            --------------  -----  \n",
      " 0   children          21525 non-null  int64  \n",
      " 1   days_employed     19351 non-null  float64\n",
      " 2   dob_years         21525 non-null  int64  \n",
      " 3   education         21525 non-null  object \n",
      " 4   education_id      21525 non-null  int64  \n",
      " 5   family_status     21525 non-null  object \n",
      " 6   family_status_id  21525 non-null  int64  \n",
      " 7   gender            21525 non-null  object \n",
      " 8   income_type       21525 non-null  object \n",
      " 9   debt              21525 non-null  int64  \n",
      " 10  total_income      19351 non-null  float64\n",
      " 11  purpose           21525 non-null  object \n",
      "dtypes: float64(2), int64(5), object(5)\n",
      "memory usage: 2.0+ MB\n"
     ]
    }
   ],
   "source": [
    "df.info()"
   ]
  },
  {
   "cell_type": "markdown",
   "id": "9e498b0f",
   "metadata": {},
   "source": [
    "Посмотрим долю пропусков:"
   ]
  },
  {
   "cell_type": "code",
   "execution_count": 6,
   "id": "132d3861",
   "metadata": {},
   "outputs": [
    {
     "data": {
      "text/plain": [
       "children            0.000000\n",
       "days_employed       0.100999\n",
       "dob_years           0.000000\n",
       "education           0.000000\n",
       "education_id        0.000000\n",
       "family_status       0.000000\n",
       "family_status_id    0.000000\n",
       "gender              0.000000\n",
       "income_type         0.000000\n",
       "debt                0.000000\n",
       "total_income        0.100999\n",
       "purpose             0.000000\n",
       "dtype: float64"
      ]
     },
     "execution_count": 6,
     "metadata": {},
     "output_type": "execute_result"
    }
   ],
   "source": [
    "df.isna().mean()"
   ]
  },
  {
   "cell_type": "markdown",
   "id": "bc9b6cb0",
   "metadata": {},
   "source": [
    "Пропуски есть в столбцах `days_employed` и `total_income`, их доля - 10%. Визуализируем пропуски:"
   ]
  },
  {
   "cell_type": "code",
   "execution_count": 7,
   "id": "03d0caf7",
   "metadata": {
    "scrolled": false
   },
   "outputs": [
    {
     "data": {
      "image/png": "[encoded data removed]",
      "text/plain": [
       "<Figure size 1800x720 with 2 Axes>"
      ]
     },
     "metadata": {
      "needs_background": "light"
     },
     "output_type": "display_data"
    }
   ],
   "source": [
    "msno.matrix(df);"
   ]
  },
  {
   "cell_type": "markdown",
   "id": "12c6c6ed",
   "metadata": {},
   "source": [
    "Шаблон пропусков полностью совпадает, следовательно пропуски не случайны. Данные могли быть выгружены не полностью."
   ]
  },
  {
   "cell_type": "markdown",
   "id": "5308a084",
   "metadata": {},
   "source": [
    "Посмотрим уникальные значения в столбцах:"
   ]
  },
  {
   "cell_type": "code",
   "execution_count": 8,
   "id": "e3f44674",
   "metadata": {},
   "outputs": [
    {
     "data": {
      "text/plain": [
       " 0     14149\n",
       " 1      4818\n",
       " 2      2055\n",
       " 3       330\n",
       " 20       76\n",
       "-1        47\n",
       " 4        41\n",
       " 5         9\n",
       "Name: children, dtype: int64"
      ]
     },
     "execution_count": 8,
     "metadata": {},
     "output_type": "execute_result"
    }
   ],
   "source": [
    "df['children'].value_counts()"
   ]
  },
  {
   "cell_type": "markdown",
   "id": "76769d8e",
   "metadata": {},
   "source": [
    "В столбце имеются аномальные значения -1 и 20. Посмотрим долю аномалий:"
   ]
  },
  {
   "cell_type": "code",
   "execution_count": 9,
   "id": "e7b4724b",
   "metadata": {},
   "outputs": [
    {
     "data": {
      "text/plain": [
       " 0     0.657329\n",
       " 1     0.223833\n",
       " 2     0.095470\n",
       " 3     0.015331\n",
       " 20    0.003531\n",
       "-1     0.002184\n",
       " 4     0.001905\n",
       " 5     0.000418\n",
       "Name: children, dtype: float64"
      ]
     },
     "execution_count": 9,
     "metadata": {},
     "output_type": "execute_result"
    }
   ],
   "source": [
    "df['children'].value_counts() / len(df['children'])"
   ]
  },
  {
   "cell_type": "markdown",
   "id": "7aadf346",
   "metadata": {},
   "source": [
    "Общая доля аномалий менее 0.6%."
   ]
  },
  {
   "cell_type": "code",
   "execution_count": 10,
   "id": "a57ad2f7",
   "metadata": {},
   "outputs": [
    {
     "data": {
      "text/plain": [
       "-8437.673028      1\n",
       "-3507.818775      1\n",
       " 354500.415854    1\n",
       "-769.717438       1\n",
       "-3963.590317      1\n",
       "                 ..\n",
       "-1099.957609      1\n",
       "-209.984794       1\n",
       " 398099.392433    1\n",
       "-1271.038880      1\n",
       "-1984.507589      1\n",
       "Name: days_employed, Length: 19351, dtype: int64"
      ]
     },
     "execution_count": 10,
     "metadata": {},
     "output_type": "execute_result"
    }
   ],
   "source": [
    "df['days_employed'].value_counts()"
   ]
  },
  {
   "cell_type": "code",
   "execution_count": 11,
   "id": "40eb4ab5",
   "metadata": {},
   "outputs": [
    {
     "data": {
      "text/plain": [
       "971.2328767123288"
      ]
     },
     "execution_count": 11,
     "metadata": {},
     "output_type": "execute_result"
    }
   ],
   "source": [
    "354500 / 365"
   ]
  },
  {
   "cell_type": "code",
   "execution_count": 12,
   "id": "95c19d4b",
   "metadata": {},
   "outputs": [
    {
     "data": {
      "text/plain": [
       "40.46803652968037"
      ]
     },
     "execution_count": 12,
     "metadata": {},
     "output_type": "execute_result"
    }
   ],
   "source": [
    "354500 / (365 * 24)"
   ]
  },
  {
   "cell_type": "markdown",
   "id": "c5b927b5",
   "metadata": {},
   "source": [
    "В столбце имеются странные артефакты:\n",
    "- отрицательные дни стажа; \n",
    "- слишком большое количество стажа, которое не может быть в действительности.\n",
    "\n",
    "Скорее всего большие значения - это трудовой стаж в часах."
   ]
  },
  {
   "cell_type": "code",
   "execution_count": 13,
   "id": "09cb6e1b",
   "metadata": {},
   "outputs": [
    {
     "data": {
      "text/plain": [
       "35    617\n",
       "40    609\n",
       "41    607\n",
       "34    603\n",
       "38    598\n",
       "42    597\n",
       "33    581\n",
       "39    573\n",
       "31    560\n",
       "36    555\n",
       "44    547\n",
       "29    545\n",
       "30    540\n",
       "48    538\n",
       "37    537\n",
       "50    514\n",
       "43    513\n",
       "32    510\n",
       "49    508\n",
       "28    503\n",
       "45    497\n",
       "27    493\n",
       "56    487\n",
       "52    484\n",
       "47    480\n",
       "54    479\n",
       "46    475\n",
       "58    461\n",
       "57    460\n",
       "53    459\n",
       "51    448\n",
       "59    444\n",
       "55    443\n",
       "26    408\n",
       "60    377\n",
       "25    357\n",
       "61    355\n",
       "62    352\n",
       "63    269\n",
       "64    265\n",
       "24    264\n",
       "23    254\n",
       "65    194\n",
       "22    183\n",
       "66    183\n",
       "67    167\n",
       "21    111\n",
       "0     101\n",
       "68     99\n",
       "69     85\n",
       "70     65\n",
       "71     58\n",
       "20     51\n",
       "72     33\n",
       "19     14\n",
       "73      8\n",
       "74      6\n",
       "75      1\n",
       "Name: dob_years, dtype: int64"
      ]
     },
     "execution_count": 13,
     "metadata": {},
     "output_type": "execute_result"
    }
   ],
   "source": [
    "df['dob_years'].value_counts()"
   ]
  },
  {
   "cell_type": "markdown",
   "id": "e5a74b21",
   "metadata": {},
   "source": [
    "В столбце имеются значения возраста равные 0, это тоже относится к пропускам (неявным) в данных. Вычислим долю таких неявных пропусков:"
   ]
  },
  {
   "cell_type": "code",
   "execution_count": 14,
   "id": "2d94553d",
   "metadata": {},
   "outputs": [
    {
     "data": {
      "text/plain": [
       "0.004692218350754936"
      ]
     },
     "execution_count": 14,
     "metadata": {},
     "output_type": "execute_result"
    }
   ],
   "source": [
    "len(df.query('dob_years == 0')) / len(df)"
   ]
  },
  {
   "cell_type": "markdown",
   "id": "3c631d5a",
   "metadata": {},
   "source": [
    "Доля неявных пропусков менее 0.5%."
   ]
  },
  {
   "cell_type": "code",
   "execution_count": 15,
   "id": "7c184922",
   "metadata": {},
   "outputs": [
    {
     "data": {
      "text/plain": [
       "среднее                13750\n",
       "высшее                  4718\n",
       "СРЕДНЕЕ                  772\n",
       "Среднее                  711\n",
       "неоконченное высшее      668\n",
       "ВЫСШЕЕ                   274\n",
       "Высшее                   268\n",
       "начальное                250\n",
       "Неоконченное высшее       47\n",
       "НЕОКОНЧЕННОЕ ВЫСШЕЕ       29\n",
       "НАЧАЛЬНОЕ                 17\n",
       "Начальное                 15\n",
       "ученая степень             4\n",
       "Ученая степень             1\n",
       "УЧЕНАЯ СТЕПЕНЬ             1\n",
       "Name: education, dtype: int64"
      ]
     },
     "execution_count": 15,
     "metadata": {},
     "output_type": "execute_result"
    }
   ],
   "source": [
    "df['education'].value_counts()"
   ]
  },
  {
   "cell_type": "markdown",
   "id": "31bd526c",
   "metadata": {},
   "source": [
    "В столбце имеются дубликаты связанные с регистром."
   ]
  },
  {
   "cell_type": "code",
   "execution_count": 16,
   "id": "c0ebace2",
   "metadata": {},
   "outputs": [
    {
     "data": {
      "text/plain": [
       "женат / замужем          12380\n",
       "гражданский брак          4177\n",
       "Не женат / не замужем     2813\n",
       "в разводе                 1195\n",
       "вдовец / вдова             960\n",
       "Name: family_status, dtype: int64"
      ]
     },
     "execution_count": 16,
     "metadata": {},
     "output_type": "execute_result"
    }
   ],
   "source": [
    "df['family_status'].value_counts()"
   ]
  },
  {
   "cell_type": "markdown",
   "id": "5066df7d",
   "metadata": {},
   "source": [
    "Со столбцом все в порядке."
   ]
  },
  {
   "cell_type": "code",
   "execution_count": 17,
   "id": "c601677f",
   "metadata": {},
   "outputs": [
    {
     "data": {
      "text/plain": [
       "F      14236\n",
       "M       7288\n",
       "XNA        1\n",
       "Name: gender, dtype: int64"
      ]
     },
     "execution_count": 17,
     "metadata": {},
     "output_type": "execute_result"
    }
   ],
   "source": [
    "df['gender'].value_counts()"
   ]
  },
  {
   "cell_type": "markdown",
   "id": "dce7810f",
   "metadata": {},
   "source": [
    "Найден один категориальный пропуск записанный как - 'XNA'."
   ]
  },
  {
   "cell_type": "code",
   "execution_count": 18,
   "id": "1d1c9737",
   "metadata": {},
   "outputs": [
    {
     "data": {
      "text/plain": [
       "сотрудник          11119\n",
       "компаньон           5085\n",
       "пенсионер           3856\n",
       "госслужащий         1459\n",
       "безработный            2\n",
       "предприниматель        2\n",
       "студент                1\n",
       "в декрете              1\n",
       "Name: income_type, dtype: int64"
      ]
     },
     "execution_count": 18,
     "metadata": {},
     "output_type": "execute_result"
    }
   ],
   "source": [
    "df['income_type'].value_counts()"
   ]
  },
  {
   "cell_type": "markdown",
   "id": "72a56311",
   "metadata": {},
   "source": [
    "Безработных, предпринимателей, студентов и декретных в данных нерепрезентативное количество."
   ]
  },
  {
   "cell_type": "code",
   "execution_count": 19,
   "id": "b1adee6a",
   "metadata": {},
   "outputs": [
    {
     "data": {
      "text/plain": [
       "253875.639453    1\n",
       "157691.851056    1\n",
       "70113.902786     1\n",
       "116196.518662    1\n",
       "157205.834562    1\n",
       "                ..\n",
       "168880.592469    1\n",
       "148042.721049    1\n",
       "60039.334460     1\n",
       "175979.762960    1\n",
       "82047.418899     1\n",
       "Name: total_income, Length: 19351, dtype: int64"
      ]
     },
     "execution_count": 19,
     "metadata": {},
     "output_type": "execute_result"
    }
   ],
   "source": [
    "df['total_income'].value_counts()"
   ]
  },
  {
   "cell_type": "markdown",
   "id": "690617c1",
   "metadata": {},
   "source": [
    "Со столбцом все в порядке."
   ]
  },
  {
   "cell_type": "markdown",
   "id": "392d4cf3",
   "metadata": {},
   "source": [
    "**Вывод**\n",
    "\n",
    "В датафрейме имеются пропуски в столбцах `days_employed` (трудовой стаж), `total_income` (ежемесячный доход).\n",
    "Они являются количественными переменными и в исследовании они не учувствуют, однако, таких пропусков 10% от всего объема данных и удалять их нежелательно. Пропуски в столбцах можно заменить средними или медианными значениями.\n",
    "\n",
    "В столбце `dob_years` есть возраст равный нулю, это также можно считать пропуском, доля таких пропусков менее 0.5%. Избавимся от них при предобработке.\n",
    "\n",
    "В столбце `gender` есть одно пропущенное значение (XNA) - избавимся от этого значения.\n",
    "\n",
    "Безработных, предпринимателей, студентов и декретных в данных нерепрезентативное количество.\n",
    "\n",
    "В столбце `days_employed` имеются отрицательные значения действительно похожие на дни трудового стажа (порядка тысячи, десятки тысяч), а также положительные, но относительно большие числа (порядка ста тысяч) - что не может являться реальным трудовым стажем в днях. Причем такие, относительно большие положительные числа наблюдаются у людей относительно большого возраста (порядка 60 лет), предполагаю, что данные в массиве отличаются из-за разных сборов данных раньше и сейчас. Большие числа скорее похожи на трудовые часы - их будем делить на количество часов в сутках. А отрицательные значения - сделаем положительными. Это необходимо сделать прежде, чем искать средние и медианные значения в столбцах, чтобы не исказить их значения разными размерностями в столбце.\n",
    "\n",
    "В столбце `education` имеются дубликаты, связанные с регистром.\n",
    "\n",
    "В столбце `children` встречаются аномальные данные (напр: -1, 20). Их общая доля менее 0.6% - избавимся от них.\n"
   ]
  },
  {
   "cell_type": "markdown",
   "id": "8f72b985",
   "metadata": {},
   "source": [
    "## Предобработка данных"
   ]
  },
  {
   "cell_type": "markdown",
   "id": "e9f26447",
   "metadata": {},
   "source": [
    "Запишем константы:"
   ]
  },
  {
   "cell_type": "code",
   "execution_count": 20,
   "id": "f528fcc8",
   "metadata": {},
   "outputs": [],
   "source": [
    "HOUR_IN_DAY = 24\n",
    "DAYS_IN_YEAR = 365"
   ]
  },
  {
   "cell_type": "markdown",
   "id": "17df01fd",
   "metadata": {},
   "source": [
    "Запишем длину исходного датафрейма, чтобы контролировать потерю данных при предобработке:"
   ]
  },
  {
   "cell_type": "code",
   "execution_count": 21,
   "id": "0ac266a1",
   "metadata": {},
   "outputs": [],
   "source": [
    "len_df_before = len(df)"
   ]
  },
  {
   "cell_type": "code",
   "execution_count": 22,
   "id": "d49b0f8e",
   "metadata": {},
   "outputs": [
    {
     "data": {
      "text/plain": [
       "21525"
      ]
     },
     "execution_count": 22,
     "metadata": {},
     "output_type": "execute_result"
    }
   ],
   "source": [
    "len_df_before"
   ]
  },
  {
   "cell_type": "markdown",
   "id": "43d126bc",
   "metadata": {},
   "source": [
    "### Обработка пропусков"
   ]
  },
  {
   "cell_type": "markdown",
   "id": "8374f56e",
   "metadata": {},
   "source": [
    "Прежде чем обрабатывать пропуски, нужно привести значения в столбце `days_employed` в одно измерение, а также сделать значения положительными.\n",
    "\n",
    "Для этого напишем функцию **day_employed_fix(row)**. Она будет решать две проблемы со значениями в столбце `days_employed`:"
   ]
  },
  {
   "cell_type": "code",
   "execution_count": 23,
   "id": "9341c91f",
   "metadata": {},
   "outputs": [],
   "source": [
    "def day_employed_fix(row: str) -> float:\n",
    "    # на вход строка со значением дней стажа\n",
    "    days_employed = row\n",
    "    # если значение стажа положительное (артефакт очень большого положительного числа)\n",
    "    if days_employed > 0:\n",
    "        # значит стаж в данных приведен в часах, а не днях. переведем его из часов в дни\n",
    "        fix_day_hours = days_employed/HOUR_IN_DAY\n",
    "        return fix_day_hours\n",
    "    # если значение стажа отрицательное\n",
    "    if days_employed < 0:\n",
    "        # значит была ошибка при вводе данных исправим значение на положительное\n",
    "        fix_day_minus = abs(days_employed)\n",
    "        return fix_day_minus"
   ]
  },
  {
   "cell_type": "code",
   "execution_count": 24,
   "id": "3fe105d3",
   "metadata": {},
   "outputs": [],
   "source": [
    "df['days_employed'] = df['days_employed'].apply(day_employed_fix)"
   ]
  },
  {
   "cell_type": "markdown",
   "id": "c3882cb6",
   "metadata": {},
   "source": [
    "Убедимся в изменениях:"
   ]
  },
  {
   "cell_type": "code",
   "execution_count": 25,
   "id": "ece862f4",
   "metadata": {},
   "outputs": [
    {
     "data": {
      "text/plain": [
       "8437.673028     1\n",
       "3507.818775     1\n",
       "14770.850661    1\n",
       "769.717438      1\n",
       "3963.590317     1\n",
       "               ..\n",
       "1099.957609     1\n",
       "209.984794      1\n",
       "16587.474685    1\n",
       "1271.038880     1\n",
       "1984.507589     1\n",
       "Name: days_employed, Length: 19351, dtype: int64"
      ]
     },
     "execution_count": 25,
     "metadata": {},
     "output_type": "execute_result"
    }
   ],
   "source": [
    "df['days_employed'].value_counts()"
   ]
  },
  {
   "cell_type": "markdown",
   "id": "0c3584d3",
   "metadata": {},
   "source": [
    "Теперь все зачения в столбце `days_employed` приведены в одно измерение. "
   ]
  },
  {
   "cell_type": "markdown",
   "id": "bcf8ad30",
   "metadata": {},
   "source": [
    "Заполним пропуски в столбце `days_employed` и `total_income` медианными значениями этих столбцов, так как медиана более устойчива к выбросам (мы имеем дело с доходом, а его распределение как правило с положительной ассиметрией). Прежде чем перейти к заполнению сгруппируем данные о доходе и трудовом стаже по видам занятости:"
   ]
  },
  {
   "cell_type": "code",
   "execution_count": 26,
   "id": "8a0e1455",
   "metadata": {
    "scrolled": true
   },
   "outputs": [
    {
     "data": {
      "text/html": [
       "<div>\n",
       "<style scoped>\n",
       "    .dataframe tbody tr th:only-of-type {\n",
       "        vertical-align: middle;\n",
       "    }\n",
       "\n",
       "    .dataframe tbody tr th {\n",
       "        vertical-align: top;\n",
       "    }\n",
       "\n",
       "    .dataframe thead tr th {\n",
       "        text-align: left;\n",
       "    }\n",
       "\n",
       "    .dataframe thead tr:last-of-type th {\n",
       "        text-align: right;\n",
       "    }\n",
       "</style>\n",
       "<table border=\"1\" class=\"dataframe\">\n",
       "  <thead>\n",
       "    <tr>\n",
       "      <th></th>\n",
       "      <th colspan=\"2\" halign=\"left\">median</th>\n",
       "      <th colspan=\"2\" halign=\"left\">mean</th>\n",
       "      <th colspan=\"2\" halign=\"left\">count</th>\n",
       "    </tr>\n",
       "    <tr>\n",
       "      <th></th>\n",
       "      <th>days_employed</th>\n",
       "      <th>total_income</th>\n",
       "      <th>days_employed</th>\n",
       "      <th>total_income</th>\n",
       "      <th>days_employed</th>\n",
       "      <th>total_income</th>\n",
       "    </tr>\n",
       "    <tr>\n",
       "      <th>income_type</th>\n",
       "      <th></th>\n",
       "      <th></th>\n",
       "      <th></th>\n",
       "      <th></th>\n",
       "      <th></th>\n",
       "      <th></th>\n",
       "    </tr>\n",
       "  </thead>\n",
       "  <tbody>\n",
       "    <tr>\n",
       "      <th>безработный</th>\n",
       "      <td>15267.235531</td>\n",
       "      <td>131339.751676</td>\n",
       "      <td>15267.235531</td>\n",
       "      <td>131339.751676</td>\n",
       "      <td>2</td>\n",
       "      <td>2</td>\n",
       "    </tr>\n",
       "    <tr>\n",
       "      <th>в декрете</th>\n",
       "      <td>3296.759962</td>\n",
       "      <td>53829.130729</td>\n",
       "      <td>3296.759962</td>\n",
       "      <td>53829.130729</td>\n",
       "      <td>1</td>\n",
       "      <td>1</td>\n",
       "    </tr>\n",
       "    <tr>\n",
       "      <th>госслужащий</th>\n",
       "      <td>2689.368353</td>\n",
       "      <td>150447.935283</td>\n",
       "      <td>3399.896902</td>\n",
       "      <td>170898.309923</td>\n",
       "      <td>1312</td>\n",
       "      <td>1312</td>\n",
       "    </tr>\n",
       "    <tr>\n",
       "      <th>компаньон</th>\n",
       "      <td>1547.382223</td>\n",
       "      <td>172357.950966</td>\n",
       "      <td>2111.524398</td>\n",
       "      <td>202417.461462</td>\n",
       "      <td>4577</td>\n",
       "      <td>4577</td>\n",
       "    </tr>\n",
       "    <tr>\n",
       "      <th>пенсионер</th>\n",
       "      <td>15217.221094</td>\n",
       "      <td>118514.486412</td>\n",
       "      <td>15208.478802</td>\n",
       "      <td>137127.465690</td>\n",
       "      <td>3443</td>\n",
       "      <td>3443</td>\n",
       "    </tr>\n",
       "    <tr>\n",
       "      <th>предприниматель</th>\n",
       "      <td>520.848083</td>\n",
       "      <td>499163.144947</td>\n",
       "      <td>520.848083</td>\n",
       "      <td>499163.144947</td>\n",
       "      <td>1</td>\n",
       "      <td>1</td>\n",
       "    </tr>\n",
       "    <tr>\n",
       "      <th>сотрудник</th>\n",
       "      <td>1574.202821</td>\n",
       "      <td>142594.396847</td>\n",
       "      <td>2326.499216</td>\n",
       "      <td>161380.260488</td>\n",
       "      <td>10014</td>\n",
       "      <td>10014</td>\n",
       "    </tr>\n",
       "    <tr>\n",
       "      <th>студент</th>\n",
       "      <td>578.751554</td>\n",
       "      <td>98201.625314</td>\n",
       "      <td>578.751554</td>\n",
       "      <td>98201.625314</td>\n",
       "      <td>1</td>\n",
       "      <td>1</td>\n",
       "    </tr>\n",
       "  </tbody>\n",
       "</table>\n",
       "</div>"
      ],
      "text/plain": [
       "                       median                         mean                 \\\n",
       "                days_employed   total_income days_employed   total_income   \n",
       "income_type                                                                 \n",
       "безработный      15267.235531  131339.751676  15267.235531  131339.751676   \n",
       "в декрете         3296.759962   53829.130729   3296.759962   53829.130729   \n",
       "госслужащий       2689.368353  150447.935283   3399.896902  170898.309923   \n",
       "компаньон         1547.382223  172357.950966   2111.524398  202417.461462   \n",
       "пенсионер        15217.221094  118514.486412  15208.478802  137127.465690   \n",
       "предприниматель    520.848083  499163.144947    520.848083  499163.144947   \n",
       "сотрудник         1574.202821  142594.396847   2326.499216  161380.260488   \n",
       "студент            578.751554   98201.625314    578.751554   98201.625314   \n",
       "\n",
       "                        count               \n",
       "                days_employed total_income  \n",
       "income_type                                 \n",
       "безработный                 2            2  \n",
       "в декрете                   1            1  \n",
       "госслужащий              1312         1312  \n",
       "компаньон                4577         4577  \n",
       "пенсионер                3443         3443  \n",
       "предприниматель             1            1  \n",
       "сотрудник               10014        10014  \n",
       "студент                     1            1  "
      ]
     },
     "execution_count": 26,
     "metadata": {},
     "output_type": "execute_result"
    }
   ],
   "source": [
    "df.pivot_table(values=['total_income', 'days_employed'], \n",
    "               index='income_type', \n",
    "               aggfunc=['median', 'mean', 'count'])"
   ]
  },
  {
   "cell_type": "markdown",
   "id": "96c9a693",
   "metadata": {},
   "source": [
    "Трудовой стаж безработных выглядит аномально, однако, мы имеем всего 2 измерения. Пропуски можно заполнять медианой, только если пропуски не относятся к категориям: **безработный**, **в декрете**, **предприниматель**, **студент**. Посмотрим к каким категориям относятся пропуски:"
   ]
  },
  {
   "cell_type": "code",
   "execution_count": 27,
   "id": "a51028ea",
   "metadata": {},
   "outputs": [
    {
     "data": {
      "text/plain": [
       "сотрудник          1105\n",
       "компаньон           508\n",
       "пенсионер           413\n",
       "госслужащий         147\n",
       "предприниматель       1\n",
       "Name: income_type, dtype: int64"
      ]
     },
     "execution_count": 27,
     "metadata": {},
     "output_type": "execute_result"
    }
   ],
   "source": [
    "df[df.isna().any(axis=1)]['income_type'].value_counts()"
   ]
  },
  {
   "cell_type": "markdown",
   "id": "9d16ce3c",
   "metadata": {},
   "source": [
    "Предприниматель с незаполненным доходом и трудовым стажем все-таки есть. Так как количество предпринимателей нерепрезентативно, удалим такую строку с пропуском:"
   ]
  },
  {
   "cell_type": "code",
   "execution_count": 28,
   "id": "37fb0e89",
   "metadata": {},
   "outputs": [
    {
     "data": {
      "text/html": [
       "<div>\n",
       "<style scoped>\n",
       "    .dataframe tbody tr th:only-of-type {\n",
       "        vertical-align: middle;\n",
       "    }\n",
       "\n",
       "    .dataframe tbody tr th {\n",
       "        vertical-align: top;\n",
       "    }\n",
       "\n",
       "    .dataframe thead th {\n",
       "        text-align: right;\n",
       "    }\n",
       "</style>\n",
       "<table border=\"1\" class=\"dataframe\">\n",
       "  <thead>\n",
       "    <tr style=\"text-align: right;\">\n",
       "      <th></th>\n",
       "      <th>children</th>\n",
       "      <th>days_employed</th>\n",
       "      <th>dob_years</th>\n",
       "      <th>education</th>\n",
       "      <th>education_id</th>\n",
       "      <th>family_status</th>\n",
       "      <th>family_status_id</th>\n",
       "      <th>gender</th>\n",
       "      <th>income_type</th>\n",
       "      <th>debt</th>\n",
       "      <th>total_income</th>\n",
       "      <th>purpose</th>\n",
       "    </tr>\n",
       "  </thead>\n",
       "  <tbody>\n",
       "    <tr>\n",
       "      <th>5936</th>\n",
       "      <td>0</td>\n",
       "      <td>NaN</td>\n",
       "      <td>58</td>\n",
       "      <td>высшее</td>\n",
       "      <td>0</td>\n",
       "      <td>женат / замужем</td>\n",
       "      <td>0</td>\n",
       "      <td>M</td>\n",
       "      <td>предприниматель</td>\n",
       "      <td>0</td>\n",
       "      <td>NaN</td>\n",
       "      <td>покупка жилой недвижимости</td>\n",
       "    </tr>\n",
       "    <tr>\n",
       "      <th>18697</th>\n",
       "      <td>0</td>\n",
       "      <td>520.848083</td>\n",
       "      <td>27</td>\n",
       "      <td>высшее</td>\n",
       "      <td>0</td>\n",
       "      <td>гражданский брак</td>\n",
       "      <td>1</td>\n",
       "      <td>F</td>\n",
       "      <td>предприниматель</td>\n",
       "      <td>0</td>\n",
       "      <td>499163.144947</td>\n",
       "      <td>на проведение свадьбы</td>\n",
       "    </tr>\n",
       "  </tbody>\n",
       "</table>\n",
       "</div>"
      ],
      "text/plain": [
       "       children  days_employed  dob_years education  education_id  \\\n",
       "5936          0            NaN         58    высшее             0   \n",
       "18697         0     520.848083         27    высшее             0   \n",
       "\n",
       "          family_status  family_status_id gender      income_type  debt  \\\n",
       "5936    женат / замужем                 0      M  предприниматель     0   \n",
       "18697  гражданский брак                 1      F  предприниматель     0   \n",
       "\n",
       "        total_income                     purpose  \n",
       "5936             NaN  покупка жилой недвижимости  \n",
       "18697  499163.144947       на проведение свадьбы  "
      ]
     },
     "execution_count": 28,
     "metadata": {},
     "output_type": "execute_result"
    }
   ],
   "source": [
    "df.query('income_type == \"предприниматель\"')"
   ]
  },
  {
   "cell_type": "code",
   "execution_count": 29,
   "id": "c1b1ca40",
   "metadata": {},
   "outputs": [],
   "source": [
    "df = df.drop(index=5936).reset_index(drop=True)"
   ]
  },
  {
   "cell_type": "markdown",
   "id": "ac91407d",
   "metadata": {},
   "source": [
    "Остальные заполним согласно их медианному тродовому стажу и доходу:"
   ]
  },
  {
   "cell_type": "code",
   "execution_count": 30,
   "id": "632c1112",
   "metadata": {},
   "outputs": [],
   "source": [
    "df['total_income'] = df['total_income'].fillna(df.groupby('income_type')['total_income'].transform('median'))"
   ]
  },
  {
   "cell_type": "code",
   "execution_count": 31,
   "id": "7ccb5a38",
   "metadata": {},
   "outputs": [],
   "source": [
    "df['days_employed'] = df['days_employed'].fillna(df.groupby('income_type')['days_employed'].transform('median'))"
   ]
  },
  {
   "cell_type": "markdown",
   "id": "27378b9e",
   "metadata": {},
   "source": [
    "Убедимся в отсутствии пропусков:"
   ]
  },
  {
   "cell_type": "code",
   "execution_count": 32,
   "id": "d71d0467",
   "metadata": {},
   "outputs": [
    {
     "data": {
      "text/plain": [
       "children            0.0\n",
       "days_employed       0.0\n",
       "dob_years           0.0\n",
       "education           0.0\n",
       "education_id        0.0\n",
       "family_status       0.0\n",
       "family_status_id    0.0\n",
       "gender              0.0\n",
       "income_type         0.0\n",
       "debt                0.0\n",
       "total_income        0.0\n",
       "purpose             0.0\n",
       "dtype: float64"
      ]
     },
     "execution_count": 32,
     "metadata": {},
     "output_type": "execute_result"
    }
   ],
   "source": [
    "df.isna().mean()"
   ]
  },
  {
   "cell_type": "markdown",
   "id": "dd297920",
   "metadata": {},
   "source": [
    "Отбросим нулевые значения в столбце `dob_years`:"
   ]
  },
  {
   "cell_type": "code",
   "execution_count": 33,
   "id": "55fcda4e",
   "metadata": {},
   "outputs": [],
   "source": [
    "df = df.query('dob_years > 0')"
   ]
  },
  {
   "cell_type": "code",
   "execution_count": 34,
   "id": "35f6404d",
   "metadata": {
    "scrolled": true
   },
   "outputs": [
    {
     "data": {
      "text/html": [
       "<div>\n",
       "<style scoped>\n",
       "    .dataframe tbody tr th:only-of-type {\n",
       "        vertical-align: middle;\n",
       "    }\n",
       "\n",
       "    .dataframe tbody tr th {\n",
       "        vertical-align: top;\n",
       "    }\n",
       "\n",
       "    .dataframe thead th {\n",
       "        text-align: right;\n",
       "    }\n",
       "</style>\n",
       "<table border=\"1\" class=\"dataframe\">\n",
       "  <thead>\n",
       "    <tr style=\"text-align: right;\">\n",
       "      <th></th>\n",
       "      <th>children</th>\n",
       "      <th>days_employed</th>\n",
       "      <th>dob_years</th>\n",
       "      <th>education</th>\n",
       "      <th>education_id</th>\n",
       "      <th>family_status</th>\n",
       "      <th>family_status_id</th>\n",
       "      <th>gender</th>\n",
       "      <th>income_type</th>\n",
       "      <th>debt</th>\n",
       "      <th>total_income</th>\n",
       "      <th>purpose</th>\n",
       "    </tr>\n",
       "  </thead>\n",
       "  <tbody>\n",
       "  </tbody>\n",
       "</table>\n",
       "</div>"
      ],
      "text/plain": [
       "Empty DataFrame\n",
       "Columns: [children, days_employed, dob_years, education, education_id, family_status, family_status_id, gender, income_type, debt, total_income, purpose]\n",
       "Index: []"
      ]
     },
     "execution_count": 34,
     "metadata": {},
     "output_type": "execute_result"
    }
   ],
   "source": [
    "df.query('dob_years == 0')"
   ]
  },
  {
   "cell_type": "markdown",
   "id": "f1f3481b",
   "metadata": {},
   "source": [
    "Теперь разберемся с 'XNA' в столбце `gender`. Так как пропущено всего одно значение, а количество значений для женщин и мужчин составляют 14236 и 7288 соответственно - присвоение пропуска к любой из этих двух категорий не повлияет выборку.\n",
    "\n",
    "Присвоим пропуску 'XNA' в столбце `gender` значение **М**."
   ]
  },
  {
   "cell_type": "code",
   "execution_count": 35,
   "id": "ce68a943",
   "metadata": {},
   "outputs": [],
   "source": [
    "df.loc[df['gender'] == 'XNA', 'gender'] = 'M'"
   ]
  },
  {
   "cell_type": "markdown",
   "id": "b4962a7c",
   "metadata": {},
   "source": [
    "В столбце `children` имеются артефакты (значения -1 и 20). Их доля не велика, поэтому избавимся от них:"
   ]
  },
  {
   "cell_type": "code",
   "execution_count": 36,
   "id": "380679cd",
   "metadata": {},
   "outputs": [],
   "source": [
    "df = df.query('children >= 0 and children < 6')"
   ]
  },
  {
   "cell_type": "code",
   "execution_count": 37,
   "id": "4918758c",
   "metadata": {},
   "outputs": [
    {
     "data": {
      "text/plain": [
       "0    14079\n",
       "1     4802\n",
       "2     2042\n",
       "3      328\n",
       "4       41\n",
       "5        9\n",
       "Name: children, dtype: int64"
      ]
     },
     "execution_count": 37,
     "metadata": {},
     "output_type": "execute_result"
    }
   ],
   "source": [
    "df['children'].value_counts()"
   ]
  },
  {
   "cell_type": "markdown",
   "id": "5f907b0d",
   "metadata": {},
   "source": [
    "Проконтролируем потерю данных при предобработке:"
   ]
  },
  {
   "cell_type": "code",
   "execution_count": 38,
   "id": "f71bd2d3",
   "metadata": {},
   "outputs": [],
   "source": [
    "len_df_after = len(df)"
   ]
  },
  {
   "cell_type": "code",
   "execution_count": 39,
   "id": "c6cb6a2e",
   "metadata": {},
   "outputs": [
    {
     "data": {
      "text/plain": [
       "21301"
      ]
     },
     "execution_count": 39,
     "metadata": {},
     "output_type": "execute_result"
    }
   ],
   "source": [
    "len_df_after"
   ]
  },
  {
   "cell_type": "markdown",
   "id": "2df925a0",
   "metadata": {},
   "source": [
    "Доля отброшеной информации при предобработке:"
   ]
  },
  {
   "cell_type": "code",
   "execution_count": 40,
   "id": "69cc1127",
   "metadata": {},
   "outputs": [
    {
     "data": {
      "text/plain": [
       "0.010406504065040623"
      ]
     },
     "execution_count": 40,
     "metadata": {},
     "output_type": "execute_result"
    }
   ],
   "source": [
    "1 - len_df_after / len_df_before"
   ]
  },
  {
   "cell_type": "markdown",
   "id": "b66f1f09",
   "metadata": {},
   "source": [
    "При предобработке отброшено менее 1.1% информации."
   ]
  },
  {
   "cell_type": "markdown",
   "id": "cc9ab3f4",
   "metadata": {},
   "source": [
    "**Вывод**\n",
    "\n",
    "- Пропуски в столбцах `days_employed`, `total_income` были заполнены медианными значениями (согласно типу занятости, при этом значение с пропуском категории \"предприниматель\" было отброшено из-за нерепрезенативности группы), значения в столбце **days_employed** приведены в одни единицы измерения;\n",
    "\n",
    "- неявные пропуски в столбце `dob_years` отброшены;\n",
    "\n",
    "- единичный XNA в столбце **gender** был заменен на M;\n",
    "\n",
    "- аномалии в столбце **chlidren** отброшены.\n",
    "\n",
    "Возможные причины появления пропусков в данных: \n",
    "\n",
    "- В столбцах **days_emploeyd** и **total_income** шаблон и доля пропусков полностью совпадает, следовательно пропуски не случайны. Данные могли быть выгружены не полностью;\n",
    "\n",
    "- в столбце **gender** из-за того, что пропуск встречался всего раз, можно предположить, что сыграл человеческий фактор;\n",
    "\n",
    "- в столбце **children** похоже на ошибку ввода данных.\n",
    "\n",
    "При предобработке отброшено менее 1.1% информации."
   ]
  },
  {
   "cell_type": "markdown",
   "id": "e8d3cafd",
   "metadata": {},
   "source": [
    "### Замена типа данных"
   ]
  },
  {
   "cell_type": "markdown",
   "id": "02eec1c3",
   "metadata": {},
   "source": [
    "Заменим тип данных **float64** на целочисленный тип **int64** в столбцах `days_employed`, `dob_years`, `children` так как число детей может быть только целочисленным, а избыточная точность во времени нам не нужна.\n",
    "\n",
    "Так как весь столбец является вещественным, удобно будет применить метод **astype** для всего столбца целиком во всех трех случаях:\n"
   ]
  },
  {
   "cell_type": "code",
   "execution_count": 41,
   "id": "2a806842",
   "metadata": {},
   "outputs": [],
   "source": [
    "df['days_employed'] = df['days_employed'].astype('int') \n",
    "df['dob_years'] = df['dob_years'].astype('int')\n",
    "df['children'] = df['children'].astype('int')"
   ]
  },
  {
   "cell_type": "code",
   "execution_count": 42,
   "id": "7ab0cae3",
   "metadata": {},
   "outputs": [
    {
     "name": "stdout",
     "output_type": "stream",
     "text": [
      "<class 'pandas.core.frame.DataFrame'>\n",
      "Int64Index: 21301 entries, 0 to 21523\n",
      "Data columns (total 12 columns):\n",
      " #   Column            Non-Null Count  Dtype  \n",
      "---  ------            --------------  -----  \n",
      " 0   children          21301 non-null  int32  \n",
      " 1   days_employed     21301 non-null  int32  \n",
      " 2   dob_years         21301 non-null  int32  \n",
      " 3   education         21301 non-null  object \n",
      " 4   education_id      21301 non-null  int64  \n",
      " 5   family_status     21301 non-null  object \n",
      " 6   family_status_id  21301 non-null  int64  \n",
      " 7   gender            21301 non-null  object \n",
      " 8   income_type       21301 non-null  object \n",
      " 9   debt              21301 non-null  int64  \n",
      " 10  total_income      21301 non-null  float64\n",
      " 11  purpose           21301 non-null  object \n",
      "dtypes: float64(1), int32(3), int64(3), object(5)\n",
      "memory usage: 1.9+ MB\n"
     ]
    }
   ],
   "source": [
    "df.info()"
   ]
  },
  {
   "cell_type": "markdown",
   "id": "238665b2",
   "metadata": {},
   "source": [
    "**Вывод**\n",
    "\n",
    "Теперь все количественные переменные в столбцах `days_employed`, `dob_years`, `childern` имеют целочисленный тип."
   ]
  },
  {
   "cell_type": "markdown",
   "id": "fe9e2571",
   "metadata": {},
   "source": [
    "### Обработка дубликатов"
   ]
  },
  {
   "cell_type": "markdown",
   "id": "ba36155b",
   "metadata": {},
   "source": [
    "Явные дубликаты:"
   ]
  },
  {
   "cell_type": "code",
   "execution_count": 43,
   "id": "63aa7b41",
   "metadata": {},
   "outputs": [
    {
     "data": {
      "text/plain": [
       "54"
      ]
     },
     "execution_count": 43,
     "metadata": {},
     "output_type": "execute_result"
    }
   ],
   "source": [
    "df.duplicated().sum()"
   ]
  },
  {
   "cell_type": "markdown",
   "id": "1dacae47",
   "metadata": {},
   "source": [
    "Приведем столбец `education` к нижнему регистру методом `str.lower()` для исключения неявных дубликатов связанных с регистром:"
   ]
  },
  {
   "cell_type": "code",
   "execution_count": 44,
   "id": "25ff1f3c",
   "metadata": {},
   "outputs": [],
   "source": [
    "df['education'] = df['education'].str.lower()"
   ]
  },
  {
   "cell_type": "code",
   "execution_count": 45,
   "id": "9863d7a0",
   "metadata": {},
   "outputs": [
    {
     "data": {
      "text/plain": [
       "71"
      ]
     },
     "execution_count": 45,
     "metadata": {},
     "output_type": "execute_result"
    }
   ],
   "source": [
    "df.duplicated().sum()"
   ]
  },
  {
   "cell_type": "markdown",
   "id": "b183e393",
   "metadata": {},
   "source": [
    "Найден 71 грубый дубликат, избавимся от них методом drop_duplicates и сбросим значения индекса методом reset_index():"
   ]
  },
  {
   "cell_type": "code",
   "execution_count": 46,
   "id": "b053b2ce",
   "metadata": {},
   "outputs": [],
   "source": [
    "df = df.drop_duplicates().reset_index(drop=True)"
   ]
  },
  {
   "cell_type": "code",
   "execution_count": 47,
   "id": "9018ace8",
   "metadata": {},
   "outputs": [
    {
     "data": {
      "text/plain": [
       "0"
      ]
     },
     "execution_count": 47,
     "metadata": {},
     "output_type": "execute_result"
    }
   ],
   "source": [
    "df.duplicated().sum()"
   ]
  },
  {
   "cell_type": "markdown",
   "id": "6362e157",
   "metadata": {},
   "source": [
    "**Вывод**\n",
    "\n",
    "Все грубые дубликаты (71 штук), а также неявные дубликаты, связанные с регистром в столбце `education` были устранены.\n",
    "\n",
    "Дубликаты, связанные с регистром связаны с человеческим фактором при заполнении данных. грубые дубликаты скорее всего связаны с наполнением данных\n"
   ]
  },
  {
   "cell_type": "markdown",
   "id": "ca8cd2a0",
   "metadata": {},
   "source": [
    "### Лемматизация"
   ]
  },
  {
   "cell_type": "markdown",
   "id": "7f658e84",
   "metadata": {},
   "source": [
    "Создадим столбец c леммами столбца `purpose` - `lemma_purpose`, который получен результатом применения функции лемматизации на русском языке — библиотеки `pymystem3`:"
   ]
  },
  {
   "cell_type": "code",
   "execution_count": 48,
   "id": "913bec65",
   "metadata": {},
   "outputs": [],
   "source": [
    "morph = pymorphy2.MorphAnalyzer()"
   ]
  },
  {
   "cell_type": "code",
   "execution_count": 49,
   "id": "50c66371",
   "metadata": {},
   "outputs": [],
   "source": [
    "def lemmatize(word:str) -> str:\n",
    "    return morph.parse(word)[0].normal_form.split()"
   ]
  },
  {
   "cell_type": "code",
   "execution_count": 50,
   "id": "0bfed4ca",
   "metadata": {},
   "outputs": [
    {
     "name": "stdout",
     "output_type": "stream",
     "text": [
      "Wall time: 3.16 s\n"
     ]
    }
   ],
   "source": [
    "%%time\n",
    "df['lemma_purpose'] = df['purpose'].apply(lemmatize)"
   ]
  },
  {
   "cell_type": "markdown",
   "id": "f6b528e8",
   "metadata": {},
   "source": [
    "Посмотрим результат:"
   ]
  },
  {
   "cell_type": "code",
   "execution_count": 51,
   "id": "d944eb32",
   "metadata": {},
   "outputs": [
    {
     "data": {
      "text/plain": [
       "0                         [покупка, жильё]\n",
       "1               [приобретение, автомобиль]\n",
       "2                         [покупка, жильё]\n",
       "3            [дополнительное, образование]\n",
       "4                       [сыграть, свадьба]\n",
       "                       ...                \n",
       "21225                 [операции, с, жилие]\n",
       "21226              [сделка, с, автомобиль]\n",
       "21227                       [недвижимость]\n",
       "21228    [на, покупку, своего, автомобиль]\n",
       "21229            [на, покупку, автомобиль]\n",
       "Name: lemma_purpose, Length: 21230, dtype: object"
      ]
     },
     "execution_count": 51,
     "metadata": {},
     "output_type": "execute_result"
    }
   ],
   "source": [
    "df['lemma_purpose']"
   ]
  },
  {
   "cell_type": "markdown",
   "id": "64dba8a3",
   "metadata": {},
   "source": [
    "Отлично, теперь применим метод **Counter()** к столбцу с помощью **apply()** - результат запишем в новый столбец `counter_lemmas`. После применим к столбцу `counter_lemmas` метод **sum()**:"
   ]
  },
  {
   "cell_type": "code",
   "execution_count": 52,
   "id": "dc869e06",
   "metadata": {},
   "outputs": [],
   "source": [
    "def counter_lemmas(row: str) -> Counter:\n",
    "    return Counter(row)"
   ]
  },
  {
   "cell_type": "code",
   "execution_count": 53,
   "id": "56d9557f",
   "metadata": {},
   "outputs": [],
   "source": [
    "df['counter_lemmas'] = df['lemma_purpose'].apply(counter_lemmas)"
   ]
  },
  {
   "cell_type": "code",
   "execution_count": 54,
   "id": "3a43907e",
   "metadata": {},
   "outputs": [
    {
     "data": {
      "text/plain": [
       "Counter({'покупка': 4401,\n",
       "         'жильё': 2489,\n",
       "         'приобретение': 457,\n",
       "         'автомобиль': 4258,\n",
       "         'дополнительное': 453,\n",
       "         'образование': 3970,\n",
       "         'сыграть': 755,\n",
       "         'свадьба': 2299,\n",
       "         'операции': 2576,\n",
       "         'с': 2886,\n",
       "         'жилие': 641,\n",
       "         'на': 2196,\n",
       "         'проведение': 759,\n",
       "         'жилья': 1283,\n",
       "         'для': 1283,\n",
       "         'семья': 636,\n",
       "         'недвижимость': 6290,\n",
       "         'коммерческой': 1298,\n",
       "         'жилой': 1215,\n",
       "         'строительство': 1862,\n",
       "         'собственной': 626,\n",
       "         'покупку': 1437,\n",
       "         'подержанного': 471,\n",
       "         'своего': 1119,\n",
       "         'со': 623,\n",
       "         'своей': 623,\n",
       "         'заняться': 900,\n",
       "         'сделка': 933,\n",
       "         'подержанным': 479,\n",
       "         'получение': 1304,\n",
       "         'дополнительного': 442,\n",
       "         'высшего': 423,\n",
       "         'свой': 470,\n",
       "         'профильное': 431,\n",
       "         'высшее': 443,\n",
       "         'сдача': 647,\n",
       "         'ремонт': 602,\n",
       "         'высшим': 493})"
      ]
     },
     "execution_count": 54,
     "metadata": {},
     "output_type": "execute_result"
    }
   ],
   "source": [
    "df['counter_lemmas'].sum()"
   ]
  },
  {
   "cell_type": "markdown",
   "id": "51fa8792",
   "metadata": {},
   "source": [
    "Теперь видно самые употребляемые леммы, которые указывают клиенты в целях кредита.\n",
    "\n",
    "Среди них можно выделить самые упоминаемые категории:\n",
    "\n",
    "- **недвижимость** - если считать вместе с жильем упоминаний больше 10 тыс. упоминаний.\n",
    "\n",
    "- **автомобиль** - 4315 упоминаний.\n",
    "\n",
    "- **образование** - 4022 упоминания.\n",
    "\n",
    "- **операция** - 2610 упоминаний.\n",
    "\n",
    "- **свадьба** - 2348 упоминаний.\n",
    "\n",
    "Убедимся в этом методом value_counts():"
   ]
  },
  {
   "cell_type": "code",
   "execution_count": 55,
   "id": "17a53322",
   "metadata": {},
   "outputs": [
    {
     "data": {
      "text/plain": [
       "свадьба                                   785\n",
       "на проведение свадьбы                     759\n",
       "сыграть свадьбу                           755\n",
       "операции с недвижимостью                  669\n",
       "покупка коммерческой недвижимости         655\n",
       "покупка жилья для сдачи                   647\n",
       "операции с коммерческой недвижимостью     643\n",
       "операции с жильем                         641\n",
       "покупка жилья для семьи                   636\n",
       "жилье                                     635\n",
       "покупка жилья                             634\n",
       "недвижимость                              627\n",
       "строительство собственной недвижимости    626\n",
       "операции со своей недвижимостью           623\n",
       "строительство недвижимости                619\n",
       "покупка своего жилья                      618\n",
       "строительство жилой недвижимости          617\n",
       "покупка недвижимости                      613\n",
       "ремонт жилью                              602\n",
       "покупка жилой недвижимости                598\n",
       "на покупку своего автомобиля              501\n",
       "заняться высшим образованием              493\n",
       "автомобиль                                487\n",
       "сделка с подержанным автомобилем          479\n",
       "автомобили                                474\n",
       "на покупку подержанного автомобиля        471\n",
       "свой автомобиль                           470\n",
       "на покупку автомобиля                     465\n",
       "приобретение автомобиля                   457\n",
       "сделка с автомобилем                      454\n",
       "дополнительное образование                453\n",
       "высшее образование                        443\n",
       "получение дополнительного образования     442\n",
       "получение образования                     439\n",
       "образование                               439\n",
       "профильное образование                    431\n",
       "получение высшего образования             423\n",
       "заняться образованием                     407\n",
       "Name: purpose, dtype: int64"
      ]
     },
     "execution_count": 55,
     "metadata": {},
     "output_type": "execute_result"
    }
   ],
   "source": [
    "df['purpose'].value_counts()"
   ]
  },
  {
   "cell_type": "markdown",
   "id": "4a344ffa",
   "metadata": {},
   "source": [
    "Отсюда видно, что категорию **операция** можно отбросить, так как она упоминается только с \"жильем\" и \"недвижимостью\"."
   ]
  },
  {
   "cell_type": "markdown",
   "id": "65a41ee2",
   "metadata": {},
   "source": [
    "**Вывод**\n",
    "\n",
    "Столбец содержащий цель получения кредита был лемматизирован, благодаря чему были выявлены основные (самые упоминаемые) кагеории целей получения кредита:\n",
    "\n",
    "\n",
    "- **недвижимость**;\n",
    "\n",
    "- **автомобиль**;\n",
    "\n",
    "- **образование**;\n",
    "\n",
    "- **свадьба**.\n"
   ]
  },
  {
   "cell_type": "markdown",
   "id": "bcd7cb4e",
   "metadata": {},
   "source": [
    "### Категоризация данных"
   ]
  },
  {
   "cell_type": "markdown",
   "id": "59c14ed7",
   "metadata": {},
   "source": [
    "Начнем с того, что категоризуем цели получения кредита на найденые категории в предидущем разделе в новый столбец `purpose_category`. Для этого напишем функцию:"
   ]
  },
  {
   "cell_type": "code",
   "execution_count": 56,
   "id": "ffa5e045",
   "metadata": {},
   "outputs": [],
   "source": [
    "def purpose_category(row: str) -> str:\n",
    "    lemma_purpose = row\n",
    "    if 'автомобиль' in lemma_purpose:\n",
    "        return 'автомобиль'\n",
    "    if 'образование' in lemma_purpose:\n",
    "        return 'образование'\n",
    "    if 'свадьба' in lemma_purpose:\n",
    "        return 'свадьба'\n",
    "    if 'недвижимость' or 'жилье' in lemma_purpose:\n",
    "        return 'недвижимость'"
   ]
  },
  {
   "cell_type": "code",
   "execution_count": 57,
   "id": "42cbcf18",
   "metadata": {},
   "outputs": [],
   "source": [
    "df['purpose_category'] = df['lemma_purpose'].apply(purpose_category)"
   ]
  },
  {
   "cell_type": "code",
   "execution_count": 58,
   "id": "d8f9c871",
   "metadata": {},
   "outputs": [
    {
     "data": {
      "text/plain": [
       "0        недвижимость\n",
       "1          автомобиль\n",
       "2        недвижимость\n",
       "3         образование\n",
       "4             свадьба\n",
       "             ...     \n",
       "21225    недвижимость\n",
       "21226      автомобиль\n",
       "21227    недвижимость\n",
       "21228      автомобиль\n",
       "21229      автомобиль\n",
       "Name: purpose_category, Length: 21230, dtype: object"
      ]
     },
     "execution_count": 58,
     "metadata": {},
     "output_type": "execute_result"
    }
   ],
   "source": [
    "df['purpose_category']"
   ]
  },
  {
   "cell_type": "markdown",
   "id": "75a7c97e",
   "metadata": {},
   "source": [
    "Теперь категоризуем клиентов по столбцу `total_income` в новом столбцу `total_income_category` на 5 категорий:"
   ]
  },
  {
   "cell_type": "code",
   "execution_count": 59,
   "id": "73882bc8",
   "metadata": {},
   "outputs": [],
   "source": [
    "df['total_income_category'], income_cat_borders  = pd.qcut(df['total_income'], \n",
    "                                                           5, \n",
    "                                                           labels=['E', 'D', 'C', 'B', 'A'], \n",
    "                                                           retbins=True)"
   ]
  },
  {
   "cell_type": "code",
   "execution_count": 60,
   "id": "bb184214",
   "metadata": {},
   "outputs": [
    {
     "data": {
      "text/plain": [
       "array([  20667.26379327,   98527.18173309,  132137.63255482,\n",
       "        161371.28644217,  214520.50949182, 2265604.02872274])"
      ]
     },
     "execution_count": 60,
     "metadata": {},
     "output_type": "execute_result"
    }
   ],
   "source": [
    "income_cat_borders"
   ]
  },
  {
   "cell_type": "markdown",
   "id": "2cff84d4",
   "metadata": {},
   "source": [
    "Клиенты категоризованы по доходу:\n",
    "\n",
    "- 20667 (минимальное значение дохода)–98527 — 'E';\n",
    "- 98528–132137 — 'D';\n",
    "- 132138–161371 — 'C';\n",
    "- 161372–214520 — 'B';\n",
    "- 214521-2265604 (минимальное значение дохода) — 'A'."
   ]
  },
  {
   "cell_type": "markdown",
   "id": "13ca7da4",
   "metadata": {},
   "source": [
    "Теперь создадим \"словари\" категорий `education` и `family_status`:"
   ]
  },
  {
   "cell_type": "code",
   "execution_count": 61,
   "id": "32a43fca",
   "metadata": {},
   "outputs": [
    {
     "name": "stdout",
     "output_type": "stream",
     "text": [
      "           family_status  family_status_id\n",
      "0        женат / замужем                 0\n",
      "1       гражданский брак                 1\n",
      "2         вдовец / вдова                 2\n",
      "3              в разводе                 3\n",
      "4  Не женат / не замужем                 4\n",
      "             education  education_id\n",
      "0               высшее             0\n",
      "1              среднее             1\n",
      "2  неоконченное высшее             2\n",
      "3            начальное             3\n",
      "4       ученая степень             4\n"
     ]
    }
   ],
   "source": [
    "df_dict_education = df[['education', 'education_id']]\n",
    "df_dict_family_status = df[['family_status', 'family_status_id']]\n",
    "# удалим все дубликаты из словарей категорий\n",
    "df_dict_education = df_dict_education.drop_duplicates().reset_index(drop=True)\n",
    "df_dict_family_status = df_dict_family_status.drop_duplicates().reset_index(drop=True)\n",
    "# проверим \"словари\"\n",
    "print(df_dict_family_status)\n",
    "print(df_dict_education)"
   ]
  },
  {
   "cell_type": "markdown",
   "id": "84339aac",
   "metadata": {},
   "source": [
    "Теперь отделим все полезные данные необходимые для ответа на поставленную задачу от лишнего в датафрейм `df_log`"
   ]
  },
  {
   "cell_type": "code",
   "execution_count": 62,
   "id": "a5acff73",
   "metadata": {},
   "outputs": [
    {
     "data": {
      "text/html": [
       "<div>\n",
       "<style scoped>\n",
       "    .dataframe tbody tr th:only-of-type {\n",
       "        vertical-align: middle;\n",
       "    }\n",
       "\n",
       "    .dataframe tbody tr th {\n",
       "        vertical-align: top;\n",
       "    }\n",
       "\n",
       "    .dataframe thead th {\n",
       "        text-align: right;\n",
       "    }\n",
       "</style>\n",
       "<table border=\"1\" class=\"dataframe\">\n",
       "  <thead>\n",
       "    <tr style=\"text-align: right;\">\n",
       "      <th></th>\n",
       "      <th>children</th>\n",
       "      <th>education_id</th>\n",
       "      <th>family_status_id</th>\n",
       "      <th>debt</th>\n",
       "      <th>total_income_category</th>\n",
       "      <th>purpose_category</th>\n",
       "    </tr>\n",
       "  </thead>\n",
       "  <tbody>\n",
       "    <tr>\n",
       "      <th>0</th>\n",
       "      <td>1</td>\n",
       "      <td>0</td>\n",
       "      <td>0</td>\n",
       "      <td>0</td>\n",
       "      <td>A</td>\n",
       "      <td>недвижимость</td>\n",
       "    </tr>\n",
       "    <tr>\n",
       "      <th>1</th>\n",
       "      <td>1</td>\n",
       "      <td>1</td>\n",
       "      <td>0</td>\n",
       "      <td>0</td>\n",
       "      <td>D</td>\n",
       "      <td>автомобиль</td>\n",
       "    </tr>\n",
       "    <tr>\n",
       "      <th>2</th>\n",
       "      <td>0</td>\n",
       "      <td>1</td>\n",
       "      <td>0</td>\n",
       "      <td>0</td>\n",
       "      <td>C</td>\n",
       "      <td>недвижимость</td>\n",
       "    </tr>\n",
       "    <tr>\n",
       "      <th>3</th>\n",
       "      <td>3</td>\n",
       "      <td>1</td>\n",
       "      <td>0</td>\n",
       "      <td>0</td>\n",
       "      <td>A</td>\n",
       "      <td>образование</td>\n",
       "    </tr>\n",
       "    <tr>\n",
       "      <th>4</th>\n",
       "      <td>0</td>\n",
       "      <td>1</td>\n",
       "      <td>1</td>\n",
       "      <td>0</td>\n",
       "      <td>C</td>\n",
       "      <td>свадьба</td>\n",
       "    </tr>\n",
       "  </tbody>\n",
       "</table>\n",
       "</div>"
      ],
      "text/plain": [
       "   children  education_id  family_status_id  debt total_income_category  \\\n",
       "0         1             0                 0     0                     A   \n",
       "1         1             1                 0     0                     D   \n",
       "2         0             1                 0     0                     C   \n",
       "3         3             1                 0     0                     A   \n",
       "4         0             1                 1     0                     C   \n",
       "\n",
       "  purpose_category  \n",
       "0     недвижимость  \n",
       "1       автомобиль  \n",
       "2     недвижимость  \n",
       "3      образование  \n",
       "4          свадьба  "
      ]
     },
     "execution_count": 62,
     "metadata": {},
     "output_type": "execute_result"
    }
   ],
   "source": [
    "df_log = df[['children','education_id', 'family_status_id','debt', 'total_income_category', 'purpose_category']]\n",
    "df_log.head()"
   ]
  },
  {
   "cell_type": "markdown",
   "id": "858ef07a",
   "metadata": {},
   "source": [
    "**Вывод**\n",
    "\n",
    "Данные категоризованы:\n",
    "\n",
    "- цели получения кредита разбиты на четыре основные категории;\n",
    "\n",
    "- по доходу, следующим образом:\n",
    "\n",
    "| Доход | Категория |\n",
    "|-------|-----------|\n",
    "|20667 (минимальное значение дохода) - 98527 | 'E'|\n",
    "|98528–132137 |'D'|\n",
    "|132138–161371 | 'C'|\n",
    "|161372–214520 | 'B'|\n",
    "|214521-2265604 (минимальное значение дохода) | 'A'|\n",
    "\n",
    "\n",
    "\n",
    "\n",
    "\n",
    "\n",
    "Cздано два \"словаря\" для `enducation_id` и `family_status_id` остальные данные, необходимые для ответа на поставленную задачу помещенны в датафрейм `data_log`, он имеет простой и лакончиный вид."
   ]
  },
  {
   "cell_type": "markdown",
   "id": "43591451",
   "metadata": {},
   "source": [
    "## Ответы на вопросы бизнеса"
   ]
  },
  {
   "cell_type": "markdown",
   "id": "7ed0c2e2",
   "metadata": {},
   "source": [
    "- Есть ли зависимость между наличием детей и возвратом кредита в срок?"
   ]
  },
  {
   "cell_type": "markdown",
   "id": "f431c6da",
   "metadata": {},
   "source": [
    "Построим сводную таблицу, группируем данные по столбцу `children`, смотрим на столбец `debt`, используем функции **count** и **mean**:"
   ]
  },
  {
   "cell_type": "code",
   "execution_count": 63,
   "id": "c3cce427",
   "metadata": {},
   "outputs": [
    {
     "data": {
      "text/html": [
       "<div>\n",
       "<style scoped>\n",
       "    .dataframe tbody tr th:only-of-type {\n",
       "        vertical-align: middle;\n",
       "    }\n",
       "\n",
       "    .dataframe tbody tr th {\n",
       "        vertical-align: top;\n",
       "    }\n",
       "\n",
       "    .dataframe thead tr th {\n",
       "        text-align: left;\n",
       "    }\n",
       "\n",
       "    .dataframe thead tr:last-of-type th {\n",
       "        text-align: right;\n",
       "    }\n",
       "</style>\n",
       "<table border=\"1\" class=\"dataframe\">\n",
       "  <thead>\n",
       "    <tr>\n",
       "      <th></th>\n",
       "      <th>count</th>\n",
       "      <th>mean</th>\n",
       "    </tr>\n",
       "    <tr>\n",
       "      <th></th>\n",
       "      <th>debt</th>\n",
       "      <th>debt</th>\n",
       "    </tr>\n",
       "    <tr>\n",
       "      <th>children</th>\n",
       "      <th></th>\n",
       "      <th></th>\n",
       "    </tr>\n",
       "  </thead>\n",
       "  <tbody>\n",
       "    <tr>\n",
       "      <th>0</th>\n",
       "      <td>14021</td>\n",
       "      <td>0.075458</td>\n",
       "    </tr>\n",
       "    <tr>\n",
       "      <th>1</th>\n",
       "      <td>4792</td>\n",
       "      <td>0.092028</td>\n",
       "    </tr>\n",
       "    <tr>\n",
       "      <th>2</th>\n",
       "      <td>2039</td>\n",
       "      <td>0.095145</td>\n",
       "    </tr>\n",
       "    <tr>\n",
       "      <th>3</th>\n",
       "      <td>328</td>\n",
       "      <td>0.082317</td>\n",
       "    </tr>\n",
       "    <tr>\n",
       "      <th>4</th>\n",
       "      <td>41</td>\n",
       "      <td>0.097561</td>\n",
       "    </tr>\n",
       "    <tr>\n",
       "      <th>5</th>\n",
       "      <td>9</td>\n",
       "      <td>0.000000</td>\n",
       "    </tr>\n",
       "  </tbody>\n",
       "</table>\n",
       "</div>"
      ],
      "text/plain": [
       "          count      mean\n",
       "           debt      debt\n",
       "children                 \n",
       "0         14021  0.075458\n",
       "1          4792  0.092028\n",
       "2          2039  0.095145\n",
       "3           328  0.082317\n",
       "4            41  0.097561\n",
       "5             9  0.000000"
      ]
     },
     "execution_count": 63,
     "metadata": {},
     "output_type": "execute_result"
    }
   ],
   "source": [
    "df_log.pivot_table(index='children',values='debt',aggfunc=['count','mean'])"
   ]
  },
  {
   "cell_type": "markdown",
   "id": "d5948895",
   "metadata": {},
   "source": [
    "**Вывод**\n",
    "\n",
    "Из сводной таблицы следует, что заемщики не возвращают кредит в срок:\n",
    "\n",
    "-**не имеющие детей** в **7.5%** случаев;\n",
    "\n",
    "-имеющие **одного ребенка** в **9.2%** случаев;\n",
    "\n",
    "-имеющие **двух детей** в **9.5%** случаев;\n",
    "\n",
    "-имеющие **трех детей** в **8.1%** случаев;\n",
    "\n",
    "-имеющие **четырех детей** в **9.7%** случаев;\n",
    "\n",
    "примечательно, что все клиенты имеющие **пять детей** вернули кредит в срок, однако выборка для оценки слишком мала (5 клиентов).\n",
    "\n",
    "Стоит так же отметить, что с ростом количества детей число клиентов в выборке снижалось.\n",
    "\n",
    "между наличием детей и возвратом кредита в срок наблюдается зависимость - тем больше детей у заемщика, тем меньше доля возврата кредита в срок. По зависимости выбивается только случай с тремя детьми, однако, скорее всего это связано с размером выборки и при насыщении группы клиентов с тремя детьми данными этот выброс исчезнет.\n"
   ]
  },
  {
   "cell_type": "markdown",
   "id": "139ae20c",
   "metadata": {},
   "source": [
    "- Есть ли зависимость между семейным положением и возвратом кредита в срок?"
   ]
  },
  {
   "cell_type": "markdown",
   "id": "2f7fe6dd",
   "metadata": {},
   "source": [
    "Построим сводную таблицу, группируем данные по столбцу `family_status_id`, смотрим на столбец `debt`, используем функции **count** и **mean**:"
   ]
  },
  {
   "cell_type": "code",
   "execution_count": 64,
   "id": "353f411e",
   "metadata": {},
   "outputs": [
    {
     "data": {
      "text/html": [
       "<div>\n",
       "<style scoped>\n",
       "    .dataframe tbody tr th:only-of-type {\n",
       "        vertical-align: middle;\n",
       "    }\n",
       "\n",
       "    .dataframe tbody tr th {\n",
       "        vertical-align: top;\n",
       "    }\n",
       "\n",
       "    .dataframe thead tr th {\n",
       "        text-align: left;\n",
       "    }\n",
       "\n",
       "    .dataframe thead tr:last-of-type th {\n",
       "        text-align: right;\n",
       "    }\n",
       "</style>\n",
       "<table border=\"1\" class=\"dataframe\">\n",
       "  <thead>\n",
       "    <tr>\n",
       "      <th></th>\n",
       "      <th>count</th>\n",
       "      <th>mean</th>\n",
       "    </tr>\n",
       "    <tr>\n",
       "      <th></th>\n",
       "      <th>debt</th>\n",
       "      <th>debt</th>\n",
       "    </tr>\n",
       "    <tr>\n",
       "      <th>family_status_id</th>\n",
       "      <th></th>\n",
       "      <th></th>\n",
       "    </tr>\n",
       "  </thead>\n",
       "  <tbody>\n",
       "    <tr>\n",
       "      <th>0</th>\n",
       "      <td>12212</td>\n",
       "      <td>0.075581</td>\n",
       "    </tr>\n",
       "    <tr>\n",
       "      <th>1</th>\n",
       "      <td>4113</td>\n",
       "      <td>0.093119</td>\n",
       "    </tr>\n",
       "    <tr>\n",
       "      <th>2</th>\n",
       "      <td>946</td>\n",
       "      <td>0.065539</td>\n",
       "    </tr>\n",
       "    <tr>\n",
       "      <th>3</th>\n",
       "      <td>1179</td>\n",
       "      <td>0.071247</td>\n",
       "    </tr>\n",
       "    <tr>\n",
       "      <th>4</th>\n",
       "      <td>2780</td>\n",
       "      <td>0.097842</td>\n",
       "    </tr>\n",
       "  </tbody>\n",
       "</table>\n",
       "</div>"
      ],
      "text/plain": [
       "                  count      mean\n",
       "                   debt      debt\n",
       "family_status_id                 \n",
       "0                 12212  0.075581\n",
       "1                  4113  0.093119\n",
       "2                   946  0.065539\n",
       "3                  1179  0.071247\n",
       "4                  2780  0.097842"
      ]
     },
     "execution_count": 64,
     "metadata": {},
     "output_type": "execute_result"
    }
   ],
   "source": [
    "df_log.pivot_table(index='family_status_id',values='debt',aggfunc=['count','mean'])"
   ]
  },
  {
   "cell_type": "markdown",
   "id": "ea46f54e",
   "metadata": {},
   "source": [
    "Откроем \"словарь\" категорий `data_dict_family_status`:"
   ]
  },
  {
   "cell_type": "code",
   "execution_count": 65,
   "id": "18451d1b",
   "metadata": {},
   "outputs": [
    {
     "data": {
      "text/html": [
       "<div>\n",
       "<style scoped>\n",
       "    .dataframe tbody tr th:only-of-type {\n",
       "        vertical-align: middle;\n",
       "    }\n",
       "\n",
       "    .dataframe tbody tr th {\n",
       "        vertical-align: top;\n",
       "    }\n",
       "\n",
       "    .dataframe thead th {\n",
       "        text-align: right;\n",
       "    }\n",
       "</style>\n",
       "<table border=\"1\" class=\"dataframe\">\n",
       "  <thead>\n",
       "    <tr style=\"text-align: right;\">\n",
       "      <th></th>\n",
       "      <th>family_status</th>\n",
       "      <th>family_status_id</th>\n",
       "    </tr>\n",
       "  </thead>\n",
       "  <tbody>\n",
       "    <tr>\n",
       "      <th>0</th>\n",
       "      <td>женат / замужем</td>\n",
       "      <td>0</td>\n",
       "    </tr>\n",
       "    <tr>\n",
       "      <th>1</th>\n",
       "      <td>гражданский брак</td>\n",
       "      <td>1</td>\n",
       "    </tr>\n",
       "    <tr>\n",
       "      <th>2</th>\n",
       "      <td>вдовец / вдова</td>\n",
       "      <td>2</td>\n",
       "    </tr>\n",
       "    <tr>\n",
       "      <th>3</th>\n",
       "      <td>в разводе</td>\n",
       "      <td>3</td>\n",
       "    </tr>\n",
       "    <tr>\n",
       "      <th>4</th>\n",
       "      <td>Не женат / не замужем</td>\n",
       "      <td>4</td>\n",
       "    </tr>\n",
       "  </tbody>\n",
       "</table>\n",
       "</div>"
      ],
      "text/plain": [
       "           family_status  family_status_id\n",
       "0        женат / замужем                 0\n",
       "1       гражданский брак                 1\n",
       "2         вдовец / вдова                 2\n",
       "3              в разводе                 3\n",
       "4  Не женат / не замужем                 4"
      ]
     },
     "execution_count": 65,
     "metadata": {},
     "output_type": "execute_result"
    }
   ],
   "source": [
    "df_dict_family_status"
   ]
  },
  {
   "cell_type": "markdown",
   "id": "bcd69741",
   "metadata": {},
   "source": [
    "**Вывод**\n",
    "\n",
    "Из сводной таблицы следует, что заемщики не возвращают кредит в срок:\n",
    "\n",
    "-**имеющие семейное положение \"женат / замужем\"** в **7.5%** случаев;\n",
    "\n",
    "-**имеющие семейное положение \"гражданский брак\"** в **9.3%** случаев;\n",
    "\n",
    "-**имеющие семейное положение \"вдовец / вдова\"** в **6.6%** случаев;\n",
    "\n",
    "-**имеющие семейное положение \"в разводе\"** в **7.1%** случаев;\n",
    "\n",
    "-**имеющие семейное положение \"Не женат / не замужем\"** в **9.7%** случаев;\n",
    "\n",
    "Более надежными заемщиками являются женатые / замужние клиенты, а также разведенные и овдовевшие.\n",
    "\n",
    "Стоит также отметить, что группы \"в разводе\" и \"вдовец / вдова\" состоят всего из порядка тысячи клиентов, что в несколько раз отличается от других групп."
   ]
  },
  {
   "cell_type": "markdown",
   "id": "2e914e1e",
   "metadata": {},
   "source": [
    "- Есть ли зависимость между уровнем дохода и возвратом кредита в срок?"
   ]
  },
  {
   "cell_type": "markdown",
   "id": "0d453ce0",
   "metadata": {},
   "source": [
    "Построим сводную таблицу, группируем данные по столбцу `total_income_category`, смотрим на столбец `debt`, используем функции **count** и **mean**:"
   ]
  },
  {
   "cell_type": "code",
   "execution_count": 66,
   "id": "5a1030c6",
   "metadata": {},
   "outputs": [
    {
     "data": {
      "text/html": [
       "<div>\n",
       "<style scoped>\n",
       "    .dataframe tbody tr th:only-of-type {\n",
       "        vertical-align: middle;\n",
       "    }\n",
       "\n",
       "    .dataframe tbody tr th {\n",
       "        vertical-align: top;\n",
       "    }\n",
       "\n",
       "    .dataframe thead tr th {\n",
       "        text-align: left;\n",
       "    }\n",
       "\n",
       "    .dataframe thead tr:last-of-type th {\n",
       "        text-align: right;\n",
       "    }\n",
       "</style>\n",
       "<table border=\"1\" class=\"dataframe\">\n",
       "  <thead>\n",
       "    <tr>\n",
       "      <th></th>\n",
       "      <th>count</th>\n",
       "      <th>mean</th>\n",
       "    </tr>\n",
       "    <tr>\n",
       "      <th></th>\n",
       "      <th>debt</th>\n",
       "      <th>debt</th>\n",
       "    </tr>\n",
       "    <tr>\n",
       "      <th>total_income_category</th>\n",
       "      <th></th>\n",
       "      <th></th>\n",
       "    </tr>\n",
       "  </thead>\n",
       "  <tbody>\n",
       "    <tr>\n",
       "      <th>E</th>\n",
       "      <td>4246</td>\n",
       "      <td>0.080782</td>\n",
       "    </tr>\n",
       "    <tr>\n",
       "      <th>D</th>\n",
       "      <td>4246</td>\n",
       "      <td>0.083844</td>\n",
       "    </tr>\n",
       "    <tr>\n",
       "      <th>C</th>\n",
       "      <td>4246</td>\n",
       "      <td>0.087376</td>\n",
       "    </tr>\n",
       "    <tr>\n",
       "      <th>B</th>\n",
       "      <td>4246</td>\n",
       "      <td>0.083844</td>\n",
       "    </tr>\n",
       "    <tr>\n",
       "      <th>A</th>\n",
       "      <td>4246</td>\n",
       "      <td>0.070184</td>\n",
       "    </tr>\n",
       "  </tbody>\n",
       "</table>\n",
       "</div>"
      ],
      "text/plain": [
       "                      count      mean\n",
       "                       debt      debt\n",
       "total_income_category                \n",
       "E                      4246  0.080782\n",
       "D                      4246  0.083844\n",
       "C                      4246  0.087376\n",
       "B                      4246  0.083844\n",
       "A                      4246  0.070184"
      ]
     },
     "execution_count": 66,
     "metadata": {},
     "output_type": "execute_result"
    }
   ],
   "source": [
    "df_log.pivot_table(index='total_income_category',\n",
    "                   values='debt',aggfunc=['count','mean'])"
   ]
  },
  {
   "cell_type": "code",
   "execution_count": 67,
   "id": "3a9c86d5",
   "metadata": {},
   "outputs": [
    {
     "data": {
      "image/png": "[encoded data removed]",
      "text/plain": [
       "<Figure size 1152x576 with 1 Axes>"
      ]
     },
     "metadata": {
      "needs_background": "light"
     },
     "output_type": "display_data"
    }
   ],
   "source": [
    "plt.figure(figsize=(16,8))\n",
    "plt.plot(df_log.pivot_table(index='total_income_category',\n",
    "                   values='debt',aggfunc=['count','mean'])['mean'], marker='x', linestyle='', markersize=20)\n",
    "plt.grid()\n",
    "plt.xlabel('Категории дохода')\n",
    "plt.ylabel('Доля невозврата кредита')\n",
    "plt.title('Зависимость доли невозврата кредита от уровня дохода');"
   ]
  },
  {
   "cell_type": "markdown",
   "id": "9ec70586",
   "metadata": {},
   "source": [
    "**Вывод**\n",
    "\n",
    "Доля невозврата кредита растет с понижением уровня дохода, однако эта зависимость нелинейна - после определенного уровня дохода (от категории С до Е, диапазон дохода 161371-132138-98528–20667 наблюдается резкое снижение доли невозврата кредита)."
   ]
  },
  {
   "cell_type": "markdown",
   "id": "100fdb22",
   "metadata": {},
   "source": [
    "- Как разные цели кредита влияют на его возврат в срок?"
   ]
  },
  {
   "cell_type": "markdown",
   "id": "c5803e84",
   "metadata": {},
   "source": [
    "Построим сводную таблицу, группируем данные по столбцу `purpose_category`, смотрим на столбец `debt`, используем функции **count** и **mean**:"
   ]
  },
  {
   "cell_type": "code",
   "execution_count": 68,
   "id": "635ca45d",
   "metadata": {},
   "outputs": [
    {
     "data": {
      "text/html": [
       "<div>\n",
       "<style scoped>\n",
       "    .dataframe tbody tr th:only-of-type {\n",
       "        vertical-align: middle;\n",
       "    }\n",
       "\n",
       "    .dataframe tbody tr th {\n",
       "        vertical-align: top;\n",
       "    }\n",
       "\n",
       "    .dataframe thead tr th {\n",
       "        text-align: left;\n",
       "    }\n",
       "\n",
       "    .dataframe thead tr:last-of-type th {\n",
       "        text-align: right;\n",
       "    }\n",
       "</style>\n",
       "<table border=\"1\" class=\"dataframe\">\n",
       "  <thead>\n",
       "    <tr>\n",
       "      <th></th>\n",
       "      <th>count</th>\n",
       "      <th>mean</th>\n",
       "    </tr>\n",
       "    <tr>\n",
       "      <th></th>\n",
       "      <th>debt</th>\n",
       "      <th>debt</th>\n",
       "    </tr>\n",
       "    <tr>\n",
       "      <th>purpose_category</th>\n",
       "      <th></th>\n",
       "      <th></th>\n",
       "    </tr>\n",
       "  </thead>\n",
       "  <tbody>\n",
       "    <tr>\n",
       "      <th>автомобиль</th>\n",
       "      <td>4258</td>\n",
       "      <td>0.093236</td>\n",
       "    </tr>\n",
       "    <tr>\n",
       "      <th>недвижимость</th>\n",
       "      <td>10703</td>\n",
       "      <td>0.072596</td>\n",
       "    </tr>\n",
       "    <tr>\n",
       "      <th>образование</th>\n",
       "      <td>3970</td>\n",
       "      <td>0.092947</td>\n",
       "    </tr>\n",
       "    <tr>\n",
       "      <th>свадьба</th>\n",
       "      <td>2299</td>\n",
       "      <td>0.078730</td>\n",
       "    </tr>\n",
       "  </tbody>\n",
       "</table>\n",
       "</div>"
      ],
      "text/plain": [
       "                  count      mean\n",
       "                   debt      debt\n",
       "purpose_category                 \n",
       "автомобиль         4258  0.093236\n",
       "недвижимость      10703  0.072596\n",
       "образование        3970  0.092947\n",
       "свадьба            2299  0.078730"
      ]
     },
     "execution_count": 68,
     "metadata": {},
     "output_type": "execute_result"
    }
   ],
   "source": [
    "df_log.pivot_table(index='purpose_category',values='debt',aggfunc=['count','mean'])"
   ]
  },
  {
   "cell_type": "markdown",
   "id": "3f0e8fab",
   "metadata": {},
   "source": [
    "**Вывод**\n",
    "\n",
    "Реже возвращают в срок кредит клиенты, которые люди берут кредит на **автомобиль или образование**. Процент клиентов, не вернувших кредит в срок **9.4%** и **9.2%** соответственно.\n",
    "Чаще возвращают кредиты в срок клиенты, которые берут кредит на **недвижимость или свадьбу**. Процент клиентов, не вернувших кредит в срок **7.2%** и **8.0%** соответственно.\n"
   ]
  },
  {
   "cell_type": "markdown",
   "id": "711e3149",
   "metadata": {},
   "source": [
    "## Общий вывод"
   ]
  },
  {
   "cell_type": "markdown",
   "id": "df2f7b27",
   "metadata": {},
   "source": [
    "В ходе проведенной работы данные были предобработаны: \n",
    "\n",
    "- Пропуски в столбцах `days_employed`, `total_income` были заполнены медианными значениями (согласно типу занятости, при этом значение с пропуском категории \"предприниматель\" было отброшено из-за нерепрезенативности группы), значения в столбце **days_employed** приведены в одни единицы измерения;\n",
    "\n",
    "- неявные пропуски в столбце `dob_years` отброшены;\n",
    "\n",
    "- единичный XNA в столбце `gender` был заменен на M;\n",
    "\n",
    "- аномалии в столбце `chlidren` отброшены.\n",
    "\n",
    "Возможные причины появления пропусков в данных: \n",
    "\n",
    "- В столбцах `days_emploeyd` и `total_income` шаблон и доля пропусков полностью совпадает, следовательно пропуски не случайны. Данные могли быть выгружены не полностью;\n",
    "\n",
    "- в столбце `gender` из-за того, что пропуск встречался всего раз, можно предположить, что сыграл человеческий фактор;\n",
    "\n",
    "- в столбце `children` похоже на ошибку ввода данных.\n",
    "\n",
    "При предобработке отброшено менее 1.1% информации.\n",
    "\n",
    "\n",
    "Все количественные переменные в столбцах `days_employed`, `dob_years`, `childern` были приведены к целочисленному типу.\n",
    "\n",
    "\n",
    "Столбец содержащий цель получения кредита был лемматизирован, благодаря чему были выявлены основные (самые упоминаемые) категории целей получения кредита:\n",
    "\n",
    "\n",
    "- **недвижимость**;\n",
    "\n",
    "- **автомобиль**;\n",
    "\n",
    "- **образование**;\n",
    "\n",
    "- **свадьба**.\n",
    "\n",
    "\n",
    "\n",
    "Данные категорированы:\n",
    "\n",
    "- цели получения кредита разбиты на четыре основные категории, найденные при лемматизации целей кредита;\n",
    "\n",
    "- по доходу, следующим образом:\n",
    "\n",
    "| Доход | Категория |\n",
    "|-------|-----------|\n",
    "|20667 (минимальное значение дохода) - 98527 | 'E'|\n",
    "|98528–132137 |'D'|\n",
    "|132138–161371 | 'C'|\n",
    "|161372–214520 | 'B'|\n",
    "|214521-2265604 (минимальное значение дохода) | 'A'|\n",
    "\n",
    "\n",
    "Ответы на вопросы бизнеса:\n",
    "\n",
    "\n",
    "1. Зависимость между наличием детей и возвратом кредита в срок:\n",
    "\n",
    "-**не имеющие детей**  в **7.5%** случаев;\n",
    "\n",
    "-имеющие **одного ребенка** в **9.2%** случаев;\n",
    "\n",
    "-имеющие **двух детей** в **9.5%** случаев;\n",
    "\n",
    "-имеющие **трех детей** в **8.1%** случаев;\n",
    "\n",
    "-имеющие **четырех детей** в **9.7%** случаев;\n",
    "\n",
    "примечательно, что все клиенты, имеющие **пять детей** вернули кредит в срок, однако выборка для оценки слишком мала (5 клиентов). Стоит так же отметить, что с ростом количества детей число клиентов в выборке снижалось.\n",
    "\n",
    "между наличием детей и возвратом кредита в срок наблюдается зависимость - тем больше детей у заемщика, тем меньше доля возврата кредита в срок. По зависимости выбивается только случай с тремя детьми, однако, скорее всего это связано с размером выборки и при насыщении группы клиентов с тремя детьми данными этот выброс исчезнет.\n",
    "\n",
    "\n",
    "2. Зависимость между семейным положением и возвратом кредита в срок:\n",
    "\n",
    "-**имеющие семейное положение \"женат / замужем\"** в **7.5%** случаев;\n",
    "\n",
    "-**имеющие семейное положение \"гражданский брак\"** в **9.3%** случаев;\n",
    "\n",
    "-**имеющие семейное положение \"вдовец / вдова\"** в **6.6%** случаев;\n",
    "\n",
    "-**имеющие семейное положение \"в разводе\"** в **7.1%** случаев;\n",
    "\n",
    "-**имеющие семейное положение \"Не женат / не замужем\"** в **9.7%** случаев;\n",
    "\n",
    "Более надежными заемщиками являются женатые / замужние клиенты, а также разведенные и овдовевшие.\n",
    "\n",
    "Стоит также отметить, что группы \"в разводе\" и \"вдовец / вдова\" состоят всего из порядка тысячи клиентов, что в несколько раз отличается от других групп.\n",
    "\n",
    "3. Зависимость между уровнем дохода и возвратом кредита в срок:\n",
    "\n",
    "Доля невозврата кредита растет с понижением уровня дохода, однако эта зависимость нелинейна - после определенного уровня дохода (от категории С до Е, диапазон дохода 161371-132138-98528–20667 наблюдается резкое снижение доли невозврата кредита).\n",
    "\n",
    "4. Как разные цели кредита влияют на его возврат в срок?\n",
    "\n",
    "Реже возвращают в срок кредит клиенты, которые люди берут кредит на **автомобиль или образование**. Процент клиентов, не вернувших кредит в срок **9.4%** и **9.2%** соответственно.\n",
    "Чаще возвращают кредиты в срок клиенты, которые берут кредит на **недвижимость или свадьбу**. Процент клиентов, не вернувших кредит в срок **7.2%** и **8.0%** соответственно.\n",
    "\n",
    "Сухой остаток:\n",
    "\n",
    "Заемщики чаще возвращают кредит в срок если:\n",
    "\n",
    "у них **нет детей**, у них **очень высокий уровень дохода** или **ниже среднего**, если кредит берется с целью покупки **недвижимости** или на проведение **свадьбы**.\n"
   ]
  }
 ],
 "metadata": {
  "kernelspec": {
   "display_name": "Python 3 (ipykernel)",
   "language": "python",
   "name": "python3"
  },
  "language_info": {
   "codemirror_mode": {
    "name": "ipython",
    "version": 3
   },
   "file_extension": ".py",
   "mimetype": "text/x-python",
   "name": "python",
   "nbconvert_exporter": "python",
   "pygments_lexer": "ipython3",
   "version": "3.9.7"
  }
 },
 "nbformat": 4,
 "nbformat_minor": 5
}
