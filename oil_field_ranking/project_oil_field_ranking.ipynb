{
 "cells": [
  {
   "cell_type": "markdown",
   "metadata": {
    "cellId": "kbctp2p869v3lem4ju7o"
   },
   "source": [
    "# Выбор региона для разработки новых нефтяных месторождений"
   ]
  },
  {
   "cell_type": "markdown",
   "metadata": {
    "cellId": "m4194b08zkb6rq30241ud"
   },
   "source": [
    "## Введение"
   ]
  },
  {
   "cell_type": "markdown",
   "metadata": {
    "cellId": "n4xyipd08fnay7w14uyci"
   },
   "source": [
    "Целью данного проекта является разработка модели для определения региона, где добыча нефти принесёт наибольшую прибыль. \n",
    "\n",
    "Условия задачи:\n",
    "\n",
    "1) Для обучения модели подходит только линейная регрессия (остальные — недостаточно предсказуемые).\n",
    "\n",
    "2) При разведке региона исследуют 500 точек, из которых с помощью машинного обучения выбирают 200 лучших для разработки.\n",
    "\n",
    "3) Бюджет на разработку скважин в регионе — 10 млрд рублей.\n",
    "\n",
    "4) При нынешних ценах один баррель сырья приносит 450 рублей дохода. Доход с каждой единицы продукта составляет 450 тыс. рублей, поскольку объём указан в тысячах баррелей.\n",
    "\n",
    "5) После оценки рисков нужно оставить лишь те регионы, в которых вероятность убытков меньше 2.5%. Среди них выбирают регион с наибольшей средней прибылью."
   ]
  },
  {
   "cell_type": "markdown",
   "metadata": {
    "cellId": "l97gn9rps89zkaur086y9"
   },
   "source": [
    "## Описание данных"
   ]
  },
  {
   "cell_type": "markdown",
   "metadata": {
    "cellId": "0xmzcpjxv81suguet21vj"
   },
   "source": [
    "Данные представляют собой пробы нефти в трёх регионах: в каждом 10 000 месторождений, где измерили качество нефти и объём её запасов (данные синтетические: детали контрактов и характеристики месторождений не разглашаются). \n",
    "\n",
    "Данные геологоразведки трёх регионов находятся в файлах:\n",
    "- `/datasets/geo_data_0.csv`;\n",
    "- `/datasets/geo_data_1.csv`;\n",
    "- `/datasets/geo_data_2.csv`.\n",
    "\n",
    "где `id — уникальный идентификатор скважины;`\n",
    "\n",
    "    `f0, f1, f2` — три признака точек (неважно, что они означают, но сами признаки значимы);\n",
    "    \n",
    "    `product` — объём запасов в скважине (тыс. баррелей)."
   ]
  },
  {
   "cell_type": "markdown",
   "metadata": {
    "cellId": "436khmbgeyye9guhohff5b"
   },
   "source": [
    "## План проекта"
   ]
  },
  {
   "cell_type": "markdown",
   "metadata": {
    "cellId": "ngzo8fljktkvntatcul9"
   },
   "source": [
    "1) [Загрузим и подготовим данные.](#1)\n",
    "\n",
    "2) [Обучим и проверим качество модели линейной регрессии для каждого региона:](#2)\n",
    "\n",
    "- Разобьем данные на обучающую и тестовую выборки в соотношении 4:1.\n",
    "- Обучим модель и сделаем предсказания на тестовой выборке.\n",
    "- Посчитаем средний запас предсказанного сырья и RMSE модели.\n",
    "- Проведем анализ результатов.\n",
    "\n",
    "3) [Выполним подготовку к расчету прибыли.](#3)\n",
    "\n",
    "\n",
    "5) [Посчитаем риски и прибыль для каждого региона:](#4)\n",
    "\n",
    "- Применим технику Bootstrap с 1000 выборок, чтобы найти распределение прибыли.\n",
    "- Найдем среднюю прибыль, 95%-й доверительный интервал и риск убытков.\n",
    "- Предложим регион для разработки скважин.\n",
    "\n",
    "6) [Напишем общий вывод.](#5)"
   ]
  },
  {
   "cell_type": "markdown",
   "metadata": {
    "cellId": "m5ld2t7wtptniqfxy6fi09"
   },
   "source": [
    "## Ипользуемые библиотеки в проекте"
   ]
  },
  {
   "cell_type": "markdown",
   "metadata": {
    "cellId": "qs3v3ap6pvlgqtn3ekwort"
   },
   "source": [
    "- `pandas`;\n",
    "- `warnings`;\n",
    "- `IPython`;\n",
    "- `NumPy`;\n",
    "- `scipy`;\n",
    "- `matplotlib`;\n",
    "- `seaborn`;\n",
    "- `sklearn`;"
   ]
  },
  {
   "cell_type": "markdown",
   "metadata": {
    "cellId": "3wn57atk561d5v7n57gohr"
   },
   "source": [
    "## Загрузка и подготовка данных<a id='1'></a>"
   ]
  },
  {
   "cell_type": "markdown",
   "metadata": {},
   "source": [
    "Установка библиотек:"
   ]
  },
  {
   "cell_type": "code",
   "execution_count": 1,
   "metadata": {},
   "outputs": [
    {
     "name": "stdout",
     "output_type": "stream",
     "text": [
      "Requirement already satisfied: seaborn in f:\\anaconda3\\lib\\site-packages (0.11.2)\n",
      "Requirement already satisfied: pandas>=0.23 in f:\\anaconda3\\lib\\site-packages (from seaborn) (1.3.4)\n",
      "Requirement already satisfied: numpy>=1.15 in f:\\anaconda3\\lib\\site-packages (from seaborn) (1.20.3)\n",
      "Requirement already satisfied: scipy>=1.0 in f:\\anaconda3\\lib\\site-packages (from seaborn) (1.7.1)\n",
      "Requirement already satisfied: matplotlib>=2.2 in f:\\anaconda3\\lib\\site-packages (from seaborn) (3.4.3)\n",
      "Requirement already satisfied: python-dateutil>=2.7 in f:\\anaconda3\\lib\\site-packages (from matplotlib>=2.2->seaborn) (2.8.2)\n",
      "Requirement already satisfied: cycler>=0.10 in f:\\anaconda3\\lib\\site-packages (from matplotlib>=2.2->seaborn) (0.10.0)\n",
      "Requirement already satisfied: pyparsing>=2.2.1 in f:\\anaconda3\\lib\\site-packages (from matplotlib>=2.2->seaborn) (3.0.4)\n",
      "Requirement already satisfied: kiwisolver>=1.0.1 in f:\\anaconda3\\lib\\site-packages (from matplotlib>=2.2->seaborn) (1.3.1)\n",
      "Requirement already satisfied: pillow>=6.2.0 in f:\\anaconda3\\lib\\site-packages (from matplotlib>=2.2->seaborn) (8.4.0)\n",
      "Requirement already satisfied: six in f:\\anaconda3\\lib\\site-packages (from cycler>=0.10->matplotlib>=2.2->seaborn) (1.16.0)\n",
      "Requirement already satisfied: pytz>=2017.3 in f:\\anaconda3\\lib\\site-packages (from pandas>=0.23->seaborn) (2021.3)\n"
     ]
    }
   ],
   "source": [
    "!pip install seaborn -U"
   ]
  },
  {
   "cell_type": "markdown",
   "metadata": {
    "cellId": "ry9f5k016oosgqp6t5xtp"
   },
   "source": [
    "Импортируем необходимые для работы библиотеки:"
   ]
  },
  {
   "cell_type": "code",
   "execution_count": 2,
   "metadata": {
    "cellId": "jbdxtfzjw9b99zedxus8tf"
   },
   "outputs": [],
   "source": [
    "import pandas as pd\n",
    "import warnings\n",
    "warnings.filterwarnings('ignore')\n",
    "from IPython.display import display\n",
    "import numpy as np\n",
    "import scipy.stats as stats\n",
    "import matplotlib.pyplot as plt\n",
    "import seaborn as sns\n",
    "from sklearn.preprocessing import StandardScaler \n",
    "from sklearn.metrics import mean_squared_error\n",
    "from sklearn.model_selection import train_test_split, GridSearchCV\n",
    "from sklearn.linear_model import LinearRegression"
   ]
  },
  {
   "cell_type": "markdown",
   "metadata": {
    "cellId": "il34mbdl5mha8sjhtcydpj"
   },
   "source": [
    "Импортируем геоданные в соответствующие датафреймы: `df_geo_0`, `df_geo_1`, `df_geo_2`."
   ]
  },
  {
   "cell_type": "code",
   "execution_count": 3,
   "metadata": {
    "cellId": "w5juqula9hrbt96ino3or5"
   },
   "outputs": [],
   "source": [
    "df_geo_0 = pd.read_csv(r'C:\\Users\\Wunderwaffe\\Downloads\\geo_data_0.csv')\n",
    "df_geo_1 = pd.read_csv(r'C:\\Users\\Wunderwaffe\\Downloads\\geo_data_1.csv')\n",
    "df_geo_2 = pd.read_csv(r'C:\\Users\\Wunderwaffe\\Downloads\\geo_data_2.csv')"
   ]
  },
  {
   "cell_type": "markdown",
   "metadata": {
    "cellId": "34zopckdywginqroijw9jd"
   },
   "source": [
    "Напишем функцию вывода основной информации о датафрейме:\n",
    "- первые пять объектов датафрейма;\n",
    "- информация о датафрейме методом `.info()`;\n",
    "- проверка на дубликаты методом `.duplicated()` в сочетании с методом `.sum()`."
   ]
  },
  {
   "cell_type": "code",
   "execution_count": 4,
   "metadata": {
    "cellId": "7mupxazx0di1euao7usii1"
   },
   "outputs": [],
   "source": [
    "def info_dataframe(df):\n",
    "    print('Первые пять объектов датафрейма:')\n",
    "    display(df.head())\n",
    "    print('Информация о датафрейме:')\n",
    "    display(df.info())\n",
    "    print('Число явных дубликатов в датафрейме: ', df.duplicated().sum())"
   ]
  },
  {
   "cell_type": "code",
   "execution_count": 5,
   "metadata": {
    "cellId": "pyizfxvel6p8765pjrp5yl"
   },
   "outputs": [
    {
     "name": "stdout",
     "output_type": "stream",
     "text": [
      "Первые пять объектов датафрейма:\n"
     ]
    },
    {
     "data": {
      "text/html": [
       "<div>\n",
       "<style scoped>\n",
       "    .dataframe tbody tr th:only-of-type {\n",
       "        vertical-align: middle;\n",
       "    }\n",
       "\n",
       "    .dataframe tbody tr th {\n",
       "        vertical-align: top;\n",
       "    }\n",
       "\n",
       "    .dataframe thead th {\n",
       "        text-align: right;\n",
       "    }\n",
       "</style>\n",
       "<table border=\"1\" class=\"dataframe\">\n",
       "  <thead>\n",
       "    <tr style=\"text-align: right;\">\n",
       "      <th></th>\n",
       "      <th>id</th>\n",
       "      <th>f0</th>\n",
       "      <th>f1</th>\n",
       "      <th>f2</th>\n",
       "      <th>product</th>\n",
       "    </tr>\n",
       "  </thead>\n",
       "  <tbody>\n",
       "    <tr>\n",
       "      <th>0</th>\n",
       "      <td>txEyH</td>\n",
       "      <td>0.705745</td>\n",
       "      <td>-0.497823</td>\n",
       "      <td>1.221170</td>\n",
       "      <td>105.280062</td>\n",
       "    </tr>\n",
       "    <tr>\n",
       "      <th>1</th>\n",
       "      <td>2acmU</td>\n",
       "      <td>1.334711</td>\n",
       "      <td>-0.340164</td>\n",
       "      <td>4.365080</td>\n",
       "      <td>73.037750</td>\n",
       "    </tr>\n",
       "    <tr>\n",
       "      <th>2</th>\n",
       "      <td>409Wp</td>\n",
       "      <td>1.022732</td>\n",
       "      <td>0.151990</td>\n",
       "      <td>1.419926</td>\n",
       "      <td>85.265647</td>\n",
       "    </tr>\n",
       "    <tr>\n",
       "      <th>3</th>\n",
       "      <td>iJLyR</td>\n",
       "      <td>-0.032172</td>\n",
       "      <td>0.139033</td>\n",
       "      <td>2.978566</td>\n",
       "      <td>168.620776</td>\n",
       "    </tr>\n",
       "    <tr>\n",
       "      <th>4</th>\n",
       "      <td>Xdl7t</td>\n",
       "      <td>1.988431</td>\n",
       "      <td>0.155413</td>\n",
       "      <td>4.751769</td>\n",
       "      <td>154.036647</td>\n",
       "    </tr>\n",
       "  </tbody>\n",
       "</table>\n",
       "</div>"
      ],
      "text/plain": [
       "      id        f0        f1        f2     product\n",
       "0  txEyH  0.705745 -0.497823  1.221170  105.280062\n",
       "1  2acmU  1.334711 -0.340164  4.365080   73.037750\n",
       "2  409Wp  1.022732  0.151990  1.419926   85.265647\n",
       "3  iJLyR -0.032172  0.139033  2.978566  168.620776\n",
       "4  Xdl7t  1.988431  0.155413  4.751769  154.036647"
      ]
     },
     "metadata": {},
     "output_type": "display_data"
    },
    {
     "name": "stdout",
     "output_type": "stream",
     "text": [
      "Информация о датафрейме:\n",
      "<class 'pandas.core.frame.DataFrame'>\n",
      "RangeIndex: 100000 entries, 0 to 99999\n",
      "Data columns (total 5 columns):\n",
      " #   Column   Non-Null Count   Dtype  \n",
      "---  ------   --------------   -----  \n",
      " 0   id       100000 non-null  object \n",
      " 1   f0       100000 non-null  float64\n",
      " 2   f1       100000 non-null  float64\n",
      " 3   f2       100000 non-null  float64\n",
      " 4   product  100000 non-null  float64\n",
      "dtypes: float64(4), object(1)\n",
      "memory usage: 3.8+ MB\n"
     ]
    },
    {
     "data": {
      "text/plain": [
       "None"
      ]
     },
     "metadata": {},
     "output_type": "display_data"
    },
    {
     "name": "stdout",
     "output_type": "stream",
     "text": [
      "Число явных дубликатов в датафрейме:  0\n"
     ]
    }
   ],
   "source": [
    "info_dataframe(df_geo_0)"
   ]
  },
  {
   "cell_type": "code",
   "execution_count": 6,
   "metadata": {
    "cellId": "zxnhb5rj35ptq81bae25"
   },
   "outputs": [
    {
     "name": "stdout",
     "output_type": "stream",
     "text": [
      "Первые пять объектов датафрейма:\n"
     ]
    },
    {
     "data": {
      "text/html": [
       "<div>\n",
       "<style scoped>\n",
       "    .dataframe tbody tr th:only-of-type {\n",
       "        vertical-align: middle;\n",
       "    }\n",
       "\n",
       "    .dataframe tbody tr th {\n",
       "        vertical-align: top;\n",
       "    }\n",
       "\n",
       "    .dataframe thead th {\n",
       "        text-align: right;\n",
       "    }\n",
       "</style>\n",
       "<table border=\"1\" class=\"dataframe\">\n",
       "  <thead>\n",
       "    <tr style=\"text-align: right;\">\n",
       "      <th></th>\n",
       "      <th>id</th>\n",
       "      <th>f0</th>\n",
       "      <th>f1</th>\n",
       "      <th>f2</th>\n",
       "      <th>product</th>\n",
       "    </tr>\n",
       "  </thead>\n",
       "  <tbody>\n",
       "    <tr>\n",
       "      <th>0</th>\n",
       "      <td>kBEdx</td>\n",
       "      <td>-15.001348</td>\n",
       "      <td>-8.276000</td>\n",
       "      <td>-0.005876</td>\n",
       "      <td>3.179103</td>\n",
       "    </tr>\n",
       "    <tr>\n",
       "      <th>1</th>\n",
       "      <td>62mP7</td>\n",
       "      <td>14.272088</td>\n",
       "      <td>-3.475083</td>\n",
       "      <td>0.999183</td>\n",
       "      <td>26.953261</td>\n",
       "    </tr>\n",
       "    <tr>\n",
       "      <th>2</th>\n",
       "      <td>vyE1P</td>\n",
       "      <td>6.263187</td>\n",
       "      <td>-5.948386</td>\n",
       "      <td>5.001160</td>\n",
       "      <td>134.766305</td>\n",
       "    </tr>\n",
       "    <tr>\n",
       "      <th>3</th>\n",
       "      <td>KcrkZ</td>\n",
       "      <td>-13.081196</td>\n",
       "      <td>-11.506057</td>\n",
       "      <td>4.999415</td>\n",
       "      <td>137.945408</td>\n",
       "    </tr>\n",
       "    <tr>\n",
       "      <th>4</th>\n",
       "      <td>AHL4O</td>\n",
       "      <td>12.702195</td>\n",
       "      <td>-8.147433</td>\n",
       "      <td>5.004363</td>\n",
       "      <td>134.766305</td>\n",
       "    </tr>\n",
       "  </tbody>\n",
       "</table>\n",
       "</div>"
      ],
      "text/plain": [
       "      id         f0         f1        f2     product\n",
       "0  kBEdx -15.001348  -8.276000 -0.005876    3.179103\n",
       "1  62mP7  14.272088  -3.475083  0.999183   26.953261\n",
       "2  vyE1P   6.263187  -5.948386  5.001160  134.766305\n",
       "3  KcrkZ -13.081196 -11.506057  4.999415  137.945408\n",
       "4  AHL4O  12.702195  -8.147433  5.004363  134.766305"
      ]
     },
     "metadata": {},
     "output_type": "display_data"
    },
    {
     "name": "stdout",
     "output_type": "stream",
     "text": [
      "Информация о датафрейме:\n",
      "<class 'pandas.core.frame.DataFrame'>\n",
      "RangeIndex: 100000 entries, 0 to 99999\n",
      "Data columns (total 5 columns):\n",
      " #   Column   Non-Null Count   Dtype  \n",
      "---  ------   --------------   -----  \n",
      " 0   id       100000 non-null  object \n",
      " 1   f0       100000 non-null  float64\n",
      " 2   f1       100000 non-null  float64\n",
      " 3   f2       100000 non-null  float64\n",
      " 4   product  100000 non-null  float64\n",
      "dtypes: float64(4), object(1)\n",
      "memory usage: 3.8+ MB\n"
     ]
    },
    {
     "data": {
      "text/plain": [
       "None"
      ]
     },
     "metadata": {},
     "output_type": "display_data"
    },
    {
     "name": "stdout",
     "output_type": "stream",
     "text": [
      "Число явных дубликатов в датафрейме:  0\n"
     ]
    }
   ],
   "source": [
    "info_dataframe(df_geo_1)"
   ]
  },
  {
   "cell_type": "code",
   "execution_count": 7,
   "metadata": {
    "cellId": "ctnmhexiivqvl4ey08fyb"
   },
   "outputs": [
    {
     "name": "stdout",
     "output_type": "stream",
     "text": [
      "Первые пять объектов датафрейма:\n"
     ]
    },
    {
     "data": {
      "text/html": [
       "<div>\n",
       "<style scoped>\n",
       "    .dataframe tbody tr th:only-of-type {\n",
       "        vertical-align: middle;\n",
       "    }\n",
       "\n",
       "    .dataframe tbody tr th {\n",
       "        vertical-align: top;\n",
       "    }\n",
       "\n",
       "    .dataframe thead th {\n",
       "        text-align: right;\n",
       "    }\n",
       "</style>\n",
       "<table border=\"1\" class=\"dataframe\">\n",
       "  <thead>\n",
       "    <tr style=\"text-align: right;\">\n",
       "      <th></th>\n",
       "      <th>id</th>\n",
       "      <th>f0</th>\n",
       "      <th>f1</th>\n",
       "      <th>f2</th>\n",
       "      <th>product</th>\n",
       "    </tr>\n",
       "  </thead>\n",
       "  <tbody>\n",
       "    <tr>\n",
       "      <th>0</th>\n",
       "      <td>fwXo0</td>\n",
       "      <td>-1.146987</td>\n",
       "      <td>0.963328</td>\n",
       "      <td>-0.828965</td>\n",
       "      <td>27.758673</td>\n",
       "    </tr>\n",
       "    <tr>\n",
       "      <th>1</th>\n",
       "      <td>WJtFt</td>\n",
       "      <td>0.262778</td>\n",
       "      <td>0.269839</td>\n",
       "      <td>-2.530187</td>\n",
       "      <td>56.069697</td>\n",
       "    </tr>\n",
       "    <tr>\n",
       "      <th>2</th>\n",
       "      <td>ovLUW</td>\n",
       "      <td>0.194587</td>\n",
       "      <td>0.289035</td>\n",
       "      <td>-5.586433</td>\n",
       "      <td>62.871910</td>\n",
       "    </tr>\n",
       "    <tr>\n",
       "      <th>3</th>\n",
       "      <td>q6cA6</td>\n",
       "      <td>2.236060</td>\n",
       "      <td>-0.553760</td>\n",
       "      <td>0.930038</td>\n",
       "      <td>114.572842</td>\n",
       "    </tr>\n",
       "    <tr>\n",
       "      <th>4</th>\n",
       "      <td>WPMUX</td>\n",
       "      <td>-0.515993</td>\n",
       "      <td>1.716266</td>\n",
       "      <td>5.899011</td>\n",
       "      <td>149.600746</td>\n",
       "    </tr>\n",
       "  </tbody>\n",
       "</table>\n",
       "</div>"
      ],
      "text/plain": [
       "      id        f0        f1        f2     product\n",
       "0  fwXo0 -1.146987  0.963328 -0.828965   27.758673\n",
       "1  WJtFt  0.262778  0.269839 -2.530187   56.069697\n",
       "2  ovLUW  0.194587  0.289035 -5.586433   62.871910\n",
       "3  q6cA6  2.236060 -0.553760  0.930038  114.572842\n",
       "4  WPMUX -0.515993  1.716266  5.899011  149.600746"
      ]
     },
     "metadata": {},
     "output_type": "display_data"
    },
    {
     "name": "stdout",
     "output_type": "stream",
     "text": [
      "Информация о датафрейме:\n",
      "<class 'pandas.core.frame.DataFrame'>\n",
      "RangeIndex: 100000 entries, 0 to 99999\n",
      "Data columns (total 5 columns):\n",
      " #   Column   Non-Null Count   Dtype  \n",
      "---  ------   --------------   -----  \n",
      " 0   id       100000 non-null  object \n",
      " 1   f0       100000 non-null  float64\n",
      " 2   f1       100000 non-null  float64\n",
      " 3   f2       100000 non-null  float64\n",
      " 4   product  100000 non-null  float64\n",
      "dtypes: float64(4), object(1)\n",
      "memory usage: 3.8+ MB\n"
     ]
    },
    {
     "data": {
      "text/plain": [
       "None"
      ]
     },
     "metadata": {},
     "output_type": "display_data"
    },
    {
     "name": "stdout",
     "output_type": "stream",
     "text": [
      "Число явных дубликатов в датафрейме:  0\n"
     ]
    }
   ],
   "source": [
    "info_dataframe(df_geo_2)"
   ]
  },
  {
   "cell_type": "markdown",
   "metadata": {
    "cellId": "1xj5hzhm1xljin4oezr6ld"
   },
   "source": [
    "Пропусков данных и дубликатов не обнаружено. Целевым признаком является признак `product`."
   ]
  },
  {
   "cell_type": "markdown",
   "metadata": {
    "cellId": "ol2o6t6p2wqwdcgadd8bgh"
   },
   "source": [
    "Посмотрим на распределение целевого признака в каждом датафрейме, для этого напишем функцию которая:\n",
    "- построит гистаграмму распределения целевого признака;\n",
    "- построит ящик с усами целевого признака;\n",
    "- выведет основные статистические характеристики целевого признака методом describe()."
   ]
  },
  {
   "cell_type": "code",
   "execution_count": 8,
   "metadata": {
    "cellId": "tfclkicrdheedm9oe5ft"
   },
   "outputs": [],
   "source": [
    "def describe_df(df):\n",
    "    \n",
    "    sns.set_theme(style=\"darkgrid\")\n",
    "    fig, ax = plt.subplots(1, 2, figsize=(16, 8))\n",
    "\n",
    "    sns.histplot(df['product'], ax = ax[0]).set(xlabel='Объем сырья, тыс. баррелей', \n",
    "                                    ylabel='Число значений',\n",
    "                                    title='Гистограмма распределения целевого признака')\n",
    "    \n",
    "    sns.boxplot(df['product'], ax = ax[1]).set(xlabel='Объем сырья, тыс. баррелей', \n",
    "                                   title='Ящик с усами распределения целевого признака')\n",
    "    plt.show()\n",
    "    print('Основные статистические характеристики целевого признака:')\n",
    "    display(df['product'].describe())"
   ]
  },
  {
   "cell_type": "code",
   "execution_count": 9,
   "metadata": {
    "cellId": "n6ujivbmzbjp3xffa4higa"
   },
   "outputs": [
    {
     "data": {
      "image/png": "[encoded data removed]",
      "text/plain": [
       "<Figure size 1152x576 with 2 Axes>"
      ]
     },
     "metadata": {},
     "output_type": "display_data"
    },
    {
     "name": "stdout",
     "output_type": "stream",
     "text": [
      "Основные статистические характеристики целевого признака:\n"
     ]
    },
    {
     "data": {
      "text/plain": [
       "count    100000.000000\n",
       "mean         92.500000\n",
       "std          44.288691\n",
       "min           0.000000\n",
       "25%          56.497507\n",
       "50%          91.849972\n",
       "75%         128.564089\n",
       "max         185.364347\n",
       "Name: product, dtype: float64"
      ]
     },
     "metadata": {},
     "output_type": "display_data"
    }
   ],
   "source": [
    "describe_df(df_geo_0)"
   ]
  },
  {
   "cell_type": "markdown",
   "metadata": {
    "cellId": "j15orlvftjkpxhh20vc0jh"
   },
   "source": [
    "Медианное значение объема запасов нефти в датафрейме `df_geo_0` (далее регион №1) составляет 92 тыс. баррелей. Максимальное значение объемов 185 тыс. баррелей. Вид распределения представляет собой совокупность пиков, скорее всего эти пики представляют собой определенные районы месторождения в данном регионе. Самое большое число месторождений содержит запасы в пределах от 50 до 125 тыс. баррелей."
   ]
  },
  {
   "cell_type": "code",
   "execution_count": 10,
   "metadata": {
    "cellId": "un1l0o2fqgethx0w9zpya"
   },
   "outputs": [
    {
     "data": {
      "image/png": "[encoded data removed]",
      "text/plain": [
       "<Figure size 1152x576 with 2 Axes>"
      ]
     },
     "metadata": {},
     "output_type": "display_data"
    },
    {
     "name": "stdout",
     "output_type": "stream",
     "text": [
      "Основные статистические характеристики целевого признака:\n"
     ]
    },
    {
     "data": {
      "text/plain": [
       "count    100000.000000\n",
       "mean         68.825000\n",
       "std          45.944423\n",
       "min           0.000000\n",
       "25%          26.953261\n",
       "50%          57.085625\n",
       "75%         107.813044\n",
       "max         137.945408\n",
       "Name: product, dtype: float64"
      ]
     },
     "metadata": {},
     "output_type": "display_data"
    }
   ],
   "source": [
    "describe_df(df_geo_1)"
   ]
  },
  {
   "cell_type": "markdown",
   "metadata": {
    "cellId": "xao46dktovmoua3gi11o9o"
   },
   "source": [
    "Медианное значение объема запасов нефти в датафрейме `df_geo_1` (далее регион №2) составляет 57 тыс. баррелей. Максимальное значение объемов 138 тыс. баррелей. Вид распределения также представляет собой совокупность пиков, но распределение значений достаточно странное. В регионе много очень богатых и практически пустых скважин."
   ]
  },
  {
   "cell_type": "code",
   "execution_count": 11,
   "metadata": {
    "cellId": "3lxbx9hmsb8lo33zpps0lr"
   },
   "outputs": [
    {
     "data": {
      "text/plain": [
       "34.398837631674525"
      ]
     },
     "execution_count": 11,
     "metadata": {},
     "output_type": "execute_result"
    }
   ],
   "source": [
    "( df_geo_0['product'].sum() - df_geo_1['product'].sum() ) * 100 / df_geo_1['product'].sum()"
   ]
  },
  {
   "cell_type": "markdown",
   "metadata": {
    "cellId": "p6r9i8yzu85b1fld0n2fw"
   },
   "source": [
    "Суммарный объем запасов в регионе №1 превосходит суммарный объем запасов в регионе №2 на 34%."
   ]
  },
  {
   "cell_type": "code",
   "execution_count": 12,
   "metadata": {
    "cellId": "4j3kpnw9qogy2plogenh1"
   },
   "outputs": [
    {
     "data": {
      "image/png": "[encoded data removed]",
      "text/plain": [
       "<Figure size 1152x576 with 2 Axes>"
      ]
     },
     "metadata": {},
     "output_type": "display_data"
    },
    {
     "name": "stdout",
     "output_type": "stream",
     "text": [
      "Основные статистические характеристики целевого признака:\n"
     ]
    },
    {
     "data": {
      "text/plain": [
       "count    100000.000000\n",
       "mean         95.000000\n",
       "std          44.749921\n",
       "min           0.000000\n",
       "25%          59.450441\n",
       "50%          94.925613\n",
       "75%         130.595027\n",
       "max         190.029838\n",
       "Name: product, dtype: float64"
      ]
     },
     "metadata": {},
     "output_type": "display_data"
    }
   ],
   "source": [
    "describe_df(df_geo_2)"
   ]
  },
  {
   "cell_type": "markdown",
   "metadata": {
    "cellId": "5t1lqdw29ba38j1u8j9pt"
   },
   "source": [
    "Медианное значение объема запасов нефти в датафрейме `df_geo_2` (далее регион №3) составляет 95 тыс. баррелей. Максимальное значение объемов 190 тыс. баррелей. Вид распределения схож с распределением региона №1. Регион №3 выглядит как самый богатый по объемам. Сравним объемы относительно регион №1:"
   ]
  },
  {
   "cell_type": "code",
   "execution_count": 13,
   "metadata": {
    "cellId": "vxotj93oc1j7tkb8e6izy6"
   },
   "outputs": [
    {
     "data": {
      "text/plain": [
       "2.702702702702722"
      ]
     },
     "execution_count": 13,
     "metadata": {},
     "output_type": "execute_result"
    }
   ],
   "source": [
    "( df_geo_2['product'].sum() - df_geo_0['product'].sum() ) * 100 / df_geo_0['product'].sum()"
   ]
  },
  {
   "cell_type": "markdown",
   "metadata": {},
   "source": [
    "Суммарный объем запасов в регионе №3 превосходит суммарный объем запасов в регионе №1 на 2.7%."
   ]
  },
  {
   "cell_type": "markdown",
   "metadata": {},
   "source": [
    "Вычсилим также суммарные значения объемов сырья в каждом районе (в тыс. баррелей):"
   ]
  },
  {
   "cell_type": "code",
   "execution_count": 14,
   "metadata": {},
   "outputs": [
    {
     "data": {
      "text/plain": [
       "(9250000.0, 6882500.0, 9500000.0)"
      ]
     },
     "execution_count": 14,
     "metadata": {},
     "output_type": "execute_result"
    }
   ],
   "source": [
    "round(df_geo_0['product'].sum(), 3), round(df_geo_1['product'].sum(), 3), round(df_geo_2['product'].sum(), 3)"
   ]
  },
  {
   "cell_type": "markdown",
   "metadata": {},
   "source": [
    "И средние запасы (в тыс. баррелей):"
   ]
  },
  {
   "cell_type": "code",
   "execution_count": 15,
   "metadata": {},
   "outputs": [
    {
     "data": {
      "text/plain": [
       "(92.5, 68.825, 95.0)"
      ]
     },
     "execution_count": 15,
     "metadata": {},
     "output_type": "execute_result"
    }
   ],
   "source": [
    "round(df_geo_0['product'].mean(), 3), round(df_geo_1['product'].mean(), 3), round(df_geo_2['product'].mean(), 3)"
   ]
  },
  {
   "cell_type": "markdown",
   "metadata": {
    "cellId": "x0j4l5en9wlif2fnysbeb"
   },
   "source": [
    "Так как данные в признаках синтетические и в условии задачи сказано, что все признаки значимы для модели - смотреть их распределение не будем."
   ]
  },
  {
   "cell_type": "markdown",
   "metadata": {},
   "source": [
    "Запишем признаки в соответствующие датафреймы с помощью функции:"
   ]
  },
  {
   "cell_type": "code",
   "execution_count": 16,
   "metadata": {},
   "outputs": [],
   "source": [
    "def get_features(df):\n",
    "    features = df.drop(['product', 'id'], axis=1).copy()\n",
    "    target = df['product'].copy()\n",
    "    return features, target"
   ]
  },
  {
   "cell_type": "code",
   "execution_count": 17,
   "metadata": {},
   "outputs": [],
   "source": [
    "features_geo_0, target_geo_0 = get_features(df_geo_0)"
   ]
  },
  {
   "cell_type": "code",
   "execution_count": 18,
   "metadata": {},
   "outputs": [],
   "source": [
    "features_geo_1, target_geo_1 = get_features(df_geo_1)"
   ]
  },
  {
   "cell_type": "code",
   "execution_count": 19,
   "metadata": {},
   "outputs": [],
   "source": [
    "features_geo_2, target_geo_2 = get_features(df_geo_2)"
   ]
  },
  {
   "cell_type": "markdown",
   "metadata": {
    "cellId": "sj7tvs4qtqroke9mu3cjba"
   },
   "source": [
    "Проверим размерность созданных датафреймов:"
   ]
  },
  {
   "cell_type": "code",
   "execution_count": 20,
   "metadata": {},
   "outputs": [],
   "source": [
    "def get_features_shape(features, target):\n",
    "    print('Размерность features: {} и target: {}'.format(features.shape, target.shape))"
   ]
  },
  {
   "cell_type": "code",
   "execution_count": 21,
   "metadata": {},
   "outputs": [
    {
     "name": "stdout",
     "output_type": "stream",
     "text": [
      "Размерность features: (100000, 3) и target: (100000,)\n"
     ]
    }
   ],
   "source": [
    "get_features_shape(features_geo_0, target_geo_0)"
   ]
  },
  {
   "cell_type": "code",
   "execution_count": 22,
   "metadata": {},
   "outputs": [
    {
     "name": "stdout",
     "output_type": "stream",
     "text": [
      "Размерность features: (100000, 3) и target: (100000,)\n"
     ]
    }
   ],
   "source": [
    "get_features_shape(features_geo_1, target_geo_1)"
   ]
  },
  {
   "cell_type": "code",
   "execution_count": 23,
   "metadata": {},
   "outputs": [
    {
     "name": "stdout",
     "output_type": "stream",
     "text": [
      "Размерность features: (100000, 3) и target: (100000,)\n"
     ]
    }
   ],
   "source": [
    "get_features_shape(features_geo_2, target_geo_2)"
   ]
  },
  {
   "cell_type": "markdown",
   "metadata": {
    "cellId": "hk8wg4szywb141wcvqi8"
   },
   "source": [
    "Для фиксации случайности запишем переменную `SEED` и `NP_SEED` для `numpy.RandomState`:"
   ]
  },
  {
   "cell_type": "code",
   "execution_count": 24,
   "metadata": {
    "cellId": "vsn3w6ghv4cnfyhwumz4go"
   },
   "outputs": [],
   "source": [
    "SEED = 12345"
   ]
  },
  {
   "cell_type": "code",
   "execution_count": 25,
   "metadata": {},
   "outputs": [],
   "source": [
    "NP_SEED = np.random.RandomState(SEED)"
   ]
  },
  {
   "cell_type": "markdown",
   "metadata": {
    "cellId": "xjtcx2i9gua4m6cnanqaw6"
   },
   "source": [
    "Разделим каждый датасет на обучающую и тестовую выборки в отношении 1:4 с помощью функции:"
   ]
  },
  {
   "cell_type": "code",
   "execution_count": 26,
   "metadata": {},
   "outputs": [],
   "source": [
    "def get_test_and_train(features, target):\n",
    "    features_train, features_test, target_train, target_test = train_test_split(features, \n",
    "                                                                                target, \n",
    "                                                                                train_size=0.75,\n",
    "                                                                                random_state=SEED)\n",
    "    return features_train, features_test, target_train, target_test"
   ]
  },
  {
   "cell_type": "code",
   "execution_count": 27,
   "metadata": {},
   "outputs": [],
   "source": [
    "features_train_geo_0, features_test_geo_0, target_train_geo_0, target_test_geo_0 = get_test_and_train(features_geo_0, \n",
    "                                                                                                      target_geo_0)"
   ]
  },
  {
   "cell_type": "code",
   "execution_count": 28,
   "metadata": {},
   "outputs": [],
   "source": [
    "features_train_geo_1, features_test_geo_1, target_train_geo_1, target_test_geo_1 = get_test_and_train(features_geo_1, \n",
    "                                                                                                      target_geo_1)"
   ]
  },
  {
   "cell_type": "code",
   "execution_count": 29,
   "metadata": {},
   "outputs": [],
   "source": [
    "features_train_geo_2, features_test_geo_2, target_train_geo_2, target_test_geo_2 = get_test_and_train(features_geo_2, \n",
    "                                                                                                      target_geo_2)"
   ]
  },
  {
   "cell_type": "markdown",
   "metadata": {
    "cellId": "ko1ay0nc168163tsii6fsy"
   },
   "source": [
    "Теперь масштабируем данные с помощью стандартизации. Все признаки численные, запишем список с названиями признаков:"
   ]
  },
  {
   "cell_type": "code",
   "execution_count": 30,
   "metadata": {},
   "outputs": [],
   "source": [
    "numeric = ['f0', 'f1', 'f2']"
   ]
  },
  {
   "cell_type": "markdown",
   "metadata": {
    "cellId": "c8iflcqn30j4x9xosu1itv"
   },
   "source": [
    "Создадим объект структуры для стандартизации данных `StandardScaler` библиотеки `sklearn`:"
   ]
  },
  {
   "cell_type": "code",
   "execution_count": 31,
   "metadata": {
    "cellId": "nxq6qj1wbw9z36rqzu9y7"
   },
   "outputs": [],
   "source": [
    "scaler = StandardScaler()"
   ]
  },
  {
   "cell_type": "markdown",
   "metadata": {
    "cellId": "s9k14tjdb3ah5dg32ar71r"
   },
   "source": [
    "Настроим созданый объект для обучающей и тестовой выборки и масштабируем признаки каждого датафрейма (раздельно по тестовой и обучающей выборке):"
   ]
  },
  {
   "cell_type": "code",
   "execution_count": 32,
   "metadata": {},
   "outputs": [],
   "source": [
    "def standartized(features_train, features_test, numeric):\n",
    "    features_train[numeric] = scaler.fit_transform(features_train[numeric])\n",
    "    features_test[numeric] = scaler.transform(features_test[numeric])\n",
    "    return features_train, features_test"
   ]
  },
  {
   "cell_type": "code",
   "execution_count": 33,
   "metadata": {},
   "outputs": [],
   "source": [
    "features_train_geo_0, features_test_geo_0 = standartized(features_train_geo_0, features_test_geo_0, numeric)"
   ]
  },
  {
   "cell_type": "code",
   "execution_count": 34,
   "metadata": {},
   "outputs": [],
   "source": [
    "features_train_geo_1, features_test_geo_1 = standartized(features_train_geo_1, features_test_geo_1, numeric)"
   ]
  },
  {
   "cell_type": "code",
   "execution_count": 35,
   "metadata": {},
   "outputs": [],
   "source": [
    "features_train_geo_2, features_test_geo_2 = standartized(features_train_geo_2, features_test_geo_2, numeric)"
   ]
  },
  {
   "cell_type": "markdown",
   "metadata": {},
   "source": [
    "Проверим масштабирование признаков, выведем первые две строки каждого датафрейма с признаками:"
   ]
  },
  {
   "cell_type": "code",
   "execution_count": 36,
   "metadata": {},
   "outputs": [
    {
     "data": {
      "text/html": [
       "<div>\n",
       "<style scoped>\n",
       "    .dataframe tbody tr th:only-of-type {\n",
       "        vertical-align: middle;\n",
       "    }\n",
       "\n",
       "    .dataframe tbody tr th {\n",
       "        vertical-align: top;\n",
       "    }\n",
       "\n",
       "    .dataframe thead th {\n",
       "        text-align: right;\n",
       "    }\n",
       "</style>\n",
       "<table border=\"1\" class=\"dataframe\">\n",
       "  <thead>\n",
       "    <tr style=\"text-align: right;\">\n",
       "      <th></th>\n",
       "      <th>f0</th>\n",
       "      <th>f1</th>\n",
       "      <th>f2</th>\n",
       "    </tr>\n",
       "  </thead>\n",
       "  <tbody>\n",
       "    <tr>\n",
       "      <th>27212</th>\n",
       "      <td>-0.544828</td>\n",
       "      <td>1.390264</td>\n",
       "      <td>-0.094959</td>\n",
       "    </tr>\n",
       "    <tr>\n",
       "      <th>7866</th>\n",
       "      <td>1.455912</td>\n",
       "      <td>-0.480422</td>\n",
       "      <td>1.209567</td>\n",
       "    </tr>\n",
       "  </tbody>\n",
       "</table>\n",
       "</div>"
      ],
      "text/plain": [
       "             f0        f1        f2\n",
       "27212 -0.544828  1.390264 -0.094959\n",
       "7866   1.455912 -0.480422  1.209567"
      ]
     },
     "execution_count": 36,
     "metadata": {},
     "output_type": "execute_result"
    }
   ],
   "source": [
    "features_train_geo_0.head(2)"
   ]
  },
  {
   "cell_type": "code",
   "execution_count": 37,
   "metadata": {},
   "outputs": [
    {
     "data": {
      "text/html": [
       "<div>\n",
       "<style scoped>\n",
       "    .dataframe tbody tr th:only-of-type {\n",
       "        vertical-align: middle;\n",
       "    }\n",
       "\n",
       "    .dataframe tbody tr th {\n",
       "        vertical-align: top;\n",
       "    }\n",
       "\n",
       "    .dataframe thead th {\n",
       "        text-align: right;\n",
       "    }\n",
       "</style>\n",
       "<table border=\"1\" class=\"dataframe\">\n",
       "  <thead>\n",
       "    <tr style=\"text-align: right;\">\n",
       "      <th></th>\n",
       "      <th>f0</th>\n",
       "      <th>f1</th>\n",
       "      <th>f2</th>\n",
       "    </tr>\n",
       "  </thead>\n",
       "  <tbody>\n",
       "    <tr>\n",
       "      <th>27212</th>\n",
       "      <td>-0.850855</td>\n",
       "      <td>0.624428</td>\n",
       "      <td>0.296943</td>\n",
       "    </tr>\n",
       "    <tr>\n",
       "      <th>7866</th>\n",
       "      <td>1.971935</td>\n",
       "      <td>1.832275</td>\n",
       "      <td>0.294333</td>\n",
       "    </tr>\n",
       "  </tbody>\n",
       "</table>\n",
       "</div>"
      ],
      "text/plain": [
       "             f0        f1        f2\n",
       "27212 -0.850855  0.624428  0.296943\n",
       "7866   1.971935  1.832275  0.294333"
      ]
     },
     "execution_count": 37,
     "metadata": {},
     "output_type": "execute_result"
    }
   ],
   "source": [
    "features_train_geo_1.head(2)"
   ]
  },
  {
   "cell_type": "code",
   "execution_count": 38,
   "metadata": {},
   "outputs": [
    {
     "data": {
      "text/html": [
       "<div>\n",
       "<style scoped>\n",
       "    .dataframe tbody tr th:only-of-type {\n",
       "        vertical-align: middle;\n",
       "    }\n",
       "\n",
       "    .dataframe tbody tr th {\n",
       "        vertical-align: top;\n",
       "    }\n",
       "\n",
       "    .dataframe thead th {\n",
       "        text-align: right;\n",
       "    }\n",
       "</style>\n",
       "<table border=\"1\" class=\"dataframe\">\n",
       "  <thead>\n",
       "    <tr style=\"text-align: right;\">\n",
       "      <th></th>\n",
       "      <th>f0</th>\n",
       "      <th>f1</th>\n",
       "      <th>f2</th>\n",
       "    </tr>\n",
       "  </thead>\n",
       "  <tbody>\n",
       "    <tr>\n",
       "      <th>27212</th>\n",
       "      <td>-0.526160</td>\n",
       "      <td>0.776329</td>\n",
       "      <td>-0.400793</td>\n",
       "    </tr>\n",
       "    <tr>\n",
       "      <th>7866</th>\n",
       "      <td>-0.889625</td>\n",
       "      <td>-0.404070</td>\n",
       "      <td>-1.222936</td>\n",
       "    </tr>\n",
       "  </tbody>\n",
       "</table>\n",
       "</div>"
      ],
      "text/plain": [
       "             f0        f1        f2\n",
       "27212 -0.526160  0.776329 -0.400793\n",
       "7866  -0.889625 -0.404070 -1.222936"
      ]
     },
     "execution_count": 38,
     "metadata": {},
     "output_type": "execute_result"
    }
   ],
   "source": [
    "features_train_geo_2.head(2)"
   ]
  },
  {
   "cell_type": "markdown",
   "metadata": {
    "cellId": "45cibm9rdvp87p4mrz67bi"
   },
   "source": [
    "Признаки масштабированы."
   ]
  },
  {
   "cell_type": "markdown",
   "metadata": {
    "cellId": "fj6eq3y8lug4kfjh72tlr"
   },
   "source": [
    "## Вывод"
   ]
  },
  {
   "cell_type": "markdown",
   "metadata": {
    "cellId": "dxdmi14a6y6kvwmbvi6ed"
   },
   "source": [
    "Данные загружены, первый взяглд на них выполнен. Предобработка данных не требуется, дубликатов или пропусков данных не обнаружено.\n",
    "\n",
    "Произведено исследование значений целевого признака каждого датасета (региона). Вид распределения представляет собой совокупность пиков, скорее всего это определенные районы месторождений (богатые и бедные). По суммарным объемам запасов лидирует регион №3 (датафрейм `df_geo_2`, суммарный объем 9.5 млрд. баррелей), за ним идет регион №1 (`df_geo_0`, суммарный объем 9.25 млрд. баррелей). Регион №2 (`df_geo_1`) имеет самые низкие суммарные объемы - 6.9 млрд. баррелей.\n",
    "\n",
    "Таблица 1 - Средние и суммарные запасы сырья по регионам.\n",
    "\n",
    "|Регион, №|Суммарные запасы, млрд баррелей |Средение запасы, тыс баррелей|\n",
    "|-------------|----------------|---------------|\n",
    "|1|9.25|92.5|\n",
    "|2|6.90|68.8|\n",
    "|3|9.50|95.0|\n",
    "\n",
    "\n",
    "\n",
    "Целевой признак каждого региона был записан в соответствующий датафрейм: `target_geo_0`, `target_geo_1`, `target_geo_2`. А остальные признаки в датафреймы: `features_geo_0`, `features_geo_1`, `features_geo_2`. После чего данные были разбиты на обучающую и тестовую выборки в соотношении 1:4. \n",
    "\n",
    "Признаки были масштабированы с помощью стандартизации данных раздельно по обучающей и тестовой выборке и записаны в соответствующие датафреймы для дальнейшей работы."
   ]
  },
  {
   "cell_type": "markdown",
   "metadata": {
    "cellId": "2k9qn8srmscn0jtda8mk78"
   },
   "source": [
    "## Обучение и проверка модели<a id='2'></a>"
   ]
  },
  {
   "cell_type": "markdown",
   "metadata": {},
   "source": [
    "Напишем функцию для обучения и получения предсказания и *RMSE* каждой модели:"
   ]
  },
  {
   "cell_type": "code",
   "execution_count": 39,
   "metadata": {},
   "outputs": [],
   "source": [
    "def linear_regression(features_train, features_test, target_train, target_test):\n",
    "    model = LinearRegression()\n",
    "    model.fit(features_train, target_train)\n",
    "    prediction_train = model.predict(features_train)\n",
    "    print('RMSE на обучающей выборке:', mean_squared_error(prediction_train, target_train, squared=False))\n",
    "    prediction_test = model.predict(features_test)\n",
    "    print('RMSE на отложенной выборке:', mean_squared_error(prediction_test, target_test, squared=False))\n",
    "    return prediction_test"
   ]
  },
  {
   "cell_type": "code",
   "execution_count": 40,
   "metadata": {},
   "outputs": [
    {
     "name": "stdout",
     "output_type": "stream",
     "text": [
      "RMSE на обучающей выборке: 37.72999219904026\n",
      "RMSE на отложенной выборке: 37.5794217150813\n"
     ]
    }
   ],
   "source": [
    "pred_geo_0 = linear_regression(features_train_geo_0, features_test_geo_0, target_train_geo_0, target_test_geo_0)"
   ]
  },
  {
   "cell_type": "code",
   "execution_count": 41,
   "metadata": {},
   "outputs": [
    {
     "name": "stdout",
     "output_type": "stream",
     "text": [
      "RMSE на обучающей выборке: 0.8894720773917386\n",
      "RMSE на отложенной выборке: 0.8930992867756167\n"
     ]
    }
   ],
   "source": [
    "pred_geo_1 = linear_regression(features_train_geo_1, features_test_geo_1, target_train_geo_1, target_test_geo_1)"
   ]
  },
  {
   "cell_type": "code",
   "execution_count": 42,
   "metadata": {},
   "outputs": [
    {
     "name": "stdout",
     "output_type": "stream",
     "text": [
      "RMSE на обучающей выборке: 40.06425978832384\n",
      "RMSE на отложенной выборке: 40.02970873393434\n"
     ]
    }
   ],
   "source": [
    "pred_geo_2 = linear_regression(features_train_geo_2, features_test_geo_2, target_train_geo_2, target_test_geo_2)"
   ]
  },
  {
   "cell_type": "markdown",
   "metadata": {
    "cellId": "3atu8obwvcyjsk8f9qdld9"
   },
   "source": [
    "Создадим пустые модельи линейной регрессии для каждого региона:"
   ]
  },
  {
   "cell_type": "markdown",
   "metadata": {},
   "source": [
    "Посмотрим средний запас предсказанного сырья:"
   ]
  },
  {
   "cell_type": "code",
   "execution_count": 43,
   "metadata": {},
   "outputs": [
    {
     "data": {
      "text/plain": [
       "92.59256778438035"
      ]
     },
     "execution_count": 43,
     "metadata": {},
     "output_type": "execute_result"
    }
   ],
   "source": [
    "pred_geo_0.mean()"
   ]
  },
  {
   "cell_type": "code",
   "execution_count": 44,
   "metadata": {},
   "outputs": [
    {
     "data": {
      "text/plain": [
       "68.728546895446"
      ]
     },
     "execution_count": 44,
     "metadata": {},
     "output_type": "execute_result"
    }
   ],
   "source": [
    "pred_geo_1.mean()"
   ]
  },
  {
   "cell_type": "code",
   "execution_count": 45,
   "metadata": {},
   "outputs": [
    {
     "data": {
      "text/plain": [
       "94.96504596800489"
      ]
     },
     "execution_count": 45,
     "metadata": {},
     "output_type": "execute_result"
    }
   ],
   "source": [
    "pred_geo_2.mean()"
   ]
  },
  {
   "cell_type": "markdown",
   "metadata": {},
   "source": [
    "*RMSE* модели для региона №2 имеет самое низкое значение. При прогнозе, мы в среднем ошибаемся на 0.9 тыс баррелей. С региона №1 и №3 ситуация намного хуже, при прогнозе мы ошибаемся на 38 и 40 тыс. баррелей соответственно. В прогнозировании средних запасов модели для всех регионов показывают отличный результат."
   ]
  },
  {
   "cell_type": "markdown",
   "metadata": {},
   "source": [
    "## Вывод"
   ]
  },
  {
   "cell_type": "markdown",
   "metadata": {},
   "source": [
    "Для каждого региона была построена и обучена модель линейной регрессии. Прогнозируемые средние запасы сырья и *RSME* моделей для каждого региона представлены в таблице 2.\n",
    "\n",
    "Таблица 2 - Предсказания модели, истинные значения и *RMSE* каждой модели\n",
    "\n",
    "|Модель для региона, №| Предсказанное значение среднего запаса сырья, тыс. баррелей|Истинное значение среднего запаса сырья, тыс. баррелей | *RMSE* модели|\n",
    "|---------------------|------------------------------------------------------------|------------------------------------------------------------|------------|\n",
    "|1|92.6|92.5|37.6|\n",
    "|2|68.8|68.8|0.9|\n",
    "|3|95.0|95.0|40.0|\n",
    "\n",
    "Модель выглядит очень хорошо для региона №2, для остальных регионов модель, в среднем, ошибается на 39 тыс. баррелей."
   ]
  },
  {
   "cell_type": "markdown",
   "metadata": {
    "cellId": "nq2x8s4o6lmg60fhb4ixeq"
   },
   "source": [
    "## Подготовка к расчёту прибыли<a id='3'></a>"
   ]
  },
  {
   "cell_type": "markdown",
   "metadata": {},
   "source": [
    "Запишем константы для расчета прибыли из условия задачи, а именно:\n",
    "\n",
    "- Бюджет на разработку скважин в регионе — 10 млрд рублей.\n",
    "- Доход с каждой единицы продукта составляет 450 тыс. рублей (с каждой тысячи баррелей).\n",
    "- При разведке региона исследуют 500 точек, из которых с помощью машинного обучения выбирают 200 лучших для разработки."
   ]
  },
  {
   "cell_type": "code",
   "execution_count": 46,
   "metadata": {},
   "outputs": [],
   "source": [
    "BUDGET_FOR_BOREHOLES = 10 ** 10\n",
    "REVENUE_FOR_THOUSAND_BARREL = 450 * 10 ** 3\n",
    "NUMBER_OF_EXPLORATION = 500\n",
    "NUMBER_OF_BOREHOLES = 200"
   ]
  },
  {
   "cell_type": "code",
   "execution_count": 47,
   "metadata": {},
   "outputs": [
    {
     "data": {
      "text/plain": [
       "450000"
      ]
     },
     "execution_count": 47,
     "metadata": {},
     "output_type": "execute_result"
    }
   ],
   "source": [
    "REVENUE_FOR_THOUSAND_BARREL"
   ]
  },
  {
   "cell_type": "markdown",
   "metadata": {},
   "source": [
    "Рассчитаем достаточный объём сырья для безубыточной разработки новой скважины. Бюджет на разработку одной скважины составляет:"
   ]
  },
  {
   "cell_type": "code",
   "execution_count": 48,
   "metadata": {},
   "outputs": [],
   "source": [
    "BUDGET_FOR_ONE_BOREHOLE = BUDGET_FOR_BOREHOLES / NUMBER_OF_BOREHOLES"
   ]
  },
  {
   "cell_type": "code",
   "execution_count": 49,
   "metadata": {},
   "outputs": [
    {
     "data": {
      "text/plain": [
       "50000000.0"
      ]
     },
     "execution_count": 49,
     "metadata": {},
     "output_type": "execute_result"
    }
   ],
   "source": [
    "BUDGET_FOR_ONE_BOREHOLE"
   ]
  },
  {
   "cell_type": "markdown",
   "metadata": {},
   "source": [
    "Тогда необходимый объем сырья для безубыточной разработки скважины:"
   ]
  },
  {
   "cell_type": "code",
   "execution_count": 50,
   "metadata": {},
   "outputs": [],
   "source": [
    "NECESSERY_VOLUME = BUDGET_FOR_ONE_BOREHOLE / REVENUE_FOR_THOUSAND_BARREL"
   ]
  },
  {
   "cell_type": "code",
   "execution_count": 51,
   "metadata": {},
   "outputs": [
    {
     "data": {
      "text/plain": [
       "111.11111111111111"
      ]
     },
     "execution_count": 51,
     "metadata": {},
     "output_type": "execute_result"
    }
   ],
   "source": [
    "NECESSERY_VOLUME"
   ]
  },
  {
   "cell_type": "markdown",
   "metadata": {},
   "source": [
    "Сравним его с средними объемами запасов сырья в регионах:"
   ]
  },
  {
   "cell_type": "code",
   "execution_count": 52,
   "metadata": {},
   "outputs": [],
   "source": [
    "def difference_mean(df):\n",
    "    print('{:.2%}'.format( (df['product'].mean() - NECESSERY_VOLUME ) / NECESSERY_VOLUME ))"
   ]
  },
  {
   "cell_type": "code",
   "execution_count": 53,
   "metadata": {},
   "outputs": [
    {
     "name": "stdout",
     "output_type": "stream",
     "text": [
      "-16.75%\n"
     ]
    }
   ],
   "source": [
    "difference_mean(df_geo_0)"
   ]
  },
  {
   "cell_type": "code",
   "execution_count": 54,
   "metadata": {},
   "outputs": [
    {
     "name": "stdout",
     "output_type": "stream",
     "text": [
      "-38.06%\n"
     ]
    }
   ],
   "source": [
    "difference_mean(df_geo_1)"
   ]
  },
  {
   "cell_type": "code",
   "execution_count": 55,
   "metadata": {},
   "outputs": [
    {
     "name": "stdout",
     "output_type": "stream",
     "text": [
      "-14.50%\n"
     ]
    }
   ],
   "source": [
    "difference_mean(df_geo_2)"
   ]
  },
  {
   "cell_type": "markdown",
   "metadata": {},
   "source": [
    "Необходимый объем сырья для безубыточной работы скажины весомо превышает средние запасы сырья во всех регионах. "
   ]
  },
  {
   "cell_type": "markdown",
   "metadata": {},
   "source": [
    "## Вывод"
   ]
  },
  {
   "cell_type": "markdown",
   "metadata": {},
   "source": [
    "Все необходимые константы для дальнейшего расчета прибыли записаны, также вычислен необходимый объем сырья для безубыточной работы скважины, он составляет **111.1 тыс. баррелей**.\n",
    "\n",
    "Необходимый объем сырья для безубыточной работы скважины был сопоставлен со средними запасами сырья в каждом из регионов, он *весомо превышает* средние запасы сырья во всех регионах.\n",
    "\n",
    "Таблица 3 - средние запасы сырья в регионах в сравнении с необходимым объемом сырья для безубыточной работы скважины\n",
    "\n",
    "|Регион, №| Средние запасы сырья, тыс. баррелей | Необходимый объем сырья для безубыточной разработки скважины, тыс. баррелей | Разница среднего и необходимого, %|\n",
    "|---------|-------------------------------------|---------------------------------------------------------------------|---------------|\n",
    "|1|92.5|     | -16.75\n",
    "|2|68.8|111.1| -38.06\n",
    "|3|95.0|     | -14.50\n",
    "\n"
   ]
  },
  {
   "cell_type": "markdown",
   "metadata": {
    "cellId": "x0p90cfevs9ap9kc4u96z"
   },
   "source": [
    "## Расчёт прибыли и рисков<a id='4'></a>"
   ]
  },
  {
   "cell_type": "markdown",
   "metadata": {},
   "source": [
    "Напишем функцию для расчета прибыли для дальнейшних расчетов прибыли и рисков. Сначала отберем скважины (`NUMBER_OF_BOREHOLES`) с наибольшими значениями предсказаний, затем просуммируем объемы сырья этих скважин и рассчитаем прибыль для полученного объема сырья."
   ]
  },
  {
   "cell_type": "code",
   "execution_count": 56,
   "metadata": {},
   "outputs": [],
   "source": [
    "def profit(prediction, target):\n",
    "    pred_sorted = pd.Series(prediction).sort_values(ascending=False).head(NUMBER_OF_BOREHOLES)\n",
    "    selected = target.iloc[pred_sorted.index]\n",
    "    return REVENUE_FOR_THOUSAND_BARREL * selected.sum() - BUDGET_FOR_BOREHOLES"
   ]
  },
  {
   "cell_type": "markdown",
   "metadata": {},
   "source": [
    "Прибыль (округлив до целого) для скважин с максимальными объемами предсказаний для каждого из регионов:"
   ]
  },
  {
   "cell_type": "code",
   "execution_count": 57,
   "metadata": {},
   "outputs": [
    {
     "data": {
      "text/plain": [
       "3320826043"
      ]
     },
     "execution_count": 57,
     "metadata": {},
     "output_type": "execute_result"
    }
   ],
   "source": [
    "round(profit(pred_geo_0, target_test_geo_0))"
   ]
  },
  {
   "cell_type": "code",
   "execution_count": 58,
   "metadata": {},
   "outputs": [
    {
     "data": {
      "text/plain": [
       "2415086697"
      ]
     },
     "execution_count": 58,
     "metadata": {},
     "output_type": "execute_result"
    }
   ],
   "source": [
    "round(profit(pred_geo_1, target_test_geo_1))"
   ]
  },
  {
   "cell_type": "code",
   "execution_count": 59,
   "metadata": {},
   "outputs": [
    {
     "data": {
      "text/plain": [
       "2710349964"
      ]
     },
     "execution_count": 59,
     "metadata": {},
     "output_type": "execute_result"
    }
   ],
   "source": [
    "round(profit(pred_geo_2, target_test_geo_2))"
   ]
  },
  {
   "cell_type": "markdown",
   "metadata": {},
   "source": [
    "Наибольшая максимальная (для скважин с предсказанными максимальными объемами сырья) прибыль в регионе №1 и составляет - 3.3 млрд. рублей, затем идет регион №1 с максимальной прибылью в 2,7 млрд. рублей. Наименьшая максимальная прибыль в регионе №1 и составляет - 2,4 млрд. рублей."
   ]
  },
  {
   "cell_type": "markdown",
   "metadata": {},
   "source": [
    "В реальности же, мы не выбираем 200 лучших скважен из ста тысяч, поэтому прибыль может быть намного меньше."
   ]
  },
  {
   "cell_type": "markdown",
   "metadata": {},
   "source": [
    "Применим технику *bootstrap* для 1000 выборок, чтобы найти распределение возможной прибыли для каждого региона. В бутстрепе будем моделировать исследование каждого региона согласно условию задачи: \"при разведке региона исследуют 500 точек (`NUMBER_OF_EXPLORATION`), из которых с помощью машинного обучения выбирают 200 лучших (`NUMBER_OF_BOREHOLES`) для разработки\". Последнее у нас уже учтено в функции для подсчета прибыли, а исследование 500 точек будем моделировать бутстрепом. "
   ]
  },
  {
   "cell_type": "code",
   "execution_count": 60,
   "metadata": {},
   "outputs": [],
   "source": [
    "def bootstrap(prediction, target, samples):\n",
    "    values = []\n",
    "    target = target.reset_index(drop=True)\n",
    "    for _ in range(samples):\n",
    "        target_subsample = target.sample(NUMBER_OF_EXPLORATION,\n",
    "                                         random_state=NP_SEED,\n",
    "                                         replace=True)\n",
    "        pred_subsample = pd.Series(prediction).iloc[target_subsample.index]\n",
    "        \n",
    "        target_subsample = target_subsample.reset_index(drop=True)\n",
    "        pred_subsample = pred_subsample.reset_index(drop=True)\n",
    "        \n",
    "        values.append(profit(pred_subsample, target_subsample))\n",
    "        \n",
    "    values = pd.Series(values)\n",
    "    mean = values.mean()\n",
    "    confidence_interval = (values.quantile(0.025), values.quantile(0.975))\n",
    "    \n",
    "    return mean, values, confidence_interval"
   ]
  },
  {
   "cell_type": "code",
   "execution_count": 61,
   "metadata": {},
   "outputs": [],
   "source": [
    "mean_geo_0, values_geo_0, confidence_interval_geo_0 = bootstrap(pred_geo_0, target_test_geo_0, 1000)"
   ]
  },
  {
   "cell_type": "code",
   "execution_count": 62,
   "metadata": {},
   "outputs": [
    {
     "name": "stdout",
     "output_type": "stream",
     "text": [
      "Средняя прибыль в регионе №1: 396164984.802371 95-% доверительный интервал: (-111215545.89049526, 909766941.5534226)\n"
     ]
    }
   ],
   "source": [
    "print('Средняя прибыль в регионе №1:', mean_geo_0, '95-% доверительный интервал:', confidence_interval_geo_0)"
   ]
  },
  {
   "cell_type": "code",
   "execution_count": 63,
   "metadata": {},
   "outputs": [],
   "source": [
    "mean_geo_1, values_geo_1, confidence_interval_geo_1 = bootstrap(pred_geo_1, target_test_geo_1, 1000)"
   ]
  },
  {
   "cell_type": "code",
   "execution_count": 64,
   "metadata": {},
   "outputs": [
    {
     "name": "stdout",
     "output_type": "stream",
     "text": [
      "Средняя прибыль в регионе №1: 461155817.27723986 95-% доверительный интервал: (78050810.7517417, 862952060.2637234)\n"
     ]
    }
   ],
   "source": [
    "print('Средняя прибыль в регионе №1:', mean_geo_1, '95-% доверительный интервал:', confidence_interval_geo_1)"
   ]
  },
  {
   "cell_type": "code",
   "execution_count": 65,
   "metadata": {},
   "outputs": [],
   "source": [
    "mean_geo_2, values_geo_2, confidence_interval_geo_2 = bootstrap(pred_geo_2, target_test_geo_2, 1000)"
   ]
  },
  {
   "cell_type": "code",
   "execution_count": 66,
   "metadata": {},
   "outputs": [
    {
     "name": "stdout",
     "output_type": "stream",
     "text": [
      "Средняя прибыль в регионе №1: 392950475.17060375 95-% доверительный интервал: (-112227625.37857565, 934562914.5511636)\n"
     ]
    }
   ],
   "source": [
    "print('Средняя прибыль в регионе №1:', mean_geo_2, '95-% доверительный интервал:', confidence_interval_geo_2)"
   ]
  },
  {
   "cell_type": "markdown",
   "metadata": {},
   "source": [
    "Средняя прибыль во втором регионе получилась больше, чем в других регионах (461 млн. руб.). Несмотря на то, что средние запасы там самые низкие, во втором регионе больше \"богатых\" скважин. В регионах №1 и №3 получили практически равное значение средней прибыли: 395.8 и 392.9 млн соответственно. Для первого и третьего региона в 95%-ый доверительный интервал входят отрицательные значения прибыли (убытки). "
   ]
  },
  {
   "cell_type": "markdown",
   "metadata": {},
   "source": [
    "Построим гистограммы смоделированных распределений прибыли обозначив на них точку безубытка (красная линия) и 95%-ый доверительный интервал для средней выручки (зеленые линии), а также среднее значение прибыли (синяя линия)."
   ]
  },
  {
   "cell_type": "code",
   "execution_count": 67,
   "metadata": {},
   "outputs": [],
   "source": [
    "def get_hist(mean, values, confidence_interval):\n",
    "    plt.figure(figsize=(16, 8))\n",
    "    sns.histplot(values, alpha=0.4).set(xlabel='Прибыль, руб.', \n",
    "                                        ylabel='Число значений',\n",
    "                                        title='Гистограмма смоделированного распределения прибыли техникой bootstrap')\n",
    "    plt.axvline(confidence_interval[0], 0, color='g', marker='.')\n",
    "    plt.axvline(confidence_interval[1], 0, color='g')\n",
    "    plt.axvline(mean, 0, color='b')\n",
    "    plt.axvline(0, 1, 0, color='r')\n",
    "    plt.annotate('Точка безубыточности', (10**7, 40), rotation=90)"
   ]
  },
  {
   "cell_type": "code",
   "execution_count": 68,
   "metadata": {},
   "outputs": [
    {
     "data": {
      "image/png": "[encoded data removed]",
      "text/plain": [
       "<Figure size 1152x576 with 1 Axes>"
      ]
     },
     "metadata": {},
     "output_type": "display_data"
    }
   ],
   "source": [
    "get_hist(mean_geo_0, values_geo_0, confidence_interval_geo_0)"
   ]
  },
  {
   "cell_type": "code",
   "execution_count": 69,
   "metadata": {},
   "outputs": [
    {
     "data": {
      "image/png": "[encoded data removed]",
      "text/plain": [
       "<Figure size 1152x576 with 1 Axes>"
      ]
     },
     "metadata": {},
     "output_type": "display_data"
    }
   ],
   "source": [
    "get_hist(mean_geo_1, values_geo_1, confidence_interval_geo_1)"
   ]
  },
  {
   "cell_type": "code",
   "execution_count": 70,
   "metadata": {},
   "outputs": [
    {
     "data": {
      "image/png": "[encoded data removed]",
      "text/plain": [
       "<Figure size 1152x576 with 1 Axes>"
      ]
     },
     "metadata": {},
     "output_type": "display_data"
    }
   ],
   "source": [
    "get_hist(mean_geo_2, values_geo_2, confidence_interval_geo_2)"
   ]
  },
  {
   "cell_type": "markdown",
   "metadata": {},
   "source": [
    "По гистограммам видно, что во всех трех случаях есть риск убытков, однако, для второго региона средняя прибыль при доверительной вероятности $P=0.95$ лежит в интервале от 58.2 до 848.7 млн. Оценим убытки:"
   ]
  },
  {
   "cell_type": "code",
   "execution_count": 71,
   "metadata": {},
   "outputs": [
    {
     "name": "stdout",
     "output_type": "stream",
     "text": [
      "Регион №1, вероятность убытков: 6.90%\n"
     ]
    }
   ],
   "source": [
    "print('Регион №1, вероятность убытков: {:.2%}'.format((values_geo_0 < 0).mean()))"
   ]
  },
  {
   "cell_type": "code",
   "execution_count": 72,
   "metadata": {},
   "outputs": [
    {
     "name": "stdout",
     "output_type": "stream",
     "text": [
      "Регион №2, вероятность убытков: 0.70%\n"
     ]
    }
   ],
   "source": [
    "print('Регион №2, вероятность убытков: {:.2%}'.format((values_geo_1 < 0).mean()))"
   ]
  },
  {
   "cell_type": "code",
   "execution_count": 73,
   "metadata": {},
   "outputs": [
    {
     "name": "stdout",
     "output_type": "stream",
     "text": [
      "Регион №3, вероятность убытков: 6.50%\n"
     ]
    }
   ],
   "source": [
    "print('Регион №3, вероятность убытков: {:.2%}'.format((values_geo_2 < 0).mean()))"
   ]
  },
  {
   "cell_type": "markdown",
   "metadata": {},
   "source": [
    "Вероятность убытков при разработке скважин в регионах №1 и №3 6.9 и 6.5% соответственно, а в регионе №2 не превышает 0.7%."
   ]
  },
  {
   "cell_type": "markdown",
   "metadata": {},
   "source": [
    "## Вывод"
   ]
  },
  {
   "cell_type": "markdown",
   "metadata": {},
   "source": [
    "В данном разделе были вычислены: максимально возможная выручка в каждом регионе, средняя выручка в каждом регионе, 95%-ый доверительный интервал для средней выручки в каждом регионе, а также риск убытков при разработке скважин. Для расчета последних была применена техника *bootstrap* с 1000 подвыборками. Полученные результаты представлены в таблице 4.\n",
    "\n",
    "Таблица 4 - результаты расчета выручки, приыбли, риска убытков\n",
    "\n",
    "|Регион, №|Максимально возможная прибыль, млрд. руб. | Средняя прибыль (bootstrap), млн. руб.| 95%-ый Доверительный интервал для средней прибыли, млн. руб. | Риск убытков, %|\n",
    "|-|-----|-------|-------------------|-----|\n",
    "|1|3.320|396.164|-111.215 ÷ 909.766 | 6.9%|\n",
    "|2|2.415|461.156|780.508 ÷ 862.952   |0.7%|\n",
    "|3|2.710|392.950|-112.227 ÷ 934.562  |6.5%|\n",
    "\n",
    "\n",
    "\n",
    "Таким образом наибольшая средняя прибыль наблюдается при разработке региона №2, также регион имеет самый низкий риск убытков, возможные риски убытков не превышают 0.7% в рамках проведенного исследования. Построенная модель линейной регрессии для региона №2 является более точной, и ошибается, в среднем, на 0.9 тыс. баррелей. *Для разработки скважин рекомендуется выбрать регион №2.*"
   ]
  },
  {
   "cell_type": "markdown",
   "metadata": {},
   "source": [
    "## Общий вывод<a id='5'></a>"
   ]
  },
  {
   "cell_type": "markdown",
   "metadata": {},
   "source": [
    "В ходе разработки проекта были загружены и исследованы исходные данные по трем предпологаемым регионам для разработки нефтяных скважин. Дубликатов и пропусков не обнаружено, предобработка данных не потребовалась. В ходе работы соблюдались все поставленные задчаей условия.\n",
    "\n",
    "Было произведено исследование значений целевого признака каждого датасета (региона). Вид распределения представляет собой совокупность пиков, скорее всего это определенные районы месторождений (богатые и бедные). По суммарным объемам запасов лидирует регион №3 (датафрейм `df_geo_2`, суммарный объем 9.5 млрд. баррелей), за ним идет регион №1 (`df_geo_0`, суммарный объем 9.25 млрд. баррелей). Регион №2 (`df_geo_1`) имеет самые низкие суммарные объемы - 6.9 млрд. баррелей.\n",
    "\n",
    "В условиях задачи сказано, что данные в признаках синтетические и физика данных неизвестна, поэтому распределение данных в рамках данной работы не проводилось. Средние и суммарные запасы сырья в регионах представлено в таблице 1.\n",
    "\n",
    "Таблица 1 - Средние и суммарные запасы сырья по регионам.\n",
    "\n",
    "|Регион, №|Суммарные запасы, млрд баррелей |Средение запасы, тыс баррелей|\n",
    "|-------------|----------------|---------------|\n",
    "|1|9.25|92.5|\n",
    "|2|6.90|68.8|\n",
    "|3|9.50|95.0|\n",
    "\n",
    "Для построения модели предсказаний, данные были разбиты на обучающую и тестовую выборки в соотношении 1:4 и масштабированы с помощью стандартизации данных раздельно по обучающей и тестовой выборке. В качестве алгоритма модели согласно условию задачи была использована линейная регрессия. Модель была обучена линейной регрессии. Прогнозируемые средние запасы сырья и *RSME* моделей для каждого региона представлены в таблице 2.\n",
    "\n",
    "Таблица 2 - Предсказания модели, истинные значения и *RMSE* каждой модели\n",
    "\n",
    "|Модель для региона, №| Предсказанное значение среднего запаса сырья, тыс. баррелей|Истинное значение среднего запаса сырья, тыс. баррелей | *RMSE* модели|\n",
    "|---------------------|------------------------------------------------------------|------------------------------------------------------------|------------|\n",
    "|1|92.6|92.5|37.6|\n",
    "|2|68.8|68.8|0.9|\n",
    "|3|95.0|95.0|40.0|\n",
    "\n",
    "Модель выглядит очень хорошо для региона №2 (ошибается, в среднем, на 0.9 тыс баррелей), для остальных регионов модель, в среднем, ошибается на 39 тыс. баррелей. Таким образом для региона №2 мы имеем более точный прогноз запасов сырья.\n",
    "\n",
    "Далее был вычислен необходимый объем сырья для безубыточной работы скажины, который составил 111.1 тыс. баррелей. Таким образом необходимый объем сырья для безубыточной работы скажины *весомо превышает*  средние объемы сырья в каждом регионе. Сравнение средних объемов представлено в таблице 3.\n",
    "\n",
    "\n",
    "Таблица 3 - средние запасы сырья в регионах в сравнении с необходимым объемом сырья для безубыточной работы скважины\n",
    "\n",
    "|Регион, №| Средние запасы сырья, тыс. баррелей | Необходимый объем сырья для безубыточной разработки скважины, тыс. баррелей | Разница среднего и необходимого, %|\n",
    "|---------|-------------------------------------|---------------------------------------------------------------------|---------------|\n",
    "|1|92.5|     | -16.75\n",
    "|2|68.8|111.1| -38.06\n",
    "|3|95.0|     | -14.50\n",
    "\n",
    "В заключительной части работы были вычислены: максимально возможная выручка в каждом регионе, средняя выручка в каждом регионе, 95%-ый доверительный интервал для средней выручки в каждом регионе, а также риск убытков при разработке скважин. Для расчета последних была применена техника *bootstrap* с 1000 подвыборками. Полученные результаты представлены в таблице 4.\n",
    "\n",
    "Таблица 4 - результаты расчета выручки, приыбли, риска убытков\n",
    "\n",
    "|Регион, №|Максимально возможная прибыль, млрд. руб. | Средняя прибыль (bootstrap), млн. руб.| 95%-ый Доверительный интервал для средней прибыли, млн. руб. | Риск убытков, %|\n",
    "|-|-----|-------|-------------------|-----|\n",
    "|1|3.320|396.164|-111.215 ÷ 909.766 | 6.9%|\n",
    "|2|2.415|461.156|780.508 ÷ 862.952   |0.7%|\n",
    "|3|2.710|392.950|-112.227 ÷ 934.562  |6.5%|\n",
    "\n",
    "\n",
    "Из таблицы видно, что разработка скважин в регионе №2 является наиболее преспективной, судя по наибольшей средней прибыли (461.156 млн. руб.) среди представленных регионов. Важно также отметить, что модель предсказаний для региона №2 является самой точной по метрике *RMSE*. Регион №2 также имеет наименьший риск убытков при разработке в нем скважин - 0.7%.\n",
    "\n",
    "Для разработки нефтяных скважин рекомендуется разрабатывать регион №2 (исходный файл `geo_data_1.csv`)."
   ]
  }
 ],
 "metadata": {
  "kernelspec": {
   "display_name": "Python 3 (ipykernel)",
   "language": "python",
   "name": "python3"
  },
  "language_info": {
   "codemirror_mode": {
    "name": "ipython",
    "version": 3
   },
   "file_extension": ".py",
   "mimetype": "text/x-python",
   "name": "python",
   "nbconvert_exporter": "python",
   "pygments_lexer": "ipython3",
   "version": "3.9.7"
  },
  "notebookId": "58750d92-fd91-4506-8cd5-820974953be0",
  "notebookPath": "ds-ml-business.ipynb",
  "toc": {
   "base_numbering": 1,
   "nav_menu": {},
   "number_sections": true,
   "sideBar": true,
   "skip_h1_title": true,
   "title_cell": "Table of Contents",
   "title_sidebar": "Contents",
   "toc_cell": false,
   "toc_position": {},
   "toc_section_display": true,
   "toc_window_display": false
  }
 },
 "nbformat": 4,
 "nbformat_minor": 4
}
