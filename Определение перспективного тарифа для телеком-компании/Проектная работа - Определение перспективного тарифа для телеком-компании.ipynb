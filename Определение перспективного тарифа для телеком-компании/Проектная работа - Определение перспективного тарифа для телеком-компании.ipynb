{
 "cells": [
  {
   "cell_type": "markdown",
   "id": "1406d860",
   "metadata": {},
   "source": [
    "# Определение перспективного тарифа для телеком-компании"
   ]
  },
  {
   "cell_type": "markdown",
   "id": "c23115dd",
   "metadata": {},
   "source": [
    "## Исходные данные"
   ]
  },
  {
   "cell_type": "markdown",
   "id": "cfb2858b",
   "metadata": {},
   "source": [
    "### Описание проекта"
   ]
  },
  {
   "cell_type": "markdown",
   "id": "73aed576",
   "metadata": {},
   "source": [
    "Вам предстоит сделать предварительный анализ тарифов на небольшой выборке клиентов. В вашем распоряжении данные 500 пользователей «Мегалайна»: кто они, откуда, каким тарифом пользуются, сколько звонков и сообщений каждый отправил за 2018 год. Нужно проанализировать поведение клиентов и сделать вывод — какой тариф лучше."
   ]
  },
  {
   "cell_type": "markdown",
   "id": "f587260b",
   "metadata": {},
   "source": [
    "### Описание тарифов"
   ]
  },
  {
   "cell_type": "markdown",
   "id": "32e758ec",
   "metadata": {},
   "source": [
    "*Тариф «Смарт»*\n",
    "\n",
    "- Ежемесячная плата: 550 рублей\n",
    "\n",
    "- Включено 500 минут разговора, 50 сообщений и 15 Гб интернет-трафика\n",
    "\n",
    "- Стоимость услуг сверх тарифного пакета: 1. минута разговора: 3 рубля («Мегалайн» всегда округляет вверх значения минут и мегабайтов. Если пользователь проговорил всего 1 секунду, в тарифе засчитывается целая минута); 2. сообщение: 3 рубля; 3. 1 Гб интернет-трафика: 200 рублей.\n",
    "\n",
    "*Тариф «Ультра»*\n",
    "\n",
    "- Ежемесячная плата: 1950 рублей\n",
    "\n",
    "- Включено 3000 минут разговора, 1000 сообщений и 30 Гб интернет-трафика\n",
    "\n",
    "- Стоимость услуг сверх тарифного пакета: 1. минута разговора: 1 рубль; 2. сообщение: 1 рубль; 3. 1 Гб интернет-трафика: 150 рублей."
   ]
  },
  {
   "cell_type": "markdown",
   "id": "a7926cbe",
   "metadata": {},
   "source": [
    "**Примечание:**\n",
    "\n",
    "«Мегалайн» всегда округляет секунды до минут, а мегабайты — до гигабайт. Каждый звонок округляется отдельно: даже если он длился всего 1 секунду, будет засчитан как 1 минута.\n",
    "Для веб-трафика отдельные сессии не считаются. Вместо этого общая сумма за месяц округляется в бо́льшую сторону. Если абонент использует 1025 мегабайт в этом месяце, с него возьмут плату за 2 гигабайта."
   ]
  },
  {
   "cell_type": "markdown",
   "id": "3be9222a",
   "metadata": {},
   "source": [
    "### Описание данных"
   ]
  },
  {
   "cell_type": "markdown",
   "id": "53517f70",
   "metadata": {},
   "source": [
    "Таблица `users` (информация о пользователях):\n",
    "- `user_id` — уникальный идентификатор пользователя\n",
    "- `first_name` — имя пользователя\n",
    "- `last_name` — фамилия пользователя\n",
    "- `age` — возраст пользователя (годы)\n",
    "- `reg_date` — дата подключения тарифа (день, месяц, год)\n",
    "- `churn_date` — дата прекращения пользования тарифом (если значение пропущено, то тариф ещё действовал на момент выгрузки данных)\n",
    "- `city` — город проживания пользователя\n",
    "- `tarif` — название тарифного плана\n",
    "\n",
    "Таблица `calls` (информация о звонках):\n",
    "- `id` — уникальный номер звонка\n",
    "- `call_date` — дата звонка\n",
    "- `duration` — длительность звонка в минутах\n",
    "- `user_id` — идентификатор пользователя, сделавшего звонок\n",
    "\n",
    "Таблица `messages` (информация о сообщениях):\n",
    "- `id` — уникальный номер сообщения\n",
    "- `message_date` — дата сообщения\n",
    "- `user_id` — идентификатор пользователя, отправившего сообщение\n",
    "\n",
    "Таблица `internet` (информация об интернет-сессиях):\n",
    "- `id` — уникальный номер сессии\n",
    "- `mb_used` — объём потраченного за сессию интернет-трафика (в мегабайтах)\n",
    "- `session_date` — дата интернет-сессии\n",
    "- `user_id` — идентификатор пользователя\n",
    "\n",
    "Таблица `tariffs` (информация о тарифах):\n",
    "- `tariff_name` — название тарифа\n",
    "- `rub_monthly_fee` — ежемесячная абонентская плата в рублях\n",
    "- `minutes_included` — количество минут разговора в месяц, включённых в абонентскую плату\n",
    "- `messages_included` — количество сообщений в месяц, включённых в абонентскую плату\n",
    "- `mb_per_month_included` — объём интернет-трафика, включённого в абонентскую плату (в мегабайтах)\n",
    "- `rub_per_minute` — стоимость минуты разговора сверх тарифного пакета (например, если в тарифе 100 минут разговора в месяц, то со 101 минуты будет взиматься плата)\n",
    "- `rub_per_message` — стоимость отправки сообщения сверх тарифного пакета\n",
    "- `rub_per_gb` — стоимость дополнительного гигабайта интернет-трафика сверх тарифного пакета (1 гигабайт = 1024 мегабайта)"
   ]
  },
  {
   "cell_type": "markdown",
   "id": "0285acd4",
   "metadata": {},
   "source": [
    "## Общая информация о данных и их предобработка"
   ]
  },
  {
   "cell_type": "markdown",
   "id": "f0818916",
   "metadata": {},
   "source": [
    "Установка библиотек:"
   ]
  },
  {
   "cell_type": "code",
   "execution_count": null,
   "id": "e3193e9f",
   "metadata": {},
   "outputs": [],
   "source": [
    "!pip install seaborn -U"
   ]
  },
  {
   "cell_type": "markdown",
   "id": "469c09d7",
   "metadata": {},
   "source": [
    "Импорт библиотек:"
   ]
  },
  {
   "cell_type": "code",
   "execution_count": 7,
   "id": "244e38b6",
   "metadata": {},
   "outputs": [],
   "source": [
    "import pandas as pd\n",
    "from IPython.display import display\n",
    "import matplotlib.pyplot as plt\n",
    "import numpy as np\n",
    "import seaborn as sns\n",
    "import math\n",
    "from scipy import stats as st"
   ]
  },
  {
   "cell_type": "markdown",
   "id": "0af3653b",
   "metadata": {},
   "source": [
    "Прочитаем файлы с датасетами и сохраним их в соотвествующие датафреймы:"
   ]
  },
  {
   "cell_type": "code",
   "execution_count": 2,
   "id": "863ab550",
   "metadata": {},
   "outputs": [],
   "source": [
    "users = pd.read_csv(r'C:\\Users\\IVMitrofanov\\Downloads\\users.csv')\n",
    "calls = pd.read_csv(r'C:\\Users\\IVMitrofanov\\Downloads\\calls.csv')\n",
    "messages = pd.read_csv(r'C:\\Users\\IVMitrofanov\\Downloads\\messages.csv')\n",
    "internet = pd.read_csv(r'C:\\Users\\IVMitrofanov\\Downloads\\internet.csv')\n",
    "tariffs = pd.read_csv(r'C:\\Users\\IVMitrofanov\\Downloads\\tariffs.csv')"
   ]
  },
  {
   "cell_type": "markdown",
   "id": "361eeec0",
   "metadata": {},
   "source": [
    "Посмотрим общую информацию о каждом датафрейме и ознакомимся со значениями в столбцах таблиц с помощью функции:"
   ]
  },
  {
   "cell_type": "code",
   "execution_count": 26,
   "id": "04aa0925",
   "metadata": {},
   "outputs": [],
   "source": [
    "def dataframe_info(df):\n",
    "    columns = df.columns\n",
    "    print('Первые пять строк:')\n",
    "    display(df.head())\n",
    "    print('Основная информация о датафрейме:')\n",
    "    df.info()\n",
    "    print('Доля пропусков в датафрейме:')\n",
    "    display(df.isna().mean())\n",
    "    print('Число явных дубликатов: ', df.duplicated().sum())\n",
    "    print('Основные статистические характеристики датафрейма:')\n",
    "    display(df.describe().T)\n",
    "    print('Уникальные значения в столбцах:')\n",
    "    for column in columns:\n",
    "        display(df[column].value_counts())"
   ]
  },
  {
   "cell_type": "markdown",
   "id": "cc992337",
   "metadata": {},
   "source": [
    "### Датафрейм: users"
   ]
  },
  {
   "cell_type": "markdown",
   "id": "231303f7",
   "metadata": {},
   "source": [
    "Посмотрим информацию о датарфейме с помощью функции:"
   ]
  },
  {
   "cell_type": "code",
   "execution_count": 27,
   "id": "d6e0693a",
   "metadata": {},
   "outputs": [
    {
     "name": "stdout",
     "output_type": "stream",
     "text": [
      "Первые пять строк:\n"
     ]
    },
    {
     "data": {
      "text/html": [
       "<div>\n",
       "<style scoped>\n",
       "    .dataframe tbody tr th:only-of-type {\n",
       "        vertical-align: middle;\n",
       "    }\n",
       "\n",
       "    .dataframe tbody tr th {\n",
       "        vertical-align: top;\n",
       "    }\n",
       "\n",
       "    .dataframe thead th {\n",
       "        text-align: right;\n",
       "    }\n",
       "</style>\n",
       "<table border=\"1\" class=\"dataframe\">\n",
       "  <thead>\n",
       "    <tr style=\"text-align: right;\">\n",
       "      <th></th>\n",
       "      <th>user_id</th>\n",
       "      <th>age</th>\n",
       "      <th>churn_date</th>\n",
       "      <th>city</th>\n",
       "      <th>first_name</th>\n",
       "      <th>last_name</th>\n",
       "      <th>reg_date</th>\n",
       "      <th>tariff</th>\n",
       "    </tr>\n",
       "  </thead>\n",
       "  <tbody>\n",
       "    <tr>\n",
       "      <th>0</th>\n",
       "      <td>1000</td>\n",
       "      <td>52</td>\n",
       "      <td>NaT</td>\n",
       "      <td>Краснодар</td>\n",
       "      <td>Рафаил</td>\n",
       "      <td>Верещагин</td>\n",
       "      <td>2018-05-25</td>\n",
       "      <td>ultra</td>\n",
       "    </tr>\n",
       "    <tr>\n",
       "      <th>1</th>\n",
       "      <td>1001</td>\n",
       "      <td>41</td>\n",
       "      <td>NaT</td>\n",
       "      <td>Москва</td>\n",
       "      <td>Иван</td>\n",
       "      <td>Ежов</td>\n",
       "      <td>2018-11-01</td>\n",
       "      <td>smart</td>\n",
       "    </tr>\n",
       "    <tr>\n",
       "      <th>2</th>\n",
       "      <td>1002</td>\n",
       "      <td>59</td>\n",
       "      <td>NaT</td>\n",
       "      <td>Стерлитамак</td>\n",
       "      <td>Евгений</td>\n",
       "      <td>Абрамович</td>\n",
       "      <td>2018-06-17</td>\n",
       "      <td>smart</td>\n",
       "    </tr>\n",
       "    <tr>\n",
       "      <th>3</th>\n",
       "      <td>1003</td>\n",
       "      <td>23</td>\n",
       "      <td>NaT</td>\n",
       "      <td>Москва</td>\n",
       "      <td>Белла</td>\n",
       "      <td>Белякова</td>\n",
       "      <td>2018-08-17</td>\n",
       "      <td>ultra</td>\n",
       "    </tr>\n",
       "    <tr>\n",
       "      <th>4</th>\n",
       "      <td>1004</td>\n",
       "      <td>68</td>\n",
       "      <td>NaT</td>\n",
       "      <td>Новокузнецк</td>\n",
       "      <td>Татьяна</td>\n",
       "      <td>Авдеенко</td>\n",
       "      <td>2018-05-14</td>\n",
       "      <td>ultra</td>\n",
       "    </tr>\n",
       "  </tbody>\n",
       "</table>\n",
       "</div>"
      ],
      "text/plain": [
       "   user_id  age churn_date         city first_name  last_name   reg_date  \\\n",
       "0     1000   52        NaT    Краснодар     Рафаил  Верещагин 2018-05-25   \n",
       "1     1001   41        NaT       Москва       Иван       Ежов 2018-11-01   \n",
       "2     1002   59        NaT  Стерлитамак    Евгений  Абрамович 2018-06-17   \n",
       "3     1003   23        NaT       Москва      Белла   Белякова 2018-08-17   \n",
       "4     1004   68        NaT  Новокузнецк    Татьяна   Авдеенко 2018-05-14   \n",
       "\n",
       "  tariff  \n",
       "0  ultra  \n",
       "1  smart  \n",
       "2  smart  \n",
       "3  ultra  \n",
       "4  ultra  "
      ]
     },
     "metadata": {},
     "output_type": "display_data"
    },
    {
     "name": "stdout",
     "output_type": "stream",
     "text": [
      "Основная информация о датафрейме:\n",
      "<class 'pandas.core.frame.DataFrame'>\n",
      "RangeIndex: 500 entries, 0 to 499\n",
      "Data columns (total 8 columns):\n",
      " #   Column      Non-Null Count  Dtype         \n",
      "---  ------      --------------  -----         \n",
      " 0   user_id     500 non-null    int64         \n",
      " 1   age         500 non-null    int64         \n",
      " 2   churn_date  38 non-null     datetime64[ns]\n",
      " 3   city        500 non-null    object        \n",
      " 4   first_name  500 non-null    object        \n",
      " 5   last_name   500 non-null    object        \n",
      " 6   reg_date    500 non-null    datetime64[ns]\n",
      " 7   tariff      500 non-null    object        \n",
      "dtypes: datetime64[ns](2), int64(2), object(4)\n",
      "memory usage: 31.4+ KB\n",
      "Доля пропусков в датафрейме:\n"
     ]
    },
    {
     "data": {
      "text/plain": [
       "user_id       0.000\n",
       "age           0.000\n",
       "churn_date    0.924\n",
       "city          0.000\n",
       "first_name    0.000\n",
       "last_name     0.000\n",
       "reg_date      0.000\n",
       "tariff        0.000\n",
       "dtype: float64"
      ]
     },
     "metadata": {},
     "output_type": "display_data"
    },
    {
     "name": "stdout",
     "output_type": "stream",
     "text": [
      "Число явных дубликатов:  0\n",
      "Основные статистические характеристики датафрейма:\n"
     ]
    },
    {
     "data": {
      "text/html": [
       "<div>\n",
       "<style scoped>\n",
       "    .dataframe tbody tr th:only-of-type {\n",
       "        vertical-align: middle;\n",
       "    }\n",
       "\n",
       "    .dataframe tbody tr th {\n",
       "        vertical-align: top;\n",
       "    }\n",
       "\n",
       "    .dataframe thead th {\n",
       "        text-align: right;\n",
       "    }\n",
       "</style>\n",
       "<table border=\"1\" class=\"dataframe\">\n",
       "  <thead>\n",
       "    <tr style=\"text-align: right;\">\n",
       "      <th></th>\n",
       "      <th>count</th>\n",
       "      <th>mean</th>\n",
       "      <th>std</th>\n",
       "      <th>min</th>\n",
       "      <th>25%</th>\n",
       "      <th>50%</th>\n",
       "      <th>75%</th>\n",
       "      <th>max</th>\n",
       "    </tr>\n",
       "  </thead>\n",
       "  <tbody>\n",
       "    <tr>\n",
       "      <th>user_id</th>\n",
       "      <td>500.0</td>\n",
       "      <td>1249.500</td>\n",
       "      <td>144.481833</td>\n",
       "      <td>1000.0</td>\n",
       "      <td>1124.75</td>\n",
       "      <td>1249.5</td>\n",
       "      <td>1374.25</td>\n",
       "      <td>1499.0</td>\n",
       "    </tr>\n",
       "    <tr>\n",
       "      <th>age</th>\n",
       "      <td>500.0</td>\n",
       "      <td>46.588</td>\n",
       "      <td>16.667630</td>\n",
       "      <td>18.0</td>\n",
       "      <td>32.00</td>\n",
       "      <td>46.0</td>\n",
       "      <td>62.00</td>\n",
       "      <td>75.0</td>\n",
       "    </tr>\n",
       "  </tbody>\n",
       "</table>\n",
       "</div>"
      ],
      "text/plain": [
       "         count      mean         std     min      25%     50%      75%     max\n",
       "user_id  500.0  1249.500  144.481833  1000.0  1124.75  1249.5  1374.25  1499.0\n",
       "age      500.0    46.588   16.667630    18.0    32.00    46.0    62.00    75.0"
      ]
     },
     "metadata": {},
     "output_type": "display_data"
    },
    {
     "name": "stdout",
     "output_type": "stream",
     "text": [
      "Уникальные значения в столбцах:\n"
     ]
    },
    {
     "data": {
      "text/plain": [
       "1000    1\n",
       "1329    1\n",
       "1342    1\n",
       "1341    1\n",
       "1340    1\n",
       "       ..\n",
       "1161    1\n",
       "1160    1\n",
       "1159    1\n",
       "1158    1\n",
       "1499    1\n",
       "Name: user_id, Length: 500, dtype: int64"
      ]
     },
     "metadata": {},
     "output_type": "display_data"
    },
    {
     "data": {
      "text/plain": [
       "53    14\n",
       "42    14\n",
       "63    13\n",
       "64    13\n",
       "71    13\n",
       "73    12\n",
       "21    12\n",
       "40    12\n",
       "37    11\n",
       "29    11\n",
       "39    11\n",
       "26    11\n",
       "47    11\n",
       "70    10\n",
       "45    10\n",
       "41    10\n",
       "52    10\n",
       "58    10\n",
       "36    10\n",
       "66     9\n",
       "23     9\n",
       "50     9\n",
       "65     9\n",
       "19     9\n",
       "48     9\n",
       "24     9\n",
       "68     9\n",
       "27     9\n",
       "28     9\n",
       "51     9\n",
       "20     9\n",
       "56     9\n",
       "30     9\n",
       "60     8\n",
       "44     8\n",
       "69     8\n",
       "62     8\n",
       "55     8\n",
       "74     7\n",
       "25     7\n",
       "46     7\n",
       "35     7\n",
       "32     7\n",
       "67     7\n",
       "43     7\n",
       "31     7\n",
       "18     6\n",
       "75     6\n",
       "54     6\n",
       "59     6\n",
       "72     5\n",
       "22     5\n",
       "34     5\n",
       "33     5\n",
       "38     5\n",
       "49     4\n",
       "57     4\n",
       "61     3\n",
       "Name: age, dtype: int64"
      ]
     },
     "metadata": {},
     "output_type": "display_data"
    },
    {
     "data": {
      "text/plain": [
       "2018-12-03    2\n",
       "2018-10-03    2\n",
       "2018-10-14    2\n",
       "2018-12-09    2\n",
       "2018-12-21    2\n",
       "2018-12-30    1\n",
       "2018-10-28    1\n",
       "2018-11-26    1\n",
       "2018-11-27    1\n",
       "2018-11-16    1\n",
       "2018-10-27    1\n",
       "2018-10-05    1\n",
       "2018-09-27    1\n",
       "2018-11-13    1\n",
       "2018-12-25    1\n",
       "2018-12-14    1\n",
       "2018-12-24    1\n",
       "2018-09-26    1\n",
       "2018-11-22    1\n",
       "2018-08-17    1\n",
       "2018-10-04    1\n",
       "2018-09-02    1\n",
       "2018-12-18    1\n",
       "2018-11-30    1\n",
       "2018-12-20    1\n",
       "2018-12-16    1\n",
       "2018-11-07    1\n",
       "2018-12-23    1\n",
       "2018-08-31    1\n",
       "2018-12-26    1\n",
       "2018-12-11    1\n",
       "2018-11-21    1\n",
       "2018-10-25    1\n",
       "Name: churn_date, dtype: int64"
      ]
     },
     "metadata": {},
     "output_type": "display_data"
    },
    {
     "data": {
      "text/plain": [
       "Москва             99\n",
       "Санкт-Петербург    39\n",
       "Новосибирск        16\n",
       "Омск               14\n",
       "Казань             14\n",
       "                   ..\n",
       "Архангельск         1\n",
       "Иваново             1\n",
       "Нижневартовск       1\n",
       "Химки               1\n",
       "Подольск            1\n",
       "Name: city, Length: 76, dtype: int64"
      ]
     },
     "metadata": {},
     "output_type": "display_data"
    },
    {
     "data": {
      "text/plain": [
       "Радим      6\n",
       "Леонид     5\n",
       "Пётр       5\n",
       "Андрей     4\n",
       "Адам       4\n",
       "          ..\n",
       "Зинаида    1\n",
       "Глеб       1\n",
       "Роза       1\n",
       "Юзефа      1\n",
       "Трифон     1\n",
       "Name: first_name, Length: 246, dtype: int64"
      ]
     },
     "metadata": {},
     "output_type": "display_data"
    },
    {
     "data": {
      "text/plain": [
       "Андреенко     5\n",
       "Березина      3\n",
       "Аркадьев      3\n",
       "Булгаков      3\n",
       "Соловьев      3\n",
       "             ..\n",
       "Медведев      1\n",
       "Минаева       1\n",
       "Авдонюшкин    1\n",
       "Андрейчук     1\n",
       "Акимчин       1\n",
       "Name: last_name, Length: 419, dtype: int64"
      ]
     },
     "metadata": {},
     "output_type": "display_data"
    },
    {
     "data": {
      "text/plain": [
       "2018-05-28    8\n",
       "2018-11-16    5\n",
       "2018-10-05    5\n",
       "2018-04-03    5\n",
       "2018-01-04    5\n",
       "             ..\n",
       "2018-09-20    1\n",
       "2018-04-28    1\n",
       "2018-08-07    1\n",
       "2018-06-18    1\n",
       "2018-04-25    1\n",
       "Name: reg_date, Length: 270, dtype: int64"
      ]
     },
     "metadata": {},
     "output_type": "display_data"
    },
    {
     "data": {
      "text/plain": [
       "smart    351\n",
       "ultra    149\n",
       "Name: tariff, dtype: int64"
      ]
     },
     "metadata": {},
     "output_type": "display_data"
    }
   ],
   "source": [
    "dataframe_info(users)"
   ]
  },
  {
   "cell_type": "markdown",
   "id": "123a28a7",
   "metadata": {},
   "source": [
    "Названия столбцов унифицированы. Нужно привести столбцы `churn_date` и `reg_date` к типу хранения даты и времени - *datetime*. Сразу бросаются в глаза явные пропуски (92.4%) в столбце `churn_date`. Заполнять их не требуется, так как в исходных данных указано, что если значение пропущено, то тариф ещё действовал на момент выгрузки данных."
   ]
  },
  {
   "cell_type": "markdown",
   "id": "1858584f",
   "metadata": {},
   "source": [
    "Дубликатов не выявлено. Значения в столбцах выглядят нормально, никаких аномалий не обнаружено. Все *id* пользователей уникальны. Значения в столбце с городом также выглядят унифицировано, видимо при заполнении имеет место не произвольный ввод а выбор из представленных вариантов."
   ]
  },
  {
   "cell_type": "markdown",
   "id": "bb0c8629",
   "metadata": {},
   "source": [
    "Перезапишем датафрейм `users` указав параметр *parse_dates* при чтении файла *csv* чтобы сразу перевести столбцы `churn_date` и `reg_date` к формату *datetime*:"
   ]
  },
  {
   "cell_type": "code",
   "execution_count": 5,
   "id": "a9687a92",
   "metadata": {},
   "outputs": [],
   "source": [
    "users = pd.read_csv(r'C:\\Users\\IVMitrofanov\\Downloads\\users.csv', parse_dates=['churn_date', 'reg_date'])"
   ]
  },
  {
   "cell_type": "markdown",
   "id": "560e8156",
   "metadata": {},
   "source": [
    "Проверим изменение типа данных столбцов:"
   ]
  },
  {
   "cell_type": "code",
   "execution_count": 6,
   "id": "92f093d5",
   "metadata": {
    "scrolled": false
   },
   "outputs": [
    {
     "data": {
      "text/plain": [
       "user_id                int64\n",
       "age                    int64\n",
       "churn_date    datetime64[ns]\n",
       "city                  object\n",
       "first_name            object\n",
       "last_name             object\n",
       "reg_date      datetime64[ns]\n",
       "tariff                object\n",
       "dtype: object"
      ]
     },
     "execution_count": 6,
     "metadata": {},
     "output_type": "execute_result"
    }
   ],
   "source": [
    "users.dtypes"
   ]
  },
  {
   "cell_type": "markdown",
   "id": "3826f72a",
   "metadata": {},
   "source": [
    "### Вывод. Датафрейм: users\n",
    "\n",
    "- Тип данных в столбцах `churn_date` и `reg_date` был приведен к типу хранения даты и времени *datetime*. \n",
    "- Никаких аномалий в значениях столбцов не обнаружено. \n",
    "- Дубликатов не выявлено.\n",
    "- Датафрейм готов к дальнейшему исследованию.\n",
    "    "
   ]
  },
  {
   "cell_type": "markdown",
   "id": "717a903f",
   "metadata": {},
   "source": [
    "### Датафрейм: calls"
   ]
  },
  {
   "cell_type": "markdown",
   "id": "4307abab",
   "metadata": {},
   "source": [
    "Посмотрим информацию о датарфейме с помощью функции:"
   ]
  },
  {
   "cell_type": "code",
   "execution_count": 28,
   "id": "885552af",
   "metadata": {},
   "outputs": [
    {
     "name": "stdout",
     "output_type": "stream",
     "text": [
      "Первые пять строк:\n"
     ]
    },
    {
     "data": {
      "text/html": [
       "<div>\n",
       "<style scoped>\n",
       "    .dataframe tbody tr th:only-of-type {\n",
       "        vertical-align: middle;\n",
       "    }\n",
       "\n",
       "    .dataframe tbody tr th {\n",
       "        vertical-align: top;\n",
       "    }\n",
       "\n",
       "    .dataframe thead th {\n",
       "        text-align: right;\n",
       "    }\n",
       "</style>\n",
       "<table border=\"1\" class=\"dataframe\">\n",
       "  <thead>\n",
       "    <tr style=\"text-align: right;\">\n",
       "      <th></th>\n",
       "      <th>id</th>\n",
       "      <th>call_date</th>\n",
       "      <th>duration</th>\n",
       "      <th>user_id</th>\n",
       "    </tr>\n",
       "  </thead>\n",
       "  <tbody>\n",
       "    <tr>\n",
       "      <th>0</th>\n",
       "      <td>1000_0</td>\n",
       "      <td>2018-07-25</td>\n",
       "      <td>0.00</td>\n",
       "      <td>1000</td>\n",
       "    </tr>\n",
       "    <tr>\n",
       "      <th>1</th>\n",
       "      <td>1000_1</td>\n",
       "      <td>2018-08-17</td>\n",
       "      <td>0.00</td>\n",
       "      <td>1000</td>\n",
       "    </tr>\n",
       "    <tr>\n",
       "      <th>2</th>\n",
       "      <td>1000_2</td>\n",
       "      <td>2018-06-11</td>\n",
       "      <td>2.85</td>\n",
       "      <td>1000</td>\n",
       "    </tr>\n",
       "    <tr>\n",
       "      <th>3</th>\n",
       "      <td>1000_3</td>\n",
       "      <td>2018-09-21</td>\n",
       "      <td>13.80</td>\n",
       "      <td>1000</td>\n",
       "    </tr>\n",
       "    <tr>\n",
       "      <th>4</th>\n",
       "      <td>1000_4</td>\n",
       "      <td>2018-12-15</td>\n",
       "      <td>5.18</td>\n",
       "      <td>1000</td>\n",
       "    </tr>\n",
       "  </tbody>\n",
       "</table>\n",
       "</div>"
      ],
      "text/plain": [
       "       id   call_date  duration  user_id\n",
       "0  1000_0  2018-07-25      0.00     1000\n",
       "1  1000_1  2018-08-17      0.00     1000\n",
       "2  1000_2  2018-06-11      2.85     1000\n",
       "3  1000_3  2018-09-21     13.80     1000\n",
       "4  1000_4  2018-12-15      5.18     1000"
      ]
     },
     "metadata": {},
     "output_type": "display_data"
    },
    {
     "name": "stdout",
     "output_type": "stream",
     "text": [
      "Основная информация о датафрейме:\n",
      "<class 'pandas.core.frame.DataFrame'>\n",
      "RangeIndex: 202607 entries, 0 to 202606\n",
      "Data columns (total 4 columns):\n",
      " #   Column     Non-Null Count   Dtype  \n",
      "---  ------     --------------   -----  \n",
      " 0   id         202607 non-null  object \n",
      " 1   call_date  202607 non-null  object \n",
      " 2   duration   202607 non-null  float64\n",
      " 3   user_id    202607 non-null  int64  \n",
      "dtypes: float64(1), int64(1), object(2)\n",
      "memory usage: 6.2+ MB\n",
      "Доля пропусков в датафрейме:\n"
     ]
    },
    {
     "data": {
      "text/plain": [
       "id           0.0\n",
       "call_date    0.0\n",
       "duration     0.0\n",
       "user_id      0.0\n",
       "dtype: float64"
      ]
     },
     "metadata": {},
     "output_type": "display_data"
    },
    {
     "name": "stdout",
     "output_type": "stream",
     "text": [
      "Число явных дубликатов:  0\n",
      "Основные статистические характеристики датафрейма:\n"
     ]
    },
    {
     "data": {
      "text/html": [
       "<div>\n",
       "<style scoped>\n",
       "    .dataframe tbody tr th:only-of-type {\n",
       "        vertical-align: middle;\n",
       "    }\n",
       "\n",
       "    .dataframe tbody tr th {\n",
       "        vertical-align: top;\n",
       "    }\n",
       "\n",
       "    .dataframe thead th {\n",
       "        text-align: right;\n",
       "    }\n",
       "</style>\n",
       "<table border=\"1\" class=\"dataframe\">\n",
       "  <thead>\n",
       "    <tr style=\"text-align: right;\">\n",
       "      <th></th>\n",
       "      <th>count</th>\n",
       "      <th>mean</th>\n",
       "      <th>std</th>\n",
       "      <th>min</th>\n",
       "      <th>25%</th>\n",
       "      <th>50%</th>\n",
       "      <th>75%</th>\n",
       "      <th>max</th>\n",
       "    </tr>\n",
       "  </thead>\n",
       "  <tbody>\n",
       "    <tr>\n",
       "      <th>duration</th>\n",
       "      <td>202607.0</td>\n",
       "      <td>6.755887</td>\n",
       "      <td>5.843365</td>\n",
       "      <td>0.0</td>\n",
       "      <td>1.3</td>\n",
       "      <td>6.0</td>\n",
       "      <td>10.7</td>\n",
       "      <td>38.0</td>\n",
       "    </tr>\n",
       "    <tr>\n",
       "      <th>user_id</th>\n",
       "      <td>202607.0</td>\n",
       "      <td>1253.940619</td>\n",
       "      <td>144.722751</td>\n",
       "      <td>1000.0</td>\n",
       "      <td>1126.0</td>\n",
       "      <td>1260.0</td>\n",
       "      <td>1379.0</td>\n",
       "      <td>1499.0</td>\n",
       "    </tr>\n",
       "  </tbody>\n",
       "</table>\n",
       "</div>"
      ],
      "text/plain": [
       "             count         mean         std     min     25%     50%     75%  \\\n",
       "duration  202607.0     6.755887    5.843365     0.0     1.3     6.0    10.7   \n",
       "user_id   202607.0  1253.940619  144.722751  1000.0  1126.0  1260.0  1379.0   \n",
       "\n",
       "             max  \n",
       "duration    38.0  \n",
       "user_id   1499.0  "
      ]
     },
     "metadata": {},
     "output_type": "display_data"
    },
    {
     "name": "stdout",
     "output_type": "stream",
     "text": [
      "Уникальные значения в столбцах:\n"
     ]
    },
    {
     "data": {
      "text/plain": [
       "1000_0      1\n",
       "1344_881    1\n",
       "1344_883    1\n",
       "1344_884    1\n",
       "1344_885    1\n",
       "           ..\n",
       "1171_562    1\n",
       "1171_563    1\n",
       "1171_564    1\n",
       "1171_565    1\n",
       "1499_219    1\n",
       "Name: id, Length: 202607, dtype: int64"
      ]
     },
     "metadata": {},
     "output_type": "display_data"
    },
    {
     "data": {
      "text/plain": [
       "2018-12-31    1435\n",
       "2018-12-29    1202\n",
       "2018-12-30    1192\n",
       "2018-12-22    1158\n",
       "2018-12-26    1149\n",
       "              ... \n",
       "2018-01-05      20\n",
       "2018-01-07      18\n",
       "2018-01-02       9\n",
       "2018-01-03       7\n",
       "2018-01-01       5\n",
       "Name: call_date, Length: 365, dtype: int64"
      ]
     },
     "metadata": {},
     "output_type": "display_data"
    },
    {
     "data": {
      "text/plain": [
       "0.00     39613\n",
       "4.49       142\n",
       "5.50       142\n",
       "6.15       141\n",
       "6.38       141\n",
       "         ...  \n",
       "26.94        1\n",
       "32.19        1\n",
       "26.32        1\n",
       "27.41        1\n",
       "26.90        1\n",
       "Name: duration, Length: 2871, dtype: int64"
      ]
     },
     "metadata": {},
     "output_type": "display_data"
    },
    {
     "data": {
      "text/plain": [
       "1377    1760\n",
       "1168    1692\n",
       "1375    1560\n",
       "1453    1440\n",
       "1196    1240\n",
       "        ... \n",
       "1397      33\n",
       "1442      28\n",
       "1373      24\n",
       "1016      20\n",
       "1257      14\n",
       "Name: user_id, Length: 492, dtype: int64"
      ]
     },
     "metadata": {},
     "output_type": "display_data"
    }
   ],
   "source": [
    "dataframe_info(calls)"
   ]
  },
  {
   "cell_type": "markdown",
   "id": "7cc335e7",
   "metadata": {},
   "source": [
    "Названия столбцов унифицированы, однако, название столбца `id` не информативно. Переименуем его в `call_id`. Столбец `call_date` необходимо привести к типу *datetime*. Явных пропусков данных нет, дубликатов не выявлено."
   ]
  },
  {
   "cell_type": "markdown",
   "id": "528e2e01",
   "metadata": {},
   "source": [
    "В столбце `duration` имеется много звонков с нулевой продолжительностью, значения в остальных столбцах выглядят нормально, никаких аномалий больше не обнаружено. Посчитаем долю звонков с нулевой продолжительностью:"
   ]
  },
  {
   "cell_type": "code",
   "execution_count": 49,
   "id": "a7b70bbf",
   "metadata": {},
   "outputs": [
    {
     "data": {
      "text/plain": [
       "0.19551644316336553"
      ]
     },
     "execution_count": 49,
     "metadata": {},
     "output_type": "execute_result"
    }
   ],
   "source": [
    "calls.query('duration == 0')['duration'].count() / calls.shape[0]"
   ]
  },
  {
   "cell_type": "markdown",
   "id": "bc8f3148",
   "metadata": {},
   "source": [
    "19.5% звонков с нулевой продолжительностью. Нулевая продолжительность звонков означает что звонок был пропущен, такие пропуски заполнять не нужно."
   ]
  },
  {
   "cell_type": "markdown",
   "id": "5daa3c97",
   "metadata": {},
   "source": [
    "Перезапишем датафрейм `calls` чтобы сразу перевести столбец `call_date` к формату *datetime*:"
   ]
  },
  {
   "cell_type": "code",
   "execution_count": 29,
   "id": "86fd9540",
   "metadata": {},
   "outputs": [],
   "source": [
    "calls = pd.read_csv(r'C:\\Users\\IVMitrofanov\\Downloads\\calls.csv', parse_dates=['call_date'])"
   ]
  },
  {
   "cell_type": "markdown",
   "id": "b7888ed4",
   "metadata": {},
   "source": [
    "Переименуем столбец методом *rename*:"
   ]
  },
  {
   "cell_type": "code",
   "execution_count": 30,
   "id": "b898cf21",
   "metadata": {},
   "outputs": [],
   "source": [
    "calls.rename(columns={'id' : 'call_id'}, inplace=True)"
   ]
  },
  {
   "cell_type": "markdown",
   "id": "309113c5",
   "metadata": {},
   "source": [
    "Проверим изменение типа данных и названия столбцов:"
   ]
  },
  {
   "cell_type": "code",
   "execution_count": 31,
   "id": "d4f52036",
   "metadata": {},
   "outputs": [
    {
     "data": {
      "text/plain": [
       "call_id              object\n",
       "call_date    datetime64[ns]\n",
       "duration            float64\n",
       "user_id               int64\n",
       "dtype: object"
      ]
     },
     "execution_count": 31,
     "metadata": {},
     "output_type": "execute_result"
    }
   ],
   "source": [
    "calls.dtypes"
   ]
  },
  {
   "cell_type": "markdown",
   "id": "1965c5ee",
   "metadata": {},
   "source": [
    "### Вывод. Датафрейм: calls\n",
    "\n",
    "- Название столбца `id` изменено на более информативное - `call_id`.\n",
    "- Тип данных в столбцах `call_date` был приведен к типу хранения даты и времени *datetime*. \n",
    "- В столбце с продолжительностью звонка (`duration`) 20 % значений с нулевой продолжительностью звонка, такие пропуски заполнять не нужно. Никаких аномалий в других значениях не обнаружено. \n",
    "- Дубликатов не выявлено.\n",
    "- Датафрейм готов к дальнейшему исследованию."
   ]
  },
  {
   "cell_type": "markdown",
   "id": "1e56b948",
   "metadata": {},
   "source": [
    "### Датафрейм: messages"
   ]
  },
  {
   "cell_type": "markdown",
   "id": "a7d31914",
   "metadata": {},
   "source": [
    "Посмотрим информацию о датарфейме с помощью функции:"
   ]
  },
  {
   "cell_type": "code",
   "execution_count": 33,
   "id": "cd353ff8",
   "metadata": {},
   "outputs": [
    {
     "name": "stdout",
     "output_type": "stream",
     "text": [
      "Первые пять строк:\n"
     ]
    },
    {
     "data": {
      "text/html": [
       "<div>\n",
       "<style scoped>\n",
       "    .dataframe tbody tr th:only-of-type {\n",
       "        vertical-align: middle;\n",
       "    }\n",
       "\n",
       "    .dataframe tbody tr th {\n",
       "        vertical-align: top;\n",
       "    }\n",
       "\n",
       "    .dataframe thead th {\n",
       "        text-align: right;\n",
       "    }\n",
       "</style>\n",
       "<table border=\"1\" class=\"dataframe\">\n",
       "  <thead>\n",
       "    <tr style=\"text-align: right;\">\n",
       "      <th></th>\n",
       "      <th>id</th>\n",
       "      <th>message_date</th>\n",
       "      <th>user_id</th>\n",
       "    </tr>\n",
       "  </thead>\n",
       "  <tbody>\n",
       "    <tr>\n",
       "      <th>0</th>\n",
       "      <td>1000_0</td>\n",
       "      <td>2018-06-27</td>\n",
       "      <td>1000</td>\n",
       "    </tr>\n",
       "    <tr>\n",
       "      <th>1</th>\n",
       "      <td>1000_1</td>\n",
       "      <td>2018-10-08</td>\n",
       "      <td>1000</td>\n",
       "    </tr>\n",
       "    <tr>\n",
       "      <th>2</th>\n",
       "      <td>1000_2</td>\n",
       "      <td>2018-08-04</td>\n",
       "      <td>1000</td>\n",
       "    </tr>\n",
       "    <tr>\n",
       "      <th>3</th>\n",
       "      <td>1000_3</td>\n",
       "      <td>2018-06-16</td>\n",
       "      <td>1000</td>\n",
       "    </tr>\n",
       "    <tr>\n",
       "      <th>4</th>\n",
       "      <td>1000_4</td>\n",
       "      <td>2018-12-05</td>\n",
       "      <td>1000</td>\n",
       "    </tr>\n",
       "  </tbody>\n",
       "</table>\n",
       "</div>"
      ],
      "text/plain": [
       "       id message_date  user_id\n",
       "0  1000_0   2018-06-27     1000\n",
       "1  1000_1   2018-10-08     1000\n",
       "2  1000_2   2018-08-04     1000\n",
       "3  1000_3   2018-06-16     1000\n",
       "4  1000_4   2018-12-05     1000"
      ]
     },
     "metadata": {},
     "output_type": "display_data"
    },
    {
     "name": "stdout",
     "output_type": "stream",
     "text": [
      "Основная информация о датафрейме:\n",
      "<class 'pandas.core.frame.DataFrame'>\n",
      "RangeIndex: 123036 entries, 0 to 123035\n",
      "Data columns (total 3 columns):\n",
      " #   Column        Non-Null Count   Dtype \n",
      "---  ------        --------------   ----- \n",
      " 0   id            123036 non-null  object\n",
      " 1   message_date  123036 non-null  object\n",
      " 2   user_id       123036 non-null  int64 \n",
      "dtypes: int64(1), object(2)\n",
      "memory usage: 2.8+ MB\n",
      "Доля пропусков в датафрейме:\n"
     ]
    },
    {
     "data": {
      "text/plain": [
       "id              0.0\n",
       "message_date    0.0\n",
       "user_id         0.0\n",
       "dtype: float64"
      ]
     },
     "metadata": {},
     "output_type": "display_data"
    },
    {
     "name": "stdout",
     "output_type": "stream",
     "text": [
      "Число явных дубликатов:  0\n",
      "Основные статистические характеристики датафрейма:\n"
     ]
    },
    {
     "data": {
      "text/html": [
       "<div>\n",
       "<style scoped>\n",
       "    .dataframe tbody tr th:only-of-type {\n",
       "        vertical-align: middle;\n",
       "    }\n",
       "\n",
       "    .dataframe tbody tr th {\n",
       "        vertical-align: top;\n",
       "    }\n",
       "\n",
       "    .dataframe thead th {\n",
       "        text-align: right;\n",
       "    }\n",
       "</style>\n",
       "<table border=\"1\" class=\"dataframe\">\n",
       "  <thead>\n",
       "    <tr style=\"text-align: right;\">\n",
       "      <th></th>\n",
       "      <th>count</th>\n",
       "      <th>mean</th>\n",
       "      <th>std</th>\n",
       "      <th>min</th>\n",
       "      <th>25%</th>\n",
       "      <th>50%</th>\n",
       "      <th>75%</th>\n",
       "      <th>max</th>\n",
       "    </tr>\n",
       "  </thead>\n",
       "  <tbody>\n",
       "    <tr>\n",
       "      <th>user_id</th>\n",
       "      <td>123036.0</td>\n",
       "      <td>1256.98941</td>\n",
       "      <td>143.523967</td>\n",
       "      <td>1000.0</td>\n",
       "      <td>1134.0</td>\n",
       "      <td>1271.0</td>\n",
       "      <td>1381.0</td>\n",
       "      <td>1499.0</td>\n",
       "    </tr>\n",
       "  </tbody>\n",
       "</table>\n",
       "</div>"
      ],
      "text/plain": [
       "            count        mean         std     min     25%     50%     75%  \\\n",
       "user_id  123036.0  1256.98941  143.523967  1000.0  1134.0  1271.0  1381.0   \n",
       "\n",
       "            max  \n",
       "user_id  1499.0  "
      ]
     },
     "metadata": {},
     "output_type": "display_data"
    },
    {
     "name": "stdout",
     "output_type": "stream",
     "text": [
      "Уникальные значения в столбцах:\n"
     ]
    },
    {
     "data": {
      "text/plain": [
       "1000_0      1\n",
       "1344_248    1\n",
       "1344_96     1\n",
       "1344_95     1\n",
       "1344_94     1\n",
       "           ..\n",
       "1174_352    1\n",
       "1174_351    1\n",
       "1174_350    1\n",
       "1174_349    1\n",
       "1499_183    1\n",
       "Name: id, Length: 123036, dtype: int64"
      ]
     },
     "metadata": {},
     "output_type": "display_data"
    },
    {
     "data": {
      "text/plain": [
       "2018-12-31    859\n",
       "2018-12-30    765\n",
       "2018-12-21    712\n",
       "2018-12-29    702\n",
       "2018-12-28    699\n",
       "             ... \n",
       "2018-01-11     12\n",
       "2018-01-05     10\n",
       "2018-01-04     10\n",
       "2018-01-02     10\n",
       "2018-01-03      4\n",
       "Name: message_date, Length: 364, dtype: int64"
      ]
     },
     "metadata": {},
     "output_type": "display_data"
    },
    {
     "data": {
      "text/plain": [
       "1277    1463\n",
       "1089    1408\n",
       "1231    1384\n",
       "1385    1380\n",
       "1356    1224\n",
       "        ... \n",
       "1389       6\n",
       "1279       5\n",
       "1074       3\n",
       "1159       2\n",
       "1141       1\n",
       "Name: user_id, Length: 426, dtype: int64"
      ]
     },
     "metadata": {},
     "output_type": "display_data"
    }
   ],
   "source": [
    "dataframe_info(messages)"
   ]
  },
  {
   "cell_type": "markdown",
   "id": "b4bbf6d9",
   "metadata": {},
   "source": [
    "Названия столбцов унифицированы, однако, название столбца `id` не информативно. Переименуем его в `message_id`. Столбец `message_date` нужно привести к типу *datetime*. Пропусков данных нет, дубликатов не выявлено."
   ]
  },
  {
   "cell_type": "markdown",
   "id": "5e41051b",
   "metadata": {},
   "source": [
    "Значения в столбцах выглядят нормально, никаких аномалий не обнаружено."
   ]
  },
  {
   "cell_type": "markdown",
   "id": "8bc35709",
   "metadata": {},
   "source": [
    "Перезапишем датафрейм `messages` чтобы сразу перевести столбец `message_date` к формату *datetime*:"
   ]
  },
  {
   "cell_type": "code",
   "execution_count": 34,
   "id": "664ecee9",
   "metadata": {},
   "outputs": [],
   "source": [
    "messages = pd.read_csv(r'C:\\Users\\IVMitrofanov\\Downloads\\messages.csv', parse_dates=['message_date'])"
   ]
  },
  {
   "cell_type": "markdown",
   "id": "443048b0",
   "metadata": {},
   "source": [
    "Переименуем столбец методом *rename*:"
   ]
  },
  {
   "cell_type": "code",
   "execution_count": 35,
   "id": "16c41940",
   "metadata": {},
   "outputs": [],
   "source": [
    "messages.rename(columns={'id' : 'message_id'}, inplace=True)"
   ]
  },
  {
   "cell_type": "markdown",
   "id": "f24bb8d3",
   "metadata": {},
   "source": [
    "Проверим изменение типа данных и названия столбцов:"
   ]
  },
  {
   "cell_type": "code",
   "execution_count": 36,
   "id": "c2594281",
   "metadata": {},
   "outputs": [
    {
     "data": {
      "text/plain": [
       "message_id              object\n",
       "message_date    datetime64[ns]\n",
       "user_id                  int64\n",
       "dtype: object"
      ]
     },
     "execution_count": 36,
     "metadata": {},
     "output_type": "execute_result"
    }
   ],
   "source": [
    "messages.dtypes"
   ]
  },
  {
   "cell_type": "markdown",
   "id": "90bc40b6",
   "metadata": {},
   "source": [
    "### Вывод. Датафрейм: messages\n",
    "\n",
    "- Название столбца `id` изменено на более информативное - `message_id`.\n",
    "- Тип данных в столбце `message_date` был приведен к типу хранения даты и времени *datetime*. \n",
    "- Никаких аномалий в значениях не обнаружено. \n",
    "- Дубликатов не выявлено.\n",
    "- Датафрейм готов к дальнейшему исследованию."
   ]
  },
  {
   "cell_type": "markdown",
   "id": "083e12e7",
   "metadata": {},
   "source": [
    "### Датафрейм: internet"
   ]
  },
  {
   "cell_type": "markdown",
   "id": "8b018397",
   "metadata": {},
   "source": [
    "Посмотрим информацию о датарфейме с помощью функции:"
   ]
  },
  {
   "cell_type": "code",
   "execution_count": 37,
   "id": "4ed5a17d",
   "metadata": {},
   "outputs": [
    {
     "name": "stdout",
     "output_type": "stream",
     "text": [
      "Первые пять строк:\n"
     ]
    },
    {
     "data": {
      "text/html": [
       "<div>\n",
       "<style scoped>\n",
       "    .dataframe tbody tr th:only-of-type {\n",
       "        vertical-align: middle;\n",
       "    }\n",
       "\n",
       "    .dataframe tbody tr th {\n",
       "        vertical-align: top;\n",
       "    }\n",
       "\n",
       "    .dataframe thead th {\n",
       "        text-align: right;\n",
       "    }\n",
       "</style>\n",
       "<table border=\"1\" class=\"dataframe\">\n",
       "  <thead>\n",
       "    <tr style=\"text-align: right;\">\n",
       "      <th></th>\n",
       "      <th>Unnamed: 0</th>\n",
       "      <th>id</th>\n",
       "      <th>mb_used</th>\n",
       "      <th>session_date</th>\n",
       "      <th>user_id</th>\n",
       "    </tr>\n",
       "  </thead>\n",
       "  <tbody>\n",
       "    <tr>\n",
       "      <th>0</th>\n",
       "      <td>0</td>\n",
       "      <td>1000_0</td>\n",
       "      <td>112.95</td>\n",
       "      <td>2018-11-25</td>\n",
       "      <td>1000</td>\n",
       "    </tr>\n",
       "    <tr>\n",
       "      <th>1</th>\n",
       "      <td>1</td>\n",
       "      <td>1000_1</td>\n",
       "      <td>1052.81</td>\n",
       "      <td>2018-09-07</td>\n",
       "      <td>1000</td>\n",
       "    </tr>\n",
       "    <tr>\n",
       "      <th>2</th>\n",
       "      <td>2</td>\n",
       "      <td>1000_2</td>\n",
       "      <td>1197.26</td>\n",
       "      <td>2018-06-25</td>\n",
       "      <td>1000</td>\n",
       "    </tr>\n",
       "    <tr>\n",
       "      <th>3</th>\n",
       "      <td>3</td>\n",
       "      <td>1000_3</td>\n",
       "      <td>550.27</td>\n",
       "      <td>2018-08-22</td>\n",
       "      <td>1000</td>\n",
       "    </tr>\n",
       "    <tr>\n",
       "      <th>4</th>\n",
       "      <td>4</td>\n",
       "      <td>1000_4</td>\n",
       "      <td>302.56</td>\n",
       "      <td>2018-09-24</td>\n",
       "      <td>1000</td>\n",
       "    </tr>\n",
       "  </tbody>\n",
       "</table>\n",
       "</div>"
      ],
      "text/plain": [
       "   Unnamed: 0      id  mb_used session_date  user_id\n",
       "0           0  1000_0   112.95   2018-11-25     1000\n",
       "1           1  1000_1  1052.81   2018-09-07     1000\n",
       "2           2  1000_2  1197.26   2018-06-25     1000\n",
       "3           3  1000_3   550.27   2018-08-22     1000\n",
       "4           4  1000_4   302.56   2018-09-24     1000"
      ]
     },
     "metadata": {},
     "output_type": "display_data"
    },
    {
     "name": "stdout",
     "output_type": "stream",
     "text": [
      "Основная информация о датафрейме:\n",
      "<class 'pandas.core.frame.DataFrame'>\n",
      "RangeIndex: 149396 entries, 0 to 149395\n",
      "Data columns (total 5 columns):\n",
      " #   Column        Non-Null Count   Dtype  \n",
      "---  ------        --------------   -----  \n",
      " 0   Unnamed: 0    149396 non-null  int64  \n",
      " 1   id            149396 non-null  object \n",
      " 2   mb_used       149396 non-null  float64\n",
      " 3   session_date  149396 non-null  object \n",
      " 4   user_id       149396 non-null  int64  \n",
      "dtypes: float64(1), int64(2), object(2)\n",
      "memory usage: 5.7+ MB\n",
      "Доля пропусков в датафрейме:\n"
     ]
    },
    {
     "data": {
      "text/plain": [
       "Unnamed: 0      0.0\n",
       "id              0.0\n",
       "mb_used         0.0\n",
       "session_date    0.0\n",
       "user_id         0.0\n",
       "dtype: float64"
      ]
     },
     "metadata": {},
     "output_type": "display_data"
    },
    {
     "name": "stdout",
     "output_type": "stream",
     "text": [
      "Число явных дубликатов:  0\n",
      "Основные статистические характеристики датафрейма:\n"
     ]
    },
    {
     "data": {
      "text/html": [
       "<div>\n",
       "<style scoped>\n",
       "    .dataframe tbody tr th:only-of-type {\n",
       "        vertical-align: middle;\n",
       "    }\n",
       "\n",
       "    .dataframe tbody tr th {\n",
       "        vertical-align: top;\n",
       "    }\n",
       "\n",
       "    .dataframe thead th {\n",
       "        text-align: right;\n",
       "    }\n",
       "</style>\n",
       "<table border=\"1\" class=\"dataframe\">\n",
       "  <thead>\n",
       "    <tr style=\"text-align: right;\">\n",
       "      <th></th>\n",
       "      <th>count</th>\n",
       "      <th>mean</th>\n",
       "      <th>std</th>\n",
       "      <th>min</th>\n",
       "      <th>25%</th>\n",
       "      <th>50%</th>\n",
       "      <th>75%</th>\n",
       "      <th>max</th>\n",
       "    </tr>\n",
       "  </thead>\n",
       "  <tbody>\n",
       "    <tr>\n",
       "      <th>Unnamed: 0</th>\n",
       "      <td>149396.0</td>\n",
       "      <td>74697.500000</td>\n",
       "      <td>43127.054745</td>\n",
       "      <td>0.0</td>\n",
       "      <td>37348.7500</td>\n",
       "      <td>74697.500</td>\n",
       "      <td>112046.2500</td>\n",
       "      <td>149395.00</td>\n",
       "    </tr>\n",
       "    <tr>\n",
       "      <th>mb_used</th>\n",
       "      <td>149396.0</td>\n",
       "      <td>370.192426</td>\n",
       "      <td>278.300951</td>\n",
       "      <td>0.0</td>\n",
       "      <td>138.1875</td>\n",
       "      <td>348.015</td>\n",
       "      <td>559.5525</td>\n",
       "      <td>1724.83</td>\n",
       "    </tr>\n",
       "    <tr>\n",
       "      <th>user_id</th>\n",
       "      <td>149396.0</td>\n",
       "      <td>1252.099842</td>\n",
       "      <td>144.050823</td>\n",
       "      <td>1000.0</td>\n",
       "      <td>1130.0000</td>\n",
       "      <td>1251.000</td>\n",
       "      <td>1380.0000</td>\n",
       "      <td>1499.00</td>\n",
       "    </tr>\n",
       "  </tbody>\n",
       "</table>\n",
       "</div>"
      ],
      "text/plain": [
       "               count          mean           std     min         25%  \\\n",
       "Unnamed: 0  149396.0  74697.500000  43127.054745     0.0  37348.7500   \n",
       "mb_used     149396.0    370.192426    278.300951     0.0    138.1875   \n",
       "user_id     149396.0   1252.099842    144.050823  1000.0   1130.0000   \n",
       "\n",
       "                  50%          75%        max  \n",
       "Unnamed: 0  74697.500  112046.2500  149395.00  \n",
       "mb_used       348.015     559.5525    1724.83  \n",
       "user_id      1251.000    1380.0000    1499.00  "
      ]
     },
     "metadata": {},
     "output_type": "display_data"
    },
    {
     "name": "stdout",
     "output_type": "stream",
     "text": [
      "Уникальные значения в столбцах:\n"
     ]
    },
    {
     "data": {
      "text/plain": [
       "0         1\n",
       "99574     1\n",
       "99594     1\n",
       "99595     1\n",
       "99596     1\n",
       "         ..\n",
       "49798     1\n",
       "49799     1\n",
       "49800     1\n",
       "49801     1\n",
       "149395    1\n",
       "Name: Unnamed: 0, Length: 149396, dtype: int64"
      ]
     },
     "metadata": {},
     "output_type": "display_data"
    },
    {
     "data": {
      "text/plain": [
       "1000_0      1\n",
       "1333_109    1\n",
       "1334_0      1\n",
       "1334_1      1\n",
       "1334_2      1\n",
       "           ..\n",
       "1172_80     1\n",
       "1172_81     1\n",
       "1172_82     1\n",
       "1172_83     1\n",
       "1499_156    1\n",
       "Name: id, Length: 149396, dtype: int64"
      ]
     },
     "metadata": {},
     "output_type": "display_data"
    },
    {
     "data": {
      "text/plain": [
       "0.00      19598\n",
       "335.91        9\n",
       "447.30        9\n",
       "197.56        9\n",
       "199.11        8\n",
       "          ...  \n",
       "643.43        1\n",
       "973.04        1\n",
       "834.51        1\n",
       "777.30        1\n",
       "23.72         1\n",
       "Name: mb_used, Length: 70003, dtype: int64"
      ]
     },
     "metadata": {},
     "output_type": "display_data"
    },
    {
     "data": {
      "text/plain": [
       "2018-12-31    1057\n",
       "2018-12-30     903\n",
       "2018-12-25     859\n",
       "2018-12-26     844\n",
       "2018-12-22     834\n",
       "              ... \n",
       "2018-01-05      14\n",
       "2018-01-04       9\n",
       "2018-01-03       6\n",
       "2018-01-02       3\n",
       "2018-01-01       3\n",
       "Name: session_date, Length: 365, dtype: int64"
      ]
     },
     "metadata": {},
     "output_type": "display_data"
    },
    {
     "data": {
      "text/plain": [
       "1496    834\n",
       "1227    812\n",
       "1204    789\n",
       "1240    764\n",
       "1251    759\n",
       "       ... \n",
       "1151     35\n",
       "1467     27\n",
       "1343     26\n",
       "1192     22\n",
       "1399      8\n",
       "Name: user_id, Length: 497, dtype: int64"
      ]
     },
     "metadata": {},
     "output_type": "display_data"
    }
   ],
   "source": [
    "dataframe_info(internet)"
   ]
  },
  {
   "cell_type": "markdown",
   "id": "84a778e2",
   "metadata": {},
   "source": [
    "Столбец `Unnamed: 0` дублирует индекс датафрейма, нужно от него избавится. Названия столбцов унифицированы, однако, название столбца `id` не информативно - переименуем его в `internet_session_id`. Столбец `session_date` нужно привести к типу *datetime*. Пропусков данных нет, дубликатов не выявлено."
   ]
  },
  {
   "cell_type": "markdown",
   "id": "98fd862e",
   "metadata": {},
   "source": [
    "В столбце *mb_used* много пропущенных значений соответствующих 0 Мб израсходованного трафика. Выглядит странно, посчитаем долю таких значений в датафрейме:"
   ]
  },
  {
   "cell_type": "code",
   "execution_count": 64,
   "id": "a504bb9c",
   "metadata": {},
   "outputs": [
    {
     "data": {
      "text/plain": [
       "0.13118155773916304"
      ]
     },
     "execution_count": 64,
     "metadata": {},
     "output_type": "execute_result"
    }
   ],
   "source": [
    "internet.query('mb_used == 0')['mb_used'].count() / internet.shape[0]"
   ]
  },
  {
   "cell_type": "markdown",
   "id": "a66d79ea",
   "metadata": {},
   "source": [
    "13.1% пропусков, довольно весомое число. Попробуем разобраться с причиной пропущенного интернет-трафика после изменения типа данных столбца с датой и удаления столбца-индекса."
   ]
  },
  {
   "cell_type": "markdown",
   "id": "583f319a",
   "metadata": {},
   "source": [
    "Перезапишем датафрейм `internet` чтобы сразу перевести столбец `session_date` к формату *datetime*, также задав параметр *index_col=0* избавимся от столбца с индексом `Unnamed: 0`:"
   ]
  },
  {
   "cell_type": "code",
   "execution_count": 38,
   "id": "421366d0",
   "metadata": {},
   "outputs": [],
   "source": [
    "internet = pd.read_csv(r'C:\\Users\\IVMitrofanov\\Downloads\\internet.csv', parse_dates=['session_date'], index_col=0)"
   ]
  },
  {
   "cell_type": "markdown",
   "id": "666cefa8",
   "metadata": {},
   "source": [
    "Переименуем столбец методом *rename*:"
   ]
  },
  {
   "cell_type": "code",
   "execution_count": 39,
   "id": "cb226610",
   "metadata": {},
   "outputs": [],
   "source": [
    "internet.rename(columns={'id' : 'internet_session_id'}, inplace=True)"
   ]
  },
  {
   "cell_type": "markdown",
   "id": "e0c0cdd6",
   "metadata": {},
   "source": [
    "Проверим изменение типа данных и названия столбцов:"
   ]
  },
  {
   "cell_type": "code",
   "execution_count": 40,
   "id": "aff4cb21",
   "metadata": {},
   "outputs": [
    {
     "data": {
      "text/plain": [
       "internet_session_id            object\n",
       "mb_used                       float64\n",
       "session_date           datetime64[ns]\n",
       "user_id                         int64\n",
       "dtype: object"
      ]
     },
     "execution_count": 40,
     "metadata": {},
     "output_type": "execute_result"
    }
   ],
   "source": [
    "internet.dtypes"
   ]
  },
  {
   "cell_type": "markdown",
   "id": "e7f93779",
   "metadata": {},
   "source": [
    "Построим распределение доли (параметр *stat='propability'*) интернет сессий с нулевым (красный цвет на гистограмме) и не нулевым (синий цвет на гистограмме) интернет-трафиком от даты интернет-сессии:"
   ]
  },
  {
   "cell_type": "code",
   "execution_count": 212,
   "id": "f64c6bf3",
   "metadata": {},
   "outputs": [
    {
     "data": {
      "image/png": "[encoded data removed]",
      "text/plain": [
       "<Figure size 1080x720 with 1 Axes>"
      ]
     },
     "metadata": {},
     "output_type": "display_data"
    }
   ],
   "source": [
    "sns.set_theme(style=\"darkgrid\")\n",
    "plt.figure(figsize=(15, 10))\n",
    "ax = sns.histplot(internet.query(\n",
    "                 'mb_used != 0')['session_date'], \n",
    "                  bins=50, \n",
    "                  stat='probability', \n",
    "                  label='not_null')\n",
    "sns.histplot(internet.query(\n",
    "            'mb_used == 0')['session_date'], \n",
    "             ax=ax, \n",
    "             bins=50, \n",
    "             stat='probability', \n",
    "             alpha=0.5, \n",
    "             color='red',\n",
    "             label='null')\n",
    "plt.legend()\n",
    "plt.show()"
   ]
  },
  {
   "cell_type": "markdown",
   "id": "ee946720",
   "metadata": {},
   "source": [
    "Распределения практически полностью совпадают, это говорит о том, что нулевой трафик присутствует в данных пропорционально числу интернет-сессий. Это не похоже на сбой данных. \n",
    "\n",
    "Возможно нулевой расход интернет трафика связан с тем, что при загрузке и использовании приложений возможны служебные DNS-запросы, которые выполняются автоматически для определения соответствия доменного имени и IP-адреса, такие запросы не превышают 10 Кбайт. Такие пропуски заполнять не будем, считая, что пользователь к этой записе в датасете отношения не имеет"
   ]
  },
  {
   "cell_type": "markdown",
   "id": "08bf05fa",
   "metadata": {},
   "source": [
    "### Вывод. Датафрейм: internet\n",
    "\n",
    "\n",
    "- Название столбца `id` изменено на более информативное - `internet_session_id`.\n",
    "- Тип данных в столбце `session_date` был приведен к типу хранения даты и времени *datetime*. \n",
    "- В столбце с расходом интернет-трафика (`mb_used`) 13 % значений с нулевым расходом интернет-трафика. Скорее всего эти нули появляются из-за служебных запоросов приложений не связанных с реальной активностью клиента. Такие пропуски мы заполнять не будем.\n",
    "- Дубликатов не выявлено.\n",
    "- Датафрейм готов к работе."
   ]
  },
  {
   "cell_type": "markdown",
   "id": "1b3fa42b",
   "metadata": {},
   "source": [
    "### Датафрейм: tariffs"
   ]
  },
  {
   "cell_type": "markdown",
   "id": "cdb18ae6",
   "metadata": {},
   "source": [
    "Посмотрим информацию о датарфейме с помощью функции:"
   ]
  },
  {
   "cell_type": "code",
   "execution_count": 42,
   "id": "687635d6",
   "metadata": {},
   "outputs": [
    {
     "name": "stdout",
     "output_type": "stream",
     "text": [
      "Первые пять строк:\n"
     ]
    },
    {
     "data": {
      "text/html": [
       "<div>\n",
       "<style scoped>\n",
       "    .dataframe tbody tr th:only-of-type {\n",
       "        vertical-align: middle;\n",
       "    }\n",
       "\n",
       "    .dataframe tbody tr th {\n",
       "        vertical-align: top;\n",
       "    }\n",
       "\n",
       "    .dataframe thead th {\n",
       "        text-align: right;\n",
       "    }\n",
       "</style>\n",
       "<table border=\"1\" class=\"dataframe\">\n",
       "  <thead>\n",
       "    <tr style=\"text-align: right;\">\n",
       "      <th></th>\n",
       "      <th>messages_included</th>\n",
       "      <th>mb_per_month_included</th>\n",
       "      <th>minutes_included</th>\n",
       "      <th>rub_monthly_fee</th>\n",
       "      <th>rub_per_gb</th>\n",
       "      <th>rub_per_message</th>\n",
       "      <th>rub_per_minute</th>\n",
       "      <th>tariff_name</th>\n",
       "    </tr>\n",
       "  </thead>\n",
       "  <tbody>\n",
       "    <tr>\n",
       "      <th>0</th>\n",
       "      <td>50</td>\n",
       "      <td>15360</td>\n",
       "      <td>500</td>\n",
       "      <td>550</td>\n",
       "      <td>200</td>\n",
       "      <td>3</td>\n",
       "      <td>3</td>\n",
       "      <td>smart</td>\n",
       "    </tr>\n",
       "    <tr>\n",
       "      <th>1</th>\n",
       "      <td>1000</td>\n",
       "      <td>30720</td>\n",
       "      <td>3000</td>\n",
       "      <td>1950</td>\n",
       "      <td>150</td>\n",
       "      <td>1</td>\n",
       "      <td>1</td>\n",
       "      <td>ultra</td>\n",
       "    </tr>\n",
       "  </tbody>\n",
       "</table>\n",
       "</div>"
      ],
      "text/plain": [
       "   messages_included  mb_per_month_included  minutes_included  \\\n",
       "0                 50                  15360               500   \n",
       "1               1000                  30720              3000   \n",
       "\n",
       "   rub_monthly_fee  rub_per_gb  rub_per_message  rub_per_minute tariff_name  \n",
       "0              550         200                3               3       smart  \n",
       "1             1950         150                1               1       ultra  "
      ]
     },
     "metadata": {},
     "output_type": "display_data"
    },
    {
     "name": "stdout",
     "output_type": "stream",
     "text": [
      "Основная информация о датафрейме:\n",
      "<class 'pandas.core.frame.DataFrame'>\n",
      "RangeIndex: 2 entries, 0 to 1\n",
      "Data columns (total 8 columns):\n",
      " #   Column                 Non-Null Count  Dtype \n",
      "---  ------                 --------------  ----- \n",
      " 0   messages_included      2 non-null      int64 \n",
      " 1   mb_per_month_included  2 non-null      int64 \n",
      " 2   minutes_included       2 non-null      int64 \n",
      " 3   rub_monthly_fee        2 non-null      int64 \n",
      " 4   rub_per_gb             2 non-null      int64 \n",
      " 5   rub_per_message        2 non-null      int64 \n",
      " 6   rub_per_minute         2 non-null      int64 \n",
      " 7   tariff_name            2 non-null      object\n",
      "dtypes: int64(7), object(1)\n",
      "memory usage: 256.0+ bytes\n",
      "Доля пропусков в датафрейме:\n"
     ]
    },
    {
     "data": {
      "text/plain": [
       "messages_included        0.0\n",
       "mb_per_month_included    0.0\n",
       "minutes_included         0.0\n",
       "rub_monthly_fee          0.0\n",
       "rub_per_gb               0.0\n",
       "rub_per_message          0.0\n",
       "rub_per_minute           0.0\n",
       "tariff_name              0.0\n",
       "dtype: float64"
      ]
     },
     "metadata": {},
     "output_type": "display_data"
    },
    {
     "name": "stdout",
     "output_type": "stream",
     "text": [
      "Число явных дубликатов:  0\n",
      "Основные статистические характеристики датафрейма:\n"
     ]
    },
    {
     "data": {
      "text/html": [
       "<div>\n",
       "<style scoped>\n",
       "    .dataframe tbody tr th:only-of-type {\n",
       "        vertical-align: middle;\n",
       "    }\n",
       "\n",
       "    .dataframe tbody tr th {\n",
       "        vertical-align: top;\n",
       "    }\n",
       "\n",
       "    .dataframe thead th {\n",
       "        text-align: right;\n",
       "    }\n",
       "</style>\n",
       "<table border=\"1\" class=\"dataframe\">\n",
       "  <thead>\n",
       "    <tr style=\"text-align: right;\">\n",
       "      <th></th>\n",
       "      <th>count</th>\n",
       "      <th>mean</th>\n",
       "      <th>std</th>\n",
       "      <th>min</th>\n",
       "      <th>25%</th>\n",
       "      <th>50%</th>\n",
       "      <th>75%</th>\n",
       "      <th>max</th>\n",
       "    </tr>\n",
       "  </thead>\n",
       "  <tbody>\n",
       "    <tr>\n",
       "      <th>messages_included</th>\n",
       "      <td>2.0</td>\n",
       "      <td>525.0</td>\n",
       "      <td>671.751442</td>\n",
       "      <td>50.0</td>\n",
       "      <td>287.5</td>\n",
       "      <td>525.0</td>\n",
       "      <td>762.5</td>\n",
       "      <td>1000.0</td>\n",
       "    </tr>\n",
       "    <tr>\n",
       "      <th>mb_per_month_included</th>\n",
       "      <td>2.0</td>\n",
       "      <td>23040.0</td>\n",
       "      <td>10861.160159</td>\n",
       "      <td>15360.0</td>\n",
       "      <td>19200.0</td>\n",
       "      <td>23040.0</td>\n",
       "      <td>26880.0</td>\n",
       "      <td>30720.0</td>\n",
       "    </tr>\n",
       "    <tr>\n",
       "      <th>minutes_included</th>\n",
       "      <td>2.0</td>\n",
       "      <td>1750.0</td>\n",
       "      <td>1767.766953</td>\n",
       "      <td>500.0</td>\n",
       "      <td>1125.0</td>\n",
       "      <td>1750.0</td>\n",
       "      <td>2375.0</td>\n",
       "      <td>3000.0</td>\n",
       "    </tr>\n",
       "    <tr>\n",
       "      <th>rub_monthly_fee</th>\n",
       "      <td>2.0</td>\n",
       "      <td>1250.0</td>\n",
       "      <td>989.949494</td>\n",
       "      <td>550.0</td>\n",
       "      <td>900.0</td>\n",
       "      <td>1250.0</td>\n",
       "      <td>1600.0</td>\n",
       "      <td>1950.0</td>\n",
       "    </tr>\n",
       "    <tr>\n",
       "      <th>rub_per_gb</th>\n",
       "      <td>2.0</td>\n",
       "      <td>175.0</td>\n",
       "      <td>35.355339</td>\n",
       "      <td>150.0</td>\n",
       "      <td>162.5</td>\n",
       "      <td>175.0</td>\n",
       "      <td>187.5</td>\n",
       "      <td>200.0</td>\n",
       "    </tr>\n",
       "    <tr>\n",
       "      <th>rub_per_message</th>\n",
       "      <td>2.0</td>\n",
       "      <td>2.0</td>\n",
       "      <td>1.414214</td>\n",
       "      <td>1.0</td>\n",
       "      <td>1.5</td>\n",
       "      <td>2.0</td>\n",
       "      <td>2.5</td>\n",
       "      <td>3.0</td>\n",
       "    </tr>\n",
       "    <tr>\n",
       "      <th>rub_per_minute</th>\n",
       "      <td>2.0</td>\n",
       "      <td>2.0</td>\n",
       "      <td>1.414214</td>\n",
       "      <td>1.0</td>\n",
       "      <td>1.5</td>\n",
       "      <td>2.0</td>\n",
       "      <td>2.5</td>\n",
       "      <td>3.0</td>\n",
       "    </tr>\n",
       "  </tbody>\n",
       "</table>\n",
       "</div>"
      ],
      "text/plain": [
       "                       count     mean           std      min      25%  \\\n",
       "messages_included        2.0    525.0    671.751442     50.0    287.5   \n",
       "mb_per_month_included    2.0  23040.0  10861.160159  15360.0  19200.0   \n",
       "minutes_included         2.0   1750.0   1767.766953    500.0   1125.0   \n",
       "rub_monthly_fee          2.0   1250.0    989.949494    550.0    900.0   \n",
       "rub_per_gb               2.0    175.0     35.355339    150.0    162.5   \n",
       "rub_per_message          2.0      2.0      1.414214      1.0      1.5   \n",
       "rub_per_minute           2.0      2.0      1.414214      1.0      1.5   \n",
       "\n",
       "                           50%      75%      max  \n",
       "messages_included        525.0    762.5   1000.0  \n",
       "mb_per_month_included  23040.0  26880.0  30720.0  \n",
       "minutes_included        1750.0   2375.0   3000.0  \n",
       "rub_monthly_fee         1250.0   1600.0   1950.0  \n",
       "rub_per_gb               175.0    187.5    200.0  \n",
       "rub_per_message            2.0      2.5      3.0  \n",
       "rub_per_minute             2.0      2.5      3.0  "
      ]
     },
     "metadata": {},
     "output_type": "display_data"
    },
    {
     "name": "stdout",
     "output_type": "stream",
     "text": [
      "Уникальные значения в столбцах:\n"
     ]
    },
    {
     "data": {
      "text/plain": [
       "50      1\n",
       "1000    1\n",
       "Name: messages_included, dtype: int64"
      ]
     },
     "metadata": {},
     "output_type": "display_data"
    },
    {
     "data": {
      "text/plain": [
       "15360    1\n",
       "30720    1\n",
       "Name: mb_per_month_included, dtype: int64"
      ]
     },
     "metadata": {},
     "output_type": "display_data"
    },
    {
     "data": {
      "text/plain": [
       "500     1\n",
       "3000    1\n",
       "Name: minutes_included, dtype: int64"
      ]
     },
     "metadata": {},
     "output_type": "display_data"
    },
    {
     "data": {
      "text/plain": [
       "550     1\n",
       "1950    1\n",
       "Name: rub_monthly_fee, dtype: int64"
      ]
     },
     "metadata": {},
     "output_type": "display_data"
    },
    {
     "data": {
      "text/plain": [
       "200    1\n",
       "150    1\n",
       "Name: rub_per_gb, dtype: int64"
      ]
     },
     "metadata": {},
     "output_type": "display_data"
    },
    {
     "data": {
      "text/plain": [
       "3    1\n",
       "1    1\n",
       "Name: rub_per_message, dtype: int64"
      ]
     },
     "metadata": {},
     "output_type": "display_data"
    },
    {
     "data": {
      "text/plain": [
       "3    1\n",
       "1    1\n",
       "Name: rub_per_minute, dtype: int64"
      ]
     },
     "metadata": {},
     "output_type": "display_data"
    },
    {
     "data": {
      "text/plain": [
       "smart    1\n",
       "ultra    1\n",
       "Name: tariff_name, dtype: int64"
      ]
     },
     "metadata": {},
     "output_type": "display_data"
    }
   ],
   "source": [
    "dataframe_info(tariffs)"
   ]
  },
  {
   "cell_type": "markdown",
   "id": "67f69f81",
   "metadata": {},
   "source": [
    "Данный датафрейм содержит всего 2 строки и несет в себе лишь информацию о тарифах. В столбце `mb_per_month_included` значения нужно перевести в Гб с соотвествущей заменой названия столбца. Никаих других операций предобработки данных датафрейм не требует."
   ]
  },
  {
   "cell_type": "markdown",
   "id": "2627e1b3",
   "metadata": {},
   "source": [
    "Переведем Мб из столбца `mb_per_month_included` в Гб и перименуем столбец соответствующее:"
   ]
  },
  {
   "cell_type": "code",
   "execution_count": 43,
   "id": "7934e125",
   "metadata": {},
   "outputs": [],
   "source": [
    "tariffs['mb_per_month_included'] = tariffs['mb_per_month_included'] / 1024"
   ]
  },
  {
   "cell_type": "code",
   "execution_count": 44,
   "id": "d845e160",
   "metadata": {},
   "outputs": [],
   "source": [
    "tariffs.rename(columns={'mb_per_month_included' : 'gb_per_month_included'}, inplace=True)"
   ]
  },
  {
   "cell_type": "markdown",
   "id": "1594bb3d",
   "metadata": {},
   "source": [
    "Проверим результат:"
   ]
  },
  {
   "cell_type": "code",
   "execution_count": 45,
   "id": "dc1fd4c9",
   "metadata": {},
   "outputs": [
    {
     "data": {
      "text/plain": [
       "0    15.0\n",
       "1    30.0\n",
       "Name: gb_per_month_included, dtype: float64"
      ]
     },
     "execution_count": 45,
     "metadata": {},
     "output_type": "execute_result"
    }
   ],
   "source": [
    "tariffs['gb_per_month_included'].head()"
   ]
  },
  {
   "cell_type": "markdown",
   "id": "2a19f1d0",
   "metadata": {},
   "source": [
    "### Вывод. Датафрейм: tariffs\n",
    "\n",
    "- Датафрейм содержит информацию об условиях тарификации клиентов.\n",
    "- Столбец `mb_per_month_included` переведен в Гб и переименовать в `gb_per_month_included`.\n",
    "- Датафрейм готов к дальнейшему исследованию."
   ]
  },
  {
   "cell_type": "markdown",
   "id": "56b7c6a0",
   "metadata": {},
   "source": [
    "## Необходимые расчеты"
   ]
  },
  {
   "cell_type": "markdown",
   "id": "77452023",
   "metadata": {},
   "source": [
    "Для каждого пользователя необходимо посчитать:\n",
    "\n",
    "- количество сделанных звонков и израсходованных минут разговора по месяцам;\n",
    "- количество отправленных сообщений по месяцам;\n",
    "- объем израсходованного интернет-трафика по месяцам;\n",
    "- помесячную выручку с каждого пользователя."
   ]
  },
  {
   "cell_type": "markdown",
   "id": "f1b353df",
   "metadata": {},
   "source": [
    "Расчеты будем записывать в датафрейм `calc`."
   ]
  },
  {
   "cell_type": "code",
   "execution_count": 46,
   "id": "2ad8a46f",
   "metadata": {},
   "outputs": [],
   "source": [
    "calc = pd.DataFrame()"
   ]
  },
  {
   "cell_type": "markdown",
   "id": "734fd7f3",
   "metadata": {},
   "source": [
    "### Расчет количества сделанных звонков и израсходованных минут разговора по месяцам"
   ]
  },
  {
   "cell_type": "markdown",
   "id": "ed5a5ae2",
   "metadata": {},
   "source": [
    "Выведем первые 5 строк датафрейма `calls`:"
   ]
  },
  {
   "cell_type": "code",
   "execution_count": 48,
   "id": "c36c2150",
   "metadata": {
    "scrolled": false
   },
   "outputs": [
    {
     "data": {
      "text/html": [
       "<div>\n",
       "<style scoped>\n",
       "    .dataframe tbody tr th:only-of-type {\n",
       "        vertical-align: middle;\n",
       "    }\n",
       "\n",
       "    .dataframe tbody tr th {\n",
       "        vertical-align: top;\n",
       "    }\n",
       "\n",
       "    .dataframe thead th {\n",
       "        text-align: right;\n",
       "    }\n",
       "</style>\n",
       "<table border=\"1\" class=\"dataframe\">\n",
       "  <thead>\n",
       "    <tr style=\"text-align: right;\">\n",
       "      <th></th>\n",
       "      <th>call_id</th>\n",
       "      <th>call_date</th>\n",
       "      <th>duration</th>\n",
       "      <th>user_id</th>\n",
       "    </tr>\n",
       "  </thead>\n",
       "  <tbody>\n",
       "    <tr>\n",
       "      <th>0</th>\n",
       "      <td>1000_0</td>\n",
       "      <td>2018-07-25</td>\n",
       "      <td>0.00</td>\n",
       "      <td>1000</td>\n",
       "    </tr>\n",
       "    <tr>\n",
       "      <th>1</th>\n",
       "      <td>1000_1</td>\n",
       "      <td>2018-08-17</td>\n",
       "      <td>0.00</td>\n",
       "      <td>1000</td>\n",
       "    </tr>\n",
       "    <tr>\n",
       "      <th>2</th>\n",
       "      <td>1000_2</td>\n",
       "      <td>2018-06-11</td>\n",
       "      <td>2.85</td>\n",
       "      <td>1000</td>\n",
       "    </tr>\n",
       "    <tr>\n",
       "      <th>3</th>\n",
       "      <td>1000_3</td>\n",
       "      <td>2018-09-21</td>\n",
       "      <td>13.80</td>\n",
       "      <td>1000</td>\n",
       "    </tr>\n",
       "    <tr>\n",
       "      <th>4</th>\n",
       "      <td>1000_4</td>\n",
       "      <td>2018-12-15</td>\n",
       "      <td>5.18</td>\n",
       "      <td>1000</td>\n",
       "    </tr>\n",
       "  </tbody>\n",
       "</table>\n",
       "</div>"
      ],
      "text/plain": [
       "  call_id  call_date  duration  user_id\n",
       "0  1000_0 2018-07-25      0.00     1000\n",
       "1  1000_1 2018-08-17      0.00     1000\n",
       "2  1000_2 2018-06-11      2.85     1000\n",
       "3  1000_3 2018-09-21     13.80     1000\n",
       "4  1000_4 2018-12-15      5.18     1000"
      ]
     },
     "execution_count": 48,
     "metadata": {},
     "output_type": "execute_result"
    }
   ],
   "source": [
    "calls.head()"
   ]
  },
  {
   "cell_type": "markdown",
   "id": "62c5746f",
   "metadata": {},
   "source": [
    "Для расчета по месяцам округлим дату каждого звонка до месяца и запишем этот месяц в столбец `month_of_call`:"
   ]
  },
  {
   "cell_type": "code",
   "execution_count": 49,
   "id": "a7094e4b",
   "metadata": {},
   "outputs": [],
   "source": [
    "calls['month'] = calls['call_date'].dt.month"
   ]
  },
  {
   "cell_type": "markdown",
   "id": "26c18fe4",
   "metadata": {},
   "source": [
    "Расчитаем количество сделанных звонков:"
   ]
  },
  {
   "cell_type": "code",
   "execution_count": 50,
   "id": "09ccdcbb",
   "metadata": {},
   "outputs": [],
   "source": [
    "number_of_calls = calls.pivot_table(index=['user_id', 'month'], values='call_id', aggfunc='count')\n",
    "number_of_calls.columns = ['number_of_calls']"
   ]
  },
  {
   "cell_type": "code",
   "execution_count": 51,
   "id": "4de9a917",
   "metadata": {},
   "outputs": [
    {
     "data": {
      "text/html": [
       "<div>\n",
       "<style scoped>\n",
       "    .dataframe tbody tr th:only-of-type {\n",
       "        vertical-align: middle;\n",
       "    }\n",
       "\n",
       "    .dataframe tbody tr th {\n",
       "        vertical-align: top;\n",
       "    }\n",
       "\n",
       "    .dataframe thead th {\n",
       "        text-align: right;\n",
       "    }\n",
       "</style>\n",
       "<table border=\"1\" class=\"dataframe\">\n",
       "  <thead>\n",
       "    <tr style=\"text-align: right;\">\n",
       "      <th></th>\n",
       "      <th></th>\n",
       "      <th>number_of_calls</th>\n",
       "    </tr>\n",
       "    <tr>\n",
       "      <th>user_id</th>\n",
       "      <th>month</th>\n",
       "      <th></th>\n",
       "    </tr>\n",
       "  </thead>\n",
       "  <tbody>\n",
       "    <tr>\n",
       "      <th rowspan=\"5\" valign=\"top\">1000</th>\n",
       "      <th>5</th>\n",
       "      <td>22</td>\n",
       "    </tr>\n",
       "    <tr>\n",
       "      <th>6</th>\n",
       "      <td>43</td>\n",
       "    </tr>\n",
       "    <tr>\n",
       "      <th>7</th>\n",
       "      <td>47</td>\n",
       "    </tr>\n",
       "    <tr>\n",
       "      <th>8</th>\n",
       "      <td>52</td>\n",
       "    </tr>\n",
       "    <tr>\n",
       "      <th>9</th>\n",
       "      <td>58</td>\n",
       "    </tr>\n",
       "    <tr>\n",
       "      <th>...</th>\n",
       "      <th>...</th>\n",
       "      <td>...</td>\n",
       "    </tr>\n",
       "    <tr>\n",
       "      <th>1498</th>\n",
       "      <th>10</th>\n",
       "      <td>41</td>\n",
       "    </tr>\n",
       "    <tr>\n",
       "      <th rowspan=\"4\" valign=\"top\">1499</th>\n",
       "      <th>9</th>\n",
       "      <td>9</td>\n",
       "    </tr>\n",
       "    <tr>\n",
       "      <th>10</th>\n",
       "      <td>68</td>\n",
       "    </tr>\n",
       "    <tr>\n",
       "      <th>11</th>\n",
       "      <td>74</td>\n",
       "    </tr>\n",
       "    <tr>\n",
       "      <th>12</th>\n",
       "      <td>69</td>\n",
       "    </tr>\n",
       "  </tbody>\n",
       "</table>\n",
       "<p>3174 rows × 1 columns</p>\n",
       "</div>"
      ],
      "text/plain": [
       "               number_of_calls\n",
       "user_id month                 \n",
       "1000    5                   22\n",
       "        6                   43\n",
       "        7                   47\n",
       "        8                   52\n",
       "        9                   58\n",
       "...                        ...\n",
       "1498    10                  41\n",
       "1499    9                    9\n",
       "        10                  68\n",
       "        11                  74\n",
       "        12                  69\n",
       "\n",
       "[3174 rows x 1 columns]"
      ]
     },
     "execution_count": 51,
     "metadata": {},
     "output_type": "execute_result"
    }
   ],
   "source": [
    "number_of_calls"
   ]
  },
  {
   "cell_type": "markdown",
   "id": "e4841afe",
   "metadata": {},
   "source": [
    "Прежде чем считать израсходованные минуты, учтем, что «Мегалайн» всегда округляет секунды до минут для каждого звонка. После округления изменим тип данных в столбце `duration` на *int*."
   ]
  },
  {
   "cell_type": "code",
   "execution_count": 52,
   "id": "cac193f0",
   "metadata": {},
   "outputs": [],
   "source": [
    "calls['duration'] = calls['duration'].apply(np.ceil)\n",
    "calls['duration'] = calls['duration'].astype(int)"
   ]
  },
  {
   "cell_type": "markdown",
   "id": "06630db1",
   "metadata": {},
   "source": [
    "Вычислим израсходованные минуты разговора по месяцам:"
   ]
  },
  {
   "cell_type": "code",
   "execution_count": 53,
   "id": "601cb1a0",
   "metadata": {},
   "outputs": [],
   "source": [
    "spent_minutes_on_month = calls.pivot_table(\n",
    "    index=['user_id', 'month'],\n",
    "    values='duration',\n",
    "    aggfunc='sum')\n",
    "spent_minutes_on_month['duration'] = spent_minutes_on_month['duration']"
   ]
  },
  {
   "cell_type": "markdown",
   "id": "e8cf7dd4",
   "metadata": {},
   "source": [
    "Объеденим расчеты:"
   ]
  },
  {
   "cell_type": "code",
   "execution_count": 54,
   "id": "7a1483c3",
   "metadata": {},
   "outputs": [
    {
     "data": {
      "text/html": [
       "<div>\n",
       "<style scoped>\n",
       "    .dataframe tbody tr th:only-of-type {\n",
       "        vertical-align: middle;\n",
       "    }\n",
       "\n",
       "    .dataframe tbody tr th {\n",
       "        vertical-align: top;\n",
       "    }\n",
       "\n",
       "    .dataframe thead th {\n",
       "        text-align: right;\n",
       "    }\n",
       "</style>\n",
       "<table border=\"1\" class=\"dataframe\">\n",
       "  <thead>\n",
       "    <tr style=\"text-align: right;\">\n",
       "      <th></th>\n",
       "      <th></th>\n",
       "      <th>number_of_calls</th>\n",
       "      <th>duration</th>\n",
       "    </tr>\n",
       "    <tr>\n",
       "      <th>user_id</th>\n",
       "      <th>month</th>\n",
       "      <th></th>\n",
       "      <th></th>\n",
       "    </tr>\n",
       "  </thead>\n",
       "  <tbody>\n",
       "    <tr>\n",
       "      <th rowspan=\"5\" valign=\"top\">1000</th>\n",
       "      <th>5</th>\n",
       "      <td>22</td>\n",
       "      <td>159</td>\n",
       "    </tr>\n",
       "    <tr>\n",
       "      <th>6</th>\n",
       "      <td>43</td>\n",
       "      <td>172</td>\n",
       "    </tr>\n",
       "    <tr>\n",
       "      <th>7</th>\n",
       "      <td>47</td>\n",
       "      <td>340</td>\n",
       "    </tr>\n",
       "    <tr>\n",
       "      <th>8</th>\n",
       "      <td>52</td>\n",
       "      <td>408</td>\n",
       "    </tr>\n",
       "    <tr>\n",
       "      <th>9</th>\n",
       "      <td>58</td>\n",
       "      <td>466</td>\n",
       "    </tr>\n",
       "    <tr>\n",
       "      <th>...</th>\n",
       "      <th>...</th>\n",
       "      <td>...</td>\n",
       "      <td>...</td>\n",
       "    </tr>\n",
       "    <tr>\n",
       "      <th>1498</th>\n",
       "      <th>10</th>\n",
       "      <td>41</td>\n",
       "      <td>247</td>\n",
       "    </tr>\n",
       "    <tr>\n",
       "      <th rowspan=\"4\" valign=\"top\">1499</th>\n",
       "      <th>9</th>\n",
       "      <td>9</td>\n",
       "      <td>70</td>\n",
       "    </tr>\n",
       "    <tr>\n",
       "      <th>10</th>\n",
       "      <td>68</td>\n",
       "      <td>449</td>\n",
       "    </tr>\n",
       "    <tr>\n",
       "      <th>11</th>\n",
       "      <td>74</td>\n",
       "      <td>612</td>\n",
       "    </tr>\n",
       "    <tr>\n",
       "      <th>12</th>\n",
       "      <td>69</td>\n",
       "      <td>492</td>\n",
       "    </tr>\n",
       "  </tbody>\n",
       "</table>\n",
       "<p>3174 rows × 2 columns</p>\n",
       "</div>"
      ],
      "text/plain": [
       "               number_of_calls  duration\n",
       "user_id month                           \n",
       "1000    5                   22       159\n",
       "        6                   43       172\n",
       "        7                   47       340\n",
       "        8                   52       408\n",
       "        9                   58       466\n",
       "...                        ...       ...\n",
       "1498    10                  41       247\n",
       "1499    9                    9        70\n",
       "        10                  68       449\n",
       "        11                  74       612\n",
       "        12                  69       492\n",
       "\n",
       "[3174 rows x 2 columns]"
      ]
     },
     "execution_count": 54,
     "metadata": {},
     "output_type": "execute_result"
    }
   ],
   "source": [
    "calc = number_of_calls.join(spent_minutes_on_month)\n",
    "calc"
   ]
  },
  {
   "cell_type": "markdown",
   "id": "50625415",
   "metadata": {},
   "source": [
    "### Расчет количества отправленных сообщений по месяцам"
   ]
  },
  {
   "cell_type": "markdown",
   "id": "ddde75d6",
   "metadata": {},
   "source": [
    "Выведем первые 5 строк датафрейма `messages`:"
   ]
  },
  {
   "cell_type": "code",
   "execution_count": 55,
   "id": "2e8b77c3",
   "metadata": {
    "scrolled": false
   },
   "outputs": [
    {
     "data": {
      "text/html": [
       "<div>\n",
       "<style scoped>\n",
       "    .dataframe tbody tr th:only-of-type {\n",
       "        vertical-align: middle;\n",
       "    }\n",
       "\n",
       "    .dataframe tbody tr th {\n",
       "        vertical-align: top;\n",
       "    }\n",
       "\n",
       "    .dataframe thead th {\n",
       "        text-align: right;\n",
       "    }\n",
       "</style>\n",
       "<table border=\"1\" class=\"dataframe\">\n",
       "  <thead>\n",
       "    <tr style=\"text-align: right;\">\n",
       "      <th></th>\n",
       "      <th>message_id</th>\n",
       "      <th>message_date</th>\n",
       "      <th>user_id</th>\n",
       "    </tr>\n",
       "  </thead>\n",
       "  <tbody>\n",
       "    <tr>\n",
       "      <th>0</th>\n",
       "      <td>1000_0</td>\n",
       "      <td>2018-06-27</td>\n",
       "      <td>1000</td>\n",
       "    </tr>\n",
       "    <tr>\n",
       "      <th>1</th>\n",
       "      <td>1000_1</td>\n",
       "      <td>2018-10-08</td>\n",
       "      <td>1000</td>\n",
       "    </tr>\n",
       "    <tr>\n",
       "      <th>2</th>\n",
       "      <td>1000_2</td>\n",
       "      <td>2018-08-04</td>\n",
       "      <td>1000</td>\n",
       "    </tr>\n",
       "    <tr>\n",
       "      <th>3</th>\n",
       "      <td>1000_3</td>\n",
       "      <td>2018-06-16</td>\n",
       "      <td>1000</td>\n",
       "    </tr>\n",
       "    <tr>\n",
       "      <th>4</th>\n",
       "      <td>1000_4</td>\n",
       "      <td>2018-12-05</td>\n",
       "      <td>1000</td>\n",
       "    </tr>\n",
       "  </tbody>\n",
       "</table>\n",
       "</div>"
      ],
      "text/plain": [
       "  message_id message_date  user_id\n",
       "0     1000_0   2018-06-27     1000\n",
       "1     1000_1   2018-10-08     1000\n",
       "2     1000_2   2018-08-04     1000\n",
       "3     1000_3   2018-06-16     1000\n",
       "4     1000_4   2018-12-05     1000"
      ]
     },
     "execution_count": 55,
     "metadata": {},
     "output_type": "execute_result"
    }
   ],
   "source": [
    "messages.head()"
   ]
  },
  {
   "cell_type": "markdown",
   "id": "c276edf8",
   "metadata": {},
   "source": [
    "Для расчета израсходованных минут разговора по месяцам округлим дату каждого звонка до месяца и запишем этот месяц в столбец `month_of_message`:"
   ]
  },
  {
   "cell_type": "code",
   "execution_count": 56,
   "id": "79aa8528",
   "metadata": {},
   "outputs": [],
   "source": [
    "messages['month'] = messages['message_date'].dt.month"
   ]
  },
  {
   "cell_type": "markdown",
   "id": "a3c2b100",
   "metadata": {},
   "source": [
    "Вычислим количество отправленных сообщений по месяцам:"
   ]
  },
  {
   "cell_type": "code",
   "execution_count": 57,
   "id": "111b2f0e",
   "metadata": {},
   "outputs": [],
   "source": [
    "number_messages_on_month = messages.pivot_table(\n",
    "    index=['user_id', 'month'],\n",
    "    values='message_id',\n",
    "    aggfunc='count')\n",
    "number_messages_on_month.columns = ['number_of_messages']"
   ]
  },
  {
   "cell_type": "code",
   "execution_count": 58,
   "id": "dbef280e",
   "metadata": {},
   "outputs": [
    {
     "data": {
      "text/html": [
       "<div>\n",
       "<style scoped>\n",
       "    .dataframe tbody tr th:only-of-type {\n",
       "        vertical-align: middle;\n",
       "    }\n",
       "\n",
       "    .dataframe tbody tr th {\n",
       "        vertical-align: top;\n",
       "    }\n",
       "\n",
       "    .dataframe thead th {\n",
       "        text-align: right;\n",
       "    }\n",
       "</style>\n",
       "<table border=\"1\" class=\"dataframe\">\n",
       "  <thead>\n",
       "    <tr style=\"text-align: right;\">\n",
       "      <th></th>\n",
       "      <th></th>\n",
       "      <th>number_of_messages</th>\n",
       "    </tr>\n",
       "    <tr>\n",
       "      <th>user_id</th>\n",
       "      <th>month</th>\n",
       "      <th></th>\n",
       "    </tr>\n",
       "  </thead>\n",
       "  <tbody>\n",
       "    <tr>\n",
       "      <th rowspan=\"5\" valign=\"top\">1000</th>\n",
       "      <th>5</th>\n",
       "      <td>22</td>\n",
       "    </tr>\n",
       "    <tr>\n",
       "      <th>6</th>\n",
       "      <td>60</td>\n",
       "    </tr>\n",
       "    <tr>\n",
       "      <th>7</th>\n",
       "      <td>75</td>\n",
       "    </tr>\n",
       "    <tr>\n",
       "      <th>8</th>\n",
       "      <td>81</td>\n",
       "    </tr>\n",
       "    <tr>\n",
       "      <th>9</th>\n",
       "      <td>57</td>\n",
       "    </tr>\n",
       "    <tr>\n",
       "      <th>...</th>\n",
       "      <th>...</th>\n",
       "      <td>...</td>\n",
       "    </tr>\n",
       "    <tr>\n",
       "      <th>1498</th>\n",
       "      <th>10</th>\n",
       "      <td>42</td>\n",
       "    </tr>\n",
       "    <tr>\n",
       "      <th rowspan=\"4\" valign=\"top\">1499</th>\n",
       "      <th>9</th>\n",
       "      <td>11</td>\n",
       "    </tr>\n",
       "    <tr>\n",
       "      <th>10</th>\n",
       "      <td>48</td>\n",
       "    </tr>\n",
       "    <tr>\n",
       "      <th>11</th>\n",
       "      <td>59</td>\n",
       "    </tr>\n",
       "    <tr>\n",
       "      <th>12</th>\n",
       "      <td>66</td>\n",
       "    </tr>\n",
       "  </tbody>\n",
       "</table>\n",
       "<p>2717 rows × 1 columns</p>\n",
       "</div>"
      ],
      "text/plain": [
       "               number_of_messages\n",
       "user_id month                    \n",
       "1000    5                      22\n",
       "        6                      60\n",
       "        7                      75\n",
       "        8                      81\n",
       "        9                      57\n",
       "...                           ...\n",
       "1498    10                     42\n",
       "1499    9                      11\n",
       "        10                     48\n",
       "        11                     59\n",
       "        12                     66\n",
       "\n",
       "[2717 rows x 1 columns]"
      ]
     },
     "execution_count": 58,
     "metadata": {},
     "output_type": "execute_result"
    }
   ],
   "source": [
    "number_messages_on_month"
   ]
  },
  {
   "cell_type": "markdown",
   "id": "b15dad24",
   "metadata": {},
   "source": [
    "Объеденим расчеты с прошлым блоком расчетов:"
   ]
  },
  {
   "cell_type": "code",
   "execution_count": 59,
   "id": "3688c62d",
   "metadata": {
    "scrolled": false
   },
   "outputs": [
    {
     "data": {
      "text/html": [
       "<div>\n",
       "<style scoped>\n",
       "    .dataframe tbody tr th:only-of-type {\n",
       "        vertical-align: middle;\n",
       "    }\n",
       "\n",
       "    .dataframe tbody tr th {\n",
       "        vertical-align: top;\n",
       "    }\n",
       "\n",
       "    .dataframe thead th {\n",
       "        text-align: right;\n",
       "    }\n",
       "</style>\n",
       "<table border=\"1\" class=\"dataframe\">\n",
       "  <thead>\n",
       "    <tr style=\"text-align: right;\">\n",
       "      <th></th>\n",
       "      <th></th>\n",
       "      <th>number_of_calls</th>\n",
       "      <th>duration</th>\n",
       "      <th>number_of_messages</th>\n",
       "    </tr>\n",
       "    <tr>\n",
       "      <th>user_id</th>\n",
       "      <th>month</th>\n",
       "      <th></th>\n",
       "      <th></th>\n",
       "      <th></th>\n",
       "    </tr>\n",
       "  </thead>\n",
       "  <tbody>\n",
       "    <tr>\n",
       "      <th rowspan=\"5\" valign=\"top\">1000</th>\n",
       "      <th>5</th>\n",
       "      <td>22</td>\n",
       "      <td>159</td>\n",
       "      <td>22.0</td>\n",
       "    </tr>\n",
       "    <tr>\n",
       "      <th>6</th>\n",
       "      <td>43</td>\n",
       "      <td>172</td>\n",
       "      <td>60.0</td>\n",
       "    </tr>\n",
       "    <tr>\n",
       "      <th>7</th>\n",
       "      <td>47</td>\n",
       "      <td>340</td>\n",
       "      <td>75.0</td>\n",
       "    </tr>\n",
       "    <tr>\n",
       "      <th>8</th>\n",
       "      <td>52</td>\n",
       "      <td>408</td>\n",
       "      <td>81.0</td>\n",
       "    </tr>\n",
       "    <tr>\n",
       "      <th>9</th>\n",
       "      <td>58</td>\n",
       "      <td>466</td>\n",
       "      <td>57.0</td>\n",
       "    </tr>\n",
       "    <tr>\n",
       "      <th>...</th>\n",
       "      <th>...</th>\n",
       "      <td>...</td>\n",
       "      <td>...</td>\n",
       "      <td>...</td>\n",
       "    </tr>\n",
       "    <tr>\n",
       "      <th>1498</th>\n",
       "      <th>10</th>\n",
       "      <td>41</td>\n",
       "      <td>247</td>\n",
       "      <td>42.0</td>\n",
       "    </tr>\n",
       "    <tr>\n",
       "      <th rowspan=\"4\" valign=\"top\">1499</th>\n",
       "      <th>9</th>\n",
       "      <td>9</td>\n",
       "      <td>70</td>\n",
       "      <td>11.0</td>\n",
       "    </tr>\n",
       "    <tr>\n",
       "      <th>10</th>\n",
       "      <td>68</td>\n",
       "      <td>449</td>\n",
       "      <td>48.0</td>\n",
       "    </tr>\n",
       "    <tr>\n",
       "      <th>11</th>\n",
       "      <td>74</td>\n",
       "      <td>612</td>\n",
       "      <td>59.0</td>\n",
       "    </tr>\n",
       "    <tr>\n",
       "      <th>12</th>\n",
       "      <td>69</td>\n",
       "      <td>492</td>\n",
       "      <td>66.0</td>\n",
       "    </tr>\n",
       "  </tbody>\n",
       "</table>\n",
       "<p>3174 rows × 3 columns</p>\n",
       "</div>"
      ],
      "text/plain": [
       "               number_of_calls  duration  number_of_messages\n",
       "user_id month                                               \n",
       "1000    5                   22       159                22.0\n",
       "        6                   43       172                60.0\n",
       "        7                   47       340                75.0\n",
       "        8                   52       408                81.0\n",
       "        9                   58       466                57.0\n",
       "...                        ...       ...                 ...\n",
       "1498    10                  41       247                42.0\n",
       "1499    9                    9        70                11.0\n",
       "        10                  68       449                48.0\n",
       "        11                  74       612                59.0\n",
       "        12                  69       492                66.0\n",
       "\n",
       "[3174 rows x 3 columns]"
      ]
     },
     "execution_count": 59,
     "metadata": {},
     "output_type": "execute_result"
    }
   ],
   "source": [
    "calc = calc.join(number_messages_on_month)\n",
    "calc"
   ]
  },
  {
   "cell_type": "markdown",
   "id": "51fc59a9",
   "metadata": {},
   "source": [
    "### Расчет объема израсходованного интернет-трафика по месяцам"
   ]
  },
  {
   "cell_type": "markdown",
   "id": "20cab598",
   "metadata": {},
   "source": [
    "Выведем первые 5 строк датафрейма `internet`:"
   ]
  },
  {
   "cell_type": "code",
   "execution_count": 86,
   "id": "64693a4b",
   "metadata": {
    "scrolled": false
   },
   "outputs": [
    {
     "data": {
      "text/html": [
       "<div>\n",
       "<style scoped>\n",
       "    .dataframe tbody tr th:only-of-type {\n",
       "        vertical-align: middle;\n",
       "    }\n",
       "\n",
       "    .dataframe tbody tr th {\n",
       "        vertical-align: top;\n",
       "    }\n",
       "\n",
       "    .dataframe thead th {\n",
       "        text-align: right;\n",
       "    }\n",
       "</style>\n",
       "<table border=\"1\" class=\"dataframe\">\n",
       "  <thead>\n",
       "    <tr style=\"text-align: right;\">\n",
       "      <th></th>\n",
       "      <th>internet_session_id</th>\n",
       "      <th>mb_used</th>\n",
       "      <th>session_date</th>\n",
       "      <th>user_id</th>\n",
       "    </tr>\n",
       "  </thead>\n",
       "  <tbody>\n",
       "    <tr>\n",
       "      <td>0</td>\n",
       "      <td>1000_0</td>\n",
       "      <td>112.95</td>\n",
       "      <td>2018-11-25</td>\n",
       "      <td>1000</td>\n",
       "    </tr>\n",
       "    <tr>\n",
       "      <td>1</td>\n",
       "      <td>1000_1</td>\n",
       "      <td>1052.81</td>\n",
       "      <td>2018-09-07</td>\n",
       "      <td>1000</td>\n",
       "    </tr>\n",
       "    <tr>\n",
       "      <td>2</td>\n",
       "      <td>1000_2</td>\n",
       "      <td>1197.26</td>\n",
       "      <td>2018-06-25</td>\n",
       "      <td>1000</td>\n",
       "    </tr>\n",
       "    <tr>\n",
       "      <td>3</td>\n",
       "      <td>1000_3</td>\n",
       "      <td>550.27</td>\n",
       "      <td>2018-08-22</td>\n",
       "      <td>1000</td>\n",
       "    </tr>\n",
       "    <tr>\n",
       "      <td>4</td>\n",
       "      <td>1000_4</td>\n",
       "      <td>302.56</td>\n",
       "      <td>2018-09-24</td>\n",
       "      <td>1000</td>\n",
       "    </tr>\n",
       "  </tbody>\n",
       "</table>\n",
       "</div>"
      ],
      "text/plain": [
       "  internet_session_id  mb_used session_date  user_id\n",
       "0              1000_0   112.95   2018-11-25     1000\n",
       "1              1000_1  1052.81   2018-09-07     1000\n",
       "2              1000_2  1197.26   2018-06-25     1000\n",
       "3              1000_3   550.27   2018-08-22     1000\n",
       "4              1000_4   302.56   2018-09-24     1000"
      ]
     },
     "execution_count": 86,
     "metadata": {},
     "output_type": "execute_result"
    }
   ],
   "source": [
    "internet.head()"
   ]
  },
  {
   "cell_type": "markdown",
   "id": "52fb59c6",
   "metadata": {},
   "source": [
    "Для расчета израсходованных минут разговора по месяцам округлим дату каждого звонка до месяца и запишем этот месяц в столбец `month_of_internet_traffic`:"
   ]
  },
  {
   "cell_type": "code",
   "execution_count": 60,
   "id": "02fd3d30",
   "metadata": {},
   "outputs": [],
   "source": [
    "internet['month'] = internet['session_date'].dt.month"
   ]
  },
  {
   "cell_type": "markdown",
   "id": "a504ee3a",
   "metadata": {},
   "source": [
    "Вычислим объем израсходованного интернет-трафика по месяцам:"
   ]
  },
  {
   "cell_type": "code",
   "execution_count": 61,
   "id": "ca3a614c",
   "metadata": {},
   "outputs": [
    {
     "data": {
      "text/html": [
       "<div>\n",
       "<style scoped>\n",
       "    .dataframe tbody tr th:only-of-type {\n",
       "        vertical-align: middle;\n",
       "    }\n",
       "\n",
       "    .dataframe tbody tr th {\n",
       "        vertical-align: top;\n",
       "    }\n",
       "\n",
       "    .dataframe thead th {\n",
       "        text-align: right;\n",
       "    }\n",
       "</style>\n",
       "<table border=\"1\" class=\"dataframe\">\n",
       "  <thead>\n",
       "    <tr style=\"text-align: right;\">\n",
       "      <th></th>\n",
       "      <th></th>\n",
       "      <th>mb_used</th>\n",
       "    </tr>\n",
       "    <tr>\n",
       "      <th>user_id</th>\n",
       "      <th>month</th>\n",
       "      <th></th>\n",
       "    </tr>\n",
       "  </thead>\n",
       "  <tbody>\n",
       "    <tr>\n",
       "      <th rowspan=\"5\" valign=\"top\">1000</th>\n",
       "      <th>5</th>\n",
       "      <td>2253.49</td>\n",
       "    </tr>\n",
       "    <tr>\n",
       "      <th>6</th>\n",
       "      <td>23233.77</td>\n",
       "    </tr>\n",
       "    <tr>\n",
       "      <th>7</th>\n",
       "      <td>14003.64</td>\n",
       "    </tr>\n",
       "    <tr>\n",
       "      <th>8</th>\n",
       "      <td>14055.93</td>\n",
       "    </tr>\n",
       "    <tr>\n",
       "      <th>9</th>\n",
       "      <td>14568.91</td>\n",
       "    </tr>\n",
       "    <tr>\n",
       "      <th>...</th>\n",
       "      <th>...</th>\n",
       "      <td>...</td>\n",
       "    </tr>\n",
       "    <tr>\n",
       "      <th>1498</th>\n",
       "      <th>10</th>\n",
       "      <td>20579.36</td>\n",
       "    </tr>\n",
       "    <tr>\n",
       "      <th rowspan=\"4\" valign=\"top\">1499</th>\n",
       "      <th>9</th>\n",
       "      <td>1845.75</td>\n",
       "    </tr>\n",
       "    <tr>\n",
       "      <th>10</th>\n",
       "      <td>17788.51</td>\n",
       "    </tr>\n",
       "    <tr>\n",
       "      <th>11</th>\n",
       "      <td>17963.31</td>\n",
       "    </tr>\n",
       "    <tr>\n",
       "      <th>12</th>\n",
       "      <td>13055.58</td>\n",
       "    </tr>\n",
       "  </tbody>\n",
       "</table>\n",
       "<p>3203 rows × 1 columns</p>\n",
       "</div>"
      ],
      "text/plain": [
       "                mb_used\n",
       "user_id month          \n",
       "1000    5       2253.49\n",
       "        6      23233.77\n",
       "        7      14003.64\n",
       "        8      14055.93\n",
       "        9      14568.91\n",
       "...                 ...\n",
       "1498    10     20579.36\n",
       "1499    9       1845.75\n",
       "        10     17788.51\n",
       "        11     17963.31\n",
       "        12     13055.58\n",
       "\n",
       "[3203 rows x 1 columns]"
      ]
     },
     "execution_count": 61,
     "metadata": {},
     "output_type": "execute_result"
    }
   ],
   "source": [
    "volume_internet_traffic_on_month = internet.pivot_table(\n",
    "    index=['user_id', 'month'],\n",
    "    values='mb_used',\n",
    "    aggfunc='sum')\n",
    "volume_internet_traffic_on_month"
   ]
  },
  {
   "cell_type": "markdown",
   "id": "af34492d",
   "metadata": {},
   "source": [
    "Учтем, что для веб-трафика в «Мегалайн» отдельные сессии не считаются. Вместо этого общая сумма за месяц округляется в бо́льшую сторону. После округления изменим тип данных в этом столбце на *int*:"
   ]
  },
  {
   "cell_type": "code",
   "execution_count": 62,
   "id": "377c2068",
   "metadata": {},
   "outputs": [],
   "source": [
    "volume_internet_traffic_on_month['mb_used'] = volume_internet_traffic_on_month['mb_used'] / 1024\n",
    "volume_internet_traffic_on_month.columns = ['gb_used']"
   ]
  },
  {
   "cell_type": "code",
   "execution_count": 63,
   "id": "04cdcbe0",
   "metadata": {},
   "outputs": [],
   "source": [
    "volume_internet_traffic_on_month['gb_used'] = volume_internet_traffic_on_month['gb_used'].apply(np.ceil)\n",
    "volume_internet_traffic_on_month['gb_used'] = volume_internet_traffic_on_month['gb_used'].astype(int)"
   ]
  },
  {
   "cell_type": "code",
   "execution_count": 64,
   "id": "b6fe2837",
   "metadata": {},
   "outputs": [
    {
     "data": {
      "text/html": [
       "<div>\n",
       "<style scoped>\n",
       "    .dataframe tbody tr th:only-of-type {\n",
       "        vertical-align: middle;\n",
       "    }\n",
       "\n",
       "    .dataframe tbody tr th {\n",
       "        vertical-align: top;\n",
       "    }\n",
       "\n",
       "    .dataframe thead th {\n",
       "        text-align: right;\n",
       "    }\n",
       "</style>\n",
       "<table border=\"1\" class=\"dataframe\">\n",
       "  <thead>\n",
       "    <tr style=\"text-align: right;\">\n",
       "      <th></th>\n",
       "      <th></th>\n",
       "      <th>gb_used</th>\n",
       "    </tr>\n",
       "    <tr>\n",
       "      <th>user_id</th>\n",
       "      <th>month</th>\n",
       "      <th></th>\n",
       "    </tr>\n",
       "  </thead>\n",
       "  <tbody>\n",
       "    <tr>\n",
       "      <th rowspan=\"5\" valign=\"top\">1000</th>\n",
       "      <th>5</th>\n",
       "      <td>3</td>\n",
       "    </tr>\n",
       "    <tr>\n",
       "      <th>6</th>\n",
       "      <td>23</td>\n",
       "    </tr>\n",
       "    <tr>\n",
       "      <th>7</th>\n",
       "      <td>14</td>\n",
       "    </tr>\n",
       "    <tr>\n",
       "      <th>8</th>\n",
       "      <td>14</td>\n",
       "    </tr>\n",
       "    <tr>\n",
       "      <th>9</th>\n",
       "      <td>15</td>\n",
       "    </tr>\n",
       "    <tr>\n",
       "      <th>...</th>\n",
       "      <th>...</th>\n",
       "      <td>...</td>\n",
       "    </tr>\n",
       "    <tr>\n",
       "      <th>1498</th>\n",
       "      <th>10</th>\n",
       "      <td>21</td>\n",
       "    </tr>\n",
       "    <tr>\n",
       "      <th rowspan=\"4\" valign=\"top\">1499</th>\n",
       "      <th>9</th>\n",
       "      <td>2</td>\n",
       "    </tr>\n",
       "    <tr>\n",
       "      <th>10</th>\n",
       "      <td>18</td>\n",
       "    </tr>\n",
       "    <tr>\n",
       "      <th>11</th>\n",
       "      <td>18</td>\n",
       "    </tr>\n",
       "    <tr>\n",
       "      <th>12</th>\n",
       "      <td>13</td>\n",
       "    </tr>\n",
       "  </tbody>\n",
       "</table>\n",
       "<p>3203 rows × 1 columns</p>\n",
       "</div>"
      ],
      "text/plain": [
       "               gb_used\n",
       "user_id month         \n",
       "1000    5            3\n",
       "        6           23\n",
       "        7           14\n",
       "        8           14\n",
       "        9           15\n",
       "...                ...\n",
       "1498    10          21\n",
       "1499    9            2\n",
       "        10          18\n",
       "        11          18\n",
       "        12          13\n",
       "\n",
       "[3203 rows x 1 columns]"
      ]
     },
     "execution_count": 64,
     "metadata": {},
     "output_type": "execute_result"
    }
   ],
   "source": [
    "volume_internet_traffic_on_month"
   ]
  },
  {
   "cell_type": "markdown",
   "id": "51ff5448",
   "metadata": {},
   "source": [
    "Объеденим расчеты с прошлым блоком расчетов:"
   ]
  },
  {
   "cell_type": "code",
   "execution_count": 65,
   "id": "53219f7f",
   "metadata": {
    "scrolled": false
   },
   "outputs": [
    {
     "data": {
      "text/html": [
       "<div>\n",
       "<style scoped>\n",
       "    .dataframe tbody tr th:only-of-type {\n",
       "        vertical-align: middle;\n",
       "    }\n",
       "\n",
       "    .dataframe tbody tr th {\n",
       "        vertical-align: top;\n",
       "    }\n",
       "\n",
       "    .dataframe thead th {\n",
       "        text-align: right;\n",
       "    }\n",
       "</style>\n",
       "<table border=\"1\" class=\"dataframe\">\n",
       "  <thead>\n",
       "    <tr style=\"text-align: right;\">\n",
       "      <th></th>\n",
       "      <th></th>\n",
       "      <th>number_of_calls</th>\n",
       "      <th>duration</th>\n",
       "      <th>number_of_messages</th>\n",
       "      <th>gb_used</th>\n",
       "    </tr>\n",
       "    <tr>\n",
       "      <th>user_id</th>\n",
       "      <th>month</th>\n",
       "      <th></th>\n",
       "      <th></th>\n",
       "      <th></th>\n",
       "      <th></th>\n",
       "    </tr>\n",
       "  </thead>\n",
       "  <tbody>\n",
       "    <tr>\n",
       "      <th rowspan=\"5\" valign=\"top\">1000</th>\n",
       "      <th>5</th>\n",
       "      <td>22</td>\n",
       "      <td>159</td>\n",
       "      <td>22.0</td>\n",
       "      <td>3.0</td>\n",
       "    </tr>\n",
       "    <tr>\n",
       "      <th>6</th>\n",
       "      <td>43</td>\n",
       "      <td>172</td>\n",
       "      <td>60.0</td>\n",
       "      <td>23.0</td>\n",
       "    </tr>\n",
       "    <tr>\n",
       "      <th>7</th>\n",
       "      <td>47</td>\n",
       "      <td>340</td>\n",
       "      <td>75.0</td>\n",
       "      <td>14.0</td>\n",
       "    </tr>\n",
       "    <tr>\n",
       "      <th>8</th>\n",
       "      <td>52</td>\n",
       "      <td>408</td>\n",
       "      <td>81.0</td>\n",
       "      <td>14.0</td>\n",
       "    </tr>\n",
       "    <tr>\n",
       "      <th>9</th>\n",
       "      <td>58</td>\n",
       "      <td>466</td>\n",
       "      <td>57.0</td>\n",
       "      <td>15.0</td>\n",
       "    </tr>\n",
       "    <tr>\n",
       "      <th>...</th>\n",
       "      <th>...</th>\n",
       "      <td>...</td>\n",
       "      <td>...</td>\n",
       "      <td>...</td>\n",
       "      <td>...</td>\n",
       "    </tr>\n",
       "    <tr>\n",
       "      <th>1498</th>\n",
       "      <th>10</th>\n",
       "      <td>41</td>\n",
       "      <td>247</td>\n",
       "      <td>42.0</td>\n",
       "      <td>21.0</td>\n",
       "    </tr>\n",
       "    <tr>\n",
       "      <th rowspan=\"4\" valign=\"top\">1499</th>\n",
       "      <th>9</th>\n",
       "      <td>9</td>\n",
       "      <td>70</td>\n",
       "      <td>11.0</td>\n",
       "      <td>2.0</td>\n",
       "    </tr>\n",
       "    <tr>\n",
       "      <th>10</th>\n",
       "      <td>68</td>\n",
       "      <td>449</td>\n",
       "      <td>48.0</td>\n",
       "      <td>18.0</td>\n",
       "    </tr>\n",
       "    <tr>\n",
       "      <th>11</th>\n",
       "      <td>74</td>\n",
       "      <td>612</td>\n",
       "      <td>59.0</td>\n",
       "      <td>18.0</td>\n",
       "    </tr>\n",
       "    <tr>\n",
       "      <th>12</th>\n",
       "      <td>69</td>\n",
       "      <td>492</td>\n",
       "      <td>66.0</td>\n",
       "      <td>13.0</td>\n",
       "    </tr>\n",
       "  </tbody>\n",
       "</table>\n",
       "<p>3174 rows × 4 columns</p>\n",
       "</div>"
      ],
      "text/plain": [
       "               number_of_calls  duration  number_of_messages  gb_used\n",
       "user_id month                                                        \n",
       "1000    5                   22       159                22.0      3.0\n",
       "        6                   43       172                60.0     23.0\n",
       "        7                   47       340                75.0     14.0\n",
       "        8                   52       408                81.0     14.0\n",
       "        9                   58       466                57.0     15.0\n",
       "...                        ...       ...                 ...      ...\n",
       "1498    10                  41       247                42.0     21.0\n",
       "1499    9                    9        70                11.0      2.0\n",
       "        10                  68       449                48.0     18.0\n",
       "        11                  74       612                59.0     18.0\n",
       "        12                  69       492                66.0     13.0\n",
       "\n",
       "[3174 rows x 4 columns]"
      ]
     },
     "execution_count": 65,
     "metadata": {},
     "output_type": "execute_result"
    }
   ],
   "source": [
    "calc = calc.join(volume_internet_traffic_on_month)\n",
    "calc"
   ]
  },
  {
   "cell_type": "markdown",
   "id": "6144d6a1",
   "metadata": {},
   "source": [
    "### Расчет помесячной выручки с каждого пользователя"
   ]
  },
  {
   "cell_type": "markdown",
   "id": "985ea37c",
   "metadata": {},
   "source": [
    "Для удобства работы с расчетными данными поочердено избавимся от мультииндекса в расчетом датафрейме:"
   ]
  },
  {
   "cell_type": "code",
   "execution_count": 66,
   "id": "05245883",
   "metadata": {},
   "outputs": [],
   "source": [
    "calc.reset_index(level=1, inplace=True)"
   ]
  },
  {
   "cell_type": "code",
   "execution_count": 67,
   "id": "e2264b73",
   "metadata": {},
   "outputs": [],
   "source": [
    "calc.reset_index(inplace=True)"
   ]
  },
  {
   "cell_type": "code",
   "execution_count": 68,
   "id": "ed3bacea",
   "metadata": {},
   "outputs": [
    {
     "data": {
      "text/html": [
       "<div>\n",
       "<style scoped>\n",
       "    .dataframe tbody tr th:only-of-type {\n",
       "        vertical-align: middle;\n",
       "    }\n",
       "\n",
       "    .dataframe tbody tr th {\n",
       "        vertical-align: top;\n",
       "    }\n",
       "\n",
       "    .dataframe thead th {\n",
       "        text-align: right;\n",
       "    }\n",
       "</style>\n",
       "<table border=\"1\" class=\"dataframe\">\n",
       "  <thead>\n",
       "    <tr style=\"text-align: right;\">\n",
       "      <th></th>\n",
       "      <th>user_id</th>\n",
       "      <th>month</th>\n",
       "      <th>number_of_calls</th>\n",
       "      <th>duration</th>\n",
       "      <th>number_of_messages</th>\n",
       "      <th>gb_used</th>\n",
       "    </tr>\n",
       "  </thead>\n",
       "  <tbody>\n",
       "    <tr>\n",
       "      <th>0</th>\n",
       "      <td>1000</td>\n",
       "      <td>5</td>\n",
       "      <td>22</td>\n",
       "      <td>159</td>\n",
       "      <td>22.0</td>\n",
       "      <td>3.0</td>\n",
       "    </tr>\n",
       "    <tr>\n",
       "      <th>1</th>\n",
       "      <td>1000</td>\n",
       "      <td>6</td>\n",
       "      <td>43</td>\n",
       "      <td>172</td>\n",
       "      <td>60.0</td>\n",
       "      <td>23.0</td>\n",
       "    </tr>\n",
       "    <tr>\n",
       "      <th>2</th>\n",
       "      <td>1000</td>\n",
       "      <td>7</td>\n",
       "      <td>47</td>\n",
       "      <td>340</td>\n",
       "      <td>75.0</td>\n",
       "      <td>14.0</td>\n",
       "    </tr>\n",
       "    <tr>\n",
       "      <th>3</th>\n",
       "      <td>1000</td>\n",
       "      <td>8</td>\n",
       "      <td>52</td>\n",
       "      <td>408</td>\n",
       "      <td>81.0</td>\n",
       "      <td>14.0</td>\n",
       "    </tr>\n",
       "    <tr>\n",
       "      <th>4</th>\n",
       "      <td>1000</td>\n",
       "      <td>9</td>\n",
       "      <td>58</td>\n",
       "      <td>466</td>\n",
       "      <td>57.0</td>\n",
       "      <td>15.0</td>\n",
       "    </tr>\n",
       "    <tr>\n",
       "      <th>...</th>\n",
       "      <td>...</td>\n",
       "      <td>...</td>\n",
       "      <td>...</td>\n",
       "      <td>...</td>\n",
       "      <td>...</td>\n",
       "      <td>...</td>\n",
       "    </tr>\n",
       "    <tr>\n",
       "      <th>3169</th>\n",
       "      <td>1498</td>\n",
       "      <td>10</td>\n",
       "      <td>41</td>\n",
       "      <td>247</td>\n",
       "      <td>42.0</td>\n",
       "      <td>21.0</td>\n",
       "    </tr>\n",
       "    <tr>\n",
       "      <th>3170</th>\n",
       "      <td>1499</td>\n",
       "      <td>9</td>\n",
       "      <td>9</td>\n",
       "      <td>70</td>\n",
       "      <td>11.0</td>\n",
       "      <td>2.0</td>\n",
       "    </tr>\n",
       "    <tr>\n",
       "      <th>3171</th>\n",
       "      <td>1499</td>\n",
       "      <td>10</td>\n",
       "      <td>68</td>\n",
       "      <td>449</td>\n",
       "      <td>48.0</td>\n",
       "      <td>18.0</td>\n",
       "    </tr>\n",
       "    <tr>\n",
       "      <th>3172</th>\n",
       "      <td>1499</td>\n",
       "      <td>11</td>\n",
       "      <td>74</td>\n",
       "      <td>612</td>\n",
       "      <td>59.0</td>\n",
       "      <td>18.0</td>\n",
       "    </tr>\n",
       "    <tr>\n",
       "      <th>3173</th>\n",
       "      <td>1499</td>\n",
       "      <td>12</td>\n",
       "      <td>69</td>\n",
       "      <td>492</td>\n",
       "      <td>66.0</td>\n",
       "      <td>13.0</td>\n",
       "    </tr>\n",
       "  </tbody>\n",
       "</table>\n",
       "<p>3174 rows × 6 columns</p>\n",
       "</div>"
      ],
      "text/plain": [
       "      user_id  month  number_of_calls  duration  number_of_messages  gb_used\n",
       "0        1000      5               22       159                22.0      3.0\n",
       "1        1000      6               43       172                60.0     23.0\n",
       "2        1000      7               47       340                75.0     14.0\n",
       "3        1000      8               52       408                81.0     14.0\n",
       "4        1000      9               58       466                57.0     15.0\n",
       "...       ...    ...              ...       ...                 ...      ...\n",
       "3169     1498     10               41       247                42.0     21.0\n",
       "3170     1499      9                9        70                11.0      2.0\n",
       "3171     1499     10               68       449                48.0     18.0\n",
       "3172     1499     11               74       612                59.0     18.0\n",
       "3173     1499     12               69       492                66.0     13.0\n",
       "\n",
       "[3174 rows x 6 columns]"
      ]
     },
     "execution_count": 68,
     "metadata": {},
     "output_type": "execute_result"
    }
   ],
   "source": [
    "calc"
   ]
  },
  {
   "cell_type": "markdown",
   "id": "34ab6169",
   "metadata": {},
   "source": [
    "Присвоим каждому пользователю в расчетной таблице его тариф:"
   ]
  },
  {
   "cell_type": "code",
   "execution_count": 69,
   "id": "0b9256c0",
   "metadata": {
    "scrolled": false
   },
   "outputs": [
    {
     "data": {
      "text/html": [
       "<div>\n",
       "<style scoped>\n",
       "    .dataframe tbody tr th:only-of-type {\n",
       "        vertical-align: middle;\n",
       "    }\n",
       "\n",
       "    .dataframe tbody tr th {\n",
       "        vertical-align: top;\n",
       "    }\n",
       "\n",
       "    .dataframe thead th {\n",
       "        text-align: right;\n",
       "    }\n",
       "</style>\n",
       "<table border=\"1\" class=\"dataframe\">\n",
       "  <thead>\n",
       "    <tr style=\"text-align: right;\">\n",
       "      <th></th>\n",
       "      <th>user_id</th>\n",
       "      <th>month</th>\n",
       "      <th>number_of_calls</th>\n",
       "      <th>duration</th>\n",
       "      <th>number_of_messages</th>\n",
       "      <th>gb_used</th>\n",
       "      <th>tariff</th>\n",
       "    </tr>\n",
       "  </thead>\n",
       "  <tbody>\n",
       "    <tr>\n",
       "      <th>0</th>\n",
       "      <td>1000</td>\n",
       "      <td>5</td>\n",
       "      <td>22</td>\n",
       "      <td>159</td>\n",
       "      <td>22.0</td>\n",
       "      <td>3.0</td>\n",
       "      <td>ultra</td>\n",
       "    </tr>\n",
       "    <tr>\n",
       "      <th>1</th>\n",
       "      <td>1000</td>\n",
       "      <td>6</td>\n",
       "      <td>43</td>\n",
       "      <td>172</td>\n",
       "      <td>60.0</td>\n",
       "      <td>23.0</td>\n",
       "      <td>ultra</td>\n",
       "    </tr>\n",
       "    <tr>\n",
       "      <th>2</th>\n",
       "      <td>1000</td>\n",
       "      <td>7</td>\n",
       "      <td>47</td>\n",
       "      <td>340</td>\n",
       "      <td>75.0</td>\n",
       "      <td>14.0</td>\n",
       "      <td>ultra</td>\n",
       "    </tr>\n",
       "    <tr>\n",
       "      <th>3</th>\n",
       "      <td>1000</td>\n",
       "      <td>8</td>\n",
       "      <td>52</td>\n",
       "      <td>408</td>\n",
       "      <td>81.0</td>\n",
       "      <td>14.0</td>\n",
       "      <td>ultra</td>\n",
       "    </tr>\n",
       "    <tr>\n",
       "      <th>4</th>\n",
       "      <td>1000</td>\n",
       "      <td>9</td>\n",
       "      <td>58</td>\n",
       "      <td>466</td>\n",
       "      <td>57.0</td>\n",
       "      <td>15.0</td>\n",
       "      <td>ultra</td>\n",
       "    </tr>\n",
       "    <tr>\n",
       "      <th>...</th>\n",
       "      <td>...</td>\n",
       "      <td>...</td>\n",
       "      <td>...</td>\n",
       "      <td>...</td>\n",
       "      <td>...</td>\n",
       "      <td>...</td>\n",
       "      <td>...</td>\n",
       "    </tr>\n",
       "    <tr>\n",
       "      <th>3169</th>\n",
       "      <td>1498</td>\n",
       "      <td>10</td>\n",
       "      <td>41</td>\n",
       "      <td>247</td>\n",
       "      <td>42.0</td>\n",
       "      <td>21.0</td>\n",
       "      <td>smart</td>\n",
       "    </tr>\n",
       "    <tr>\n",
       "      <th>3170</th>\n",
       "      <td>1499</td>\n",
       "      <td>9</td>\n",
       "      <td>9</td>\n",
       "      <td>70</td>\n",
       "      <td>11.0</td>\n",
       "      <td>2.0</td>\n",
       "      <td>smart</td>\n",
       "    </tr>\n",
       "    <tr>\n",
       "      <th>3171</th>\n",
       "      <td>1499</td>\n",
       "      <td>10</td>\n",
       "      <td>68</td>\n",
       "      <td>449</td>\n",
       "      <td>48.0</td>\n",
       "      <td>18.0</td>\n",
       "      <td>smart</td>\n",
       "    </tr>\n",
       "    <tr>\n",
       "      <th>3172</th>\n",
       "      <td>1499</td>\n",
       "      <td>11</td>\n",
       "      <td>74</td>\n",
       "      <td>612</td>\n",
       "      <td>59.0</td>\n",
       "      <td>18.0</td>\n",
       "      <td>smart</td>\n",
       "    </tr>\n",
       "    <tr>\n",
       "      <th>3173</th>\n",
       "      <td>1499</td>\n",
       "      <td>12</td>\n",
       "      <td>69</td>\n",
       "      <td>492</td>\n",
       "      <td>66.0</td>\n",
       "      <td>13.0</td>\n",
       "      <td>smart</td>\n",
       "    </tr>\n",
       "  </tbody>\n",
       "</table>\n",
       "<p>3174 rows × 7 columns</p>\n",
       "</div>"
      ],
      "text/plain": [
       "      user_id  month  number_of_calls  duration  number_of_messages  gb_used  \\\n",
       "0        1000      5               22       159                22.0      3.0   \n",
       "1        1000      6               43       172                60.0     23.0   \n",
       "2        1000      7               47       340                75.0     14.0   \n",
       "3        1000      8               52       408                81.0     14.0   \n",
       "4        1000      9               58       466                57.0     15.0   \n",
       "...       ...    ...              ...       ...                 ...      ...   \n",
       "3169     1498     10               41       247                42.0     21.0   \n",
       "3170     1499      9                9        70                11.0      2.0   \n",
       "3171     1499     10               68       449                48.0     18.0   \n",
       "3172     1499     11               74       612                59.0     18.0   \n",
       "3173     1499     12               69       492                66.0     13.0   \n",
       "\n",
       "     tariff  \n",
       "0     ultra  \n",
       "1     ultra  \n",
       "2     ultra  \n",
       "3     ultra  \n",
       "4     ultra  \n",
       "...     ...  \n",
       "3169  smart  \n",
       "3170  smart  \n",
       "3171  smart  \n",
       "3172  smart  \n",
       "3173  smart  \n",
       "\n",
       "[3174 rows x 7 columns]"
      ]
     },
     "execution_count": 69,
     "metadata": {},
     "output_type": "execute_result"
    }
   ],
   "source": [
    "calc = calc.merge(users[['user_id', 'tariff']], on='user_id')\n",
    "calc"
   ]
  },
  {
   "cell_type": "markdown",
   "id": "7aabf80b",
   "metadata": {},
   "source": [
    "Посмотрим на датафрейм `tariffs` чтобы узнать информацию о тарифах:"
   ]
  },
  {
   "cell_type": "code",
   "execution_count": 70,
   "id": "509450dc",
   "metadata": {
    "scrolled": false
   },
   "outputs": [
    {
     "data": {
      "text/html": [
       "<div>\n",
       "<style scoped>\n",
       "    .dataframe tbody tr th:only-of-type {\n",
       "        vertical-align: middle;\n",
       "    }\n",
       "\n",
       "    .dataframe tbody tr th {\n",
       "        vertical-align: top;\n",
       "    }\n",
       "\n",
       "    .dataframe thead th {\n",
       "        text-align: right;\n",
       "    }\n",
       "</style>\n",
       "<table border=\"1\" class=\"dataframe\">\n",
       "  <thead>\n",
       "    <tr style=\"text-align: right;\">\n",
       "      <th></th>\n",
       "      <th>messages_included</th>\n",
       "      <th>gb_per_month_included</th>\n",
       "      <th>minutes_included</th>\n",
       "      <th>rub_monthly_fee</th>\n",
       "      <th>rub_per_gb</th>\n",
       "      <th>rub_per_message</th>\n",
       "      <th>rub_per_minute</th>\n",
       "      <th>tariff_name</th>\n",
       "    </tr>\n",
       "  </thead>\n",
       "  <tbody>\n",
       "    <tr>\n",
       "      <th>0</th>\n",
       "      <td>50</td>\n",
       "      <td>15.0</td>\n",
       "      <td>500</td>\n",
       "      <td>550</td>\n",
       "      <td>200</td>\n",
       "      <td>3</td>\n",
       "      <td>3</td>\n",
       "      <td>smart</td>\n",
       "    </tr>\n",
       "    <tr>\n",
       "      <th>1</th>\n",
       "      <td>1000</td>\n",
       "      <td>30.0</td>\n",
       "      <td>3000</td>\n",
       "      <td>1950</td>\n",
       "      <td>150</td>\n",
       "      <td>1</td>\n",
       "      <td>1</td>\n",
       "      <td>ultra</td>\n",
       "    </tr>\n",
       "  </tbody>\n",
       "</table>\n",
       "</div>"
      ],
      "text/plain": [
       "   messages_included  gb_per_month_included  minutes_included  \\\n",
       "0                 50                   15.0               500   \n",
       "1               1000                   30.0              3000   \n",
       "\n",
       "   rub_monthly_fee  rub_per_gb  rub_per_message  rub_per_minute tariff_name  \n",
       "0              550         200                3               3       smart  \n",
       "1             1950         150                1               1       ultra  "
      ]
     },
     "execution_count": 70,
     "metadata": {},
     "output_type": "execute_result"
    }
   ],
   "source": [
    "tariffs"
   ]
  },
  {
   "cell_type": "markdown",
   "id": "8d2d9394",
   "metadata": {},
   "source": [
    "Запишем информацию о тарифах в соответствующие константы:"
   ]
  },
  {
   "cell_type": "code",
   "execution_count": 71,
   "id": "7156e4fd",
   "metadata": {},
   "outputs": [],
   "source": [
    "messages_included_smart = tariffs['messages_included'][0]\n",
    "gb_per_month_included_smart = tariffs['gb_per_month_included'][0] \n",
    "minutes_included_smart = tariffs['minutes_included'][0]\n",
    "rub_monthly_fee_smart = tariffs['rub_monthly_fee'][0]\n",
    "rub_per_gb_smart = tariffs['rub_per_gb'][0]\n",
    "rub_per_message_smart = tariffs['rub_per_message'][0]\n",
    "rub_per_minute_smart = tariffs['rub_per_minute'][0]\n",
    "tariff_name_smart = tariffs['tariff_name'][0]\n",
    "\n",
    "messages_included_ultra = tariffs['messages_included'][1]\n",
    "gb_per_month_included_ultra = tariffs['gb_per_month_included'][1] \n",
    "minutes_included_ultra = tariffs['minutes_included'][1]\n",
    "rub_monthly_fee_ultra = tariffs['rub_monthly_fee'][1]\n",
    "rub_per_gb_ultra = tariffs['rub_per_gb'][1]\n",
    "rub_per_message_ultra = tariffs['rub_per_message'][1]\n",
    "rub_per_minute_ultra = tariffs['rub_per_minute'][1]\n",
    "tariff_name_ultra = tariffs['tariff_name'][1]"
   ]
  },
  {
   "cell_type": "markdown",
   "id": "1dcc8135",
   "metadata": {},
   "source": [
    "Напишем функцию подсчета помесячной выручки с каждого пользователя:"
   ]
  },
  {
   "cell_type": "code",
   "execution_count": 72,
   "id": "57ccdad8",
   "metadata": {},
   "outputs": [],
   "source": [
    "def get_revenue(df):\n",
    "    revenue_message = 0\n",
    "    revenue_calls = 0\n",
    "    revenue_internet = 0\n",
    "    if df['tariff'] == 'smart':\n",
    "        # messages\n",
    "        if (df['number_of_messages'] - messages_included_smart) > 0:\n",
    "            revenue_message = (\n",
    "                df['number_of_messages'] - messages_included_smart) * rub_per_message_smart\n",
    "        else:\n",
    "            revenue_message = 0\n",
    "        # calls\n",
    "        if (df['duration'] - minutes_included_smart) > 0:\n",
    "            revenue_calls = (df['duration'] - minutes_included_smart) * rub_per_minute_smart\n",
    "        else:\n",
    "            revenue_calls = 0\n",
    "        # internet\n",
    "        if (df['gb_used'] - gb_per_month_included_smart) > 0:\n",
    "            revenue_internet = (df['gb_used'] - gb_per_month_included_smart) * rub_per_gb_smart\n",
    "        else:\n",
    "            revenue_internet = 0        \n",
    "        return revenue_message + revenue_calls + revenue_internet + rub_monthly_fee_smart\n",
    "    else:\n",
    "        # messages ultra\n",
    "        if (df['number_of_messages'] - messages_included_ultra) > 0:\n",
    "            revenue_message = (df['number_of_messages'] - messages_included_ultra) * rub_per_message_ultra\n",
    "        else:\n",
    "            revenue_message = 0\n",
    "        # calls ultra\n",
    "        if (df['duration'] - minutes_included_ultra) > 0:\n",
    "            revenue_calls = (df['duration'] - minutes_included_ultra) * rub_per_minute_ultra\n",
    "        else:\n",
    "            revenue_calls = 0\n",
    "        # internet ultra\n",
    "        if (df['gb_used'] - gb_per_month_included_ultra) > 0:\n",
    "            revenue_internet = (df['gb_used'] - gb_per_month_included_ultra) * rub_per_gb_ultra\n",
    "        else:\n",
    "            revenue_internet = 0        \n",
    "        return revenue_message + revenue_calls + revenue_internet + rub_monthly_fee_ultra"
   ]
  },
  {
   "cell_type": "code",
   "execution_count": 73,
   "id": "f32b6043",
   "metadata": {},
   "outputs": [],
   "source": [
    "calc['revenue_for_month'] = calc.apply(get_revenue, axis=1)"
   ]
  },
  {
   "cell_type": "markdown",
   "id": "95672471",
   "metadata": {},
   "source": [
    "Выведем первые 5 строк датафрейма `calc` и посмотрим информацию о нем методом info():"
   ]
  },
  {
   "cell_type": "code",
   "execution_count": 74,
   "id": "9d3a9e5d",
   "metadata": {},
   "outputs": [
    {
     "data": {
      "text/html": [
       "<div>\n",
       "<style scoped>\n",
       "    .dataframe tbody tr th:only-of-type {\n",
       "        vertical-align: middle;\n",
       "    }\n",
       "\n",
       "    .dataframe tbody tr th {\n",
       "        vertical-align: top;\n",
       "    }\n",
       "\n",
       "    .dataframe thead th {\n",
       "        text-align: right;\n",
       "    }\n",
       "</style>\n",
       "<table border=\"1\" class=\"dataframe\">\n",
       "  <thead>\n",
       "    <tr style=\"text-align: right;\">\n",
       "      <th></th>\n",
       "      <th>user_id</th>\n",
       "      <th>month</th>\n",
       "      <th>number_of_calls</th>\n",
       "      <th>duration</th>\n",
       "      <th>number_of_messages</th>\n",
       "      <th>gb_used</th>\n",
       "      <th>tariff</th>\n",
       "      <th>revenue_for_month</th>\n",
       "    </tr>\n",
       "  </thead>\n",
       "  <tbody>\n",
       "    <tr>\n",
       "      <th>0</th>\n",
       "      <td>1000</td>\n",
       "      <td>5</td>\n",
       "      <td>22</td>\n",
       "      <td>159</td>\n",
       "      <td>22.0</td>\n",
       "      <td>3.0</td>\n",
       "      <td>ultra</td>\n",
       "      <td>1950.0</td>\n",
       "    </tr>\n",
       "    <tr>\n",
       "      <th>1</th>\n",
       "      <td>1000</td>\n",
       "      <td>6</td>\n",
       "      <td>43</td>\n",
       "      <td>172</td>\n",
       "      <td>60.0</td>\n",
       "      <td>23.0</td>\n",
       "      <td>ultra</td>\n",
       "      <td>1950.0</td>\n",
       "    </tr>\n",
       "    <tr>\n",
       "      <th>2</th>\n",
       "      <td>1000</td>\n",
       "      <td>7</td>\n",
       "      <td>47</td>\n",
       "      <td>340</td>\n",
       "      <td>75.0</td>\n",
       "      <td>14.0</td>\n",
       "      <td>ultra</td>\n",
       "      <td>1950.0</td>\n",
       "    </tr>\n",
       "    <tr>\n",
       "      <th>3</th>\n",
       "      <td>1000</td>\n",
       "      <td>8</td>\n",
       "      <td>52</td>\n",
       "      <td>408</td>\n",
       "      <td>81.0</td>\n",
       "      <td>14.0</td>\n",
       "      <td>ultra</td>\n",
       "      <td>1950.0</td>\n",
       "    </tr>\n",
       "    <tr>\n",
       "      <th>4</th>\n",
       "      <td>1000</td>\n",
       "      <td>9</td>\n",
       "      <td>58</td>\n",
       "      <td>466</td>\n",
       "      <td>57.0</td>\n",
       "      <td>15.0</td>\n",
       "      <td>ultra</td>\n",
       "      <td>1950.0</td>\n",
       "    </tr>\n",
       "  </tbody>\n",
       "</table>\n",
       "</div>"
      ],
      "text/plain": [
       "   user_id  month  number_of_calls  duration  number_of_messages  gb_used  \\\n",
       "0     1000      5               22       159                22.0      3.0   \n",
       "1     1000      6               43       172                60.0     23.0   \n",
       "2     1000      7               47       340                75.0     14.0   \n",
       "3     1000      8               52       408                81.0     14.0   \n",
       "4     1000      9               58       466                57.0     15.0   \n",
       "\n",
       "  tariff  revenue_for_month  \n",
       "0  ultra             1950.0  \n",
       "1  ultra             1950.0  \n",
       "2  ultra             1950.0  \n",
       "3  ultra             1950.0  \n",
       "4  ultra             1950.0  "
      ]
     },
     "execution_count": 74,
     "metadata": {},
     "output_type": "execute_result"
    }
   ],
   "source": [
    "calc.head()"
   ]
  },
  {
   "cell_type": "code",
   "execution_count": 75,
   "id": "8c77b7d4",
   "metadata": {
    "scrolled": false
   },
   "outputs": [
    {
     "name": "stdout",
     "output_type": "stream",
     "text": [
      "<class 'pandas.core.frame.DataFrame'>\n",
      "Int64Index: 3174 entries, 0 to 3173\n",
      "Data columns (total 8 columns):\n",
      " #   Column              Non-Null Count  Dtype  \n",
      "---  ------              --------------  -----  \n",
      " 0   user_id             3174 non-null   int64  \n",
      " 1   month               3174 non-null   int64  \n",
      " 2   number_of_calls     3174 non-null   int64  \n",
      " 3   duration            3174 non-null   int32  \n",
      " 4   number_of_messages  2678 non-null   float64\n",
      " 5   gb_used             3163 non-null   float64\n",
      " 6   tariff              3174 non-null   object \n",
      " 7   revenue_for_month   3174 non-null   float64\n",
      "dtypes: float64(3), int32(1), int64(3), object(1)\n",
      "memory usage: 210.8+ KB\n"
     ]
    }
   ],
   "source": [
    "calc.info()"
   ]
  },
  {
   "cell_type": "markdown",
   "id": "067a3a89",
   "metadata": {},
   "source": [
    "В столбцах `number_of_messages` и `gb_used` возникли пропуски, скорее всего это связано с тем, что некоторые пользователи не отправляли сообщения или не пользовались интернетом в какие-то конкретные месяцы. Убедимся в этом."
   ]
  },
  {
   "cell_type": "markdown",
   "id": "e876eedf",
   "metadata": {},
   "source": [
    "Соберем `user_id` всех пользователей, у которых имеются пропуски по числу сообщений и интернет-трафику:"
   ]
  },
  {
   "cell_type": "code",
   "execution_count": 78,
   "id": "ef70fa5f",
   "metadata": {},
   "outputs": [],
   "source": [
    "users_with_na_messages = calc[calc['number_of_messages'].isna()]['user_id'].unique()\n",
    "users_with_na_gb_used = calc[calc['gb_used'].isna()]['user_id'].unique()"
   ]
  },
  {
   "cell_type": "markdown",
   "id": "766f0c25",
   "metadata": {},
   "source": [
    "Напишем функцию, чтобы удостоверится в том, что пропуски возникли в результате отсутствия данных в исходных датафреймах:"
   ]
  },
  {
   "cell_type": "code",
   "execution_count": 79,
   "id": "8fb9e79e",
   "metadata": {},
   "outputs": [],
   "source": [
    "def check(df_source, users, date):\n",
    "    for user in users:\n",
    "        if df_source.query('user_id == @user')[date].dt.month.empty:\n",
    "            print('Клиент {} вообще не отправлял сообщения / расходовал трафик.'.format(user))\n",
    "            print()\n",
    "        else:\n",
    "            print('Клиент {} отправлял сообщения / расходовал трафик в месяцы:'.format(user))\n",
    "            print(df_source.query('user_id == @user')[date].dt.month.unique())\n",
    "            print('Месяцы в таблице:')\n",
    "            print(calc.query('user_id == @user')['month'].unique())\n",
    "            print()"
   ]
  },
  {
   "cell_type": "markdown",
   "id": "bfca7809",
   "metadata": {},
   "source": [
    "Проверим пропуски по числу сообщений:"
   ]
  },
  {
   "cell_type": "code",
   "execution_count": 80,
   "id": "69ad118e",
   "metadata": {},
   "outputs": [
    {
     "name": "stdout",
     "output_type": "stream",
     "text": [
      "Клиент 1001 вообще не отправлял сообщения / расходовал трафик.\n",
      "\n",
      "Клиент 1006 вообще не отправлял сообщения / расходовал трафик.\n",
      "\n",
      "Клиент 1010 вообще не отправлял сообщения / расходовал трафик.\n",
      "\n",
      "Клиент 1017 вообще не отправлял сообщения / расходовал трафик.\n",
      "\n",
      "Клиент 1024 вообще не отправлял сообщения / расходовал трафик.\n",
      "\n",
      "Клиент 1036 отправлял сообщения / расходовал трафик в месяцы:\n",
      "[10  9  8  7]\n",
      "Месяцы в таблице:\n",
      "[ 7  8  9 10 11 12]\n",
      "\n",
      "Клиент 1040 вообще не отправлял сообщения / расходовал трафик.\n",
      "\n",
      "Клиент 1041 отправлял сообщения / расходовал трафик в месяцы:\n",
      "[12]\n",
      "Месяцы в таблице:\n",
      "[11 12]\n",
      "\n",
      "Клиент 1049 вообще не отправлял сообщения / расходовал трафик.\n",
      "\n",
      "Клиент 1051 отправлял сообщения / расходовал трафик в месяцы:\n",
      "[9 6 8 7]\n",
      "Месяцы в таблице:\n",
      "[ 5  6  7  8  9 10]\n",
      "\n",
      "Клиент 1053 вообще не отправлял сообщения / расходовал трафик.\n",
      "\n",
      "Клиент 1063 вообще не отправлял сообщения / расходовал трафик.\n",
      "\n",
      "Клиент 1078 вообще не отправлял сообщения / расходовал трафик.\n",
      "\n",
      "Клиент 1085 вообще не отправлял сообщения / расходовал трафик.\n",
      "\n",
      "Клиент 1090 отправлял сообщения / расходовал трафик в месяцы:\n",
      "[11 10]\n",
      "Месяцы в таблице:\n",
      "[10 11 12]\n",
      "\n",
      "Клиент 1095 вообще не отправлял сообщения / расходовал трафик.\n",
      "\n",
      "Клиент 1101 вообще не отправлял сообщения / расходовал трафик.\n",
      "\n",
      "Клиент 1107 вообще не отправлял сообщения / расходовал трафик.\n",
      "\n",
      "Клиент 1109 отправлял сообщения / расходовал трафик в месяцы:\n",
      "[11  5  3  8 12 10  9]\n",
      "Месяцы в таблице:\n",
      "[ 2  3  4  5  6  7  8  9 10 11 12]\n",
      "\n",
      "Клиент 1114 вообще не отправлял сообщения / расходовал трафик.\n",
      "\n",
      "Клиент 1116 вообще не отправлял сообщения / расходовал трафик.\n",
      "\n",
      "Клиент 1117 вообще не отправлял сообщения / расходовал трафик.\n",
      "\n",
      "Клиент 1118 вообще не отправлял сообщения / расходовал трафик.\n",
      "\n",
      "Клиент 1120 вообще не отправлял сообщения / расходовал трафик.\n",
      "\n",
      "Клиент 1129 вообще не отправлял сообщения / расходовал трафик.\n",
      "\n",
      "Клиент 1132 вообще не отправлял сообщения / расходовал трафик.\n",
      "\n",
      "Клиент 1143 вообще не отправлял сообщения / расходовал трафик.\n",
      "\n",
      "Клиент 1152 вообще не отправлял сообщения / расходовал трафик.\n",
      "\n",
      "Клиент 1153 вообще не отправлял сообщения / расходовал трафик.\n",
      "\n",
      "Клиент 1157 вообще не отправлял сообщения / расходовал трафик.\n",
      "\n",
      "Клиент 1159 отправлял сообщения / расходовал трафик в месяцы:\n",
      "[12]\n",
      "Месяцы в таблице:\n",
      "[11 12]\n",
      "\n",
      "Клиент 1162 вообще не отправлял сообщения / расходовал трафик.\n",
      "\n",
      "Клиент 1175 вообще не отправлял сообщения / расходовал трафик.\n",
      "\n",
      "Клиент 1177 вообще не отправлял сообщения / расходовал трафик.\n",
      "\n",
      "Клиент 1179 вообще не отправлял сообщения / расходовал трафик.\n",
      "\n",
      "Клиент 1185 вообще не отправлял сообщения / расходовал трафик.\n",
      "\n",
      "Клиент 1195 вообще не отправлял сообщения / расходовал трафик.\n",
      "\n",
      "Клиент 1198 отправлял сообщения / расходовал трафик в месяцы:\n",
      "[10  9  8 11]\n",
      "Месяцы в таблице:\n",
      "[ 8  9 10 11 12]\n",
      "\n",
      "Клиент 1201 вообще не отправлял сообщения / расходовал трафик.\n",
      "\n",
      "Клиент 1204 вообще не отправлял сообщения / расходовал трафик.\n",
      "\n",
      "Клиент 1208 вообще не отправлял сообщения / расходовал трафик.\n",
      "\n",
      "Клиент 1210 вообще не отправлял сообщения / расходовал трафик.\n",
      "\n",
      "Клиент 1220 вообще не отправлял сообщения / расходовал трафик.\n",
      "\n",
      "Клиент 1224 вообще не отправлял сообщения / расходовал трафик.\n",
      "\n",
      "Клиент 1225 вообще не отправлял сообщения / расходовал трафик.\n",
      "\n",
      "Клиент 1228 вообще не отправлял сообщения / расходовал трафик.\n",
      "\n",
      "Клиент 1240 вообще не отправлял сообщения / расходовал трафик.\n",
      "\n",
      "Клиент 1242 вообще не отправлял сообщения / расходовал трафик.\n",
      "\n",
      "Клиент 1248 вообще не отправлял сообщения / расходовал трафик.\n",
      "\n",
      "Клиент 1254 вообще не отправлял сообщения / расходовал трафик.\n",
      "\n",
      "Клиент 1255 вообще не отправлял сообщения / расходовал трафик.\n",
      "\n",
      "Клиент 1260 вообще не отправлял сообщения / расходовал трафик.\n",
      "\n",
      "Клиент 1263 отправлял сообщения / расходовал трафик в месяцы:\n",
      "[12  6  5  8  7 11  9 10]\n",
      "Месяцы в таблице:\n",
      "[ 4  5  6  7  8  9 10 11 12]\n",
      "\n",
      "Клиент 1279 отправлял сообщения / расходовал трафик в месяцы:\n",
      "[11 12 10  8]\n",
      "Месяцы в таблице:\n",
      "[ 8  9 10 11 12]\n",
      "\n",
      "Клиент 1287 отправлял сообщения / расходовал трафик в месяцы:\n",
      "[11 10 12]\n",
      "Месяцы в таблице:\n",
      "[ 9 10 11 12]\n",
      "\n",
      "Клиент 1290 вообще не отправлял сообщения / расходовал трафик.\n",
      "\n",
      "Клиент 1291 вообще не отправлял сообщения / расходовал трафик.\n",
      "\n",
      "Клиент 1292 вообще не отправлял сообщения / расходовал трафик.\n",
      "\n",
      "Клиент 1297 вообще не отправлял сообщения / расходовал трафик.\n",
      "\n",
      "Клиент 1301 вообще не отправлял сообщения / расходовал трафик.\n",
      "\n",
      "Клиент 1305 вообще не отправлял сообщения / расходовал трафик.\n",
      "\n",
      "Клиент 1306 вообще не отправлял сообщения / расходовал трафик.\n",
      "\n",
      "Клиент 1322 вообще не отправлял сообщения / расходовал трафик.\n",
      "\n",
      "Клиент 1334 вообще не отправлял сообщения / расходовал трафик.\n",
      "\n",
      "Клиент 1339 вообще не отправлял сообщения / расходовал трафик.\n",
      "\n",
      "Клиент 1340 отправлял сообщения / расходовал трафик в месяцы:\n",
      "[ 9  5  6 12  7  3 11  8  4 10  2]\n",
      "Месяцы в таблице:\n",
      "[ 1  2  3  4  5  6  7  8  9 10 11 12]\n",
      "\n",
      "Клиент 1360 вообще не отправлял сообщения / расходовал трафик.\n",
      "\n",
      "Клиент 1363 вообще не отправлял сообщения / расходовал трафик.\n",
      "\n",
      "Клиент 1367 вообще не отправлял сообщения / расходовал трафик.\n",
      "\n",
      "Клиент 1370 вообще не отправлял сообщения / расходовал трафик.\n",
      "\n",
      "Клиент 1376 вообще не отправлял сообщения / расходовал трафик.\n",
      "\n",
      "Клиент 1384 отправлял сообщения / расходовал трафик в месяцы:\n",
      "[ 9  8  7  5 11 12 10  6]\n",
      "Месяцы в таблице:\n",
      "[ 4  5  6  7  8  9 10 11 12]\n",
      "\n",
      "Клиент 1388 вообще не отправлял сообщения / расходовал трафик.\n",
      "\n",
      "Клиент 1389 отправлял сообщения / расходовал трафик в месяцы:\n",
      "[12  8 10 11]\n",
      "Месяцы в таблице:\n",
      "[ 7  8  9 10 11 12]\n",
      "\n",
      "Клиент 1397 вообще не отправлял сообщения / расходовал трафик.\n",
      "\n",
      "Клиент 1413 отправлял сообщения / расходовал трафик в месяцы:\n",
      "[11 10  8  9]\n",
      "Месяцы в таблице:\n",
      "[ 8  9 10 11 12]\n",
      "\n",
      "Клиент 1428 вообще не отправлял сообщения / расходовал трафик.\n",
      "\n",
      "Клиент 1429 вообще не отправлял сообщения / расходовал трафик.\n",
      "\n",
      "Клиент 1435 вообще не отправлял сообщения / расходовал трафик.\n",
      "\n",
      "Клиент 1439 отправлял сообщения / расходовал трафик в месяцы:\n",
      "[12 10  8  7 11  9]\n",
      "Месяцы в таблице:\n",
      "[ 6  7  8  9 10 11 12]\n",
      "\n",
      "Клиент 1442 вообще не отправлял сообщения / расходовал трафик.\n",
      "\n",
      "Клиент 1455 отправлял сообщения / расходовал трафик в месяцы:\n",
      "[ 8  6  7  9 12  4  5 10 11]\n",
      "Месяцы в таблице:\n",
      "[ 3  4  5  6  7  8  9 10 11 12]\n",
      "\n",
      "Клиент 1456 вообще не отправлял сообщения / расходовал трафик.\n",
      "\n",
      "Клиент 1458 отправлял сообщения / расходовал трафик в месяцы:\n",
      "[ 6 10  8 11  4 12  5  9  3  7]\n",
      "Месяцы в таблице:\n",
      "[ 2  3  4  5  6  7  8  9 10 11 12]\n",
      "\n",
      "Клиент 1462 вообще не отправлял сообщения / расходовал трафик.\n",
      "\n",
      "Клиент 1466 вообще не отправлял сообщения / расходовал трафик.\n",
      "\n",
      "Клиент 1469 вообще не отправлял сообщения / расходовал трафик.\n",
      "\n",
      "Клиент 1479 вообще не отправлял сообщения / расходовал трафик.\n",
      "\n",
      "Клиент 1494 вообще не отправлял сообщения / расходовал трафик.\n",
      "\n"
     ]
    }
   ],
   "source": [
    "check(messages, users_with_na_messages, 'message_date')"
   ]
  },
  {
   "cell_type": "markdown",
   "id": "54350e13",
   "metadata": {},
   "source": [
    "Проверим пропуски по интернет-трафику:"
   ]
  },
  {
   "cell_type": "code",
   "execution_count": 81,
   "id": "a9059d99",
   "metadata": {},
   "outputs": [
    {
     "name": "stdout",
     "output_type": "stream",
     "text": [
      "Клиент 1273 вообще не отправлял сообщения / расходовал трафик.\n",
      "\n",
      "Клиент 1377 отправлял сообщения / расходовал трафик в месяцы:\n",
      "[ 3 11  8  6  7  4 10  5  9 12]\n",
      "Месяцы в таблице:\n",
      "[ 2  3  4  5  6  7  8  9 10 11 12]\n",
      "\n",
      "Клиент 1392 отправлял сообщения / расходовал трафик в месяцы:\n",
      "[6 7 9 3 5 4 8]\n",
      "Месяцы в таблице:\n",
      "[2 3 4 5 6 7 8 9]\n",
      "\n",
      "Клиент 1446 отправлял сообщения / расходовал трафик в месяцы:\n",
      "[12  9 11 10]\n",
      "Месяцы в таблице:\n",
      "[ 8  9 10 11 12]\n",
      "\n"
     ]
    }
   ],
   "source": [
    "check(internet, users_with_na_gb_used, 'session_date')"
   ]
  },
  {
   "cell_type": "markdown",
   "id": "95d0516f",
   "metadata": {},
   "source": [
    "Действительно, пропуски связаны с тем, что некоторые пользователи в определенные месяцы не отправляли сообщения или не расходовали трафик. Заполним такие пропуски нулями."
   ]
  },
  {
   "cell_type": "code",
   "execution_count": 82,
   "id": "ef666b52",
   "metadata": {},
   "outputs": [],
   "source": [
    "calc['number_of_messages'] = calc['number_of_messages'].fillna(0)\n",
    "calc['gb_used'] = calc['gb_used'].fillna(0)"
   ]
  },
  {
   "cell_type": "markdown",
   "id": "19bdf3a7",
   "metadata": {},
   "source": [
    "Убедимся в заполнении пропусков:"
   ]
  },
  {
   "cell_type": "code",
   "execution_count": 108,
   "id": "b0fe2240",
   "metadata": {},
   "outputs": [
    {
     "name": "stdout",
     "output_type": "stream",
     "text": [
      "<class 'pandas.core.frame.DataFrame'>\n",
      "Int64Index: 3174 entries, 0 to 3173\n",
      "Data columns (total 8 columns):\n",
      "user_id               3174 non-null int64\n",
      "month                 3174 non-null int64\n",
      "number_of_calls       3174 non-null int64\n",
      "duration              3174 non-null int64\n",
      "number_of_messages    3174 non-null float64\n",
      "gb_used               3174 non-null float64\n",
      "tariff                3174 non-null object\n",
      "revenue_for_month     3174 non-null float64\n",
      "dtypes: float64(3), int64(4), object(1)\n",
      "memory usage: 223.2+ KB\n"
     ]
    }
   ],
   "source": [
    "calc.info()"
   ]
  },
  {
   "cell_type": "markdown",
   "id": "30ae23ea",
   "metadata": {},
   "source": [
    "### Вывод. Необходимые расчеты"
   ]
  },
  {
   "cell_type": "markdown",
   "id": "db56081d",
   "metadata": {},
   "source": [
    "Для каждого пользователя были рассчитаны значения:\n",
    "\n",
    "- количества сделанных звонков и израсходованных минут разговора по месяцам;\n",
    "- количества отправленных сообщений по месяцам;\n",
    "- объема израсходованного интернет-трафика по месяцам;\n",
    "- помесячной выручку с каждого пользователя.\n",
    "\n",
    "Расчеты занесены в датафрейм `calc`. Важно отметить, что в результате заполнения датафрейма расчетами, в столбцах `number_of_messages` и `gb_used` возникли пропуски из-за того, что пользователи не проявляли активность по эти параметрам в определенные месяцы. Такие пропуски были заполнены нулями.\n"
   ]
  },
  {
   "cell_type": "markdown",
   "id": "e318cdff",
   "metadata": {},
   "source": [
    "## Исследовательский анализ данных"
   ]
  },
  {
   "cell_type": "markdown",
   "id": "6e9e39b1",
   "metadata": {},
   "source": [
    "Опишишем поведение клиентов оператора, исходя из выборки. Сначала посмотрим распределение значений в параметрах."
   ]
  },
  {
   "cell_type": "markdown",
   "id": "9407f24c",
   "metadata": {},
   "source": [
    "### Распределение значений в параметрах"
   ]
  },
  {
   "cell_type": "markdown",
   "id": "39ce2320",
   "metadata": {},
   "source": [
    "Выведем первые 5 строк датафрейма `calc`:"
   ]
  },
  {
   "cell_type": "code",
   "execution_count": 83,
   "id": "4b755890",
   "metadata": {},
   "outputs": [
    {
     "data": {
      "text/html": [
       "<div>\n",
       "<style scoped>\n",
       "    .dataframe tbody tr th:only-of-type {\n",
       "        vertical-align: middle;\n",
       "    }\n",
       "\n",
       "    .dataframe tbody tr th {\n",
       "        vertical-align: top;\n",
       "    }\n",
       "\n",
       "    .dataframe thead th {\n",
       "        text-align: right;\n",
       "    }\n",
       "</style>\n",
       "<table border=\"1\" class=\"dataframe\">\n",
       "  <thead>\n",
       "    <tr style=\"text-align: right;\">\n",
       "      <th></th>\n",
       "      <th>user_id</th>\n",
       "      <th>month</th>\n",
       "      <th>number_of_calls</th>\n",
       "      <th>duration</th>\n",
       "      <th>number_of_messages</th>\n",
       "      <th>gb_used</th>\n",
       "      <th>tariff</th>\n",
       "      <th>revenue_for_month</th>\n",
       "    </tr>\n",
       "  </thead>\n",
       "  <tbody>\n",
       "    <tr>\n",
       "      <th>0</th>\n",
       "      <td>1000</td>\n",
       "      <td>5</td>\n",
       "      <td>22</td>\n",
       "      <td>159</td>\n",
       "      <td>22.0</td>\n",
       "      <td>3.0</td>\n",
       "      <td>ultra</td>\n",
       "      <td>1950.0</td>\n",
       "    </tr>\n",
       "    <tr>\n",
       "      <th>1</th>\n",
       "      <td>1000</td>\n",
       "      <td>6</td>\n",
       "      <td>43</td>\n",
       "      <td>172</td>\n",
       "      <td>60.0</td>\n",
       "      <td>23.0</td>\n",
       "      <td>ultra</td>\n",
       "      <td>1950.0</td>\n",
       "    </tr>\n",
       "    <tr>\n",
       "      <th>2</th>\n",
       "      <td>1000</td>\n",
       "      <td>7</td>\n",
       "      <td>47</td>\n",
       "      <td>340</td>\n",
       "      <td>75.0</td>\n",
       "      <td>14.0</td>\n",
       "      <td>ultra</td>\n",
       "      <td>1950.0</td>\n",
       "    </tr>\n",
       "    <tr>\n",
       "      <th>3</th>\n",
       "      <td>1000</td>\n",
       "      <td>8</td>\n",
       "      <td>52</td>\n",
       "      <td>408</td>\n",
       "      <td>81.0</td>\n",
       "      <td>14.0</td>\n",
       "      <td>ultra</td>\n",
       "      <td>1950.0</td>\n",
       "    </tr>\n",
       "    <tr>\n",
       "      <th>4</th>\n",
       "      <td>1000</td>\n",
       "      <td>9</td>\n",
       "      <td>58</td>\n",
       "      <td>466</td>\n",
       "      <td>57.0</td>\n",
       "      <td>15.0</td>\n",
       "      <td>ultra</td>\n",
       "      <td>1950.0</td>\n",
       "    </tr>\n",
       "  </tbody>\n",
       "</table>\n",
       "</div>"
      ],
      "text/plain": [
       "   user_id  month  number_of_calls  duration  number_of_messages  gb_used  \\\n",
       "0     1000      5               22       159                22.0      3.0   \n",
       "1     1000      6               43       172                60.0     23.0   \n",
       "2     1000      7               47       340                75.0     14.0   \n",
       "3     1000      8               52       408                81.0     14.0   \n",
       "4     1000      9               58       466                57.0     15.0   \n",
       "\n",
       "  tariff  revenue_for_month  \n",
       "0  ultra             1950.0  \n",
       "1  ultra             1950.0  \n",
       "2  ultra             1950.0  \n",
       "3  ultra             1950.0  \n",
       "4  ultra             1950.0  "
      ]
     },
     "execution_count": 83,
     "metadata": {},
     "output_type": "execute_result"
    }
   ],
   "source": [
    "calc.head()"
   ]
  },
  {
   "cell_type": "markdown",
   "id": "73d12a5a",
   "metadata": {},
   "source": [
    "Разделим пользователей с разными тарифами по двум датафреймам:"
   ]
  },
  {
   "cell_type": "code",
   "execution_count": 84,
   "id": "34295589",
   "metadata": {},
   "outputs": [],
   "source": [
    "calc_smart = calc.query('tariff == \"smart\"')\n",
    "calc_ultra = calc.query('tariff == \"ultra\"')"
   ]
  },
  {
   "cell_type": "markdown",
   "id": "dd265b8f",
   "metadata": {},
   "source": [
    "После разделения датафрейма столбец `tariff` больше не нужен."
   ]
  },
  {
   "cell_type": "code",
   "execution_count": 85,
   "id": "ad689019",
   "metadata": {},
   "outputs": [],
   "source": [
    "calc_smart = calc_smart.drop(['tariff'], axis=1)\n",
    "calc_ultra = calc_ultra.drop(['tariff'], axis=1)"
   ]
  },
  {
   "cell_type": "markdown",
   "id": "8ca89931",
   "metadata": {},
   "source": [
    "Построим гистограммы для каждого параметра датафрейма `calc` (за исключением месяца) с помощью функции:"
   ]
  },
  {
   "cell_type": "code",
   "execution_count": 86,
   "id": "1c275c61",
   "metadata": {},
   "outputs": [],
   "source": [
    "def plot_hist_sns(df_1, df_2):\n",
    "    columns = df_1.columns    \n",
    "    for column in columns:\n",
    "        if column != 'user_id' and column != 'month':\n",
    "            plt.figure(figsize=(15, 5))\n",
    "            ax = sns.histplot(\n",
    "            df_1[column],\n",
    "            label='smart',\n",
    "            alpha=0.5,\n",
    "            color='red'\n",
    "            )\n",
    "            sns.histplot(\n",
    "            df_2[column],\n",
    "            ax=ax,\n",
    "            label='ultra',\n",
    "            alpha=0.5\n",
    "            )\n",
    "            plt.show()"
   ]
  },
  {
   "cell_type": "code",
   "execution_count": 87,
   "id": "6efc11a8",
   "metadata": {
    "scrolled": false
   },
   "outputs": [
    {
     "data": {
      "image/png": "[encoded data removed]",
      "text/plain": [
       "<Figure size 1080x360 with 1 Axes>"
      ]
     },
     "metadata": {
      "needs_background": "light"
     },
     "output_type": "display_data"
    },
    {
     "data": {
      "image/png": "[encoded data removed]",
      "text/plain": [
       "<Figure size 1080x360 with 1 Axes>"
      ]
     },
     "metadata": {
      "needs_background": "light"
     },
     "output_type": "display_data"
    },
    {
     "data": {
      "image/png": "[encoded data removed]",
      "text/plain": [
       "<Figure size 1080x360 with 1 Axes>"
      ]
     },
     "metadata": {
      "needs_background": "light"
     },
     "output_type": "display_data"
    },
    {
     "data": {
      "image/png": "[encoded data removed]",
      "text/plain": [
       "<Figure size 1080x360 with 1 Axes>"
      ]
     },
     "metadata": {
      "needs_background": "light"
     },
     "output_type": "display_data"
    },
    {
     "data": {
      "image/png": "[encoded data removed]",
      "text/plain": [
       "<Figure size 1080x360 with 1 Axes>"
      ]
     },
     "metadata": {
      "needs_background": "light"
     },
     "output_type": "display_data"
    }
   ],
   "source": [
    "plot_hist_sns(calc_smart, calc_ultra)"
   ]
  },
  {
   "cell_type": "markdown",
   "id": "55d2590c",
   "metadata": {},
   "source": [
    "Выведем основные статистические характеристики:"
   ]
  },
  {
   "cell_type": "code",
   "execution_count": 88,
   "id": "152d317f",
   "metadata": {},
   "outputs": [
    {
     "data": {
      "text/html": [
       "<div>\n",
       "<style scoped>\n",
       "    .dataframe tbody tr th:only-of-type {\n",
       "        vertical-align: middle;\n",
       "    }\n",
       "\n",
       "    .dataframe tbody tr th {\n",
       "        vertical-align: top;\n",
       "    }\n",
       "\n",
       "    .dataframe thead th {\n",
       "        text-align: right;\n",
       "    }\n",
       "</style>\n",
       "<table border=\"1\" class=\"dataframe\">\n",
       "  <thead>\n",
       "    <tr style=\"text-align: right;\">\n",
       "      <th></th>\n",
       "      <th>count</th>\n",
       "      <th>mean</th>\n",
       "      <th>std</th>\n",
       "      <th>min</th>\n",
       "      <th>25%</th>\n",
       "      <th>50%</th>\n",
       "      <th>75%</th>\n",
       "      <th>max</th>\n",
       "    </tr>\n",
       "  </thead>\n",
       "  <tbody>\n",
       "    <tr>\n",
       "      <th>user_id</th>\n",
       "      <td>2223.0</td>\n",
       "      <td>1245.904184</td>\n",
       "      <td>145.837842</td>\n",
       "      <td>1001.0</td>\n",
       "      <td>1121.0</td>\n",
       "      <td>1239.0</td>\n",
       "      <td>1376.0</td>\n",
       "      <td>1499.0</td>\n",
       "    </tr>\n",
       "    <tr>\n",
       "      <th>month</th>\n",
       "      <td>2223.0</td>\n",
       "      <td>8.344130</td>\n",
       "      <td>2.922009</td>\n",
       "      <td>1.0</td>\n",
       "      <td>6.0</td>\n",
       "      <td>9.0</td>\n",
       "      <td>11.0</td>\n",
       "      <td>12.0</td>\n",
       "    </tr>\n",
       "    <tr>\n",
       "      <th>number_of_calls</th>\n",
       "      <td>2223.0</td>\n",
       "      <td>58.621233</td>\n",
       "      <td>25.796101</td>\n",
       "      <td>1.0</td>\n",
       "      <td>40.0</td>\n",
       "      <td>60.0</td>\n",
       "      <td>76.0</td>\n",
       "      <td>198.0</td>\n",
       "    </tr>\n",
       "    <tr>\n",
       "      <th>duration</th>\n",
       "      <td>2223.0</td>\n",
       "      <td>419.062978</td>\n",
       "      <td>189.325618</td>\n",
       "      <td>0.0</td>\n",
       "      <td>285.0</td>\n",
       "      <td>423.0</td>\n",
       "      <td>545.5</td>\n",
       "      <td>1435.0</td>\n",
       "    </tr>\n",
       "    <tr>\n",
       "      <th>number_of_messages</th>\n",
       "      <td>2223.0</td>\n",
       "      <td>33.396311</td>\n",
       "      <td>28.259437</td>\n",
       "      <td>0.0</td>\n",
       "      <td>10.0</td>\n",
       "      <td>28.0</td>\n",
       "      <td>51.0</td>\n",
       "      <td>143.0</td>\n",
       "    </tr>\n",
       "    <tr>\n",
       "      <th>gb_used</th>\n",
       "      <td>2223.0</td>\n",
       "      <td>16.329735</td>\n",
       "      <td>5.752599</td>\n",
       "      <td>0.0</td>\n",
       "      <td>13.0</td>\n",
       "      <td>17.0</td>\n",
       "      <td>20.0</td>\n",
       "      <td>38.0</td>\n",
       "    </tr>\n",
       "    <tr>\n",
       "      <th>revenue_for_month</th>\n",
       "      <td>2223.0</td>\n",
       "      <td>1290.891138</td>\n",
       "      <td>819.119853</td>\n",
       "      <td>550.0</td>\n",
       "      <td>550.0</td>\n",
       "      <td>1030.0</td>\n",
       "      <td>1750.0</td>\n",
       "      <td>6770.0</td>\n",
       "    </tr>\n",
       "  </tbody>\n",
       "</table>\n",
       "</div>"
      ],
      "text/plain": [
       "                     count         mean         std     min     25%     50%  \\\n",
       "user_id             2223.0  1245.904184  145.837842  1001.0  1121.0  1239.0   \n",
       "month               2223.0     8.344130    2.922009     1.0     6.0     9.0   \n",
       "number_of_calls     2223.0    58.621233   25.796101     1.0    40.0    60.0   \n",
       "duration            2223.0   419.062978  189.325618     0.0   285.0   423.0   \n",
       "number_of_messages  2223.0    33.396311   28.259437     0.0    10.0    28.0   \n",
       "gb_used             2223.0    16.329735    5.752599     0.0    13.0    17.0   \n",
       "revenue_for_month   2223.0  1290.891138  819.119853   550.0   550.0  1030.0   \n",
       "\n",
       "                       75%     max  \n",
       "user_id             1376.0  1499.0  \n",
       "month                 11.0    12.0  \n",
       "number_of_calls       76.0   198.0  \n",
       "duration             545.5  1435.0  \n",
       "number_of_messages    51.0   143.0  \n",
       "gb_used               20.0    38.0  \n",
       "revenue_for_month   1750.0  6770.0  "
      ]
     },
     "execution_count": 88,
     "metadata": {},
     "output_type": "execute_result"
    }
   ],
   "source": [
    "calc_smart.describe().T"
   ]
  },
  {
   "cell_type": "code",
   "execution_count": 89,
   "id": "e515409a",
   "metadata": {},
   "outputs": [
    {
     "data": {
      "text/html": [
       "<div>\n",
       "<style scoped>\n",
       "    .dataframe tbody tr th:only-of-type {\n",
       "        vertical-align: middle;\n",
       "    }\n",
       "\n",
       "    .dataframe tbody tr th {\n",
       "        vertical-align: top;\n",
       "    }\n",
       "\n",
       "    .dataframe thead th {\n",
       "        text-align: right;\n",
       "    }\n",
       "</style>\n",
       "<table border=\"1\" class=\"dataframe\">\n",
       "  <thead>\n",
       "    <tr style=\"text-align: right;\">\n",
       "      <th></th>\n",
       "      <th>count</th>\n",
       "      <th>mean</th>\n",
       "      <th>std</th>\n",
       "      <th>min</th>\n",
       "      <th>25%</th>\n",
       "      <th>50%</th>\n",
       "      <th>75%</th>\n",
       "      <th>max</th>\n",
       "    </tr>\n",
       "  </thead>\n",
       "  <tbody>\n",
       "    <tr>\n",
       "      <th>user_id</th>\n",
       "      <td>951.0</td>\n",
       "      <td>1264.766562</td>\n",
       "      <td>140.413405</td>\n",
       "      <td>1000.0</td>\n",
       "      <td>1148.0</td>\n",
       "      <td>1281.0</td>\n",
       "      <td>1381.0</td>\n",
       "      <td>1495.0</td>\n",
       "    </tr>\n",
       "    <tr>\n",
       "      <th>month</th>\n",
       "      <td>951.0</td>\n",
       "      <td>8.235542</td>\n",
       "      <td>2.883937</td>\n",
       "      <td>1.0</td>\n",
       "      <td>6.0</td>\n",
       "      <td>9.0</td>\n",
       "      <td>11.0</td>\n",
       "      <td>12.0</td>\n",
       "    </tr>\n",
       "    <tr>\n",
       "      <th>number_of_calls</th>\n",
       "      <td>951.0</td>\n",
       "      <td>76.016824</td>\n",
       "      <td>42.403348</td>\n",
       "      <td>1.0</td>\n",
       "      <td>43.0</td>\n",
       "      <td>75.0</td>\n",
       "      <td>105.0</td>\n",
       "      <td>244.0</td>\n",
       "    </tr>\n",
       "    <tr>\n",
       "      <th>duration</th>\n",
       "      <td>951.0</td>\n",
       "      <td>545.451104</td>\n",
       "      <td>306.925754</td>\n",
       "      <td>0.0</td>\n",
       "      <td>310.0</td>\n",
       "      <td>528.0</td>\n",
       "      <td>756.5</td>\n",
       "      <td>1673.0</td>\n",
       "    </tr>\n",
       "    <tr>\n",
       "      <th>number_of_messages</th>\n",
       "      <td>951.0</td>\n",
       "      <td>49.033649</td>\n",
       "      <td>46.890656</td>\n",
       "      <td>0.0</td>\n",
       "      <td>5.0</td>\n",
       "      <td>39.0</td>\n",
       "      <td>79.0</td>\n",
       "      <td>224.0</td>\n",
       "    </tr>\n",
       "    <tr>\n",
       "      <th>gb_used</th>\n",
       "      <td>951.0</td>\n",
       "      <td>19.487907</td>\n",
       "      <td>9.890432</td>\n",
       "      <td>0.0</td>\n",
       "      <td>12.0</td>\n",
       "      <td>19.0</td>\n",
       "      <td>27.0</td>\n",
       "      <td>49.0</td>\n",
       "    </tr>\n",
       "    <tr>\n",
       "      <th>revenue_for_month</th>\n",
       "      <td>951.0</td>\n",
       "      <td>2070.977918</td>\n",
       "      <td>379.423372</td>\n",
       "      <td>1950.0</td>\n",
       "      <td>1950.0</td>\n",
       "      <td>1950.0</td>\n",
       "      <td>1950.0</td>\n",
       "      <td>4800.0</td>\n",
       "    </tr>\n",
       "  </tbody>\n",
       "</table>\n",
       "</div>"
      ],
      "text/plain": [
       "                    count         mean         std     min     25%     50%  \\\n",
       "user_id             951.0  1264.766562  140.413405  1000.0  1148.0  1281.0   \n",
       "month               951.0     8.235542    2.883937     1.0     6.0     9.0   \n",
       "number_of_calls     951.0    76.016824   42.403348     1.0    43.0    75.0   \n",
       "duration            951.0   545.451104  306.925754     0.0   310.0   528.0   \n",
       "number_of_messages  951.0    49.033649   46.890656     0.0     5.0    39.0   \n",
       "gb_used             951.0    19.487907    9.890432     0.0    12.0    19.0   \n",
       "revenue_for_month   951.0  2070.977918  379.423372  1950.0  1950.0  1950.0   \n",
       "\n",
       "                       75%     max  \n",
       "user_id             1381.0  1495.0  \n",
       "month                 11.0    12.0  \n",
       "number_of_calls      105.0   244.0  \n",
       "duration             756.5  1673.0  \n",
       "number_of_messages    79.0   224.0  \n",
       "gb_used               27.0    49.0  \n",
       "revenue_for_month   1950.0  4800.0  "
      ]
     },
     "execution_count": 89,
     "metadata": {},
     "output_type": "execute_result"
    }
   ],
   "source": [
    "calc_ultra.describe().T"
   ]
  },
  {
   "cell_type": "markdown",
   "id": "ed3a681a",
   "metadata": {},
   "source": [
    "#### Вывод. Распределение значений в параметрах"
   ]
  },
  {
   "cell_type": "markdown",
   "id": "612f601c",
   "metadata": {},
   "source": [
    "Первое что бросается в глаза - пользователей тарифа *ultra* почти в два раза меньше, это логично - он дороже. Практические во всех случаях распределение параметров у тарифа ultra имеет более широкий охват значений. Пользователи этого тарифа, в среднем, больше звонят, пишут сообщения и расходуют больше интернет-трафика. Это обусловлено тем, что лимиты по минутам, сообщениям и интернет-трафику у тарифа ultra превосходят лимиты тарифа smart в разы. \n",
    "\n",
    "Пройдемся по конкретным параметрам:\n",
    "\n",
    "1) **Продолжительность звонка**. Вид распределений продолжительности звонков у тарифов схож, но как сказано выше - распределение продолжительности звонков пользователей тарифом ultra шире, а у тарифа smart выше пик. Причем пик распределения у тарифа smart приходится на лимит по продолжительности звонков в месяц, пользователи стараются не превысить его чтобы не переплачивать - выглядит логично. Оба распределения с положительной асимметрией. На положительную асимметрию скорее всего влияют пропущенные звонки с нулевой длительностью. \n",
    "\n",
    "Основные показатели занесены в таблицу:\n",
    "\n",
    "| Тариф|Средняя продолжительность звонка, мин|Медианная продолжительность звонка, мин| Максимальная продолжительность звонка, мин |\n",
    "| -----|:-----------------------------------:|:-------------------------------------:|:-------------------------------------:|\n",
    "| smart| 419                                 |  423                                  | 1435\n",
    "| ultra| 545                                 |  528                                  | 1673\n",
    "\n",
    "2) **Расход интернет-трафика**. Вид распределений количества использованного трафика у обоих тарифов практически симметричные и квазинормальные. Но они отличаются по скосу, пусть и незначительно. Распределение тарифа smart имеет отрицательную асимметрию, а по тарифу ultra - положительную. Пользователям тарифа smart явно не хватает интернет трафика. В среднем они превышают тарифный лимит в 15 Гб, возможно это и является причиной отрицательной асимметрии распределения. Пики распределений практически совпадают. \n",
    "\n",
    "Основные показатели занесены в таблицу:\n",
    "\n",
    "| Тариф        |  Среднее количество израсходованного трафика, Гб   | Медианное количество израсходованного трафика, Гб | Максимальное количество израсходованного трафика, Гб |\n",
    "| ------------ |:----------------------------------------:| :--------------------------------------:|:--------------------------------------:|\n",
    "| smart        | 16                                       |  17                                     | 38\n",
    "| ultra        | 20                                       |  19                                     | 49\n",
    "\n",
    "3) **Число звонков**. Распределение количества звонков пользователей тарифа ultra практические симметричное, а тарифа smart имеет отрицательную асимметрию. \n",
    "\n",
    "Основные показатели занесены в таблицу:\n",
    " \n",
    "| Тариф        |  Среднее количество звонков, шт          | Медианное количество звонков, шт        | Максимальное количество звонков, шт        |\n",
    "| ------------ |:----------------------------------------:| :--------------------------------------:|  :--------------------------------------:|\n",
    "| smart        | 58                                       |  76                                     | 198\n",
    "| ultra        | 76                                       |  75                                     | 244\n",
    "\n",
    "4) **Число сообщений**. Распределения имеют сильную положительную асимметрию - большинство людей мало отправляют сообщения, но есть пользователи которые активно их отправляют. В целом распределения очень похожи, однако, распределения числа сообщений пользователей тарифа ultra - распределение шире. Опять же это связано с лимитом на отправку бесплатных сообщений, у пользователей тарифом smart он составляет 50, а у пользователей тарифа ultra - 1000. Поэтому основная масса пользователей тарифа smart отправляет до 50 сообщений, чтобы не переплачивать когда лимит иссякнет.\n",
    "\n",
    "Основные показатели занесены в таблицу:\n",
    "\n",
    "| Тариф        |  Среднее количество сообщений, шт        | Медианное количество сообщений, шт      | Максимальное количество сообщений, шт      |\n",
    "| ------------ |:----------------------------------------:| :--------------------------------------:|:--------------------------------------:|\n",
    "| smart        | 39                                       |  34                                     | 143\n",
    "| ultra        | 61                                       |  52                                     | 224\n",
    "\n",
    "5) **Среднемесячная выручка**. Оба распределения имеют характерные высокие пики, которые приходятся на стоимость ежемесячной тарификации. Следует отметить, что по виду распределения можно сказать, что пользователи тарифа smart чаще переплачивают израсходовав месячный лимит по одному из параметров (например интернет-трафик, что было отмечено выше). Это подтверждает сильная положительная асимметрия у распределения среднемесячной выручки от клиентов тарифа smart. Положительная асимметрия также наблюдается у распределения для тарифа ultra, но не столь выраженная.\n",
    "\n",
    "Основные показатели занесены в таблицу:\n",
    "\n",
    "| Тариф        |  Средняя выручка с пользователя в месяц, руб        | Медианная выручка с пользователя в месяц, руб      | Максимальная выручка с пользователя в месяц, руб       |\n",
    "| ------------ |:----------------------------------------:| :--------------------------------------:|:--------------------------------------:|\n",
    "| smart        | 1291                                       |  1030                                   | 6770\n",
    "| ultra        | 2070                                      |  1950                                    | 4800\n",
    "\n"
   ]
  },
  {
   "cell_type": "markdown",
   "id": "7c91b947",
   "metadata": {},
   "source": [
    "### Распределение средних значений в течении года"
   ]
  },
  {
   "cell_type": "markdown",
   "id": "acdab863",
   "metadata": {},
   "source": [
    "Интересно посмотреть как все параметры, в сренем, меняются в течении года. "
   ]
  },
  {
   "cell_type": "markdown",
   "id": "a0eec66e",
   "metadata": {},
   "source": [
    "Приведем средние значения параметров по месяцам в зависимости от тарифа в сводную таблицу:"
   ]
  },
  {
   "cell_type": "code",
   "execution_count": 90,
   "id": "8c93c921",
   "metadata": {},
   "outputs": [],
   "source": [
    "mean_values_on_month = calc.pivot_table(index=['month', 'tariff'], values=['duration', \n",
    "                                                    'gb_used', \n",
    "                                                    'number_of_calls', \n",
    "                                                    'number_of_messages',\n",
    "                                                    'revenue_for_month'])"
   ]
  },
  {
   "cell_type": "markdown",
   "id": "2162a41d",
   "metadata": {},
   "source": [
    "Уберем возникший в результате группировки мультииндекс:"
   ]
  },
  {
   "cell_type": "code",
   "execution_count": 91,
   "id": "33bffb21",
   "metadata": {
    "scrolled": false
   },
   "outputs": [],
   "source": [
    "mean_values_on_month.reset_index(level=1, inplace=True)\n",
    "mean_values_on_month.reset_index(inplace=True)"
   ]
  },
  {
   "cell_type": "code",
   "execution_count": 92,
   "id": "7c45c1cf",
   "metadata": {},
   "outputs": [
    {
     "data": {
      "text/html": [
       "<div>\n",
       "<style scoped>\n",
       "    .dataframe tbody tr th:only-of-type {\n",
       "        vertical-align: middle;\n",
       "    }\n",
       "\n",
       "    .dataframe tbody tr th {\n",
       "        vertical-align: top;\n",
       "    }\n",
       "\n",
       "    .dataframe thead th {\n",
       "        text-align: right;\n",
       "    }\n",
       "</style>\n",
       "<table border=\"1\" class=\"dataframe\">\n",
       "  <thead>\n",
       "    <tr style=\"text-align: right;\">\n",
       "      <th></th>\n",
       "      <th>month</th>\n",
       "      <th>tariff</th>\n",
       "      <th>duration</th>\n",
       "      <th>gb_used</th>\n",
       "      <th>number_of_calls</th>\n",
       "      <th>number_of_messages</th>\n",
       "      <th>revenue_for_month</th>\n",
       "    </tr>\n",
       "  </thead>\n",
       "  <tbody>\n",
       "    <tr>\n",
       "      <th>0</th>\n",
       "      <td>1</td>\n",
       "      <td>smart</td>\n",
       "      <td>203.852941</td>\n",
       "      <td>8.735294</td>\n",
       "      <td>27.676471</td>\n",
       "      <td>18.235294</td>\n",
       "      <td>721.323529</td>\n",
       "    </tr>\n",
       "    <tr>\n",
       "      <th>1</th>\n",
       "      <td>1</td>\n",
       "      <td>ultra</td>\n",
       "      <td>428.111111</td>\n",
       "      <td>13.222222</td>\n",
       "      <td>59.444444</td>\n",
       "      <td>33.777778</td>\n",
       "      <td>1950.000000</td>\n",
       "    </tr>\n",
       "    <tr>\n",
       "      <th>2</th>\n",
       "      <td>2</td>\n",
       "      <td>smart</td>\n",
       "      <td>298.689655</td>\n",
       "      <td>11.844828</td>\n",
       "      <td>40.189655</td>\n",
       "      <td>24.086207</td>\n",
       "      <td>827.603448</td>\n",
       "    </tr>\n",
       "    <tr>\n",
       "      <th>3</th>\n",
       "      <td>2</td>\n",
       "      <td>ultra</td>\n",
       "      <td>297.125000</td>\n",
       "      <td>12.000000</td>\n",
       "      <td>41.541667</td>\n",
       "      <td>21.958333</td>\n",
       "      <td>1975.000000</td>\n",
       "    </tr>\n",
       "    <tr>\n",
       "      <th>4</th>\n",
       "      <td>3</td>\n",
       "      <td>smart</td>\n",
       "      <td>390.051948</td>\n",
       "      <td>15.233766</td>\n",
       "      <td>54.324675</td>\n",
       "      <td>31.857143</td>\n",
       "      <td>1164.623377</td>\n",
       "    </tr>\n",
       "    <tr>\n",
       "      <th>5</th>\n",
       "      <td>3</td>\n",
       "      <td>ultra</td>\n",
       "      <td>489.648649</td>\n",
       "      <td>17.648649</td>\n",
       "      <td>67.675676</td>\n",
       "      <td>32.297297</td>\n",
       "      <td>2014.864865</td>\n",
       "    </tr>\n",
       "    <tr>\n",
       "      <th>6</th>\n",
       "      <td>4</td>\n",
       "      <td>smart</td>\n",
       "      <td>367.133929</td>\n",
       "      <td>13.625000</td>\n",
       "      <td>51.312500</td>\n",
       "      <td>30.741071</td>\n",
       "      <td>963.089286</td>\n",
       "    </tr>\n",
       "    <tr>\n",
       "      <th>7</th>\n",
       "      <td>4</td>\n",
       "      <td>ultra</td>\n",
       "      <td>475.301887</td>\n",
       "      <td>17.528302</td>\n",
       "      <td>66.509434</td>\n",
       "      <td>32.584906</td>\n",
       "      <td>2003.773585</td>\n",
       "    </tr>\n",
       "    <tr>\n",
       "      <th>8</th>\n",
       "      <td>5</td>\n",
       "      <td>smart</td>\n",
       "      <td>387.361702</td>\n",
       "      <td>15.907801</td>\n",
       "      <td>55.241135</td>\n",
       "      <td>33.773050</td>\n",
       "      <td>1197.510638</td>\n",
       "    </tr>\n",
       "    <tr>\n",
       "      <th>9</th>\n",
       "      <td>5</td>\n",
       "      <td>ultra</td>\n",
       "      <td>534.250000</td>\n",
       "      <td>19.671875</td>\n",
       "      <td>75.906250</td>\n",
       "      <td>37.859375</td>\n",
       "      <td>2064.843750</td>\n",
       "    </tr>\n",
       "    <tr>\n",
       "      <th>10</th>\n",
       "      <td>6</td>\n",
       "      <td>smart</td>\n",
       "      <td>398.067485</td>\n",
       "      <td>15.969325</td>\n",
       "      <td>55.889571</td>\n",
       "      <td>33.312883</td>\n",
       "      <td>1208.030675</td>\n",
       "    </tr>\n",
       "    <tr>\n",
       "      <th>11</th>\n",
       "      <td>6</td>\n",
       "      <td>ultra</td>\n",
       "      <td>497.469136</td>\n",
       "      <td>18.925926</td>\n",
       "      <td>69.209877</td>\n",
       "      <td>40.049383</td>\n",
       "      <td>2042.592593</td>\n",
       "    </tr>\n",
       "    <tr>\n",
       "      <th>12</th>\n",
       "      <td>7</td>\n",
       "      <td>smart</td>\n",
       "      <td>408.353234</td>\n",
       "      <td>15.875622</td>\n",
       "      <td>56.726368</td>\n",
       "      <td>33.751244</td>\n",
       "      <td>1223.950249</td>\n",
       "    </tr>\n",
       "    <tr>\n",
       "      <th>13</th>\n",
       "      <td>7</td>\n",
       "      <td>ultra</td>\n",
       "      <td>564.397727</td>\n",
       "      <td>20.443182</td>\n",
       "      <td>78.363636</td>\n",
       "      <td>48.477273</td>\n",
       "      <td>2123.863636</td>\n",
       "    </tr>\n",
       "    <tr>\n",
       "      <th>14</th>\n",
       "      <td>8</td>\n",
       "      <td>smart</td>\n",
       "      <td>423.269231</td>\n",
       "      <td>16.760684</td>\n",
       "      <td>59.230769</td>\n",
       "      <td>33.709402</td>\n",
       "      <td>1323.888889</td>\n",
       "    </tr>\n",
       "    <tr>\n",
       "      <th>15</th>\n",
       "      <td>8</td>\n",
       "      <td>ultra</td>\n",
       "      <td>530.611650</td>\n",
       "      <td>19.611650</td>\n",
       "      <td>74.058252</td>\n",
       "      <td>47.864078</td>\n",
       "      <td>2085.436893</td>\n",
       "    </tr>\n",
       "    <tr>\n",
       "      <th>16</th>\n",
       "      <td>9</td>\n",
       "      <td>smart</td>\n",
       "      <td>430.266409</td>\n",
       "      <td>16.389961</td>\n",
       "      <td>59.776062</td>\n",
       "      <td>33.644788</td>\n",
       "      <td>1251.104247</td>\n",
       "    </tr>\n",
       "    <tr>\n",
       "      <th>17</th>\n",
       "      <td>9</td>\n",
       "      <td>ultra</td>\n",
       "      <td>558.882883</td>\n",
       "      <td>19.135135</td>\n",
       "      <td>77.288288</td>\n",
       "      <td>51.810811</td>\n",
       "      <td>2022.972973</td>\n",
       "    </tr>\n",
       "    <tr>\n",
       "      <th>18</th>\n",
       "      <td>10</td>\n",
       "      <td>smart</td>\n",
       "      <td>427.590444</td>\n",
       "      <td>16.870307</td>\n",
       "      <td>60.167235</td>\n",
       "      <td>33.808874</td>\n",
       "      <td>1364.221843</td>\n",
       "    </tr>\n",
       "    <tr>\n",
       "      <th>19</th>\n",
       "      <td>10</td>\n",
       "      <td>ultra</td>\n",
       "      <td>581.728814</td>\n",
       "      <td>20.093220</td>\n",
       "      <td>80.652542</td>\n",
       "      <td>58.466102</td>\n",
       "      <td>2069.491525</td>\n",
       "    </tr>\n",
       "    <tr>\n",
       "      <th>20</th>\n",
       "      <td>11</td>\n",
       "      <td>smart</td>\n",
       "      <td>436.647619</td>\n",
       "      <td>16.996825</td>\n",
       "      <td>61.698413</td>\n",
       "      <td>34.120635</td>\n",
       "      <td>1343.660317</td>\n",
       "    </tr>\n",
       "    <tr>\n",
       "      <th>21</th>\n",
       "      <td>11</td>\n",
       "      <td>ultra</td>\n",
       "      <td>562.364341</td>\n",
       "      <td>19.666667</td>\n",
       "      <td>78.031008</td>\n",
       "      <td>56.000000</td>\n",
       "      <td>2091.860465</td>\n",
       "    </tr>\n",
       "    <tr>\n",
       "      <th>22</th>\n",
       "      <td>12</td>\n",
       "      <td>smart</td>\n",
       "      <td>479.985119</td>\n",
       "      <td>18.205357</td>\n",
       "      <td>66.684524</td>\n",
       "      <td>35.997024</td>\n",
       "      <td>1580.401786</td>\n",
       "    </tr>\n",
       "    <tr>\n",
       "      <th>23</th>\n",
       "      <td>12</td>\n",
       "      <td>ultra</td>\n",
       "      <td>614.925373</td>\n",
       "      <td>21.649254</td>\n",
       "      <td>86.425373</td>\n",
       "      <td>60.753731</td>\n",
       "      <td>2133.582090</td>\n",
       "    </tr>\n",
       "  </tbody>\n",
       "</table>\n",
       "</div>"
      ],
      "text/plain": [
       "    month tariff    duration    gb_used  number_of_calls  number_of_messages  \\\n",
       "0       1  smart  203.852941   8.735294        27.676471           18.235294   \n",
       "1       1  ultra  428.111111  13.222222        59.444444           33.777778   \n",
       "2       2  smart  298.689655  11.844828        40.189655           24.086207   \n",
       "3       2  ultra  297.125000  12.000000        41.541667           21.958333   \n",
       "4       3  smart  390.051948  15.233766        54.324675           31.857143   \n",
       "5       3  ultra  489.648649  17.648649        67.675676           32.297297   \n",
       "6       4  smart  367.133929  13.625000        51.312500           30.741071   \n",
       "7       4  ultra  475.301887  17.528302        66.509434           32.584906   \n",
       "8       5  smart  387.361702  15.907801        55.241135           33.773050   \n",
       "9       5  ultra  534.250000  19.671875        75.906250           37.859375   \n",
       "10      6  smart  398.067485  15.969325        55.889571           33.312883   \n",
       "11      6  ultra  497.469136  18.925926        69.209877           40.049383   \n",
       "12      7  smart  408.353234  15.875622        56.726368           33.751244   \n",
       "13      7  ultra  564.397727  20.443182        78.363636           48.477273   \n",
       "14      8  smart  423.269231  16.760684        59.230769           33.709402   \n",
       "15      8  ultra  530.611650  19.611650        74.058252           47.864078   \n",
       "16      9  smart  430.266409  16.389961        59.776062           33.644788   \n",
       "17      9  ultra  558.882883  19.135135        77.288288           51.810811   \n",
       "18     10  smart  427.590444  16.870307        60.167235           33.808874   \n",
       "19     10  ultra  581.728814  20.093220        80.652542           58.466102   \n",
       "20     11  smart  436.647619  16.996825        61.698413           34.120635   \n",
       "21     11  ultra  562.364341  19.666667        78.031008           56.000000   \n",
       "22     12  smart  479.985119  18.205357        66.684524           35.997024   \n",
       "23     12  ultra  614.925373  21.649254        86.425373           60.753731   \n",
       "\n",
       "    revenue_for_month  \n",
       "0          721.323529  \n",
       "1         1950.000000  \n",
       "2          827.603448  \n",
       "3         1975.000000  \n",
       "4         1164.623377  \n",
       "5         2014.864865  \n",
       "6          963.089286  \n",
       "7         2003.773585  \n",
       "8         1197.510638  \n",
       "9         2064.843750  \n",
       "10        1208.030675  \n",
       "11        2042.592593  \n",
       "12        1223.950249  \n",
       "13        2123.863636  \n",
       "14        1323.888889  \n",
       "15        2085.436893  \n",
       "16        1251.104247  \n",
       "17        2022.972973  \n",
       "18        1364.221843  \n",
       "19        2069.491525  \n",
       "20        1343.660317  \n",
       "21        2091.860465  \n",
       "22        1580.401786  \n",
       "23        2133.582090  "
      ]
     },
     "execution_count": 92,
     "metadata": {},
     "output_type": "execute_result"
    }
   ],
   "source": [
    "mean_values_on_month"
   ]
  },
  {
   "cell_type": "markdown",
   "id": "cd042624",
   "metadata": {},
   "source": [
    "Разделим пользователей с разными тарифами по двум датафреймам:"
   ]
  },
  {
   "cell_type": "code",
   "execution_count": 93,
   "id": "f32c4f69",
   "metadata": {},
   "outputs": [],
   "source": [
    "mean_values_on_month_smart = mean_values_on_month.query('tariff == \"smart\"')\n",
    "mean_values_on_month_ultra = mean_values_on_month.query('tariff == \"ultra\"')"
   ]
  },
  {
   "cell_type": "markdown",
   "id": "b4010d35",
   "metadata": {},
   "source": [
    "После разделения датафрейма столбец *tariff* больше не нужен."
   ]
  },
  {
   "cell_type": "code",
   "execution_count": 94,
   "id": "5d80cc95",
   "metadata": {},
   "outputs": [],
   "source": [
    "mean_values_on_month_smart = mean_values_on_month_smart.drop(['tariff'], axis=1)\n",
    "mean_values_on_month_ultra = mean_values_on_month_ultra.drop(['tariff'], axis=1)"
   ]
  },
  {
   "cell_type": "markdown",
   "id": "425dc5f9",
   "metadata": {},
   "source": [
    "Построим графики изменения средних значений параметров в зависимости от месяца:"
   ]
  },
  {
   "cell_type": "code",
   "execution_count": 95,
   "id": "18d5ed5a",
   "metadata": {},
   "outputs": [],
   "source": [
    "def plot_bar(df_1, df_2):\n",
    "    columns = df_1.columns    \n",
    "    for column in columns:\n",
    "        if column != 'month':\n",
    "            ax = df_1.plot(\n",
    "            marker = 'o',\n",
    "            y=column, \n",
    "            x='month',\n",
    "            label='smart', \n",
    "            figsize=(15,5),\n",
    "            grid=True,\n",
    "            color='red')\n",
    "            df_2.plot(\n",
    "            marker = 'o',\n",
    "            y=column, \n",
    "            x='month',\n",
    "            label='ultra', \n",
    "            figsize=(16,4), \n",
    "            ax=ax, \n",
    "            grid=True)\n",
    "            ax.set_ylabel(column)\n",
    "            ax.set_xlabel('month')"
   ]
  },
  {
   "cell_type": "code",
   "execution_count": 96,
   "id": "978d5c48",
   "metadata": {
    "scrolled": false
   },
   "outputs": [
    {
     "data": {
      "image/png": "[encoded data removed]",
      "text/plain": [
       "<Figure size 1152x288 with 1 Axes>"
      ]
     },
     "metadata": {
      "needs_background": "light"
     },
     "output_type": "display_data"
    },
    {
     "data": {
      "image/png": "[encoded data removed]",
      "text/plain": [
       "<Figure size 1152x288 with 1 Axes>"
      ]
     },
     "metadata": {
      "needs_background": "light"
     },
     "output_type": "display_data"
    },
    {
     "data": {
      "image/png": "[encoded data removed]",
      "text/plain": [
       "<Figure size 1152x288 with 1 Axes>"
      ]
     },
     "metadata": {
      "needs_background": "light"
     },
     "output_type": "display_data"
    },
    {
     "data": {
      "image/png": "[encoded data removed]",
      "text/plain": [
       "<Figure size 1152x288 with 1 Axes>"
      ]
     },
     "metadata": {
      "needs_background": "light"
     },
     "output_type": "display_data"
    },
    {
     "data": {
      "image/png": "[encoded data removed]",
      "text/plain": [
       "<Figure size 1152x288 with 1 Axes>"
      ]
     },
     "metadata": {
      "needs_background": "light"
     },
     "output_type": "display_data"
    }
   ],
   "source": [
    "plot_bar(mean_values_on_month_smart, mean_values_on_month_ultra)"
   ]
  },
  {
   "cell_type": "markdown",
   "id": "f8cc7787",
   "metadata": {},
   "source": [
    "В целом практически все параметры растут в течении года. Примечательно, что это не относится к среднемесячной выручки от пользователей тарифа ultra. Распределение практические равномерное, это говорит о том, что пользователи реже превышают лимит установленный тарифом (отмечалось в предидущем разделе)."
   ]
  },
  {
   "cell_type": "markdown",
   "id": "e0bf2cc1",
   "metadata": {},
   "source": [
    "#### Вывод. Распределение средних значений в течении года"
   ]
  },
  {
   "cell_type": "markdown",
   "id": "c0c74670",
   "metadata": {},
   "source": [
    "Все параметры, в среднем, растут в течении года, получается активность пользователей растет на протяжении года. По тарифу ultra наблюдается просадка средних значений: продолжительности звонка, числа звонков и сообщений феврале.\n",
    "\n",
    "Разберем каждый из параметров в отдельности:\n",
    "\n",
    "1) **Средняя продолжительность звонка**. Из графика по тарифу smart наблюдается рост средней продолжительности звонков практически в 2 раза с января по март (с 203 до 400 минут). В апреле имеем небольшую просадку (до 367 минут), затем устойчивый рост продолжительности звонков до декабря (до 479 минут). По тарифу ultra, как отмечалось выше, наблюдается снижение среднего значения продолжительности (с 428 до 297 минут). В марте средняя продолжительность звонка вырастает до 490 минут, затем на протяжении всего года наблюдается осциллирующий рост до декабря (615 минут).\n",
    "\n",
    "2) **Средний расход интернет-трафика**. График зависимости среднего расхода интернет-трафика по тарифу smart в зависимости от месяца практически полностью повторяет зависимость средней продолжительности звонка от месяца. По тарифу ultra в феврале столь сильной просадки значений среднего интернет-трафика не наблюдается, значение остается практически на том же уровне. С февраля по декабрь потребление трафика растет с 13 до 22 Гб.\n",
    "\n",
    "3) **Среднее число звонков**. Графики зависимости среднего числа звонков в зависимости от месяца и практически полностью повторяют зависимость от средней продолжительности звонка от месяца. \n",
    "\n",
    "4) **Среднее число сообщений**. Графики зависимости среднего числа сообщений в зависимости от месяца и практически полностью повторяют зависимость от средней продолжительности звонка от месяца. \n",
    "\n",
    "5) **Среднемесячная выручка**. Из графика по тарифу smart наблюдается рост среднемесячной выручки в течении всего года (с 721 до 1580 рублей), это связано с ростом активности пользователей в течении года, отмеченным ранее. Пользователям начинает не хватать установленных тарифом лимитов, и они вынуждены докупать минуты, гигабайты и сообщения. По тарифу smart картина совсем иная, среднемесячная выручка практически равномерно распределена в течении всего года. Однако, из-за роста пользовательской активности, растет и среднемесячная выручка, но не так значительно, как у тарифа smart (с 1950 до 2134 рубля).\n"
   ]
  },
  {
   "cell_type": "markdown",
   "id": "9eba120b",
   "metadata": {},
   "source": [
    "### Расчет средних значений, дисперсий и стандартных отклонений"
   ]
  },
  {
   "cell_type": "markdown",
   "id": "1452a165",
   "metadata": {},
   "source": [
    "Воспользуемся датафреймами `calc_smart` и `calc_ultra` собранными в прошлом разделе. Выведем первые 5 строк каждого из них:"
   ]
  },
  {
   "cell_type": "code",
   "execution_count": 97,
   "id": "dd03738d",
   "metadata": {},
   "outputs": [
    {
     "data": {
      "text/html": [
       "<div>\n",
       "<style scoped>\n",
       "    .dataframe tbody tr th:only-of-type {\n",
       "        vertical-align: middle;\n",
       "    }\n",
       "\n",
       "    .dataframe tbody tr th {\n",
       "        vertical-align: top;\n",
       "    }\n",
       "\n",
       "    .dataframe thead th {\n",
       "        text-align: right;\n",
       "    }\n",
       "</style>\n",
       "<table border=\"1\" class=\"dataframe\">\n",
       "  <thead>\n",
       "    <tr style=\"text-align: right;\">\n",
       "      <th></th>\n",
       "      <th>user_id</th>\n",
       "      <th>month</th>\n",
       "      <th>number_of_calls</th>\n",
       "      <th>duration</th>\n",
       "      <th>number_of_messages</th>\n",
       "      <th>gb_used</th>\n",
       "      <th>revenue_for_month</th>\n",
       "    </tr>\n",
       "  </thead>\n",
       "  <tbody>\n",
       "    <tr>\n",
       "      <th>8</th>\n",
       "      <td>1001</td>\n",
       "      <td>11</td>\n",
       "      <td>59</td>\n",
       "      <td>430</td>\n",
       "      <td>0.0</td>\n",
       "      <td>18.0</td>\n",
       "      <td>1150.0</td>\n",
       "    </tr>\n",
       "    <tr>\n",
       "      <th>9</th>\n",
       "      <td>1001</td>\n",
       "      <td>12</td>\n",
       "      <td>63</td>\n",
       "      <td>414</td>\n",
       "      <td>0.0</td>\n",
       "      <td>14.0</td>\n",
       "      <td>550.0</td>\n",
       "    </tr>\n",
       "    <tr>\n",
       "      <th>10</th>\n",
       "      <td>1002</td>\n",
       "      <td>6</td>\n",
       "      <td>15</td>\n",
       "      <td>117</td>\n",
       "      <td>4.0</td>\n",
       "      <td>11.0</td>\n",
       "      <td>550.0</td>\n",
       "    </tr>\n",
       "    <tr>\n",
       "      <th>11</th>\n",
       "      <td>1002</td>\n",
       "      <td>7</td>\n",
       "      <td>26</td>\n",
       "      <td>214</td>\n",
       "      <td>11.0</td>\n",
       "      <td>18.0</td>\n",
       "      <td>1150.0</td>\n",
       "    </tr>\n",
       "    <tr>\n",
       "      <th>12</th>\n",
       "      <td>1002</td>\n",
       "      <td>8</td>\n",
       "      <td>42</td>\n",
       "      <td>289</td>\n",
       "      <td>13.0</td>\n",
       "      <td>20.0</td>\n",
       "      <td>1550.0</td>\n",
       "    </tr>\n",
       "  </tbody>\n",
       "</table>\n",
       "</div>"
      ],
      "text/plain": [
       "    user_id  month  number_of_calls  duration  number_of_messages  gb_used  \\\n",
       "8      1001     11               59       430                 0.0     18.0   \n",
       "9      1001     12               63       414                 0.0     14.0   \n",
       "10     1002      6               15       117                 4.0     11.0   \n",
       "11     1002      7               26       214                11.0     18.0   \n",
       "12     1002      8               42       289                13.0     20.0   \n",
       "\n",
       "    revenue_for_month  \n",
       "8              1150.0  \n",
       "9               550.0  \n",
       "10              550.0  \n",
       "11             1150.0  \n",
       "12             1550.0  "
      ]
     },
     "execution_count": 97,
     "metadata": {},
     "output_type": "execute_result"
    }
   ],
   "source": [
    "calc_smart.head()"
   ]
  },
  {
   "cell_type": "code",
   "execution_count": 98,
   "id": "d4222aef",
   "metadata": {},
   "outputs": [
    {
     "data": {
      "text/html": [
       "<div>\n",
       "<style scoped>\n",
       "    .dataframe tbody tr th:only-of-type {\n",
       "        vertical-align: middle;\n",
       "    }\n",
       "\n",
       "    .dataframe tbody tr th {\n",
       "        vertical-align: top;\n",
       "    }\n",
       "\n",
       "    .dataframe thead th {\n",
       "        text-align: right;\n",
       "    }\n",
       "</style>\n",
       "<table border=\"1\" class=\"dataframe\">\n",
       "  <thead>\n",
       "    <tr style=\"text-align: right;\">\n",
       "      <th></th>\n",
       "      <th>user_id</th>\n",
       "      <th>month</th>\n",
       "      <th>number_of_calls</th>\n",
       "      <th>duration</th>\n",
       "      <th>number_of_messages</th>\n",
       "      <th>gb_used</th>\n",
       "      <th>revenue_for_month</th>\n",
       "    </tr>\n",
       "  </thead>\n",
       "  <tbody>\n",
       "    <tr>\n",
       "      <th>0</th>\n",
       "      <td>1000</td>\n",
       "      <td>5</td>\n",
       "      <td>22</td>\n",
       "      <td>159</td>\n",
       "      <td>22.0</td>\n",
       "      <td>3.0</td>\n",
       "      <td>1950.0</td>\n",
       "    </tr>\n",
       "    <tr>\n",
       "      <th>1</th>\n",
       "      <td>1000</td>\n",
       "      <td>6</td>\n",
       "      <td>43</td>\n",
       "      <td>172</td>\n",
       "      <td>60.0</td>\n",
       "      <td>23.0</td>\n",
       "      <td>1950.0</td>\n",
       "    </tr>\n",
       "    <tr>\n",
       "      <th>2</th>\n",
       "      <td>1000</td>\n",
       "      <td>7</td>\n",
       "      <td>47</td>\n",
       "      <td>340</td>\n",
       "      <td>75.0</td>\n",
       "      <td>14.0</td>\n",
       "      <td>1950.0</td>\n",
       "    </tr>\n",
       "    <tr>\n",
       "      <th>3</th>\n",
       "      <td>1000</td>\n",
       "      <td>8</td>\n",
       "      <td>52</td>\n",
       "      <td>408</td>\n",
       "      <td>81.0</td>\n",
       "      <td>14.0</td>\n",
       "      <td>1950.0</td>\n",
       "    </tr>\n",
       "    <tr>\n",
       "      <th>4</th>\n",
       "      <td>1000</td>\n",
       "      <td>9</td>\n",
       "      <td>58</td>\n",
       "      <td>466</td>\n",
       "      <td>57.0</td>\n",
       "      <td>15.0</td>\n",
       "      <td>1950.0</td>\n",
       "    </tr>\n",
       "  </tbody>\n",
       "</table>\n",
       "</div>"
      ],
      "text/plain": [
       "   user_id  month  number_of_calls  duration  number_of_messages  gb_used  \\\n",
       "0     1000      5               22       159                22.0      3.0   \n",
       "1     1000      6               43       172                60.0     23.0   \n",
       "2     1000      7               47       340                75.0     14.0   \n",
       "3     1000      8               52       408                81.0     14.0   \n",
       "4     1000      9               58       466                57.0     15.0   \n",
       "\n",
       "   revenue_for_month  \n",
       "0             1950.0  \n",
       "1             1950.0  \n",
       "2             1950.0  \n",
       "3             1950.0  \n",
       "4             1950.0  "
      ]
     },
     "execution_count": 98,
     "metadata": {},
     "output_type": "execute_result"
    }
   ],
   "source": [
    "calc_ultra.head()"
   ]
  },
  {
   "cell_type": "markdown",
   "id": "e78dea29",
   "metadata": {},
   "source": [
    "Среднее значение, дисперсию и стандартное отклонение для каждого параметра запишем в соответствующие константы."
   ]
  },
  {
   "cell_type": "markdown",
   "id": "1dbb3d89",
   "metadata": {},
   "source": [
    "- Продолжительность звонка:"
   ]
  },
  {
   "cell_type": "code",
   "execution_count": 99,
   "id": "dc7afd7b",
   "metadata": {},
   "outputs": [],
   "source": [
    "duration_stat_smart = [calc_smart['duration'].mean(), \n",
    "                       np.var(calc_smart['duration']), \n",
    "                       np.std(calc_smart['duration'])] \n",
    "duration_stat_ultra = [calc_ultra['duration'].mean(), \n",
    "                       np.var(calc_ultra['duration']), \n",
    "                       np.std(calc_ultra['duration'])] "
   ]
  },
  {
   "cell_type": "markdown",
   "id": "b87ef904",
   "metadata": {},
   "source": [
    "- Расход интернет-трафика:"
   ]
  },
  {
   "cell_type": "code",
   "execution_count": 100,
   "id": "31dd6900",
   "metadata": {},
   "outputs": [],
   "source": [
    "gb_used_stat_smart = [calc_smart['gb_used'].mean(), \n",
    "                       np.var(calc_smart['gb_used']), \n",
    "                       np.std(calc_smart['gb_used'])] \n",
    "gb_used_stat_ultra = [calc_ultra['gb_used'].mean(), \n",
    "                       np.var(calc_ultra['gb_used']), \n",
    "                       np.std(calc_ultra['gb_used'])] "
   ]
  },
  {
   "cell_type": "markdown",
   "id": "b4f219e8",
   "metadata": {},
   "source": [
    "- Число звонков:"
   ]
  },
  {
   "cell_type": "code",
   "execution_count": 101,
   "id": "56a18dbc",
   "metadata": {},
   "outputs": [],
   "source": [
    "number_of_calls_stat_smart = [calc_smart['number_of_calls'].mean(), \n",
    "                       np.var(calc_smart['number_of_calls']), \n",
    "                       np.std(calc_smart['number_of_calls'])] \n",
    "number_of_calls_stat_ultra = [calc_ultra['number_of_calls'].mean(), \n",
    "                       np.var(calc_ultra['number_of_calls']), \n",
    "                       np.std(calc_ultra['number_of_calls'])] "
   ]
  },
  {
   "cell_type": "markdown",
   "id": "b3592262",
   "metadata": {},
   "source": [
    "- Число сообщений:"
   ]
  },
  {
   "cell_type": "code",
   "execution_count": 102,
   "id": "aada54d8",
   "metadata": {},
   "outputs": [],
   "source": [
    "number_of_messages_stat_smart = [calc_smart['number_of_messages'].mean(), \n",
    "                       np.var(calc_smart['number_of_messages']), \n",
    "                       np.std(calc_smart['number_of_messages'])] \n",
    "number_of_messages_stat_ultra = [calc_ultra['number_of_messages'].mean(), \n",
    "                       np.var(calc_ultra['number_of_messages']), \n",
    "                       np.std(calc_ultra['number_of_messages'])] "
   ]
  },
  {
   "cell_type": "markdown",
   "id": "4ffb1de3",
   "metadata": {},
   "source": [
    "- Среднемесячная выручка:"
   ]
  },
  {
   "cell_type": "code",
   "execution_count": 103,
   "id": "1cc6ce91",
   "metadata": {},
   "outputs": [],
   "source": [
    "revenue_for_month_stat_smart = [calc_smart['revenue_for_month'].mean(), \n",
    "                       np.var(calc_smart['revenue_for_month']), \n",
    "                       np.std(calc_smart['revenue_for_month'])] \n",
    "revenue_for_month_stat_ultra = [calc_ultra['revenue_for_month'].mean(), \n",
    "                       np.var(calc_ultra['revenue_for_month']), \n",
    "                       np.std(calc_ultra['revenue_for_month'])] "
   ]
  },
  {
   "cell_type": "markdown",
   "id": "c905d606",
   "metadata": {},
   "source": [
    "Запишем результаты в таблицу:"
   ]
  },
  {
   "cell_type": "code",
   "execution_count": 104,
   "id": "bfbf5321",
   "metadata": {},
   "outputs": [],
   "source": [
    "stat_full = pd.DataFrame()\n",
    "stat_full['duration_smart'] = duration_stat_smart\n",
    "stat_full['duration_ultra'] = duration_stat_ultra\n",
    "stat_full['gb_used_smart'] = gb_used_stat_smart\n",
    "stat_full['gb_used_ultra'] = gb_used_stat_ultra\n",
    "stat_full['number_of_calls_smart'] = number_of_calls_stat_smart\n",
    "stat_full['number_of_calls_ultra'] = number_of_calls_stat_ultra\n",
    "stat_full['number_of_messages_smart'] = number_of_messages_stat_smart\n",
    "stat_full['number_of_messages_ultra'] = number_of_messages_stat_ultra\n",
    "stat_full['revenue_for_month_smart'] = revenue_for_month_stat_smart\n",
    "stat_full['revenue_for_month_ultra'] = revenue_for_month_stat_ultra\n",
    "stat_full.index = ['Среднее значение', 'Дисперсия', 'Стандартное отклонение']"
   ]
  },
  {
   "cell_type": "code",
   "execution_count": 105,
   "id": "a2fc6c2c",
   "metadata": {},
   "outputs": [
    {
     "data": {
      "text/html": [
       "<div>\n",
       "<style scoped>\n",
       "    .dataframe tbody tr th:only-of-type {\n",
       "        vertical-align: middle;\n",
       "    }\n",
       "\n",
       "    .dataframe tbody tr th {\n",
       "        vertical-align: top;\n",
       "    }\n",
       "\n",
       "    .dataframe thead th {\n",
       "        text-align: right;\n",
       "    }\n",
       "</style>\n",
       "<table border=\"1\" class=\"dataframe\">\n",
       "  <thead>\n",
       "    <tr style=\"text-align: right;\">\n",
       "      <th></th>\n",
       "      <th>duration_smart</th>\n",
       "      <th>duration_ultra</th>\n",
       "      <th>gb_used_smart</th>\n",
       "      <th>gb_used_ultra</th>\n",
       "      <th>number_of_calls_smart</th>\n",
       "      <th>number_of_calls_ultra</th>\n",
       "      <th>number_of_messages_smart</th>\n",
       "      <th>number_of_messages_ultra</th>\n",
       "      <th>revenue_for_month_smart</th>\n",
       "      <th>revenue_for_month_ultra</th>\n",
       "    </tr>\n",
       "  </thead>\n",
       "  <tbody>\n",
       "    <tr>\n",
       "      <th>Среднее значение</th>\n",
       "      <td>419.062978</td>\n",
       "      <td>545.451104</td>\n",
       "      <td>16.329735</td>\n",
       "      <td>19.487907</td>\n",
       "      <td>58.621233</td>\n",
       "      <td>76.016824</td>\n",
       "      <td>33.396311</td>\n",
       "      <td>49.033649</td>\n",
       "      <td>1290.891138</td>\n",
       "      <td>2070.977918</td>\n",
       "    </tr>\n",
       "    <tr>\n",
       "      <th>Дисперсия</th>\n",
       "      <td>35828.065310</td>\n",
       "      <td>94104.361174</td>\n",
       "      <td>33.077510</td>\n",
       "      <td>97.717782</td>\n",
       "      <td>665.139486</td>\n",
       "      <td>1796.153240</td>\n",
       "      <td>798.236550</td>\n",
       "      <td>2196.421581</td>\n",
       "      <td>670655.507717</td>\n",
       "      <td>143810.715601</td>\n",
       "    </tr>\n",
       "    <tr>\n",
       "      <th>Стандартное отклонение</th>\n",
       "      <td>189.283030</td>\n",
       "      <td>306.764341</td>\n",
       "      <td>5.751305</td>\n",
       "      <td>9.885231</td>\n",
       "      <td>25.790298</td>\n",
       "      <td>42.381048</td>\n",
       "      <td>28.253080</td>\n",
       "      <td>46.865996</td>\n",
       "      <td>818.935594</td>\n",
       "      <td>379.223833</td>\n",
       "    </tr>\n",
       "  </tbody>\n",
       "</table>\n",
       "</div>"
      ],
      "text/plain": [
       "                        duration_smart  duration_ultra  gb_used_smart  \\\n",
       "Среднее значение            419.062978      545.451104      16.329735   \n",
       "Дисперсия                 35828.065310    94104.361174      33.077510   \n",
       "Стандартное отклонение      189.283030      306.764341       5.751305   \n",
       "\n",
       "                        gb_used_ultra  number_of_calls_smart  \\\n",
       "Среднее значение            19.487907              58.621233   \n",
       "Дисперсия                   97.717782             665.139486   \n",
       "Стандартное отклонение       9.885231              25.790298   \n",
       "\n",
       "                        number_of_calls_ultra  number_of_messages_smart  \\\n",
       "Среднее значение                    76.016824                 33.396311   \n",
       "Дисперсия                         1796.153240                798.236550   \n",
       "Стандартное отклонение              42.381048                 28.253080   \n",
       "\n",
       "                        number_of_messages_ultra  revenue_for_month_smart  \\\n",
       "Среднее значение                       49.033649              1290.891138   \n",
       "Дисперсия                            2196.421581            670655.507717   \n",
       "Стандартное отклонение                 46.865996               818.935594   \n",
       "\n",
       "                        revenue_for_month_ultra  \n",
       "Среднее значение                    2070.977918  \n",
       "Дисперсия                         143810.715601  \n",
       "Стандартное отклонение               379.223833  "
      ]
     },
     "execution_count": 105,
     "metadata": {},
     "output_type": "execute_result"
    }
   ],
   "source": [
    "stat_full"
   ]
  },
  {
   "cell_type": "markdown",
   "id": "56b4f423",
   "metadata": {},
   "source": [
    "#### Вывод. Расчет средних значений, дисперсий и стандартных отклонений"
   ]
  },
  {
   "cell_type": "markdown",
   "id": "2a55ea27",
   "metadata": {},
   "source": [
    "Средние значения, дисперсии и стандартные отклонения рассчитаны и записаны в датафрейм `stat_full`."
   ]
  },
  {
   "cell_type": "markdown",
   "id": "458bd459",
   "metadata": {},
   "source": [
    "### Проверка гипотез"
   ]
  },
  {
   "cell_type": "markdown",
   "id": "8aa3b513",
   "metadata": {},
   "source": [
    "Заданием проекта установлены две гипотезы:\n",
    "- средняя выручка пользователей тарифов «Ультра» и «Смарт» различаются;\n",
    "- средняя выручка пользователей из Москвы отличается от выручки пользователей из других регионов."
   ]
  },
  {
   "cell_type": "markdown",
   "id": "542c2e7f",
   "metadata": {},
   "source": [
    "#### Гипотеза: средняя выручка пользователей тарифов «Ультра» и «Смарт» различаются"
   ]
  },
  {
   "cell_type": "markdown",
   "id": "824fd865",
   "metadata": {},
   "source": [
    "Зададим критический уровень значимости равным 1 %."
   ]
  },
  {
   "cell_type": "code",
   "execution_count": 111,
   "id": "01e54ebb",
   "metadata": {},
   "outputs": [],
   "source": [
    "alpha = 0.01"
   ]
  },
  {
   "cell_type": "markdown",
   "id": "6feff217",
   "metadata": {},
   "source": [
    "Нулевая гипотеза - средняя выручка пользователей тарифов «Ультра» и «Смарт» равны, альтернативная - средняя выручка пользователей тарифов «Ультра» и «Смарт» различаются."
   ]
  },
  {
   "cell_type": "markdown",
   "id": "1449a758",
   "metadata": {},
   "source": [
    "Проверим возможность применения t-теста, выборочное среднее должно быть распределено нормально:"
   ]
  },
  {
   "cell_type": "code",
   "execution_count": 112,
   "id": "30e7d2e2",
   "metadata": {},
   "outputs": [],
   "source": [
    "t1 = pd.Series([calc_smart['revenue_for_month'].sample(1000, replace=True).mean() for _ in range(1000)])"
   ]
  },
  {
   "cell_type": "code",
   "execution_count": 113,
   "id": "02d2874f",
   "metadata": {},
   "outputs": [],
   "source": [
    "t2 = pd.Series([calc_ultra['revenue_for_month'].sample(1000, replace=True).mean() for _ in range(1000)])"
   ]
  },
  {
   "cell_type": "code",
   "execution_count": 114,
   "id": "e2caa20d",
   "metadata": {},
   "outputs": [
    {
     "data": {
      "image/png": "[encoded data removed]",
      "text/plain": [
       "<Figure size 1080x720 with 1 Axes>"
      ]
     },
     "metadata": {
      "needs_background": "light"
     },
     "output_type": "display_data"
    }
   ],
   "source": [
    "plt.figure(figsize=(15, 10))\n",
    "sns.histplot(t1, \n",
    "             bins=50, \n",
    "             stat='probability', \n",
    "             label='smart')\n",
    "sns.histplot(t2, \n",
    "             bins=50, \n",
    "             stat='probability', \n",
    "             alpha=0.5, \n",
    "             color='red',\n",
    "             label='ultra')\n",
    "plt.legend()\n",
    "plt.show()"
   ]
  },
  {
   "cell_type": "markdown",
   "id": "d6c6bdb5",
   "metadata": {},
   "source": [
    "Построим qq график:"
   ]
  },
  {
   "cell_type": "code",
   "execution_count": 115,
   "id": "e6be26ea",
   "metadata": {
    "scrolled": false
   },
   "outputs": [
    {
     "data": {
      "image/png": "[encoded data removed]",
      "text/plain": [
       "<Figure size 1080x360 with 1 Axes>"
      ]
     },
     "metadata": {
      "needs_background": "light"
     },
     "output_type": "display_data"
    },
    {
     "data": {
      "image/png": "[encoded data removed]",
      "text/plain": [
       "<Figure size 1080x360 with 1 Axes>"
      ]
     },
     "metadata": {
      "needs_background": "light"
     },
     "output_type": "display_data"
    }
   ],
   "source": [
    "import pylab\n",
    "plt.figure(figsize=(15, 5))\n",
    "st.probplot(t1,dist='norm',plot=pylab)\n",
    "plt.show()\n",
    "plt.figure(figsize=(15, 5))\n",
    "st.probplot(t2,dist='norm',plot=pylab)\n",
    "plt.show()"
   ]
  },
  {
   "cell_type": "markdown",
   "id": "8525e8ca",
   "metadata": {},
   "source": [
    "Выборочные средние распределены нормально."
   ]
  },
  {
   "cell_type": "markdown",
   "id": "e0091f81",
   "metadata": {},
   "source": [
    "Проведем двусторонний t-тест:"
   ]
  },
  {
   "cell_type": "code",
   "execution_count": 116,
   "id": "289cf25c",
   "metadata": {},
   "outputs": [
    {
     "name": "stdout",
     "output_type": "stream",
     "text": [
      "p-значение:  3.155173205867294e-245\n",
      "Отвергаем нулевую гипотезу\n"
     ]
    }
   ],
   "source": [
    "results = st.ttest_ind(calc_ultra['revenue_for_month'], calc_smart['revenue_for_month'], equal_var=False)\n",
    "\n",
    "print('p-значение: ', results.pvalue)\n",
    "\n",
    "if results.pvalue < alpha:\n",
    "    print(\"Отвергаем нулевую гипотезу\")\n",
    "else:\n",
    "    print(\"Не получилось отвергнуть нулевую гипотезу\")"
   ]
  },
  {
   "cell_type": "markdown",
   "id": "f3fea97e",
   "metadata": {},
   "source": [
    "Данные противоречат нулевой гипотезе, поэтому мы ее отбрасываем. Более того, средние выручки статистически значимо отличаются. Альтернативная гипотеза доказана - средняя выручка пользователей тарифов «Ультра» и «Смарт» различаются."
   ]
  },
  {
   "cell_type": "markdown",
   "id": "f9a85b3f",
   "metadata": {},
   "source": [
    "##### Вывод: средняя выручка пользователей тарифов «Ультра» и «Смарт» различаются"
   ]
  },
  {
   "cell_type": "markdown",
   "id": "d6975b5b",
   "metadata": {},
   "source": [
    "1) p-значение для нулевой гипотезы \"средняя выручка пользователей тарифов «Ультра» и «Смарт» равны\" составляет $2.18\\cdot10^{-155} $, это значение попадает в критическую область. \n",
    "\n",
    "2) Альтернаитвная гипотеза \"средняя выручка пользователей тарифов «Ультра» и «Смарт» различаются\" доказана."
   ]
  },
  {
   "cell_type": "markdown",
   "id": "95efc95f",
   "metadata": {},
   "source": [
    "#### Гипотеза: cредняя выручка пользователей из Москвы отличается от выручки пользователей из других регионов"
   ]
  },
  {
   "cell_type": "markdown",
   "id": "6d3f3025",
   "metadata": {},
   "source": [
    "Выведем первые 5 строк датафрейма `users`:"
   ]
  },
  {
   "cell_type": "code",
   "execution_count": 117,
   "id": "e071f79b",
   "metadata": {},
   "outputs": [
    {
     "data": {
      "text/html": [
       "<div>\n",
       "<style scoped>\n",
       "    .dataframe tbody tr th:only-of-type {\n",
       "        vertical-align: middle;\n",
       "    }\n",
       "\n",
       "    .dataframe tbody tr th {\n",
       "        vertical-align: top;\n",
       "    }\n",
       "\n",
       "    .dataframe thead th {\n",
       "        text-align: right;\n",
       "    }\n",
       "</style>\n",
       "<table border=\"1\" class=\"dataframe\">\n",
       "  <thead>\n",
       "    <tr style=\"text-align: right;\">\n",
       "      <th></th>\n",
       "      <th>user_id</th>\n",
       "      <th>age</th>\n",
       "      <th>churn_date</th>\n",
       "      <th>city</th>\n",
       "      <th>first_name</th>\n",
       "      <th>last_name</th>\n",
       "      <th>reg_date</th>\n",
       "      <th>tariff</th>\n",
       "    </tr>\n",
       "  </thead>\n",
       "  <tbody>\n",
       "    <tr>\n",
       "      <th>0</th>\n",
       "      <td>1000</td>\n",
       "      <td>52</td>\n",
       "      <td>NaT</td>\n",
       "      <td>Краснодар</td>\n",
       "      <td>Рафаил</td>\n",
       "      <td>Верещагин</td>\n",
       "      <td>2018-05-25</td>\n",
       "      <td>ultra</td>\n",
       "    </tr>\n",
       "    <tr>\n",
       "      <th>1</th>\n",
       "      <td>1001</td>\n",
       "      <td>41</td>\n",
       "      <td>NaT</td>\n",
       "      <td>Москва</td>\n",
       "      <td>Иван</td>\n",
       "      <td>Ежов</td>\n",
       "      <td>2018-11-01</td>\n",
       "      <td>smart</td>\n",
       "    </tr>\n",
       "    <tr>\n",
       "      <th>2</th>\n",
       "      <td>1002</td>\n",
       "      <td>59</td>\n",
       "      <td>NaT</td>\n",
       "      <td>Стерлитамак</td>\n",
       "      <td>Евгений</td>\n",
       "      <td>Абрамович</td>\n",
       "      <td>2018-06-17</td>\n",
       "      <td>smart</td>\n",
       "    </tr>\n",
       "    <tr>\n",
       "      <th>3</th>\n",
       "      <td>1003</td>\n",
       "      <td>23</td>\n",
       "      <td>NaT</td>\n",
       "      <td>Москва</td>\n",
       "      <td>Белла</td>\n",
       "      <td>Белякова</td>\n",
       "      <td>2018-08-17</td>\n",
       "      <td>ultra</td>\n",
       "    </tr>\n",
       "    <tr>\n",
       "      <th>4</th>\n",
       "      <td>1004</td>\n",
       "      <td>68</td>\n",
       "      <td>NaT</td>\n",
       "      <td>Новокузнецк</td>\n",
       "      <td>Татьяна</td>\n",
       "      <td>Авдеенко</td>\n",
       "      <td>2018-05-14</td>\n",
       "      <td>ultra</td>\n",
       "    </tr>\n",
       "  </tbody>\n",
       "</table>\n",
       "</div>"
      ],
      "text/plain": [
       "   user_id  age churn_date         city first_name  last_name   reg_date  \\\n",
       "0     1000   52        NaT    Краснодар     Рафаил  Верещагин 2018-05-25   \n",
       "1     1001   41        NaT       Москва       Иван       Ежов 2018-11-01   \n",
       "2     1002   59        NaT  Стерлитамак    Евгений  Абрамович 2018-06-17   \n",
       "3     1003   23        NaT       Москва      Белла   Белякова 2018-08-17   \n",
       "4     1004   68        NaT  Новокузнецк    Татьяна   Авдеенко 2018-05-14   \n",
       "\n",
       "  tariff  \n",
       "0  ultra  \n",
       "1  smart  \n",
       "2  smart  \n",
       "3  ultra  \n",
       "4  ultra  "
      ]
     },
     "execution_count": 117,
     "metadata": {},
     "output_type": "execute_result"
    }
   ],
   "source": [
    "users.head()"
   ]
  },
  {
   "cell_type": "markdown",
   "id": "4a3ed63f",
   "metadata": {},
   "source": [
    "Сохраним *user_id* пользователей из Москвы и пользователей из двух регионов:"
   ]
  },
  {
   "cell_type": "code",
   "execution_count": 118,
   "id": "812f49ac",
   "metadata": {},
   "outputs": [],
   "source": [
    "users_from_moscow = users.query('city == \"Москва\"')['user_id'].to_list()\n",
    "users_not_from_moscow = users.query('city != \"Москва\"')['user_id'].to_list()"
   ]
  },
  {
   "cell_type": "markdown",
   "id": "0ae19787",
   "metadata": {},
   "source": [
    "Отфильтруем датафрейм **calc** на пользователей из Москвы и из других регионов:"
   ]
  },
  {
   "cell_type": "code",
   "execution_count": 119,
   "id": "44a290f7",
   "metadata": {},
   "outputs": [],
   "source": [
    "calc_moscow = calc.query('user_id == @users_from_moscow')\n",
    "calc_other_regions = calc.query('user_id == @users_not_from_moscow')"
   ]
  },
  {
   "cell_type": "markdown",
   "id": "617ba422",
   "metadata": {},
   "source": [
    "Нулевая гипотеза - средняя выручка пользователей из Москвы и из других регионов равны, альтернативная - средняя выручка пользователей из Москвы и из других регионов различаются."
   ]
  },
  {
   "cell_type": "markdown",
   "id": "f6887c5f",
   "metadata": {},
   "source": [
    "Проверим возможность применения t-теста, выборочное среднее должно быть распределено нормально:"
   ]
  },
  {
   "cell_type": "code",
   "execution_count": 120,
   "id": "741e5e87",
   "metadata": {},
   "outputs": [],
   "source": [
    "t1 = pd.Series([calc_moscow['revenue_for_month'].sample(1000, replace=True).mean() for _ in range(1000)])"
   ]
  },
  {
   "cell_type": "code",
   "execution_count": 121,
   "id": "3c0f4b8c",
   "metadata": {},
   "outputs": [],
   "source": [
    "t2 = pd.Series([calc_other_regions['revenue_for_month'].sample(1000, replace=True).mean() for _ in range(1000)])"
   ]
  },
  {
   "cell_type": "code",
   "execution_count": 122,
   "id": "eb85be6e",
   "metadata": {},
   "outputs": [
    {
     "data": {
      "image/png": "[encoded data removed]",
      "text/plain": [
       "<Figure size 1080x720 with 1 Axes>"
      ]
     },
     "metadata": {
      "needs_background": "light"
     },
     "output_type": "display_data"
    }
   ],
   "source": [
    "plt.figure(figsize=(15, 10))\n",
    "sns.histplot(t1, \n",
    "             bins=50, \n",
    "             stat='probability', \n",
    "             label='Moscow')\n",
    "sns.histplot(t2, \n",
    "             bins=50, \n",
    "             stat='probability', \n",
    "             alpha=0.5, \n",
    "             color='red',\n",
    "             label='Other regions')\n",
    "plt.legend()\n",
    "plt.show()"
   ]
  },
  {
   "cell_type": "markdown",
   "id": "2f7ed68b",
   "metadata": {},
   "source": [
    "Построим qq график:"
   ]
  },
  {
   "cell_type": "code",
   "execution_count": 123,
   "id": "9cf66e2a",
   "metadata": {
    "scrolled": false
   },
   "outputs": [
    {
     "data": {
      "image/png": "[encoded data removed]",
      "text/plain": [
       "<Figure size 1080x360 with 1 Axes>"
      ]
     },
     "metadata": {
      "needs_background": "light"
     },
     "output_type": "display_data"
    },
    {
     "data": {
      "image/png": "[encoded data removed]",
      "text/plain": [
       "<Figure size 1080x360 with 1 Axes>"
      ]
     },
     "metadata": {
      "needs_background": "light"
     },
     "output_type": "display_data"
    }
   ],
   "source": [
    "import pylab\n",
    "plt.figure(figsize=(15, 5))\n",
    "st.probplot(t1,dist='norm',plot=pylab)\n",
    "plt.show()\n",
    "plt.figure(figsize=(15, 5))\n",
    "st.probplot(t2,dist='norm',plot=pylab)\n",
    "plt.show()"
   ]
  },
  {
   "cell_type": "markdown",
   "id": "83958c16",
   "metadata": {},
   "source": [
    "Выборочные средние распределены нормально."
   ]
  },
  {
   "cell_type": "markdown",
   "id": "5ca05441",
   "metadata": {},
   "source": [
    "Проведем двусторонний t-тест:"
   ]
  },
  {
   "cell_type": "code",
   "execution_count": 124,
   "id": "28b359d3",
   "metadata": {},
   "outputs": [
    {
     "name": "stdout",
     "output_type": "stream",
     "text": [
      "p-значение:  0.44113705815091153\n",
      "Не получилось отвергнуть нулевую гипотезу\n"
     ]
    }
   ],
   "source": [
    "results = st.ttest_ind(calc_moscow['revenue_for_month'], calc_other_regions['revenue_for_month'], equal_var=False)\n",
    "\n",
    "print('p-значение: ', results.pvalue)\n",
    "\n",
    "if results.pvalue < alpha:\n",
    "    print(\"Отвергаем нулевую гипотезу\")\n",
    "else:\n",
    "    print(\"Не получилось отвергнуть нулевую гипотезу\")"
   ]
  },
  {
   "cell_type": "markdown",
   "id": "43a251b9",
   "metadata": {},
   "source": [
    "Данные не противоречат нулевой гипотезе, следовательно отвегнуть ее мы не можем. Выходит что средняя выручка пользователей из Москвы не отличается от выручки пользователей из других регионов."
   ]
  },
  {
   "cell_type": "markdown",
   "id": "b4570c61",
   "metadata": {},
   "source": [
    "##### Вывод: cредняя выручка пользователей из Москвы отличается от выручки пользователей из других регионов"
   ]
  },
  {
   "cell_type": "markdown",
   "id": "171a5111",
   "metadata": {},
   "source": [
    "1) p-значение для нулевой гипотезы \"средняя выручка пользователей из Москвы и из других регионов равны\" составляет 0.46, это значение не попадает в критическую область. \n",
    "\n",
    "2) Данные не противоречат нулевой гипотезе."
   ]
  },
  {
   "cell_type": "markdown",
   "id": "611b6b87",
   "metadata": {},
   "source": [
    "### Общий вывод"
   ]
  },
  {
   "cell_type": "markdown",
   "id": "2bbaa707",
   "metadata": {},
   "source": [
    "Предварительный анализ тарифов на небольшой выборке клиентов проведен. Поведение клиентов проанализировано. \n",
    "\n",
    "В ходе изучения общей информации о датафреймах были найдены неявные пропуски данных:\n",
    "\n",
    "- продолжительность звонка равная нулю (доля пропусков: 20 % значений), нули несут в себе смысл, что звонок был пропущен. Такие пропуски не нуждались в обработке;\n",
    "- нулевой расход интернет трафика (доля пропусков: 13 % значений), скорее всего такие неявные пропуски связаны со служебными запросами приложений и никак не связанны с реальной активностью клиентов. Поэтому во избежание искажения данных такие пропуски заполнены не были.\n",
    "\n",
    "Из проанализированных зависимостей можно сделать вывод, что активность клиентов по всем параметрам растет в течении года и достигает пика в декабре. Стоит отметить, в связи с ростом активности в течении года пользователям тарифа \"Смарт\", в среднем, начинает не хватать установленных тарифом лимитов на связь. Отсюда - они, в среднем, платят больше своей ежемесячной абонентской платы практически в 3 раза. Пользователям тарифа \"Ультра\", в среднем, хватает установленных тарифом лимитов и их средняя выручка сходится к ежемесячной абонентской плате за тариф.\n",
    "\n",
    "В целом из активности пользователей установленные тарифом \"Ультра\" лимиты кажутся очень завышенными.\n",
    "\n",
    "В ходе работы были проверены две гипотезы:\n",
    "\n",
    "- Гипотеза: средняя выручка пользователей тарифов «Ультра» и «Смарт» различаются.\n",
    "\n",
    "Для проверки гипотезы была выдвинута нулевая гипотеза о равенстве средней выручки тарифов \"Смарт\" и \"Ультра\" и проверена с помощью t-теста. \n",
    "\n",
    "Нулевая гипотеза о равенстве средней выручке по тарифам \"Смарт\" и \"Ультра\" - несостоятельна и имеет крайне низкую статистическую значимость (p-значение составляет $2.18\\cdot10^{-155} $). Средняя выручка по тарифам представлена в таблице:\n",
    "\n",
    "| Тариф|Средняя выручка, руб|\n",
    "| -----|:----------------:|\n",
    "|\"Смарт\"| 1291\t|\n",
    "|\"Ультра\"| 2071 |\n",
    "\n",
    "- Гипотеза: средняя выручка пользователей из Москвы отличается от выручки пользователей из других регионов.\n",
    "\n",
    "Для проверки гипотезы была выдвинута нулевая гипотеза о равенстве средней выручки пользователей из Москвы и выручки пользователей других регионов и проверена с помощью t-теста.\n",
    "\n",
    "Нулевая гипотеза о равенстве средней выручке по тарифам \"Смарт\" и \"Ультра\" - не может быть отброшена, также она имеет высокую   статистическую значимость (p-значение составляет 0.46).\n",
    "\n",
    "В таблице представлены средние и медианные значения параметров активности пользователей:\n",
    "\n",
    "|                                       |Тариф \"Смарт\"|       Тариф \"Ультра\"|\n",
    "|---------------------------------------|:-----------:|:-------------------:|\n",
    "|  Средняя продолжительность звонка, мин|419|545 |\n",
    "|Медианная продолжительность звонка, мин|423 |528|\n",
    "|  Среднее количество израсходованного трафика, Гб   |16|16|\n",
    "|  Медианное количество израсходованного трафика, Гб   |17 | 19 |\n",
    "|  Среднее количество звонков, шт          |58 |76  \n",
    "|  Медианное количество звонков, шт        |76|75 |\n",
    "|  Среднее количество сообщений, шт        |39|61|\n",
    "| Медианное количество сообщений, шт      |34 |52  |\n",
    "\n"
   ]
  }
 ],
 "metadata": {
  "kernelspec": {
   "display_name": "Python 3 (ipykernel)",
   "language": "python",
   "name": "python3"
  },
  "language_info": {
   "codemirror_mode": {
    "name": "ipython",
    "version": 3
   },
   "file_extension": ".py",
   "mimetype": "text/x-python",
   "name": "python",
   "nbconvert_exporter": "python",
   "pygments_lexer": "ipython3",
   "version": "3.9.7"
  }
 },
 "nbformat": 4,
 "nbformat_minor": 5
}
